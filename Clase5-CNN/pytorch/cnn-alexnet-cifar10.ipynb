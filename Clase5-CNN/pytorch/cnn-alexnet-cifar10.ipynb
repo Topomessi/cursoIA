{
 "cells": [
  {
   "cell_type": "markdown",
   "metadata": {
    "colab_type": "text",
    "id": "rH4XmErYj5wm"
   },
   "source": [
    "# AlexNet CIFAR-10 Classifier"
   ]
  },
  {
   "cell_type": "markdown",
   "metadata": {},
   "source": [
    "### Network Architecture"
   ]
  },
  {
   "cell_type": "markdown",
   "metadata": {},
   "source": [
    "References\n",
    "    \n",
    "- [1] Krizhevsky, Alex, Ilya Sutskever, and Geoffrey E. Hinton. \"[Imagenet classification with deep convolutional neural networks.](https://papers.nips.cc/paper/4824-imagenet-classification-with-deep-convolutional-neural-networks.pdf)\" In Advances in Neural Information Processing Systems, pp. 1097-1105. 2012.\n"
   ]
  },
  {
   "cell_type": "markdown",
   "metadata": {
    "colab_type": "text",
    "id": "MkoGLH_Tj5wn"
   },
   "source": [
    "## Imports"
   ]
  },
  {
   "cell_type": "code",
   "execution_count": 1,
   "metadata": {
    "colab": {
     "autoexec": {
      "startup": false,
      "wait_interval": 0
     }
    },
    "colab_type": "code",
    "id": "ORj09gnrj5wp"
   },
   "outputs": [],
   "source": [
    "import os\n",
    "import time\n",
    "import random\n",
    "\n",
    "import numpy as np\n",
    "import pandas as pd\n",
    "\n",
    "import torch\n",
    "import torch.nn as nn\n",
    "import torch.nn.functional as F\n",
    "from torch.utils.data import DataLoader\n",
    "from torch.utils.data.dataset import Subset\n",
    "\n",
    "from torchvision import datasets\n",
    "from torchvision import transforms\n",
    "\n",
    "import matplotlib.pyplot as plt\n",
    "from PIL import Image\n",
    "\n",
    "\n",
    "if torch.cuda.is_available():\n",
    "    torch.backends.cudnn.deterministic = True"
   ]
  },
  {
   "cell_type": "code",
   "execution_count": 2,
   "metadata": {},
   "outputs": [
    {
     "data": {
      "text/plain": [
       "True"
      ]
     },
     "execution_count": 2,
     "metadata": {},
     "output_type": "execute_result"
    }
   ],
   "source": [
    "torch.cuda.is_available()"
   ]
  },
  {
   "cell_type": "markdown",
   "metadata": {
    "colab_type": "text",
    "id": "I6hghKPxj5w0"
   },
   "source": [
    "## Model Settings"
   ]
  },
  {
   "cell_type": "markdown",
   "metadata": {},
   "source": [
    "#### Setting a random seed"
   ]
  },
  {
   "cell_type": "markdown",
   "metadata": {},
   "source": [
    "I recommend using a function like the following one prior to using dataset loaders and initializing a model if you want to ensure the data is shuffled in the same manner if you rerun this notebook and the model gets the same initial random weights:"
   ]
  },
  {
   "cell_type": "code",
   "execution_count": 3,
   "metadata": {},
   "outputs": [],
   "source": [
    "def set_all_seeds(seed):\n",
    "    os.environ[\"PL_GLOBAL_SEED\"] = str(seed)\n",
    "    random.seed(seed)\n",
    "    np.random.seed(seed)\n",
    "    torch.manual_seed(seed)\n",
    "    torch.cuda.manual_seed_all(seed)"
   ]
  },
  {
   "cell_type": "markdown",
   "metadata": {},
   "source": [
    "#### Setting cuDNN and PyTorch algorithmic behavior to deterministic"
   ]
  },
  {
   "cell_type": "markdown",
   "metadata": {},
   "source": [
    "Similar to the `set_all_seeds` function above, I recommend setting the behavior of PyTorch and cuDNN to deterministic (this is particulary relevant when using GPUs). We can also define a function for that:"
   ]
  },
  {
   "cell_type": "code",
   "execution_count": 4,
   "metadata": {},
   "outputs": [],
   "source": [
    "def set_deterministic():\n",
    "    if torch.cuda.is_available():\n",
    "        torch.backends.cudnn.benchmark = False\n",
    "        torch.backends.cudnn.deterministic = True\n",
    "    torch.set_deterministic(True)"
   ]
  },
  {
   "cell_type": "code",
   "execution_count": 5,
   "metadata": {
    "colab": {
     "autoexec": {
      "startup": false,
      "wait_interval": 0
     },
     "base_uri": "https://localhost:8080/",
     "height": 85
    },
    "colab_type": "code",
    "executionInfo": {
     "elapsed": 23936,
     "status": "ok",
     "timestamp": 1524974497505,
     "user": {
      "displayName": "Sebastian Raschka",
      "photoUrl": "//lh6.googleusercontent.com/-cxK6yOSQ6uE/AAAAAAAAAAI/AAAAAAAAIfw/P9ar_CHsKOQ/s50-c-k-no/photo.jpg",
      "userId": "118404394130788869227"
     },
     "user_tz": 240
    },
    "id": "NnT0sZIwj5wu",
    "outputId": "55aed925-d17e-4c6a-8c71-0d9b3bde5637"
   },
   "outputs": [],
   "source": [
    "##########################\n",
    "### SETTINGS\n",
    "##########################\n",
    "\n",
    "# Hyperparameters\n",
    "RANDOM_SEED = 1\n",
    "LEARNING_RATE = 0.0001\n",
    "BATCH_SIZE = 256\n",
    "NUM_EPOCHS = 40\n",
    "\n",
    "# Architecture\n",
    "NUM_CLASSES = 10\n",
    "\n",
    "# Other\n",
    "DEVICE = \"cuda:0\"\n",
    "\n",
    "set_all_seeds(RANDOM_SEED)\n",
    "\n",
    "# Deterministic behavior not yet supported by AdaptiveAvgPool2d\n",
    "#set_deterministic()"
   ]
  },
  {
   "cell_type": "markdown",
   "metadata": {},
   "source": [
    "#### Import utility functions"
   ]
  },
  {
   "cell_type": "code",
   "execution_count": 6,
   "metadata": {},
   "outputs": [],
   "source": [
    "import sys\n",
    "\n",
    "sys.path.insert(0, \"helper\") # to include ../helper_evaluate.py etc.\n",
    "\n",
    "from helper_evaluate import compute_accuracy\n",
    "from helper_data import get_dataloaders_cifar10\n",
    "from helper_train import train_classifier_simple_v1"
   ]
  },
  {
   "cell_type": "code",
   "execution_count": 7,
   "metadata": {},
   "outputs": [],
   "source": [
    "import ssl\n",
    "ssl._create_default_https_context = ssl._create_unverified_context"
   ]
  },
  {
   "cell_type": "markdown",
   "metadata": {},
   "source": [
    "## Dataset"
   ]
  },
  {
   "cell_type": "code",
   "execution_count": 8,
   "metadata": {},
   "outputs": [
    {
     "name": "stdout",
     "output_type": "stream",
     "text": [
      "Files already downloaded and verified\n"
     ]
    }
   ],
   "source": [
    "### Set random seed ###\n",
    "set_all_seeds(RANDOM_SEED)\n",
    "\n",
    "##########################\n",
    "### Dataset\n",
    "##########################\n",
    "\n",
    "train_transforms = transforms.Compose([transforms.Resize((70, 70)),\n",
    "                                       transforms.RandomCrop((64, 64)),\n",
    "                                       transforms.ToTensor()])\n",
    "\n",
    "test_transforms = transforms.Compose([transforms.Resize((70, 70)),\n",
    "                                      transforms.CenterCrop((64, 64)),\n",
    "                                      transforms.ToTensor()])\n",
    "\n",
    "\n",
    "train_loader, valid_loader, test_loader = get_dataloaders_cifar10(\n",
    "    batch_size=BATCH_SIZE, \n",
    "    num_workers=1, \n",
    "    train_transforms=train_transforms,\n",
    "    test_transforms=test_transforms,\n",
    "    validation_fraction=0.1)"
   ]
  },
  {
   "cell_type": "code",
   "execution_count": 9,
   "metadata": {},
   "outputs": [
    {
     "name": "stdout",
     "output_type": "stream",
     "text": [
      "Training Set:\n",
      "\n",
      "Image batch dimensions: torch.Size([256, 3, 64, 64])\n",
      "Image label dimensions: torch.Size([256])\n",
      "tensor([0, 2, 3, 5, 4, 8, 9, 6, 9, 7])\n",
      "\n",
      "Validation Set:\n",
      "Image batch dimensions: torch.Size([256, 3, 64, 64])\n",
      "Image label dimensions: torch.Size([256])\n",
      "tensor([6, 9, 3, 5, 7, 3, 4, 1, 8, 0])\n",
      "\n",
      "Testing Set:\n",
      "Image batch dimensions: torch.Size([256, 3, 64, 64])\n",
      "Image label dimensions: torch.Size([256])\n",
      "tensor([2, 6, 3, 1, 1, 1, 1, 2, 4, 8])\n"
     ]
    }
   ],
   "source": [
    "# Checking the dataset\n",
    "print('Training Set:\\n')\n",
    "for images, labels in train_loader:  \n",
    "    print('Image batch dimensions:', images.size())\n",
    "    print('Image label dimensions:', labels.size())\n",
    "    print(labels[:10])\n",
    "    break\n",
    "    \n",
    "# Checking the dataset\n",
    "print('\\nValidation Set:')\n",
    "for images, labels in valid_loader:  \n",
    "    print('Image batch dimensions:', images.size())\n",
    "    print('Image label dimensions:', labels.size())\n",
    "    print(labels[:10])\n",
    "    break\n",
    "\n",
    "# Checking the dataset\n",
    "print('\\nTesting Set:')\n",
    "for images, labels in train_loader:  \n",
    "    print('Image batch dimensions:', images.size())\n",
    "    print('Image label dimensions:', labels.size())\n",
    "    print(labels[:10])\n",
    "    break"
   ]
  },
  {
   "cell_type": "markdown",
   "metadata": {},
   "source": [
    "## Model"
   ]
  },
  {
   "cell_type": "code",
   "execution_count": 10,
   "metadata": {},
   "outputs": [],
   "source": [
    "##########################\n",
    "### MODEL\n",
    "##########################\n",
    "\n",
    "class AlexNet(nn.Module):\n",
    "\n",
    "    def __init__(self, num_classes):\n",
    "        super(AlexNet, self).__init__()\n",
    "        self.features = nn.Sequential(\n",
    "            nn.Conv2d(3, 64, kernel_size=11, stride=4, padding=2),\n",
    "            nn.ReLU(inplace=True),\n",
    "            nn.MaxPool2d(kernel_size=3, stride=2),\n",
    "            \n",
    "            nn.Conv2d(64, 192, kernel_size=5, padding=2),\n",
    "            nn.ReLU(inplace=True),\n",
    "            nn.MaxPool2d(kernel_size=3, stride=2),\n",
    "            \n",
    "            nn.Conv2d(192, 384, kernel_size=3, padding=1),\n",
    "            nn.ReLU(inplace=True),\n",
    "            \n",
    "            nn.Conv2d(384, 256, kernel_size=3, padding=1),\n",
    "            nn.ReLU(inplace=True),\n",
    "            \n",
    "            nn.Conv2d(256, 256, kernel_size=3, padding=1),\n",
    "            nn.ReLU(inplace=True),\n",
    "            nn.MaxPool2d(kernel_size=3, stride=2),\n",
    "        )\n",
    "        self.avgpool = nn.AdaptiveAvgPool2d((6, 6))\n",
    "        self.classifier = nn.Sequential(\n",
    "            nn.Dropout(0.5),\n",
    "            nn.Linear(256 * 6 * 6, 4096),\n",
    "            nn.ReLU(inplace=True),\n",
    "            nn.Dropout(0.5),\n",
    "            nn.Linear(4096, 4096),\n",
    "            nn.ReLU(inplace=True),\n",
    "            nn.Linear(4096, num_classes)\n",
    "        )\n",
    "\n",
    "    def forward(self, x):\n",
    "        x = self.features(x)\n",
    "        x = self.avgpool(x)\n",
    "        x = x.view(x.size(0), 256 * 6 * 6)\n",
    "        logits = self.classifier(x)\n",
    "        probas = F.softmax(logits, dim=1)\n",
    "        return logits"
   ]
  },
  {
   "cell_type": "code",
   "execution_count": 11,
   "metadata": {},
   "outputs": [
    {
     "data": {
      "text/plain": [
       "True"
      ]
     },
     "execution_count": 11,
     "metadata": {},
     "output_type": "execute_result"
    }
   ],
   "source": [
    "torch.cuda.is_available()"
   ]
  },
  {
   "cell_type": "code",
   "execution_count": 12,
   "metadata": {
    "colab": {
     "autoexec": {
      "startup": false,
      "wait_interval": 0
     }
    },
    "colab_type": "code",
    "id": "_lza9t_uj5w1"
   },
   "outputs": [],
   "source": [
    "torch.manual_seed(RANDOM_SEED)\n",
    "\n",
    "model = AlexNet(NUM_CLASSES)\n",
    "model.to(DEVICE)\n",
    "\n",
    "optimizer = torch.optim.Adam(model.parameters(), lr=LEARNING_RATE)  "
   ]
  },
  {
   "cell_type": "markdown",
   "metadata": {
    "colab_type": "text",
    "id": "RAodboScj5w6"
   },
   "source": [
    "## Training"
   ]
  },
  {
   "cell_type": "code",
   "execution_count": 13,
   "metadata": {
    "colab": {
     "autoexec": {
      "startup": false,
      "wait_interval": 0
     },
     "base_uri": "https://localhost:8080/",
     "height": 1547
    },
    "colab_type": "code",
    "executionInfo": {
     "elapsed": 2384585,
     "status": "ok",
     "timestamp": 1524976888520,
     "user": {
      "displayName": "Sebastian Raschka",
      "photoUrl": "//lh6.googleusercontent.com/-cxK6yOSQ6uE/AAAAAAAAAAI/AAAAAAAAIfw/P9ar_CHsKOQ/s50-c-k-no/photo.jpg",
      "userId": "118404394130788869227"
     },
     "user_tz": 240
    },
    "id": "Dzh3ROmRj5w7",
    "outputId": "5f8fd8c9-b076-403a-b0b7-fd2d498b48d7"
   },
   "outputs": [
    {
     "name": "stdout",
     "output_type": "stream",
     "text": [
      "Epoch: 001/040 | Batch 0000/0175 | Loss: 2.3031\n",
      "Epoch: 001/040 | Batch 0050/0175 | Loss: 2.0471\n",
      "Epoch: 001/040 | Batch 0100/0175 | Loss: 1.8973\n",
      "Epoch: 001/040 | Batch 0150/0175 | Loss: 1.8614\n",
      "***Epoch: 001/040 | Train. Acc.: 35.103% | Loss: 1.685\n",
      "***Epoch: 001/040 | Valid. Acc.: 35.860% | Loss: 1.656\n",
      "Time elapsed: 5.41 min\n",
      "Epoch: 002/040 | Batch 0000/0175 | Loss: 1.7272\n",
      "Epoch: 002/040 | Batch 0050/0175 | Loss: 1.5940\n",
      "Epoch: 002/040 | Batch 0100/0175 | Loss: 1.5215\n",
      "Epoch: 002/040 | Batch 0150/0175 | Loss: 1.5825\n",
      "***Epoch: 002/040 | Train. Acc.: 40.783% | Loss: 1.558\n",
      "***Epoch: 002/040 | Valid. Acc.: 41.900% | Loss: 1.543\n",
      "Time elapsed: 9.20 min\n",
      "Epoch: 003/040 | Batch 0000/0175 | Loss: 1.6379\n",
      "Epoch: 003/040 | Batch 0050/0175 | Loss: 1.4683\n",
      "Epoch: 003/040 | Batch 0100/0175 | Loss: 1.3916\n",
      "Epoch: 003/040 | Batch 0150/0175 | Loss: 1.3627\n",
      "***Epoch: 003/040 | Train. Acc.: 48.815% | Loss: 1.367\n",
      "***Epoch: 003/040 | Valid. Acc.: 49.140% | Loss: 1.348\n",
      "Time elapsed: 12.25 min\n",
      "Epoch: 004/040 | Batch 0000/0175 | Loss: 1.4711\n",
      "Epoch: 004/040 | Batch 0050/0175 | Loss: 1.3142\n",
      "Epoch: 004/040 | Batch 0100/0175 | Loss: 1.3208\n",
      "Epoch: 004/040 | Batch 0150/0175 | Loss: 1.1859\n",
      "***Epoch: 004/040 | Train. Acc.: 56.388% | Loss: 1.202\n",
      "***Epoch: 004/040 | Valid. Acc.: 56.500% | Loss: 1.202\n",
      "Time elapsed: 14.72 min\n",
      "Epoch: 005/040 | Batch 0000/0175 | Loss: 1.1370\n",
      "Epoch: 005/040 | Batch 0050/0175 | Loss: 1.1716\n",
      "Epoch: 005/040 | Batch 0100/0175 | Loss: 1.3095\n",
      "Epoch: 005/040 | Batch 0150/0175 | Loss: 1.1640\n",
      "***Epoch: 005/040 | Train. Acc.: 59.395% | Loss: 1.124\n",
      "***Epoch: 005/040 | Valid. Acc.: 58.820% | Loss: 1.141\n",
      "Time elapsed: 16.87 min\n",
      "Epoch: 006/040 | Batch 0000/0175 | Loss: 1.0940\n",
      "Epoch: 006/040 | Batch 0050/0175 | Loss: 1.1216\n",
      "Epoch: 006/040 | Batch 0100/0175 | Loss: 1.1893\n",
      "Epoch: 006/040 | Batch 0150/0175 | Loss: 1.0683\n",
      "***Epoch: 006/040 | Train. Acc.: 61.181% | Loss: 1.068\n",
      "***Epoch: 006/040 | Valid. Acc.: 60.020% | Loss: 1.097\n",
      "Time elapsed: 19.07 min\n",
      "Epoch: 007/040 | Batch 0000/0175 | Loss: 0.9421\n",
      "Epoch: 007/040 | Batch 0050/0175 | Loss: 1.2490\n",
      "Epoch: 007/040 | Batch 0100/0175 | Loss: 0.9486\n",
      "Epoch: 007/040 | Batch 0150/0175 | Loss: 1.0549\n",
      "***Epoch: 007/040 | Train. Acc.: 63.609% | Loss: 1.006\n",
      "***Epoch: 007/040 | Valid. Acc.: 62.580% | Loss: 1.060\n",
      "Time elapsed: 21.65 min\n",
      "Epoch: 008/040 | Batch 0000/0175 | Loss: 0.9193\n",
      "Epoch: 008/040 | Batch 0050/0175 | Loss: 1.0654\n",
      "Epoch: 008/040 | Batch 0100/0175 | Loss: 1.0521\n",
      "Epoch: 008/040 | Batch 0150/0175 | Loss: 1.0486\n",
      "***Epoch: 008/040 | Train. Acc.: 67.219% | Loss: 0.920\n",
      "***Epoch: 008/040 | Valid. Acc.: 64.840% | Loss: 0.975\n",
      "Time elapsed: 24.12 min\n",
      "Epoch: 009/040 | Batch 0000/0175 | Loss: 0.9299\n",
      "Epoch: 009/040 | Batch 0050/0175 | Loss: 0.8161\n",
      "Epoch: 009/040 | Batch 0100/0175 | Loss: 1.0191\n",
      "Epoch: 009/040 | Batch 0150/0175 | Loss: 0.9378\n",
      "***Epoch: 009/040 | Train. Acc.: 67.018% | Loss: 0.906\n",
      "***Epoch: 009/040 | Valid. Acc.: 64.400% | Loss: 0.989\n",
      "Time elapsed: 27.86 min\n",
      "Epoch: 010/040 | Batch 0000/0175 | Loss: 0.8358\n",
      "Epoch: 010/040 | Batch 0050/0175 | Loss: 0.7050\n",
      "Epoch: 010/040 | Batch 0100/0175 | Loss: 0.8926\n",
      "Epoch: 010/040 | Batch 0150/0175 | Loss: 0.9528\n",
      "***Epoch: 010/040 | Train. Acc.: 70.821% | Loss: 0.824\n",
      "***Epoch: 010/040 | Valid. Acc.: 67.000% | Loss: 0.929\n",
      "Time elapsed: 30.84 min\n",
      "Epoch: 011/040 | Batch 0000/0175 | Loss: 0.8372\n",
      "Epoch: 011/040 | Batch 0050/0175 | Loss: 0.7577\n",
      "Epoch: 011/040 | Batch 0100/0175 | Loss: 0.9536\n",
      "Epoch: 011/040 | Batch 0150/0175 | Loss: 0.7294\n",
      "***Epoch: 011/040 | Train. Acc.: 72.710% | Loss: 0.771\n",
      "***Epoch: 011/040 | Valid. Acc.: 68.020% | Loss: 0.901\n",
      "Time elapsed: 33.31 min\n",
      "Epoch: 012/040 | Batch 0000/0175 | Loss: 0.7281\n",
      "Epoch: 012/040 | Batch 0050/0175 | Loss: 0.8285\n",
      "Epoch: 012/040 | Batch 0100/0175 | Loss: 0.7368\n",
      "Epoch: 012/040 | Batch 0150/0175 | Loss: 0.8889\n",
      "***Epoch: 012/040 | Train. Acc.: 73.388% | Loss: 0.765\n",
      "***Epoch: 012/040 | Valid. Acc.: 67.840% | Loss: 0.905\n",
      "Time elapsed: 35.76 min\n",
      "Epoch: 013/040 | Batch 0000/0175 | Loss: 0.8653\n",
      "Epoch: 013/040 | Batch 0050/0175 | Loss: 0.7466\n",
      "Epoch: 013/040 | Batch 0100/0175 | Loss: 0.7318\n",
      "Epoch: 013/040 | Batch 0150/0175 | Loss: 0.8273\n",
      "***Epoch: 013/040 | Train. Acc.: 75.801% | Loss: 0.691\n",
      "***Epoch: 013/040 | Valid. Acc.: 68.920% | Loss: 0.874\n",
      "Time elapsed: 38.32 min\n",
      "Epoch: 014/040 | Batch 0000/0175 | Loss: 0.6596\n",
      "Epoch: 014/040 | Batch 0050/0175 | Loss: 0.7528\n",
      "Epoch: 014/040 | Batch 0100/0175 | Loss: 0.7955\n",
      "Epoch: 014/040 | Batch 0150/0175 | Loss: 0.6884\n",
      "***Epoch: 014/040 | Train. Acc.: 75.879% | Loss: 0.679\n",
      "***Epoch: 014/040 | Valid. Acc.: 69.180% | Loss: 0.903\n",
      "Time elapsed: 40.88 min\n",
      "Epoch: 015/040 | Batch 0000/0175 | Loss: 0.7502\n",
      "Epoch: 015/040 | Batch 0050/0175 | Loss: 0.6847\n",
      "Epoch: 015/040 | Batch 0100/0175 | Loss: 0.6289\n",
      "Epoch: 015/040 | Batch 0150/0175 | Loss: 0.7691\n",
      "***Epoch: 015/040 | Train. Acc.: 79.442% | Loss: 0.597\n",
      "***Epoch: 015/040 | Valid. Acc.: 70.400% | Loss: 0.851\n",
      "Time elapsed: 43.29 min\n",
      "Epoch: 016/040 | Batch 0000/0175 | Loss: 0.6148\n",
      "Epoch: 016/040 | Batch 0050/0175 | Loss: 0.6531\n",
      "Epoch: 016/040 | Batch 0100/0175 | Loss: 0.5894\n",
      "Epoch: 016/040 | Batch 0150/0175 | Loss: 0.6092\n",
      "***Epoch: 016/040 | Train. Acc.: 79.596% | Loss: 0.581\n",
      "***Epoch: 016/040 | Valid. Acc.: 70.280% | Loss: 0.870\n",
      "Time elapsed: 45.68 min\n",
      "Epoch: 017/040 | Batch 0000/0175 | Loss: 0.6375\n",
      "Epoch: 017/040 | Batch 0050/0175 | Loss: 0.5146\n",
      "Epoch: 017/040 | Batch 0100/0175 | Loss: 0.5771\n",
      "Epoch: 017/040 | Batch 0150/0175 | Loss: 0.6282\n",
      "***Epoch: 017/040 | Train. Acc.: 81.830% | Loss: 0.517\n",
      "***Epoch: 017/040 | Valid. Acc.: 71.560% | Loss: 0.832\n",
      "Time elapsed: 48.07 min\n",
      "Epoch: 018/040 | Batch 0000/0175 | Loss: 0.5223\n",
      "Epoch: 018/040 | Batch 0050/0175 | Loss: 0.4548\n",
      "Epoch: 018/040 | Batch 0100/0175 | Loss: 0.4822\n",
      "Epoch: 018/040 | Batch 0150/0175 | Loss: 0.6155\n",
      "***Epoch: 018/040 | Train. Acc.: 83.143% | Loss: 0.481\n",
      "***Epoch: 018/040 | Valid. Acc.: 71.860% | Loss: 0.843\n",
      "Time elapsed: 50.46 min\n",
      "Epoch: 019/040 | Batch 0000/0175 | Loss: 0.4742\n",
      "Epoch: 019/040 | Batch 0050/0175 | Loss: 0.5092\n",
      "Epoch: 019/040 | Batch 0100/0175 | Loss: 0.4934\n",
      "Epoch: 019/040 | Batch 0150/0175 | Loss: 0.6414\n",
      "***Epoch: 019/040 | Train. Acc.: 83.815% | Loss: 0.466\n",
      "***Epoch: 019/040 | Valid. Acc.: 71.400% | Loss: 0.871\n",
      "Time elapsed: 52.81 min\n",
      "Epoch: 020/040 | Batch 0000/0175 | Loss: 0.4338\n",
      "Epoch: 020/040 | Batch 0050/0175 | Loss: 0.5364\n",
      "Epoch: 020/040 | Batch 0100/0175 | Loss: 0.5140\n",
      "Epoch: 020/040 | Batch 0150/0175 | Loss: 0.4576\n",
      "***Epoch: 020/040 | Train. Acc.: 84.542% | Loss: 0.444\n",
      "***Epoch: 020/040 | Valid. Acc.: 71.800% | Loss: 0.855\n",
      "Time elapsed: 55.56 min\n",
      "Epoch: 021/040 | Batch 0000/0175 | Loss: 0.4203\n",
      "Epoch: 021/040 | Batch 0050/0175 | Loss: 0.5051\n",
      "Epoch: 021/040 | Batch 0100/0175 | Loss: 0.4173\n",
      "Epoch: 021/040 | Batch 0150/0175 | Loss: 0.4304\n",
      "***Epoch: 021/040 | Train. Acc.: 86.790% | Loss: 0.384\n",
      "***Epoch: 021/040 | Valid. Acc.: 72.980% | Loss: 0.857\n",
      "Time elapsed: 57.94 min\n",
      "Epoch: 022/040 | Batch 0000/0175 | Loss: 0.4666\n",
      "Epoch: 022/040 | Batch 0050/0175 | Loss: 0.3861\n",
      "Epoch: 022/040 | Batch 0100/0175 | Loss: 0.4407\n",
      "Epoch: 022/040 | Batch 0150/0175 | Loss: 0.5088\n",
      "***Epoch: 022/040 | Train. Acc.: 86.480% | Loss: 0.385\n",
      "***Epoch: 022/040 | Valid. Acc.: 71.880% | Loss: 0.896\n",
      "Time elapsed: 60.35 min\n",
      "Epoch: 023/040 | Batch 0000/0175 | Loss: 0.3503\n",
      "Epoch: 023/040 | Batch 0050/0175 | Loss: 0.4031\n",
      "Epoch: 023/040 | Batch 0100/0175 | Loss: 0.4162\n",
      "Epoch: 023/040 | Batch 0150/0175 | Loss: 0.4608\n",
      "***Epoch: 023/040 | Train. Acc.: 88.277% | Loss: 0.340\n",
      "***Epoch: 023/040 | Valid. Acc.: 72.740% | Loss: 0.881\n",
      "Time elapsed: 62.70 min\n",
      "Epoch: 024/040 | Batch 0000/0175 | Loss: 0.3783\n",
      "Epoch: 024/040 | Batch 0050/0175 | Loss: 0.3138\n",
      "Epoch: 024/040 | Batch 0100/0175 | Loss: 0.3693\n",
      "Epoch: 024/040 | Batch 0150/0175 | Loss: 0.3639\n",
      "***Epoch: 024/040 | Train. Acc.: 88.652% | Loss: 0.324\n",
      "***Epoch: 024/040 | Valid. Acc.: 73.000% | Loss: 0.920\n",
      "Time elapsed: 65.46 min\n",
      "Epoch: 025/040 | Batch 0000/0175 | Loss: 0.2789\n",
      "Epoch: 025/040 | Batch 0050/0175 | Loss: 0.3377\n",
      "Epoch: 025/040 | Batch 0100/0175 | Loss: 0.3914\n",
      "Epoch: 025/040 | Batch 0150/0175 | Loss: 0.3939\n",
      "***Epoch: 025/040 | Train. Acc.: 90.746% | Loss: 0.275\n",
      "***Epoch: 025/040 | Valid. Acc.: 73.100% | Loss: 0.906\n",
      "Time elapsed: 68.27 min\n",
      "Epoch: 026/040 | Batch 0000/0175 | Loss: 0.3162\n",
      "Epoch: 026/040 | Batch 0050/0175 | Loss: 0.3528\n",
      "Epoch: 026/040 | Batch 0100/0175 | Loss: 0.3335\n",
      "Epoch: 026/040 | Batch 0150/0175 | Loss: 0.3762\n",
      "***Epoch: 026/040 | Train. Acc.: 91.326% | Loss: 0.247\n",
      "***Epoch: 026/040 | Valid. Acc.: 72.860% | Loss: 0.943\n",
      "Time elapsed: 70.77 min\n",
      "Epoch: 027/040 | Batch 0000/0175 | Loss: 0.2518\n",
      "Epoch: 027/040 | Batch 0050/0175 | Loss: 0.3164\n",
      "Epoch: 027/040 | Batch 0100/0175 | Loss: 0.3490\n",
      "Epoch: 027/040 | Batch 0150/0175 | Loss: 0.3618\n",
      "***Epoch: 027/040 | Train. Acc.: 92.038% | Loss: 0.226\n",
      "***Epoch: 027/040 | Valid. Acc.: 72.540% | Loss: 0.970\n",
      "Time elapsed: 73.12 min\n",
      "Epoch: 028/040 | Batch 0000/0175 | Loss: 0.2477\n",
      "Epoch: 028/040 | Batch 0050/0175 | Loss: 0.1724\n",
      "Epoch: 028/040 | Batch 0100/0175 | Loss: 0.2111\n",
      "Epoch: 028/040 | Batch 0150/0175 | Loss: 0.3305\n",
      "***Epoch: 028/040 | Train. Acc.: 91.031% | Loss: 0.252\n",
      "***Epoch: 028/040 | Valid. Acc.: 71.480% | Loss: 1.105\n",
      "Time elapsed: 75.50 min\n",
      "Epoch: 029/040 | Batch 0000/0175 | Loss: 0.2410\n",
      "Epoch: 029/040 | Batch 0050/0175 | Loss: 0.1951\n",
      "Epoch: 029/040 | Batch 0100/0175 | Loss: 0.2502\n",
      "Epoch: 029/040 | Batch 0150/0175 | Loss: 0.2517\n",
      "***Epoch: 029/040 | Train. Acc.: 92.507% | Loss: 0.216\n",
      "***Epoch: 029/040 | Valid. Acc.: 72.340% | Loss: 1.040\n",
      "Time elapsed: 77.87 min\n",
      "Epoch: 030/040 | Batch 0000/0175 | Loss: 0.2285\n",
      "Epoch: 030/040 | Batch 0050/0175 | Loss: 0.2392\n",
      "Epoch: 030/040 | Batch 0100/0175 | Loss: 0.2045\n",
      "Epoch: 030/040 | Batch 0150/0175 | Loss: 0.2952\n",
      "***Epoch: 030/040 | Train. Acc.: 94.806% | Loss: 0.155\n",
      "***Epoch: 030/040 | Valid. Acc.: 73.660% | Loss: 1.018\n",
      "Time elapsed: 80.45 min\n",
      "Epoch: 031/040 | Batch 0000/0175 | Loss: 0.1386\n",
      "Epoch: 031/040 | Batch 0050/0175 | Loss: 0.2350\n",
      "Epoch: 031/040 | Batch 0100/0175 | Loss: 0.2188\n",
      "Epoch: 031/040 | Batch 0150/0175 | Loss: 0.2185\n",
      "***Epoch: 031/040 | Train. Acc.: 95.089% | Loss: 0.145\n",
      "***Epoch: 031/040 | Valid. Acc.: 73.440% | Loss: 1.077\n",
      "Time elapsed: 82.81 min\n",
      "Epoch: 032/040 | Batch 0000/0175 | Loss: 0.1757\n",
      "Epoch: 032/040 | Batch 0050/0175 | Loss: 0.2534\n",
      "Epoch: 032/040 | Batch 0100/0175 | Loss: 0.2030\n",
      "Epoch: 032/040 | Batch 0150/0175 | Loss: 0.2133\n",
      "***Epoch: 032/040 | Train. Acc.: 94.393% | Loss: 0.158\n",
      "***Epoch: 032/040 | Valid. Acc.: 73.500% | Loss: 1.056\n",
      "Time elapsed: 85.31 min\n",
      "Epoch: 033/040 | Batch 0000/0175 | Loss: 0.2255\n",
      "Epoch: 033/040 | Batch 0050/0175 | Loss: 0.1898\n",
      "Epoch: 033/040 | Batch 0100/0175 | Loss: 0.1126\n",
      "Epoch: 033/040 | Batch 0150/0175 | Loss: 0.1492\n",
      "***Epoch: 033/040 | Train. Acc.: 95.261% | Loss: 0.138\n",
      "***Epoch: 033/040 | Valid. Acc.: 73.300% | Loss: 1.119\n",
      "Time elapsed: 87.81 min\n",
      "Epoch: 034/040 | Batch 0000/0175 | Loss: 0.1298\n",
      "Epoch: 034/040 | Batch 0050/0175 | Loss: 0.1707\n",
      "Epoch: 034/040 | Batch 0100/0175 | Loss: 0.1336\n",
      "Epoch: 034/040 | Batch 0150/0175 | Loss: 0.2198\n",
      "***Epoch: 034/040 | Train. Acc.: 95.402% | Loss: 0.132\n",
      "***Epoch: 034/040 | Valid. Acc.: 73.320% | Loss: 1.151\n",
      "Time elapsed: 91.36 min\n",
      "Epoch: 035/040 | Batch 0000/0175 | Loss: 0.2147\n",
      "Epoch: 035/040 | Batch 0050/0175 | Loss: 0.1541\n",
      "Epoch: 035/040 | Batch 0100/0175 | Loss: 0.1787\n",
      "Epoch: 035/040 | Batch 0150/0175 | Loss: 0.2500\n",
      "***Epoch: 035/040 | Train. Acc.: 96.132% | Loss: 0.116\n",
      "***Epoch: 035/040 | Valid. Acc.: 72.660% | Loss: 1.144\n",
      "Time elapsed: 93.67 min\n",
      "Epoch: 036/040 | Batch 0000/0175 | Loss: 0.1101\n",
      "Epoch: 036/040 | Batch 0050/0175 | Loss: 0.1504\n",
      "Epoch: 036/040 | Batch 0100/0175 | Loss: 0.1806\n",
      "Epoch: 036/040 | Batch 0150/0175 | Loss: 0.1712\n",
      "***Epoch: 036/040 | Train. Acc.: 95.489% | Loss: 0.132\n",
      "***Epoch: 036/040 | Valid. Acc.: 73.600% | Loss: 1.135\n",
      "Time elapsed: 95.98 min\n",
      "Epoch: 037/040 | Batch 0000/0175 | Loss: 0.1111\n",
      "Epoch: 037/040 | Batch 0050/0175 | Loss: 0.1484\n",
      "Epoch: 037/040 | Batch 0100/0175 | Loss: 0.1546\n",
      "Epoch: 037/040 | Batch 0150/0175 | Loss: 0.1379\n",
      "***Epoch: 037/040 | Train. Acc.: 95.464% | Loss: 0.126\n",
      "***Epoch: 037/040 | Valid. Acc.: 73.060% | Loss: 1.155\n",
      "Time elapsed: 98.25 min\n",
      "Epoch: 038/040 | Batch 0000/0175 | Loss: 0.1136\n",
      "Epoch: 038/040 | Batch 0050/0175 | Loss: 0.1306\n",
      "Epoch: 038/040 | Batch 0100/0175 | Loss: 0.1133\n",
      "Epoch: 038/040 | Batch 0150/0175 | Loss: 0.1776\n",
      "***Epoch: 038/040 | Train. Acc.: 96.750% | Loss: 0.095\n",
      "***Epoch: 038/040 | Valid. Acc.: 73.380% | Loss: 1.191\n",
      "Time elapsed: 100.55 min\n",
      "Epoch: 039/040 | Batch 0000/0175 | Loss: 0.1025\n",
      "Epoch: 039/040 | Batch 0050/0175 | Loss: 0.1227\n",
      "Epoch: 039/040 | Batch 0100/0175 | Loss: 0.1412\n",
      "Epoch: 039/040 | Batch 0150/0175 | Loss: 0.1037\n",
      "***Epoch: 039/040 | Train. Acc.: 95.884% | Loss: 0.121\n",
      "***Epoch: 039/040 | Valid. Acc.: 72.020% | Loss: 1.241\n",
      "Time elapsed: 103.59 min\n",
      "Epoch: 040/040 | Batch 0000/0175 | Loss: 0.1250\n",
      "Epoch: 040/040 | Batch 0050/0175 | Loss: 0.1024\n",
      "Epoch: 040/040 | Batch 0100/0175 | Loss: 0.1255\n",
      "Epoch: 040/040 | Batch 0150/0175 | Loss: 0.1473\n",
      "***Epoch: 040/040 | Train. Acc.: 97.116% | Loss: 0.084\n",
      "***Epoch: 040/040 | Valid. Acc.: 73.280% | Loss: 1.215\n",
      "Time elapsed: 105.74 min\n",
      "Total Training Time: 105.74 min\n"
     ]
    }
   ],
   "source": [
    "log_dict = train_classifier_simple_v1(num_epochs=NUM_EPOCHS, model=model, \n",
    "                                      optimizer=optimizer, device=DEVICE, \n",
    "                                      train_loader=train_loader, valid_loader=valid_loader, \n",
    "                                      logging_interval=50)"
   ]
  },
  {
   "cell_type": "markdown",
   "metadata": {},
   "source": [
    "## Evaluation"
   ]
  },
  {
   "cell_type": "code",
   "execution_count": 14,
   "metadata": {},
   "outputs": [],
   "source": [
    "import matplotlib.pyplot as plt\n",
    "%matplotlib inline\n"
   ]
  },
  {
   "cell_type": "code",
   "execution_count": null,
   "metadata": {},
   "outputs": [],
   "source": [
    "loss_list = log_dict['train_loss_per_batch']\n",
    "\n",
    "plt.plot(loss_list, label='Minibatch loss')\n",
    "plt.plot(np.convolve(loss_list, \n",
    "                     np.ones(200,)/200, mode='valid'), \n",
    "         label='Running average')\n",
    "\n",
    "plt.ylabel('Cross Entropy')\n",
    "plt.xlabel('Iteration')\n",
    "plt.legend()\n",
    "plt.show()"
   ]
  },
  {
   "cell_type": "code",
   "execution_count": null,
   "metadata": {},
   "outputs": [
    {
     "ename": "NameError",
     "evalue": "name 'log_dict' is not defined",
     "output_type": "error",
     "traceback": [
      "\u001b[1;31m---------------------------------------------------------------------------\u001b[0m",
      "\u001b[1;31mNameError\u001b[0m                                 Traceback (most recent call last)",
      "Cell \u001b[1;32mIn[18], line 1\u001b[0m\n\u001b[1;32m----> 1\u001b[0m plt\u001b[39m.\u001b[39mplot(np\u001b[39m.\u001b[39marange(\u001b[39m1\u001b[39m, NUM_EPOCHS\u001b[39m+\u001b[39m\u001b[39m1\u001b[39m), log_dict[\u001b[39m'\u001b[39m\u001b[39mtrain_acc_per_epoch\u001b[39m\u001b[39m'\u001b[39m], label\u001b[39m=\u001b[39m\u001b[39m'\u001b[39m\u001b[39mTraining\u001b[39m\u001b[39m'\u001b[39m)\n\u001b[0;32m      2\u001b[0m plt\u001b[39m.\u001b[39mplot(np\u001b[39m.\u001b[39marange(\u001b[39m1\u001b[39m, NUM_EPOCHS\u001b[39m+\u001b[39m\u001b[39m1\u001b[39m), log_dict[\u001b[39m'\u001b[39m\u001b[39mvalid_acc_per_epoch\u001b[39m\u001b[39m'\u001b[39m], label\u001b[39m=\u001b[39m\u001b[39m'\u001b[39m\u001b[39mValidation\u001b[39m\u001b[39m'\u001b[39m)\n\u001b[0;32m      4\u001b[0m plt\u001b[39m.\u001b[39mxlabel(\u001b[39m'\u001b[39m\u001b[39mEpoch\u001b[39m\u001b[39m'\u001b[39m)\n",
      "\u001b[1;31mNameError\u001b[0m: name 'log_dict' is not defined"
     ]
    }
   ],
   "source": [
    "plt.plot(np.arange(1, NUM_EPOCHS+1), log_dict['train_acc_per_epoch'], label='Training')\n",
    "plt.plot(np.arange(1, NUM_EPOCHS+1), log_dict['valid_acc_per_epoch'], label='Validation')\n",
    "\n",
    "plt.xlabel('Epoch')\n",
    "plt.ylabel('Accuracy')\n",
    "plt.legend()\n",
    "plt.show()"
   ]
  },
  {
   "cell_type": "code",
   "execution_count": null,
   "metadata": {},
   "outputs": [
    {
     "name": "stdout",
     "output_type": "stream",
     "text": [
      "Train ACC: 73.52%\n",
      "Validation ACC: 73.52%\n",
      "Test ACC: 72.11%\n"
     ]
    }
   ],
   "source": [
    "with torch.set_grad_enabled(False):\n",
    "    \n",
    "    train_acc = compute_accuracy(model=model,\n",
    "                                 data_loader=test_loader,\n",
    "                                 device=DEVICE)\n",
    "    \n",
    "    test_acc = compute_accuracy(model=model,\n",
    "                                data_loader=test_loader,\n",
    "                                device=DEVICE)\n",
    "    \n",
    "    valid_acc = compute_accuracy(model=model,\n",
    "                                 data_loader=valid_loader,\n",
    "                                 device=DEVICE)\n",
    "    \n",
    "\n",
    "print(f'Train ACC: {valid_acc:.2f}%')\n",
    "print(f'Validation ACC: {valid_acc:.2f}%')\n",
    "print(f'Test ACC: {test_acc:.2f}%')"
   ]
  },
  {
   "cell_type": "code",
   "execution_count": null,
   "metadata": {},
   "outputs": [
    {
     "name": "stdout",
     "output_type": "stream",
     "text": [
      "sys        : 3.8.12 | packaged by conda-forge | (default, Oct 12 2021, 21:59:51) \n",
      "[GCC 9.4.0]\n",
      "matplotlib : 3.3.4\n",
      "PIL        : 9.0.1\n",
      "torchvision: 0.11.2\n",
      "numpy      : 1.22.0\n",
      "torch      : 1.10.1\n",
      "pandas     : 1.4.1\n",
      "\n"
     ]
    }
   ],
   "source": [
    "%watermark -iv"
   ]
  },
  {
   "cell_type": "code",
   "execution_count": null,
   "metadata": {},
   "outputs": [],
   "source": []
  }
 ],
 "metadata": {
  "accelerator": "GPU",
  "colab": {
   "collapsed_sections": [],
   "default_view": {},
   "name": "convnet-vgg16.ipynb",
   "provenance": [],
   "version": "0.3.2",
   "views": {}
  },
  "kernelspec": {
   "display_name": "Python 3 (ipykernel)",
   "language": "python",
   "name": "python3"
  },
  "language_info": {
   "codemirror_mode": {
    "name": "ipython",
    "version": 3
   },
   "file_extension": ".py",
   "mimetype": "text/x-python",
   "name": "python",
   "nbconvert_exporter": "python",
   "pygments_lexer": "ipython3",
   "version": "3.10.11"
  },
  "toc": {
   "nav_menu": {},
   "number_sections": true,
   "sideBar": true,
   "skip_h1_title": false,
   "title_cell": "Table of Contents",
   "title_sidebar": "Contents",
   "toc_cell": true,
   "toc_position": {
    "height": "calc(100% - 180px)",
    "left": "10px",
    "top": "150px",
    "width": "371px"
   },
   "toc_section_display": true,
   "toc_window_display": true
  }
 },
 "nbformat": 4,
 "nbformat_minor": 4
}
