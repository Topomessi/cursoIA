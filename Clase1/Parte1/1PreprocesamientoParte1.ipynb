{
 "cells": [
  {
   "attachments": {},
   "cell_type": "markdown",
   "id": "underlying-vaccine",
   "metadata": {
    "tags": []
   },
   "source": [
    "\n",
    "\n",
    "¿Qué veremos?\n",
    "*  Como cargar la base de datos y limpiar datos faltantes\n",
    "\n",
    "\n",
    "\n",
    "\n",
    "## Scikitlearn\n",
    "\n",
    "La mayoría de los que están aprendiendo ciencia de datos con Python seguramente ya habrán oído hablar de scikit-learn, esl la biblioteca de código abierto de Python que implementa una amplia variedad de algoritmos de aprendizaje automático, preprocesamiento, validación cruzada y visualización con la ayuda de una interfaz unificada. \n",
    "\n",
    "\n",
    "Esta notebook de scikit-learn le presentará los pasos básicos que debe seguir para implementar algoritmos de aprendizaje automático con éxito: verá cómo cargar sus datos, cómo preprocesarlos, mas adelante veremos cómo crear un modelo al que puede ajustar sus datos y predecir las etiquetas objetivo, cómo validar su modelo y cómo ajustarlo para mejorar su rendimiento. \n",
    "\n",
    "## Preprocessamiento\n",
    "La mayor parte de un proyecto de ciencia de datos consiste en la limpieza y manipulación de datos. La mayoría de estas tareas de limpieza de datos se pueden desglosar en seis áreas:\n",
    "\n",
    "*  Imputación de valores perdidos. Imputación estadística constante estándar, imputación KNN.\n",
    "*  Detección de anomalías. Algoritmos de detección de valores atípicos: Isolation Forest, One Class SVM, Local Outlier Factor.\n",
    "*   Métodos de limpieza de variables X. Aplicación de funciones personalizadas, eliminación de duplicados, sustitución de valores.\n",
    "*    Métodos de limpieza de variables Y. Codificación de etiquetas, mapeo de diccionarios, codificación de una sola vez.\n",
    "*    Unión de marcos de datos. Concatenar, fusionar y unir.\n",
    "*     Análisis de fechas. Auto-formato-detección de la conversión cadena-hora, objetos fecha-hora a números."
   ]
  },
  {
   "cell_type": "code",
   "execution_count": 8,
   "id": "mature-marketing",
   "metadata": {},
   "outputs": [],
   "source": [
    "## Unión de marcos de datos. Concatenar y  fusionar. "
   ]
  },
  {
   "cell_type": "code",
   "execution_count": 9,
   "id": "wired-selection",
   "metadata": {},
   "outputs": [],
   "source": [
    "# Python ≥3.5 is required\n",
    "import sys\n",
    "assert sys.version_info >= (3, 5)"
   ]
  },
  {
   "cell_type": "code",
   "execution_count": 10,
   "id": "relative-catholic",
   "metadata": {},
   "outputs": [],
   "source": [
    "#!pip3 install sklearn"
   ]
  },
  {
   "cell_type": "code",
   "execution_count": 11,
   "id": "charming-canyon",
   "metadata": {},
   "outputs": [],
   "source": [
    "# Scikit-Learn ≥0.20 is required\n",
    "import sklearn\n",
    "assert sklearn.__version__ >= \"0.20\""
   ]
  },
  {
   "cell_type": "code",
   "execution_count": 12,
   "id": "usual-speed",
   "metadata": {},
   "outputs": [],
   "source": [
    "import os\n",
    "datapath = os.path.join(\"datasets\",\"lifesat\", \"\")"
   ]
  },
  {
   "cell_type": "code",
   "execution_count": 13,
   "id": "unusual-quarterly",
   "metadata": {},
   "outputs": [],
   "source": [
    "import matplotlib.pyplot as plt\n",
    "import numpy as np\n",
    "import pandas as pd\n",
    "%matplotlib inline\n",
    "import matplotlib as mpl\n",
    "mpl.rc('axes', labelsize=14)\n",
    "mpl.rc('xtick', labelsize=12)\n",
    "mpl.rc('ytick', labelsize=12)"
   ]
  },
  {
   "cell_type": "markdown",
   "id": "domestic-insider",
   "metadata": {},
   "source": [
    "## Leer el dataset oecd_bli_2015.csv\n",
    "Datos del OECD\n",
    "https://stats.oecd.org/index.aspx?DataSetCode=BLI\n",
    "El Índice de calidad de vida pretende discutir indicadores sobre el bienestar de las sociedades, y capacitarlos para que estén más informados y participen en el proceso de elaboración de políticas que da forma a todas nuestras vidas. Cada uno de los 11 temas del Índice se basa actualmente en uno o tres indicadores. Dentro de cada tema, los indicadores se promedian con igual peso. Los indicadores se han elegido en función de una serie de criterios estadísticos, como la relevancia (validez nominal, profundidad, relevancia política) y la calidad de los datos (validez predictiva, cobertura, actualidad, comparabilidad entre países, etc.) y en consulta con los países miembros de la OCDE."
   ]
  },
  {
   "cell_type": "code",
   "execution_count": 14,
   "id": "inner-traveler",
   "metadata": {},
   "outputs": [],
   "source": [
    "# Load the data\n",
    "oecd_bli = pd.read_csv(datapath + \"oecd_bli_2015.csv\", thousands=',')\n"
   ]
  },
  {
   "cell_type": "code",
   "execution_count": 15,
   "id": "meaning-eight",
   "metadata": {},
   "outputs": [
    {
     "data": {
      "text/html": [
       "<div>\n",
       "<style scoped>\n",
       "    .dataframe tbody tr th:only-of-type {\n",
       "        vertical-align: middle;\n",
       "    }\n",
       "\n",
       "    .dataframe tbody tr th {\n",
       "        vertical-align: top;\n",
       "    }\n",
       "\n",
       "    .dataframe thead th {\n",
       "        text-align: right;\n",
       "    }\n",
       "</style>\n",
       "<table border=\"1\" class=\"dataframe\">\n",
       "  <thead>\n",
       "    <tr style=\"text-align: right;\">\n",
       "      <th></th>\n",
       "      <th>LOCATION</th>\n",
       "      <th>Country</th>\n",
       "      <th>INDICATOR</th>\n",
       "      <th>Indicator</th>\n",
       "      <th>MEASURE</th>\n",
       "      <th>Measure</th>\n",
       "      <th>INEQUALITY</th>\n",
       "      <th>Inequality</th>\n",
       "      <th>Unit Code</th>\n",
       "      <th>Unit</th>\n",
       "      <th>PowerCode Code</th>\n",
       "      <th>PowerCode</th>\n",
       "      <th>Reference Period Code</th>\n",
       "      <th>Reference Period</th>\n",
       "      <th>Value</th>\n",
       "      <th>Flag Codes</th>\n",
       "      <th>Flags</th>\n",
       "    </tr>\n",
       "  </thead>\n",
       "  <tbody>\n",
       "    <tr>\n",
       "      <th>0</th>\n",
       "      <td>AUS</td>\n",
       "      <td>Australia</td>\n",
       "      <td>HO_BASE</td>\n",
       "      <td>Dwellings without basic facilities</td>\n",
       "      <td>L</td>\n",
       "      <td>Value</td>\n",
       "      <td>TOT</td>\n",
       "      <td>Total</td>\n",
       "      <td>PC</td>\n",
       "      <td>Percentage</td>\n",
       "      <td>0</td>\n",
       "      <td>units</td>\n",
       "      <td>NaN</td>\n",
       "      <td>NaN</td>\n",
       "      <td>1.1</td>\n",
       "      <td>E</td>\n",
       "      <td>Estimated value</td>\n",
       "    </tr>\n",
       "    <tr>\n",
       "      <th>1</th>\n",
       "      <td>AUT</td>\n",
       "      <td>Austria</td>\n",
       "      <td>HO_BASE</td>\n",
       "      <td>Dwellings without basic facilities</td>\n",
       "      <td>L</td>\n",
       "      <td>Value</td>\n",
       "      <td>TOT</td>\n",
       "      <td>Total</td>\n",
       "      <td>PC</td>\n",
       "      <td>Percentage</td>\n",
       "      <td>0</td>\n",
       "      <td>units</td>\n",
       "      <td>NaN</td>\n",
       "      <td>NaN</td>\n",
       "      <td>1.0</td>\n",
       "      <td>NaN</td>\n",
       "      <td>NaN</td>\n",
       "    </tr>\n",
       "    <tr>\n",
       "      <th>2</th>\n",
       "      <td>BEL</td>\n",
       "      <td>Belgium</td>\n",
       "      <td>HO_BASE</td>\n",
       "      <td>Dwellings without basic facilities</td>\n",
       "      <td>L</td>\n",
       "      <td>Value</td>\n",
       "      <td>TOT</td>\n",
       "      <td>Total</td>\n",
       "      <td>PC</td>\n",
       "      <td>Percentage</td>\n",
       "      <td>0</td>\n",
       "      <td>units</td>\n",
       "      <td>NaN</td>\n",
       "      <td>NaN</td>\n",
       "      <td>2.0</td>\n",
       "      <td>NaN</td>\n",
       "      <td>NaN</td>\n",
       "    </tr>\n",
       "    <tr>\n",
       "      <th>3</th>\n",
       "      <td>CAN</td>\n",
       "      <td>Canada</td>\n",
       "      <td>HO_BASE</td>\n",
       "      <td>Dwellings without basic facilities</td>\n",
       "      <td>L</td>\n",
       "      <td>Value</td>\n",
       "      <td>TOT</td>\n",
       "      <td>Total</td>\n",
       "      <td>PC</td>\n",
       "      <td>Percentage</td>\n",
       "      <td>0</td>\n",
       "      <td>units</td>\n",
       "      <td>NaN</td>\n",
       "      <td>NaN</td>\n",
       "      <td>0.2</td>\n",
       "      <td>NaN</td>\n",
       "      <td>NaN</td>\n",
       "    </tr>\n",
       "    <tr>\n",
       "      <th>4</th>\n",
       "      <td>CZE</td>\n",
       "      <td>Czech Republic</td>\n",
       "      <td>HO_BASE</td>\n",
       "      <td>Dwellings without basic facilities</td>\n",
       "      <td>L</td>\n",
       "      <td>Value</td>\n",
       "      <td>TOT</td>\n",
       "      <td>Total</td>\n",
       "      <td>PC</td>\n",
       "      <td>Percentage</td>\n",
       "      <td>0</td>\n",
       "      <td>units</td>\n",
       "      <td>NaN</td>\n",
       "      <td>NaN</td>\n",
       "      <td>0.9</td>\n",
       "      <td>NaN</td>\n",
       "      <td>NaN</td>\n",
       "    </tr>\n",
       "  </tbody>\n",
       "</table>\n",
       "</div>"
      ],
      "text/plain": [
       "  LOCATION         Country INDICATOR                           Indicator  \\\n",
       "0      AUS       Australia   HO_BASE  Dwellings without basic facilities   \n",
       "1      AUT         Austria   HO_BASE  Dwellings without basic facilities   \n",
       "2      BEL         Belgium   HO_BASE  Dwellings without basic facilities   \n",
       "3      CAN          Canada   HO_BASE  Dwellings without basic facilities   \n",
       "4      CZE  Czech Republic   HO_BASE  Dwellings without basic facilities   \n",
       "\n",
       "  MEASURE Measure INEQUALITY Inequality Unit Code        Unit  PowerCode Code  \\\n",
       "0       L   Value        TOT      Total        PC  Percentage               0   \n",
       "1       L   Value        TOT      Total        PC  Percentage               0   \n",
       "2       L   Value        TOT      Total        PC  Percentage               0   \n",
       "3       L   Value        TOT      Total        PC  Percentage               0   \n",
       "4       L   Value        TOT      Total        PC  Percentage               0   \n",
       "\n",
       "  PowerCode  Reference Period Code  Reference Period  Value Flag Codes  \\\n",
       "0     units                    NaN               NaN    1.1          E   \n",
       "1     units                    NaN               NaN    1.0        NaN   \n",
       "2     units                    NaN               NaN    2.0        NaN   \n",
       "3     units                    NaN               NaN    0.2        NaN   \n",
       "4     units                    NaN               NaN    0.9        NaN   \n",
       "\n",
       "             Flags  \n",
       "0  Estimated value  \n",
       "1              NaN  \n",
       "2              NaN  \n",
       "3              NaN  \n",
       "4              NaN  "
      ]
     },
     "execution_count": 15,
     "metadata": {},
     "output_type": "execute_result"
    }
   ],
   "source": [
    "oecd_bli.head()"
   ]
  },
  {
   "cell_type": "markdown",
   "id": "coordinated-avenue",
   "metadata": {},
   "source": [
    "## Leer el dataset de ingreso per cápita gdp_per_capita.csv\n",
    "Datos del Fondo monetario internacional https://www.imf.org/en/Home"
   ]
  },
  {
   "cell_type": "code",
   "execution_count": 16,
   "id": "effective-athens",
   "metadata": {},
   "outputs": [],
   "source": [
    "gdp_per_capita = pd.read_csv(datapath + \"gdp_per_capita.csv\",thousands=',',delimiter='\\t',\n",
    "                             encoding='latin1', na_values=\"n/a\")\n"
   ]
  },
  {
   "cell_type": "code",
   "execution_count": 17,
   "id": "executive-stretch",
   "metadata": {},
   "outputs": [
    {
     "data": {
      "text/html": [
       "<div>\n",
       "<style scoped>\n",
       "    .dataframe tbody tr th:only-of-type {\n",
       "        vertical-align: middle;\n",
       "    }\n",
       "\n",
       "    .dataframe tbody tr th {\n",
       "        vertical-align: top;\n",
       "    }\n",
       "\n",
       "    .dataframe thead th {\n",
       "        text-align: right;\n",
       "    }\n",
       "</style>\n",
       "<table border=\"1\" class=\"dataframe\">\n",
       "  <thead>\n",
       "    <tr style=\"text-align: right;\">\n",
       "      <th></th>\n",
       "      <th>Country</th>\n",
       "      <th>Subject Descriptor</th>\n",
       "      <th>Units</th>\n",
       "      <th>Scale</th>\n",
       "      <th>Country/Series-specific Notes</th>\n",
       "      <th>2015</th>\n",
       "      <th>Estimates Start After</th>\n",
       "    </tr>\n",
       "  </thead>\n",
       "  <tbody>\n",
       "    <tr>\n",
       "      <th>0</th>\n",
       "      <td>Afghanistan</td>\n",
       "      <td>Gross domestic product per capita, current prices</td>\n",
       "      <td>U.S. dollars</td>\n",
       "      <td>Units</td>\n",
       "      <td>See notes for:  Gross domestic product, curren...</td>\n",
       "      <td>599.994</td>\n",
       "      <td>2013.0</td>\n",
       "    </tr>\n",
       "    <tr>\n",
       "      <th>1</th>\n",
       "      <td>Albania</td>\n",
       "      <td>Gross domestic product per capita, current prices</td>\n",
       "      <td>U.S. dollars</td>\n",
       "      <td>Units</td>\n",
       "      <td>See notes for:  Gross domestic product, curren...</td>\n",
       "      <td>3995.383</td>\n",
       "      <td>2010.0</td>\n",
       "    </tr>\n",
       "    <tr>\n",
       "      <th>2</th>\n",
       "      <td>Algeria</td>\n",
       "      <td>Gross domestic product per capita, current prices</td>\n",
       "      <td>U.S. dollars</td>\n",
       "      <td>Units</td>\n",
       "      <td>See notes for:  Gross domestic product, curren...</td>\n",
       "      <td>4318.135</td>\n",
       "      <td>2014.0</td>\n",
       "    </tr>\n",
       "    <tr>\n",
       "      <th>3</th>\n",
       "      <td>Angola</td>\n",
       "      <td>Gross domestic product per capita, current prices</td>\n",
       "      <td>U.S. dollars</td>\n",
       "      <td>Units</td>\n",
       "      <td>See notes for:  Gross domestic product, curren...</td>\n",
       "      <td>4100.315</td>\n",
       "      <td>2014.0</td>\n",
       "    </tr>\n",
       "    <tr>\n",
       "      <th>4</th>\n",
       "      <td>Antigua and Barbuda</td>\n",
       "      <td>Gross domestic product per capita, current prices</td>\n",
       "      <td>U.S. dollars</td>\n",
       "      <td>Units</td>\n",
       "      <td>See notes for:  Gross domestic product, curren...</td>\n",
       "      <td>14414.302</td>\n",
       "      <td>2011.0</td>\n",
       "    </tr>\n",
       "  </tbody>\n",
       "</table>\n",
       "</div>"
      ],
      "text/plain": [
       "               Country                                 Subject Descriptor  \\\n",
       "0          Afghanistan  Gross domestic product per capita, current prices   \n",
       "1              Albania  Gross domestic product per capita, current prices   \n",
       "2              Algeria  Gross domestic product per capita, current prices   \n",
       "3               Angola  Gross domestic product per capita, current prices   \n",
       "4  Antigua and Barbuda  Gross domestic product per capita, current prices   \n",
       "\n",
       "          Units  Scale                      Country/Series-specific Notes  \\\n",
       "0  U.S. dollars  Units  See notes for:  Gross domestic product, curren...   \n",
       "1  U.S. dollars  Units  See notes for:  Gross domestic product, curren...   \n",
       "2  U.S. dollars  Units  See notes for:  Gross domestic product, curren...   \n",
       "3  U.S. dollars  Units  See notes for:  Gross domestic product, curren...   \n",
       "4  U.S. dollars  Units  See notes for:  Gross domestic product, curren...   \n",
       "\n",
       "        2015  Estimates Start After  \n",
       "0    599.994                 2013.0  \n",
       "1   3995.383                 2010.0  \n",
       "2   4318.135                 2014.0  \n",
       "3   4100.315                 2014.0  \n",
       "4  14414.302                 2011.0  "
      ]
     },
     "execution_count": 17,
     "metadata": {},
     "output_type": "execute_result"
    }
   ],
   "source": [
    "gdp_per_capita.head()"
   ]
  },
  {
   "cell_type": "markdown",
   "id": "significant-swiss",
   "metadata": {},
   "source": [
    "Filtrar las estadisticas por sexo para comparar \"INEQUALITY\" ==\"MN\" o \"WMN\""
   ]
  },
  {
   "cell_type": "code",
   "execution_count": 18,
   "id": "alleged-safety",
   "metadata": {},
   "outputs": [],
   "source": [
    "oecd_bli = oecd_bli[oecd_bli[\"INEQUALITY\"]==\"TOT\"]\n"
   ]
  },
  {
   "cell_type": "markdown",
   "id": "relevant-sandwich",
   "metadata": {},
   "source": [
    "Extraer el indicador con pivot   \n",
    "    foo   bar  baz  zoo\n",
    "0   one   A    1    x\n",
    "1   one   B    2    y\n",
    "2   one   C    3    z\n",
    "3   two   A    4    q\n",
    "4   two   B    5    w\n",
    "5   two   C    6    t\n",
    "\n",
    "df.pivot(index='foo', columns='bar', values='baz')\n",
    "\n",
    "bar  A   B   C\n",
    "foo\n",
    "one  1   2   3\n",
    "two  4   5   6\n",
    "\n",
    "\n",
    "User index=\"Country\", columns=\"Indicator\", values=\"Value\"\n"
   ]
  },
  {
   "cell_type": "code",
   "execution_count": 19,
   "id": "weekly-iceland",
   "metadata": {},
   "outputs": [],
   "source": [
    "oecd_bli = oecd_bli.pivot(index=\"Country\", columns=\"Indicator\", values=\"Value\")\n",
    " "
   ]
  },
  {
   "cell_type": "code",
   "execution_count": 20,
   "id": "adapted-petite",
   "metadata": {},
   "outputs": [
    {
     "data": {
      "text/html": [
       "<div>\n",
       "<style scoped>\n",
       "    .dataframe tbody tr th:only-of-type {\n",
       "        vertical-align: middle;\n",
       "    }\n",
       "\n",
       "    .dataframe tbody tr th {\n",
       "        vertical-align: top;\n",
       "    }\n",
       "\n",
       "    .dataframe thead th {\n",
       "        text-align: right;\n",
       "    }\n",
       "</style>\n",
       "<table border=\"1\" class=\"dataframe\">\n",
       "  <thead>\n",
       "    <tr style=\"text-align: right;\">\n",
       "      <th>Indicator</th>\n",
       "      <th>Air pollution</th>\n",
       "      <th>Assault rate</th>\n",
       "      <th>Consultation on rule-making</th>\n",
       "      <th>Dwellings without basic facilities</th>\n",
       "      <th>Educational attainment</th>\n",
       "      <th>Employees working very long hours</th>\n",
       "      <th>Employment rate</th>\n",
       "      <th>Homicide rate</th>\n",
       "      <th>Household net adjusted disposable income</th>\n",
       "      <th>Household net financial wealth</th>\n",
       "      <th>...</th>\n",
       "      <th>Long-term unemployment rate</th>\n",
       "      <th>Personal earnings</th>\n",
       "      <th>Quality of support network</th>\n",
       "      <th>Rooms per person</th>\n",
       "      <th>Self-reported health</th>\n",
       "      <th>Student skills</th>\n",
       "      <th>Time devoted to leisure and personal care</th>\n",
       "      <th>Voter turnout</th>\n",
       "      <th>Water quality</th>\n",
       "      <th>Years in education</th>\n",
       "    </tr>\n",
       "    <tr>\n",
       "      <th>Country</th>\n",
       "      <th></th>\n",
       "      <th></th>\n",
       "      <th></th>\n",
       "      <th></th>\n",
       "      <th></th>\n",
       "      <th></th>\n",
       "      <th></th>\n",
       "      <th></th>\n",
       "      <th></th>\n",
       "      <th></th>\n",
       "      <th></th>\n",
       "      <th></th>\n",
       "      <th></th>\n",
       "      <th></th>\n",
       "      <th></th>\n",
       "      <th></th>\n",
       "      <th></th>\n",
       "      <th></th>\n",
       "      <th></th>\n",
       "      <th></th>\n",
       "      <th></th>\n",
       "    </tr>\n",
       "  </thead>\n",
       "  <tbody>\n",
       "    <tr>\n",
       "      <th>Australia</th>\n",
       "      <td>13.0</td>\n",
       "      <td>2.1</td>\n",
       "      <td>10.5</td>\n",
       "      <td>1.1</td>\n",
       "      <td>76.0</td>\n",
       "      <td>14.02</td>\n",
       "      <td>72.0</td>\n",
       "      <td>0.8</td>\n",
       "      <td>31588.0</td>\n",
       "      <td>47657.0</td>\n",
       "      <td>...</td>\n",
       "      <td>1.08</td>\n",
       "      <td>50449.0</td>\n",
       "      <td>92.0</td>\n",
       "      <td>2.3</td>\n",
       "      <td>85.0</td>\n",
       "      <td>512.0</td>\n",
       "      <td>14.41</td>\n",
       "      <td>93.0</td>\n",
       "      <td>91.0</td>\n",
       "      <td>19.4</td>\n",
       "    </tr>\n",
       "    <tr>\n",
       "      <th>Austria</th>\n",
       "      <td>27.0</td>\n",
       "      <td>3.4</td>\n",
       "      <td>7.1</td>\n",
       "      <td>1.0</td>\n",
       "      <td>83.0</td>\n",
       "      <td>7.61</td>\n",
       "      <td>72.0</td>\n",
       "      <td>0.4</td>\n",
       "      <td>31173.0</td>\n",
       "      <td>49887.0</td>\n",
       "      <td>...</td>\n",
       "      <td>1.19</td>\n",
       "      <td>45199.0</td>\n",
       "      <td>89.0</td>\n",
       "      <td>1.6</td>\n",
       "      <td>69.0</td>\n",
       "      <td>500.0</td>\n",
       "      <td>14.46</td>\n",
       "      <td>75.0</td>\n",
       "      <td>94.0</td>\n",
       "      <td>17.0</td>\n",
       "    </tr>\n",
       "    <tr>\n",
       "      <th>Belgium</th>\n",
       "      <td>21.0</td>\n",
       "      <td>6.6</td>\n",
       "      <td>4.5</td>\n",
       "      <td>2.0</td>\n",
       "      <td>72.0</td>\n",
       "      <td>4.57</td>\n",
       "      <td>62.0</td>\n",
       "      <td>1.1</td>\n",
       "      <td>28307.0</td>\n",
       "      <td>83876.0</td>\n",
       "      <td>...</td>\n",
       "      <td>3.88</td>\n",
       "      <td>48082.0</td>\n",
       "      <td>94.0</td>\n",
       "      <td>2.2</td>\n",
       "      <td>74.0</td>\n",
       "      <td>509.0</td>\n",
       "      <td>15.71</td>\n",
       "      <td>89.0</td>\n",
       "      <td>87.0</td>\n",
       "      <td>18.9</td>\n",
       "    </tr>\n",
       "    <tr>\n",
       "      <th>Brazil</th>\n",
       "      <td>18.0</td>\n",
       "      <td>7.9</td>\n",
       "      <td>4.0</td>\n",
       "      <td>6.7</td>\n",
       "      <td>45.0</td>\n",
       "      <td>10.41</td>\n",
       "      <td>67.0</td>\n",
       "      <td>25.5</td>\n",
       "      <td>11664.0</td>\n",
       "      <td>6844.0</td>\n",
       "      <td>...</td>\n",
       "      <td>1.97</td>\n",
       "      <td>17177.0</td>\n",
       "      <td>90.0</td>\n",
       "      <td>1.6</td>\n",
       "      <td>69.0</td>\n",
       "      <td>402.0</td>\n",
       "      <td>14.97</td>\n",
       "      <td>79.0</td>\n",
       "      <td>72.0</td>\n",
       "      <td>16.3</td>\n",
       "    </tr>\n",
       "    <tr>\n",
       "      <th>Canada</th>\n",
       "      <td>15.0</td>\n",
       "      <td>1.3</td>\n",
       "      <td>10.5</td>\n",
       "      <td>0.2</td>\n",
       "      <td>89.0</td>\n",
       "      <td>3.94</td>\n",
       "      <td>72.0</td>\n",
       "      <td>1.5</td>\n",
       "      <td>29365.0</td>\n",
       "      <td>67913.0</td>\n",
       "      <td>...</td>\n",
       "      <td>0.90</td>\n",
       "      <td>46911.0</td>\n",
       "      <td>92.0</td>\n",
       "      <td>2.5</td>\n",
       "      <td>89.0</td>\n",
       "      <td>522.0</td>\n",
       "      <td>14.25</td>\n",
       "      <td>61.0</td>\n",
       "      <td>91.0</td>\n",
       "      <td>17.2</td>\n",
       "    </tr>\n",
       "  </tbody>\n",
       "</table>\n",
       "<p>5 rows × 24 columns</p>\n",
       "</div>"
      ],
      "text/plain": [
       "Indicator  Air pollution  Assault rate  Consultation on rule-making  \\\n",
       "Country                                                               \n",
       "Australia           13.0           2.1                         10.5   \n",
       "Austria             27.0           3.4                          7.1   \n",
       "Belgium             21.0           6.6                          4.5   \n",
       "Brazil              18.0           7.9                          4.0   \n",
       "Canada              15.0           1.3                         10.5   \n",
       "\n",
       "Indicator  Dwellings without basic facilities  Educational attainment  \\\n",
       "Country                                                                 \n",
       "Australia                                 1.1                    76.0   \n",
       "Austria                                   1.0                    83.0   \n",
       "Belgium                                   2.0                    72.0   \n",
       "Brazil                                    6.7                    45.0   \n",
       "Canada                                    0.2                    89.0   \n",
       "\n",
       "Indicator  Employees working very long hours  Employment rate  Homicide rate  \\\n",
       "Country                                                                        \n",
       "Australia                              14.02             72.0            0.8   \n",
       "Austria                                 7.61             72.0            0.4   \n",
       "Belgium                                 4.57             62.0            1.1   \n",
       "Brazil                                 10.41             67.0           25.5   \n",
       "Canada                                  3.94             72.0            1.5   \n",
       "\n",
       "Indicator  Household net adjusted disposable income  \\\n",
       "Country                                               \n",
       "Australia                                   31588.0   \n",
       "Austria                                     31173.0   \n",
       "Belgium                                     28307.0   \n",
       "Brazil                                      11664.0   \n",
       "Canada                                      29365.0   \n",
       "\n",
       "Indicator  Household net financial wealth  ...  Long-term unemployment rate  \\\n",
       "Country                                    ...                                \n",
       "Australia                         47657.0  ...                         1.08   \n",
       "Austria                           49887.0  ...                         1.19   \n",
       "Belgium                           83876.0  ...                         3.88   \n",
       "Brazil                             6844.0  ...                         1.97   \n",
       "Canada                            67913.0  ...                         0.90   \n",
       "\n",
       "Indicator  Personal earnings  Quality of support network  Rooms per person  \\\n",
       "Country                                                                      \n",
       "Australia            50449.0                        92.0               2.3   \n",
       "Austria              45199.0                        89.0               1.6   \n",
       "Belgium              48082.0                        94.0               2.2   \n",
       "Brazil               17177.0                        90.0               1.6   \n",
       "Canada               46911.0                        92.0               2.5   \n",
       "\n",
       "Indicator  Self-reported health  Student skills  \\\n",
       "Country                                           \n",
       "Australia                  85.0           512.0   \n",
       "Austria                    69.0           500.0   \n",
       "Belgium                    74.0           509.0   \n",
       "Brazil                     69.0           402.0   \n",
       "Canada                     89.0           522.0   \n",
       "\n",
       "Indicator  Time devoted to leisure and personal care  Voter turnout  \\\n",
       "Country                                                               \n",
       "Australia                                      14.41           93.0   \n",
       "Austria                                        14.46           75.0   \n",
       "Belgium                                        15.71           89.0   \n",
       "Brazil                                         14.97           79.0   \n",
       "Canada                                         14.25           61.0   \n",
       "\n",
       "Indicator  Water quality  Years in education  \n",
       "Country                                       \n",
       "Australia           91.0                19.4  \n",
       "Austria             94.0                17.0  \n",
       "Belgium             87.0                18.9  \n",
       "Brazil              72.0                16.3  \n",
       "Canada              91.0                17.2  \n",
       "\n",
       "[5 rows x 24 columns]"
      ]
     },
     "execution_count": 20,
     "metadata": {},
     "output_type": "execute_result"
    }
   ],
   "source": [
    "oecd_bli.head()"
   ]
  },
  {
   "cell_type": "markdown",
   "id": "distinguished-injury",
   "metadata": {},
   "source": [
    "Ahora los datos del FMI\n",
    "\n",
    "renombrar la columna 2015 por GDP per capita"
   ]
  },
  {
   "cell_type": "code",
   "execution_count": 21,
   "id": "senior-outdoors",
   "metadata": {},
   "outputs": [],
   "source": [
    "gdp_per_capita.rename(columns={\"2015\": \"GDP per capita\"}, inplace=True)\n",
    "    "
   ]
  },
  {
   "cell_type": "markdown",
   "id": "portable-arnold",
   "metadata": {},
   "source": [
    "Hacer que el pais sea el indice"
   ]
  },
  {
   "cell_type": "code",
   "execution_count": 22,
   "id": "outer-branch",
   "metadata": {},
   "outputs": [],
   "source": [
    "gdp_per_capita.set_index(\"Country\", inplace=True)\n"
   ]
  },
  {
   "cell_type": "markdown",
   "id": "annoying-membrane",
   "metadata": {},
   "source": [
    "Combinar los dos datasets"
   ]
  },
  {
   "cell_type": "code",
   "execution_count": 23,
   "id": "adjusted-athens",
   "metadata": {},
   "outputs": [],
   "source": [
    "full_country_stats = pd.merge(left=oecd_bli, right=gdp_per_capita,\n",
    "                                  left_index=True, right_index=True)\n",
    " "
   ]
  },
  {
   "cell_type": "markdown",
   "id": "departmental-narrow",
   "metadata": {},
   "source": [
    "Ordenar por ingreso per capita"
   ]
  },
  {
   "cell_type": "code",
   "execution_count": 24,
   "id": "three-active",
   "metadata": {},
   "outputs": [],
   "source": [
    "full_country_stats.sort_values(by=\"GDP per capita\", inplace=True)\n"
   ]
  },
  {
   "cell_type": "markdown",
   "id": "inappropriate-protection",
   "metadata": {},
   "source": [
    "Remover los primeros 3 y los ultimos 3"
   ]
  },
  {
   "cell_type": "code",
   "execution_count": 25,
   "id": "attended-designation",
   "metadata": {},
   "outputs": [],
   "source": [
    "datasetfinal= full_country_stats[[\"GDP per capita\", 'Life satisfaction']]"
   ]
  },
  {
   "cell_type": "markdown",
   "id": "psychological-setup",
   "metadata": {},
   "source": [
    "Cuantos paises hay"
   ]
  },
  {
   "cell_type": "code",
   "execution_count": 26,
   "id": "second-verification",
   "metadata": {},
   "outputs": [
    {
     "data": {
      "text/plain": [
       "36"
      ]
     },
     "execution_count": 26,
     "metadata": {},
     "output_type": "execute_result"
    }
   ],
   "source": [
    "len(datasetfinal)"
   ]
  },
  {
   "cell_type": "markdown",
   "id": "linear-brake",
   "metadata": {},
   "source": [
    "Podemos tomar una muestra de 20"
   ]
  },
  {
   "cell_type": "code",
   "execution_count": 27,
   "id": "figured-graphic",
   "metadata": {},
   "outputs": [],
   "source": [
    "muestra=datasetfinal.sample(n=20, random_state=1)"
   ]
  },
  {
   "cell_type": "code",
   "execution_count": 28,
   "id": "growing-science",
   "metadata": {},
   "outputs": [
    {
     "data": {
      "text/html": [
       "<div>\n",
       "<style scoped>\n",
       "    .dataframe tbody tr th:only-of-type {\n",
       "        vertical-align: middle;\n",
       "    }\n",
       "\n",
       "    .dataframe tbody tr th {\n",
       "        vertical-align: top;\n",
       "    }\n",
       "\n",
       "    .dataframe thead th {\n",
       "        text-align: right;\n",
       "    }\n",
       "</style>\n",
       "<table border=\"1\" class=\"dataframe\">\n",
       "  <thead>\n",
       "    <tr style=\"text-align: right;\">\n",
       "      <th></th>\n",
       "      <th>GDP per capita</th>\n",
       "      <th>Life satisfaction</th>\n",
       "    </tr>\n",
       "  </thead>\n",
       "  <tbody>\n",
       "    <tr>\n",
       "      <th>count</th>\n",
       "      <td>20.000000</td>\n",
       "      <td>20.000000</td>\n",
       "    </tr>\n",
       "    <tr>\n",
       "      <th>mean</th>\n",
       "      <td>41037.318850</td>\n",
       "      <td>6.740000</td>\n",
       "    </tr>\n",
       "    <tr>\n",
       "      <th>std</th>\n",
       "      <td>19127.131244</td>\n",
       "      <td>0.856185</td>\n",
       "    </tr>\n",
       "    <tr>\n",
       "      <th>min</th>\n",
       "      <td>9054.914000</td>\n",
       "      <td>4.800000</td>\n",
       "    </tr>\n",
       "    <tr>\n",
       "      <th>25%</th>\n",
       "      <td>33306.301250</td>\n",
       "      <td>6.375000</td>\n",
       "    </tr>\n",
       "    <tr>\n",
       "      <th>50%</th>\n",
       "      <td>43467.538000</td>\n",
       "      <td>7.100000</td>\n",
       "    </tr>\n",
       "    <tr>\n",
       "      <th>75%</th>\n",
       "      <td>50881.403500</td>\n",
       "      <td>7.325000</td>\n",
       "    </tr>\n",
       "    <tr>\n",
       "      <th>max</th>\n",
       "      <td>80675.308000</td>\n",
       "      <td>7.500000</td>\n",
       "    </tr>\n",
       "  </tbody>\n",
       "</table>\n",
       "</div>"
      ],
      "text/plain": [
       "       GDP per capita  Life satisfaction\n",
       "count       20.000000          20.000000\n",
       "mean     41037.318850           6.740000\n",
       "std      19127.131244           0.856185\n",
       "min       9054.914000           4.800000\n",
       "25%      33306.301250           6.375000\n",
       "50%      43467.538000           7.100000\n",
       "75%      50881.403500           7.325000\n",
       "max      80675.308000           7.500000"
      ]
     },
     "execution_count": 28,
     "metadata": {},
     "output_type": "execute_result"
    }
   ],
   "source": [
    "muestra.describe()"
   ]
  },
  {
   "cell_type": "markdown",
   "id": "equivalent-demand",
   "metadata": {},
   "source": [
    "Visualizar el ingreso per capita vs life satisfaction"
   ]
  },
  {
   "cell_type": "code",
   "execution_count": 29,
   "id": "statewide-apartment",
   "metadata": {},
   "outputs": [
    {
     "data": {
      "image/png": "[encoded data removed]",
      "text/plain": [
       "<Figure size 432x288 with 1 Axes>"
      ]
     },
     "metadata": {
      "needs_background": "light"
     },
     "output_type": "display_data"
    }
   ],
   "source": [
    "ax = datasetfinal.plot(kind='scatter', x=\"GDP per capita\", y='Life satisfaction')\n",
    "muestra.plot(kind='scatter', x=\"GDP per capita\", y='Life satisfaction', ax=ax,color='r')\n",
    "\n",
    "plt.xlim(0, 60000)\n",
    "plt.ylim(0, 10)\n",
    "plt.show()\n"
   ]
  },
  {
   "cell_type": "markdown",
   "id": "numeric-parts",
   "metadata": {},
   "source": [
    "Graficar una recta \n",
    "\n",
    "y=6+5*x/100000\n",
    "y=6+1*x/100000"
   ]
  },
  {
   "cell_type": "code",
   "execution_count": 30,
   "id": "verbal-melissa",
   "metadata": {},
   "outputs": [],
   "source": [
    "X=np.linspace(0, 60000, 1000)\n"
   ]
  },
  {
   "cell_type": "code",
   "execution_count": 31,
   "id": "contemporary-dayton",
   "metadata": {},
   "outputs": [
    {
     "data": {
      "image/png": "[encoded data removed]",
      "text/plain": [
       "<Figure size 432x288 with 1 Axes>"
      ]
     },
     "metadata": {
      "needs_background": "light"
     },
     "output_type": "display_data"
    }
   ],
   "source": [
    "ax = datasetfinal.plot(kind='scatter', x=\"GDP per capita\", y='Life satisfaction')\n",
    "muestra.plot(kind='scatter', x=\"GDP per capita\", y='Life satisfaction', ax=ax,color='r')\n",
    "plt.plot(X, 6+5*X/100000, \"g\")\n",
    "plt.plot(X, 6+1*X/100000, \"y\")\n",
    "\n",
    "plt.xlim(0, 60000)\n",
    "plt.ylim(0, 10)\n",
    "plt.show()"
   ]
  },
  {
   "cell_type": "code",
   "execution_count": 32,
   "id": "distributed-crime",
   "metadata": {},
   "outputs": [
    {
     "data": {
      "image/png": "[encoded data removed]",
      "text/plain": [
       "<Figure size 432x288 with 1 Axes>"
      ]
     },
     "metadata": {
      "needs_background": "light"
     },
     "output_type": "display_data"
    }
   ],
   "source": [
    "\n",
    "datasetfinal.plot(kind='scatter', x=\"GDP per capita\", y='Life satisfaction')\n",
    "plt.xlim(0, 60000)\n",
    "plt.ylim(0, 10)\n",
    "plt.show()\n"
   ]
  },
  {
   "cell_type": "code",
   "execution_count": null,
   "id": "assigned-ivory",
   "metadata": {},
   "outputs": [],
   "source": []
  },
  {
   "cell_type": "code",
   "execution_count": null,
   "id": "recognized-cookie",
   "metadata": {},
   "outputs": [],
   "source": [
    "\n"
   ]
  },
  {
   "cell_type": "markdown",
   "id": "departmental-alabama",
   "metadata": {},
   "source": [
    "\n",
    "## Imputar valores faltantes\n"
   ]
  },
  {
   "cell_type": "markdown",
   "id": "quarterly-elizabeth",
   "metadata": {},
   "source": [
    "# Ejemplo con pandas y datos categóricos"
   ]
  },
  {
   "cell_type": "code",
   "execution_count": 33,
   "id": "romance-perfume",
   "metadata": {},
   "outputs": [
    {
     "ename": "FileNotFoundError",
     "evalue": "[Errno 2] No such file or directory: 'datasets/hepatitis.csv'",
     "output_type": "error",
     "traceback": [
      "\u001b[1;31m---------------------------------------------------------------------------\u001b[0m",
      "\u001b[1;31mFileNotFoundError\u001b[0m                         Traceback (most recent call last)",
      "\u001b[1;32m<ipython-input-33-b1ea2630c967>\u001b[0m in \u001b[0;36m<module>\u001b[1;34m\u001b[0m\n\u001b[1;32m----> 1\u001b[1;33m \u001b[0mdf\u001b[0m \u001b[1;33m=\u001b[0m \u001b[0mpd\u001b[0m\u001b[1;33m.\u001b[0m\u001b[0mread_csv\u001b[0m\u001b[1;33m(\u001b[0m\u001b[1;34m'datasets/hepatitis.csv'\u001b[0m\u001b[1;33m)\u001b[0m\u001b[1;33m\u001b[0m\u001b[1;33m\u001b[0m\u001b[0m\n\u001b[0m\u001b[0;32m      2\u001b[0m \u001b[0mdf\u001b[0m\u001b[1;33m.\u001b[0m\u001b[0mhead\u001b[0m\u001b[1;33m(\u001b[0m\u001b[1;36m10\u001b[0m\u001b[1;33m)\u001b[0m\u001b[1;33m\u001b[0m\u001b[1;33m\u001b[0m\u001b[0m\n",
      "\u001b[1;32md:\\UserFiles\\anaconda\\envs\\ia\\lib\\site-packages\\pandas\\util\\_decorators.py\u001b[0m in \u001b[0;36mwrapper\u001b[1;34m(*args, **kwargs)\u001b[0m\n\u001b[0;32m    309\u001b[0m                     \u001b[0mstacklevel\u001b[0m\u001b[1;33m=\u001b[0m\u001b[0mstacklevel\u001b[0m\u001b[1;33m,\u001b[0m\u001b[1;33m\u001b[0m\u001b[1;33m\u001b[0m\u001b[0m\n\u001b[0;32m    310\u001b[0m                 )\n\u001b[1;32m--> 311\u001b[1;33m             \u001b[1;32mreturn\u001b[0m \u001b[0mfunc\u001b[0m\u001b[1;33m(\u001b[0m\u001b[1;33m*\u001b[0m\u001b[0margs\u001b[0m\u001b[1;33m,\u001b[0m \u001b[1;33m**\u001b[0m\u001b[0mkwargs\u001b[0m\u001b[1;33m)\u001b[0m\u001b[1;33m\u001b[0m\u001b[1;33m\u001b[0m\u001b[0m\n\u001b[0m\u001b[0;32m    312\u001b[0m \u001b[1;33m\u001b[0m\u001b[0m\n\u001b[0;32m    313\u001b[0m         \u001b[1;32mreturn\u001b[0m \u001b[0mwrapper\u001b[0m\u001b[1;33m\u001b[0m\u001b[1;33m\u001b[0m\u001b[0m\n",
      "\u001b[1;32md:\\UserFiles\\anaconda\\envs\\ia\\lib\\site-packages\\pandas\\io\\parsers\\readers.py\u001b[0m in \u001b[0;36mread_csv\u001b[1;34m(filepath_or_buffer, sep, delimiter, header, names, index_col, usecols, squeeze, prefix, mangle_dupe_cols, dtype, engine, converters, true_values, false_values, skipinitialspace, skiprows, skipfooter, nrows, na_values, keep_default_na, na_filter, verbose, skip_blank_lines, parse_dates, infer_datetime_format, keep_date_col, date_parser, dayfirst, cache_dates, iterator, chunksize, compression, thousands, decimal, lineterminator, quotechar, quoting, doublequote, escapechar, comment, encoding, encoding_errors, dialect, error_bad_lines, warn_bad_lines, on_bad_lines, delim_whitespace, low_memory, memory_map, float_precision, storage_options)\u001b[0m\n\u001b[0;32m    584\u001b[0m     \u001b[0mkwds\u001b[0m\u001b[1;33m.\u001b[0m\u001b[0mupdate\u001b[0m\u001b[1;33m(\u001b[0m\u001b[0mkwds_defaults\u001b[0m\u001b[1;33m)\u001b[0m\u001b[1;33m\u001b[0m\u001b[1;33m\u001b[0m\u001b[0m\n\u001b[0;32m    585\u001b[0m \u001b[1;33m\u001b[0m\u001b[0m\n\u001b[1;32m--> 586\u001b[1;33m     \u001b[1;32mreturn\u001b[0m \u001b[0m_read\u001b[0m\u001b[1;33m(\u001b[0m\u001b[0mfilepath_or_buffer\u001b[0m\u001b[1;33m,\u001b[0m \u001b[0mkwds\u001b[0m\u001b[1;33m)\u001b[0m\u001b[1;33m\u001b[0m\u001b[1;33m\u001b[0m\u001b[0m\n\u001b[0m\u001b[0;32m    587\u001b[0m \u001b[1;33m\u001b[0m\u001b[0m\n\u001b[0;32m    588\u001b[0m \u001b[1;33m\u001b[0m\u001b[0m\n",
      "\u001b[1;32md:\\UserFiles\\anaconda\\envs\\ia\\lib\\site-packages\\pandas\\io\\parsers\\readers.py\u001b[0m in \u001b[0;36m_read\u001b[1;34m(filepath_or_buffer, kwds)\u001b[0m\n\u001b[0;32m    480\u001b[0m \u001b[1;33m\u001b[0m\u001b[0m\n\u001b[0;32m    481\u001b[0m     \u001b[1;31m# Create the parser.\u001b[0m\u001b[1;33m\u001b[0m\u001b[1;33m\u001b[0m\u001b[1;33m\u001b[0m\u001b[0m\n\u001b[1;32m--> 482\u001b[1;33m     \u001b[0mparser\u001b[0m \u001b[1;33m=\u001b[0m \u001b[0mTextFileReader\u001b[0m\u001b[1;33m(\u001b[0m\u001b[0mfilepath_or_buffer\u001b[0m\u001b[1;33m,\u001b[0m \u001b[1;33m**\u001b[0m\u001b[0mkwds\u001b[0m\u001b[1;33m)\u001b[0m\u001b[1;33m\u001b[0m\u001b[1;33m\u001b[0m\u001b[0m\n\u001b[0m\u001b[0;32m    483\u001b[0m \u001b[1;33m\u001b[0m\u001b[0m\n\u001b[0;32m    484\u001b[0m     \u001b[1;32mif\u001b[0m \u001b[0mchunksize\u001b[0m \u001b[1;32mor\u001b[0m \u001b[0miterator\u001b[0m\u001b[1;33m:\u001b[0m\u001b[1;33m\u001b[0m\u001b[1;33m\u001b[0m\u001b[0m\n",
      "\u001b[1;32md:\\UserFiles\\anaconda\\envs\\ia\\lib\\site-packages\\pandas\\io\\parsers\\readers.py\u001b[0m in \u001b[0;36m__init__\u001b[1;34m(self, f, engine, **kwds)\u001b[0m\n\u001b[0;32m    809\u001b[0m             \u001b[0mself\u001b[0m\u001b[1;33m.\u001b[0m\u001b[0moptions\u001b[0m\u001b[1;33m[\u001b[0m\u001b[1;34m\"has_index_names\"\u001b[0m\u001b[1;33m]\u001b[0m \u001b[1;33m=\u001b[0m \u001b[0mkwds\u001b[0m\u001b[1;33m[\u001b[0m\u001b[1;34m\"has_index_names\"\u001b[0m\u001b[1;33m]\u001b[0m\u001b[1;33m\u001b[0m\u001b[1;33m\u001b[0m\u001b[0m\n\u001b[0;32m    810\u001b[0m \u001b[1;33m\u001b[0m\u001b[0m\n\u001b[1;32m--> 811\u001b[1;33m         \u001b[0mself\u001b[0m\u001b[1;33m.\u001b[0m\u001b[0m_engine\u001b[0m \u001b[1;33m=\u001b[0m \u001b[0mself\u001b[0m\u001b[1;33m.\u001b[0m\u001b[0m_make_engine\u001b[0m\u001b[1;33m(\u001b[0m\u001b[0mself\u001b[0m\u001b[1;33m.\u001b[0m\u001b[0mengine\u001b[0m\u001b[1;33m)\u001b[0m\u001b[1;33m\u001b[0m\u001b[1;33m\u001b[0m\u001b[0m\n\u001b[0m\u001b[0;32m    812\u001b[0m \u001b[1;33m\u001b[0m\u001b[0m\n\u001b[0;32m    813\u001b[0m     \u001b[1;32mdef\u001b[0m \u001b[0mclose\u001b[0m\u001b[1;33m(\u001b[0m\u001b[0mself\u001b[0m\u001b[1;33m)\u001b[0m\u001b[1;33m:\u001b[0m\u001b[1;33m\u001b[0m\u001b[1;33m\u001b[0m\u001b[0m\n",
      "\u001b[1;32md:\\UserFiles\\anaconda\\envs\\ia\\lib\\site-packages\\pandas\\io\\parsers\\readers.py\u001b[0m in \u001b[0;36m_make_engine\u001b[1;34m(self, engine)\u001b[0m\n\u001b[0;32m   1038\u001b[0m             )\n\u001b[0;32m   1039\u001b[0m         \u001b[1;31m# error: Too many arguments for \"ParserBase\"\u001b[0m\u001b[1;33m\u001b[0m\u001b[1;33m\u001b[0m\u001b[1;33m\u001b[0m\u001b[0m\n\u001b[1;32m-> 1040\u001b[1;33m         \u001b[1;32mreturn\u001b[0m \u001b[0mmapping\u001b[0m\u001b[1;33m[\u001b[0m\u001b[0mengine\u001b[0m\u001b[1;33m]\u001b[0m\u001b[1;33m(\u001b[0m\u001b[0mself\u001b[0m\u001b[1;33m.\u001b[0m\u001b[0mf\u001b[0m\u001b[1;33m,\u001b[0m \u001b[1;33m**\u001b[0m\u001b[0mself\u001b[0m\u001b[1;33m.\u001b[0m\u001b[0moptions\u001b[0m\u001b[1;33m)\u001b[0m  \u001b[1;31m# type: ignore[call-arg]\u001b[0m\u001b[1;33m\u001b[0m\u001b[1;33m\u001b[0m\u001b[0m\n\u001b[0m\u001b[0;32m   1041\u001b[0m \u001b[1;33m\u001b[0m\u001b[0m\n\u001b[0;32m   1042\u001b[0m     \u001b[1;32mdef\u001b[0m \u001b[0m_failover_to_python\u001b[0m\u001b[1;33m(\u001b[0m\u001b[0mself\u001b[0m\u001b[1;33m)\u001b[0m\u001b[1;33m:\u001b[0m\u001b[1;33m\u001b[0m\u001b[1;33m\u001b[0m\u001b[0m\n",
      "\u001b[1;32md:\\UserFiles\\anaconda\\envs\\ia\\lib\\site-packages\\pandas\\io\\parsers\\c_parser_wrapper.py\u001b[0m in \u001b[0;36m__init__\u001b[1;34m(self, src, **kwds)\u001b[0m\n\u001b[0;32m     49\u001b[0m \u001b[1;33m\u001b[0m\u001b[0m\n\u001b[0;32m     50\u001b[0m         \u001b[1;31m# open handles\u001b[0m\u001b[1;33m\u001b[0m\u001b[1;33m\u001b[0m\u001b[1;33m\u001b[0m\u001b[0m\n\u001b[1;32m---> 51\u001b[1;33m         \u001b[0mself\u001b[0m\u001b[1;33m.\u001b[0m\u001b[0m_open_handles\u001b[0m\u001b[1;33m(\u001b[0m\u001b[0msrc\u001b[0m\u001b[1;33m,\u001b[0m \u001b[0mkwds\u001b[0m\u001b[1;33m)\u001b[0m\u001b[1;33m\u001b[0m\u001b[1;33m\u001b[0m\u001b[0m\n\u001b[0m\u001b[0;32m     52\u001b[0m         \u001b[1;32massert\u001b[0m \u001b[0mself\u001b[0m\u001b[1;33m.\u001b[0m\u001b[0mhandles\u001b[0m \u001b[1;32mis\u001b[0m \u001b[1;32mnot\u001b[0m \u001b[1;32mNone\u001b[0m\u001b[1;33m\u001b[0m\u001b[1;33m\u001b[0m\u001b[0m\n\u001b[0;32m     53\u001b[0m \u001b[1;33m\u001b[0m\u001b[0m\n",
      "\u001b[1;32md:\\UserFiles\\anaconda\\envs\\ia\\lib\\site-packages\\pandas\\io\\parsers\\base_parser.py\u001b[0m in \u001b[0;36m_open_handles\u001b[1;34m(self, src, kwds)\u001b[0m\n\u001b[0;32m    220\u001b[0m         \u001b[0mLet\u001b[0m \u001b[0mthe\u001b[0m \u001b[0mreaders\u001b[0m \u001b[0mopen\u001b[0m \u001b[0mIOHandles\u001b[0m \u001b[0mafter\u001b[0m \u001b[0mthey\u001b[0m \u001b[0mare\u001b[0m \u001b[0mdone\u001b[0m \u001b[1;32mwith\u001b[0m \u001b[0mtheir\u001b[0m \u001b[0mpotential\u001b[0m \u001b[0mraises\u001b[0m\u001b[1;33m.\u001b[0m\u001b[1;33m\u001b[0m\u001b[1;33m\u001b[0m\u001b[0m\n\u001b[0;32m    221\u001b[0m         \"\"\"\n\u001b[1;32m--> 222\u001b[1;33m         self.handles = get_handle(\n\u001b[0m\u001b[0;32m    223\u001b[0m             \u001b[0msrc\u001b[0m\u001b[1;33m,\u001b[0m\u001b[1;33m\u001b[0m\u001b[1;33m\u001b[0m\u001b[0m\n\u001b[0;32m    224\u001b[0m             \u001b[1;34m\"r\"\u001b[0m\u001b[1;33m,\u001b[0m\u001b[1;33m\u001b[0m\u001b[1;33m\u001b[0m\u001b[0m\n",
      "\u001b[1;32md:\\UserFiles\\anaconda\\envs\\ia\\lib\\site-packages\\pandas\\io\\common.py\u001b[0m in \u001b[0;36mget_handle\u001b[1;34m(path_or_buf, mode, encoding, compression, memory_map, is_text, errors, storage_options)\u001b[0m\n\u001b[0;32m    699\u001b[0m         \u001b[1;32mif\u001b[0m \u001b[0mioargs\u001b[0m\u001b[1;33m.\u001b[0m\u001b[0mencoding\u001b[0m \u001b[1;32mand\u001b[0m \u001b[1;34m\"b\"\u001b[0m \u001b[1;32mnot\u001b[0m \u001b[1;32min\u001b[0m \u001b[0mioargs\u001b[0m\u001b[1;33m.\u001b[0m\u001b[0mmode\u001b[0m\u001b[1;33m:\u001b[0m\u001b[1;33m\u001b[0m\u001b[1;33m\u001b[0m\u001b[0m\n\u001b[0;32m    700\u001b[0m             \u001b[1;31m# Encoding\u001b[0m\u001b[1;33m\u001b[0m\u001b[1;33m\u001b[0m\u001b[1;33m\u001b[0m\u001b[0m\n\u001b[1;32m--> 701\u001b[1;33m             handle = open(\n\u001b[0m\u001b[0;32m    702\u001b[0m                 \u001b[0mhandle\u001b[0m\u001b[1;33m,\u001b[0m\u001b[1;33m\u001b[0m\u001b[1;33m\u001b[0m\u001b[0m\n\u001b[0;32m    703\u001b[0m                 \u001b[0mioargs\u001b[0m\u001b[1;33m.\u001b[0m\u001b[0mmode\u001b[0m\u001b[1;33m,\u001b[0m\u001b[1;33m\u001b[0m\u001b[1;33m\u001b[0m\u001b[0m\n",
      "\u001b[1;31mFileNotFoundError\u001b[0m: [Errno 2] No such file or directory: 'datasets/hepatitis.csv'"
     ]
    }
   ],
   "source": [
    "df = pd.read_csv('datasets/hepatitis.csv')\n",
    "df.head(10)"
   ]
  },
  {
   "cell_type": "markdown",
   "id": "detailed-plenty",
   "metadata": {},
   "source": [
    "# Identificar los valores que faltan\n",
    "Observamos que el conjunto de datos presenta algunos problemas. Por ejemplo, la columna correo electrónico no está disponible en todas las filas. En algunos casos presenta el valor `NaN`, lo que significa que el valor falta. \n",
    "\n",
    "Para comprobar si nuestro conjunto de datos contiene valores perdidos, podemos utilizar la función `isna()`, que devuelve si una celda del conjunto de datos es `NaN` o no. A continuación, podemos contar cuántos valores perdidos hay en cada columna."
   ]
  },
  {
   "cell_type": "code",
   "execution_count": null,
   "id": "apart-privilege",
   "metadata": {},
   "outputs": [
    {
     "data": {
      "text/plain": [
       "age                 0\n",
       "sex                 0\n",
       "steroid             1\n",
       "antivirals          0\n",
       "fatigue             1\n",
       "malaise             1\n",
       "anorexia            1\n",
       "liver_big          10\n",
       "liver_firm         11\n",
       "spleen_palpable     5\n",
       "spiders             5\n",
       "ascites             5\n",
       "varices             5\n",
       "bilirubin           6\n",
       "alk_phosphate      29\n",
       "sgot                4\n",
       "albumin            16\n",
       "protime            67\n",
       "histology           0\n",
       "class               0\n",
       "dtype: int64"
      ]
     },
     "execution_count": 27,
     "metadata": {},
     "output_type": "execute_result"
    }
   ],
   "source": [
    "df.isna().sum()"
   ]
  },
  {
   "cell_type": "markdown",
   "id": "dominant-birmingham",
   "metadata": {},
   "source": [
    "Ahora podemos contar el porcentaje de valores perdidos para cada columna, simplemente dividiendo el resultado anterior por la longitud del conjunto de datos (len(df)) y multiplicando por 100."
   ]
  },
  {
   "cell_type": "code",
   "execution_count": null,
   "id": "early-envelope",
   "metadata": {},
   "outputs": [
    {
     "data": {
      "text/plain": [
       "age                 0.000000\n",
       "sex                 0.000000\n",
       "steroid             0.645161\n",
       "antivirals          0.000000\n",
       "fatigue             0.645161\n",
       "malaise             0.645161\n",
       "anorexia            0.645161\n",
       "liver_big           6.451613\n",
       "liver_firm          7.096774\n",
       "spleen_palpable     3.225806\n",
       "spiders             3.225806\n",
       "ascites             3.225806\n",
       "varices             3.225806\n",
       "bilirubin           3.870968\n",
       "alk_phosphate      18.709677\n",
       "sgot                2.580645\n",
       "albumin            10.322581\n",
       "protime            43.225806\n",
       "histology           0.000000\n",
       "class               0.000000\n",
       "dtype: float64"
      ]
     },
     "execution_count": 28,
     "metadata": {},
     "output_type": "execute_result"
    }
   ],
   "source": [
    "df.isna().sum()/len(df)*100"
   ]
  },
  {
   "cell_type": "markdown",
   "id": "approved-slide",
   "metadata": {},
   "source": [
    "Cuando se trata de valores perdidos, se pueden aplicar diferentes alternativas:\n",
    "* comprobar la fuente, por ejemplo, poniéndose en contacto con la fuente de datos para corregir los valores que faltan\n",
    "* eliminar los valores que faltan\n",
    "* sustituir el valor que falta por un valor\n",
    "* dejar el valor que falta tal y como está"
   ]
  },
  {
   "cell_type": "markdown",
   "id": "higher-obligation",
   "metadata": {},
   "source": [
    "## Eliminar los valores que faltan\n",
    "La eliminación de los valores perdidos puede ser una de las siguientes alternativas:\n",
    "* eliminar las filas con valores perdidos\n",
    "* eliminar toda la columna que contenga valores perdidos\n",
    "Podemos utilizar la función `dropna()` especificando el `eje` a considerar. Si ponemos `eje = 0` eliminamos toda la fila, si ponemos `eje = 1` eliminamos toda la columna. Si aplicamos la función `df.dropna(axis=0)` quedan 80 filas del conjunto de datos. Si aplicamos la función `df.dropna(axis=1)`, sólo quedan las columnas edad, sexo, antivirales, histología y clase. Sin embargo, los valores eliminados no se aplican al marco de datos original, sino sólo al resultado. Podemos utilizar el argumento `inplace=True` para almacenar los cambios en el marco de datos original `df` (`df.dropna(axis=1,inplace=True)`).\n"
   ]
  },
  {
   "cell_type": "code",
   "execution_count": null,
   "id": "finite-classic",
   "metadata": {},
   "outputs": [
    {
     "data": {
      "text/html": [
       "<div>\n",
       "<style scoped>\n",
       "    .dataframe tbody tr th:only-of-type {\n",
       "        vertical-align: middle;\n",
       "    }\n",
       "\n",
       "    .dataframe tbody tr th {\n",
       "        vertical-align: top;\n",
       "    }\n",
       "\n",
       "    .dataframe thead th {\n",
       "        text-align: right;\n",
       "    }\n",
       "</style>\n",
       "<table border=\"1\" class=\"dataframe\">\n",
       "  <thead>\n",
       "    <tr style=\"text-align: right;\">\n",
       "      <th></th>\n",
       "      <th>age</th>\n",
       "      <th>sex</th>\n",
       "      <th>steroid</th>\n",
       "      <th>antivirals</th>\n",
       "      <th>fatigue</th>\n",
       "      <th>malaise</th>\n",
       "      <th>anorexia</th>\n",
       "      <th>liver_big</th>\n",
       "      <th>liver_firm</th>\n",
       "      <th>spleen_palpable</th>\n",
       "      <th>spiders</th>\n",
       "      <th>ascites</th>\n",
       "      <th>varices</th>\n",
       "      <th>bilirubin</th>\n",
       "      <th>alk_phosphate</th>\n",
       "      <th>sgot</th>\n",
       "      <th>albumin</th>\n",
       "      <th>protime</th>\n",
       "      <th>histology</th>\n",
       "      <th>class</th>\n",
       "    </tr>\n",
       "  </thead>\n",
       "  <tbody>\n",
       "    <tr>\n",
       "      <th>0</th>\n",
       "      <td>30</td>\n",
       "      <td>male</td>\n",
       "      <td>False</td>\n",
       "      <td>False</td>\n",
       "      <td>False</td>\n",
       "      <td>False</td>\n",
       "      <td>False</td>\n",
       "      <td>False</td>\n",
       "      <td>False</td>\n",
       "      <td>False</td>\n",
       "      <td>False</td>\n",
       "      <td>False</td>\n",
       "      <td>False</td>\n",
       "      <td>1.0</td>\n",
       "      <td>85.0</td>\n",
       "      <td>18.0</td>\n",
       "      <td>4.0</td>\n",
       "      <td>NaN</td>\n",
       "      <td>False</td>\n",
       "      <td>live</td>\n",
       "    </tr>\n",
       "    <tr>\n",
       "      <th>1</th>\n",
       "      <td>50</td>\n",
       "      <td>female</td>\n",
       "      <td>False</td>\n",
       "      <td>False</td>\n",
       "      <td>True</td>\n",
       "      <td>False</td>\n",
       "      <td>False</td>\n",
       "      <td>False</td>\n",
       "      <td>False</td>\n",
       "      <td>False</td>\n",
       "      <td>False</td>\n",
       "      <td>False</td>\n",
       "      <td>False</td>\n",
       "      <td>0.9</td>\n",
       "      <td>135.0</td>\n",
       "      <td>42.0</td>\n",
       "      <td>3.5</td>\n",
       "      <td>NaN</td>\n",
       "      <td>False</td>\n",
       "      <td>live</td>\n",
       "    </tr>\n",
       "    <tr>\n",
       "      <th>2</th>\n",
       "      <td>78</td>\n",
       "      <td>female</td>\n",
       "      <td>True</td>\n",
       "      <td>False</td>\n",
       "      <td>True</td>\n",
       "      <td>False</td>\n",
       "      <td>False</td>\n",
       "      <td>True</td>\n",
       "      <td>False</td>\n",
       "      <td>False</td>\n",
       "      <td>False</td>\n",
       "      <td>False</td>\n",
       "      <td>False</td>\n",
       "      <td>0.7</td>\n",
       "      <td>96.0</td>\n",
       "      <td>32.0</td>\n",
       "      <td>4.0</td>\n",
       "      <td>NaN</td>\n",
       "      <td>False</td>\n",
       "      <td>live</td>\n",
       "    </tr>\n",
       "    <tr>\n",
       "      <th>3</th>\n",
       "      <td>31</td>\n",
       "      <td>female</td>\n",
       "      <td>NaN</td>\n",
       "      <td>True</td>\n",
       "      <td>False</td>\n",
       "      <td>False</td>\n",
       "      <td>False</td>\n",
       "      <td>True</td>\n",
       "      <td>False</td>\n",
       "      <td>False</td>\n",
       "      <td>False</td>\n",
       "      <td>False</td>\n",
       "      <td>False</td>\n",
       "      <td>0.7</td>\n",
       "      <td>46.0</td>\n",
       "      <td>52.0</td>\n",
       "      <td>4.0</td>\n",
       "      <td>80.0</td>\n",
       "      <td>False</td>\n",
       "      <td>live</td>\n",
       "    </tr>\n",
       "    <tr>\n",
       "      <th>4</th>\n",
       "      <td>34</td>\n",
       "      <td>female</td>\n",
       "      <td>True</td>\n",
       "      <td>False</td>\n",
       "      <td>False</td>\n",
       "      <td>False</td>\n",
       "      <td>False</td>\n",
       "      <td>True</td>\n",
       "      <td>False</td>\n",
       "      <td>False</td>\n",
       "      <td>False</td>\n",
       "      <td>False</td>\n",
       "      <td>False</td>\n",
       "      <td>1.0</td>\n",
       "      <td>NaN</td>\n",
       "      <td>200.0</td>\n",
       "      <td>4.0</td>\n",
       "      <td>NaN</td>\n",
       "      <td>False</td>\n",
       "      <td>live</td>\n",
       "    </tr>\n",
       "  </tbody>\n",
       "</table>\n",
       "</div>"
      ],
      "text/plain": [
       "   age     sex steroid  antivirals fatigue malaise anorexia liver_big  \\\n",
       "0   30    male   False       False   False   False    False     False   \n",
       "1   50  female   False       False    True   False    False     False   \n",
       "2   78  female    True       False    True   False    False      True   \n",
       "3   31  female     NaN        True   False   False    False      True   \n",
       "4   34  female    True       False   False   False    False      True   \n",
       "\n",
       "  liver_firm spleen_palpable spiders ascites varices  bilirubin  \\\n",
       "0      False           False   False   False   False        1.0   \n",
       "1      False           False   False   False   False        0.9   \n",
       "2      False           False   False   False   False        0.7   \n",
       "3      False           False   False   False   False        0.7   \n",
       "4      False           False   False   False   False        1.0   \n",
       "\n",
       "   alk_phosphate   sgot  albumin  protime  histology class  \n",
       "0           85.0   18.0      4.0      NaN      False  live  \n",
       "1          135.0   42.0      3.5      NaN      False  live  \n",
       "2           96.0   32.0      4.0      NaN      False  live  \n",
       "3           46.0   52.0      4.0     80.0      False  live  \n",
       "4            NaN  200.0      4.0      NaN      False  live  "
      ]
     },
     "execution_count": 29,
     "metadata": {},
     "output_type": "execute_result"
    }
   ],
   "source": [
    "df.dropna(subset=['liver_big'],axis=0).head()"
   ]
  },
  {
   "cell_type": "markdown",
   "id": "racial-research",
   "metadata": {},
   "source": [
    "\n",
    "Otra alternativa consiste en eliminar las columnas en las que se dispone de un determinado porcentaje de valores no nulos. Esto se puede conseguir mediante el parámetro `thresh`. En el siguiente ejemplo mantenemos sólo las columnas en las que hay al menos el 80% de valores no nulos. "
   ]
  },
  {
   "cell_type": "code",
   "execution_count": null,
   "id": "attached-given",
   "metadata": {},
   "outputs": [
    {
     "data": {
      "text/html": [
       "<div>\n",
       "<style scoped>\n",
       "    .dataframe tbody tr th:only-of-type {\n",
       "        vertical-align: middle;\n",
       "    }\n",
       "\n",
       "    .dataframe tbody tr th {\n",
       "        vertical-align: top;\n",
       "    }\n",
       "\n",
       "    .dataframe thead th {\n",
       "        text-align: right;\n",
       "    }\n",
       "</style>\n",
       "<table border=\"1\" class=\"dataframe\">\n",
       "  <thead>\n",
       "    <tr style=\"text-align: right;\">\n",
       "      <th></th>\n",
       "      <th>age</th>\n",
       "      <th>sex</th>\n",
       "      <th>steroid</th>\n",
       "      <th>antivirals</th>\n",
       "      <th>fatigue</th>\n",
       "      <th>malaise</th>\n",
       "      <th>anorexia</th>\n",
       "      <th>liver_big</th>\n",
       "      <th>liver_firm</th>\n",
       "      <th>spleen_palpable</th>\n",
       "      <th>spiders</th>\n",
       "      <th>ascites</th>\n",
       "      <th>varices</th>\n",
       "      <th>bilirubin</th>\n",
       "      <th>alk_phosphate</th>\n",
       "      <th>sgot</th>\n",
       "      <th>albumin</th>\n",
       "      <th>histology</th>\n",
       "      <th>class</th>\n",
       "    </tr>\n",
       "  </thead>\n",
       "  <tbody>\n",
       "    <tr>\n",
       "      <th>0</th>\n",
       "      <td>30</td>\n",
       "      <td>male</td>\n",
       "      <td>False</td>\n",
       "      <td>False</td>\n",
       "      <td>False</td>\n",
       "      <td>False</td>\n",
       "      <td>False</td>\n",
       "      <td>False</td>\n",
       "      <td>False</td>\n",
       "      <td>False</td>\n",
       "      <td>False</td>\n",
       "      <td>False</td>\n",
       "      <td>False</td>\n",
       "      <td>1.0</td>\n",
       "      <td>85.0</td>\n",
       "      <td>18.0</td>\n",
       "      <td>4.0</td>\n",
       "      <td>False</td>\n",
       "      <td>live</td>\n",
       "    </tr>\n",
       "    <tr>\n",
       "      <th>1</th>\n",
       "      <td>50</td>\n",
       "      <td>female</td>\n",
       "      <td>False</td>\n",
       "      <td>False</td>\n",
       "      <td>True</td>\n",
       "      <td>False</td>\n",
       "      <td>False</td>\n",
       "      <td>False</td>\n",
       "      <td>False</td>\n",
       "      <td>False</td>\n",
       "      <td>False</td>\n",
       "      <td>False</td>\n",
       "      <td>False</td>\n",
       "      <td>0.9</td>\n",
       "      <td>135.0</td>\n",
       "      <td>42.0</td>\n",
       "      <td>3.5</td>\n",
       "      <td>False</td>\n",
       "      <td>live</td>\n",
       "    </tr>\n",
       "    <tr>\n",
       "      <th>2</th>\n",
       "      <td>78</td>\n",
       "      <td>female</td>\n",
       "      <td>True</td>\n",
       "      <td>False</td>\n",
       "      <td>True</td>\n",
       "      <td>False</td>\n",
       "      <td>False</td>\n",
       "      <td>True</td>\n",
       "      <td>False</td>\n",
       "      <td>False</td>\n",
       "      <td>False</td>\n",
       "      <td>False</td>\n",
       "      <td>False</td>\n",
       "      <td>0.7</td>\n",
       "      <td>96.0</td>\n",
       "      <td>32.0</td>\n",
       "      <td>4.0</td>\n",
       "      <td>False</td>\n",
       "      <td>live</td>\n",
       "    </tr>\n",
       "    <tr>\n",
       "      <th>3</th>\n",
       "      <td>31</td>\n",
       "      <td>female</td>\n",
       "      <td>NaN</td>\n",
       "      <td>True</td>\n",
       "      <td>False</td>\n",
       "      <td>False</td>\n",
       "      <td>False</td>\n",
       "      <td>True</td>\n",
       "      <td>False</td>\n",
       "      <td>False</td>\n",
       "      <td>False</td>\n",
       "      <td>False</td>\n",
       "      <td>False</td>\n",
       "      <td>0.7</td>\n",
       "      <td>46.0</td>\n",
       "      <td>52.0</td>\n",
       "      <td>4.0</td>\n",
       "      <td>False</td>\n",
       "      <td>live</td>\n",
       "    </tr>\n",
       "    <tr>\n",
       "      <th>4</th>\n",
       "      <td>34</td>\n",
       "      <td>female</td>\n",
       "      <td>True</td>\n",
       "      <td>False</td>\n",
       "      <td>False</td>\n",
       "      <td>False</td>\n",
       "      <td>False</td>\n",
       "      <td>True</td>\n",
       "      <td>False</td>\n",
       "      <td>False</td>\n",
       "      <td>False</td>\n",
       "      <td>False</td>\n",
       "      <td>False</td>\n",
       "      <td>1.0</td>\n",
       "      <td>NaN</td>\n",
       "      <td>200.0</td>\n",
       "      <td>4.0</td>\n",
       "      <td>False</td>\n",
       "      <td>live</td>\n",
       "    </tr>\n",
       "  </tbody>\n",
       "</table>\n",
       "</div>"
      ],
      "text/plain": [
       "   age     sex steroid  antivirals fatigue malaise anorexia liver_big  \\\n",
       "0   30    male   False       False   False   False    False     False   \n",
       "1   50  female   False       False    True   False    False     False   \n",
       "2   78  female    True       False    True   False    False      True   \n",
       "3   31  female     NaN        True   False   False    False      True   \n",
       "4   34  female    True       False   False   False    False      True   \n",
       "\n",
       "  liver_firm spleen_palpable spiders ascites varices  bilirubin  \\\n",
       "0      False           False   False   False   False        1.0   \n",
       "1      False           False   False   False   False        0.9   \n",
       "2      False           False   False   False   False        0.7   \n",
       "3      False           False   False   False   False        0.7   \n",
       "4      False           False   False   False   False        1.0   \n",
       "\n",
       "   alk_phosphate   sgot  albumin  histology class  \n",
       "0           85.0   18.0      4.0      False  live  \n",
       "1          135.0   42.0      3.5      False  live  \n",
       "2           96.0   32.0      4.0      False  live  \n",
       "3           46.0   52.0      4.0      False  live  \n",
       "4            NaN  200.0      4.0      False  live  "
      ]
     },
     "execution_count": 30,
     "metadata": {},
     "output_type": "execute_result"
    }
   ],
   "source": [
    "df.dropna(thresh=0.8*len(df),axis=1,inplace=True)\n",
    "df.head()"
   ]
  },
  {
   "cell_type": "markdown",
   "id": "associate-header",
   "metadata": {},
   "source": [
    "## Reemplazar valores perdidos\n",
    "Una buena estrategia a la hora de tratar los valores perdidos consiste en sustituirlos por otro valor. Normalmente, se adoptan las siguientes estrategias:\n",
    "* para los valores numéricos sustituir el valor que falta por el valor medio de la columna\n",
    "* Para los valores categóricos, sustituya el valor que falta por el valor más frecuente de la columna. \n",
    "* utilizar otras funciones\n",
    "\n",
    "Para sustituir los valores que faltan, se pueden utilizar tres funciones: `fillna()`, `replace()` y `interpolate()`.\n",
    "La función `fillna()` sustituye todos los valores NaN por el valor pasado como argumento.\n",
    "Por ejemplo, en el caso de los valores numéricos, todos los valores NaN de las columnas numéricas pueden ser sustituidos por el valor medio. \n",
    "Para listar el tipo de una columna, podemos utilizar el atributo `dtypes` de la siguiente manera:"
   ]
  },
  {
   "cell_type": "code",
   "execution_count": null,
   "id": "rough-timing",
   "metadata": {},
   "outputs": [],
   "source": [
    "numeric = df.select_dtypes(include=np.number)\n",
    "numeric_columns = numeric.columns"
   ]
  },
  {
   "cell_type": "code",
   "execution_count": null,
   "id": "fifth-lunch",
   "metadata": {},
   "outputs": [
    {
     "data": {
      "text/plain": [
       "Index(['age', 'bilirubin', 'alk_phosphate', 'sgot', 'albumin'], dtype='object')"
      ]
     },
     "execution_count": 32,
     "metadata": {},
     "output_type": "execute_result"
    }
   ],
   "source": [
    "numeric.columns"
   ]
  },
  {
   "cell_type": "code",
   "execution_count": null,
   "id": "talented-cutting",
   "metadata": {},
   "outputs": [
    {
     "name": "stderr",
     "output_type": "stream",
     "text": [
      "<ipython-input-33-fdaac0744f5f>:1: FutureWarning: Dropping of nuisance columns in DataFrame reductions (with 'numeric_only=None') is deprecated; in a future version this will raise TypeError.  Select only valid columns before calling the reduction.\n",
      "  df[numeric_columns] = df[numeric_columns].fillna(df.mean())\n"
     ]
    }
   ],
   "source": [
    "df[numeric_columns] = df[numeric_columns].fillna(df.mean())"
   ]
  },
  {
   "cell_type": "code",
   "execution_count": null,
   "id": "magnetic-antique",
   "metadata": {},
   "outputs": [
    {
     "data": {
      "text/plain": [
       "age                0.000000\n",
       "sex                0.000000\n",
       "steroid            0.645161\n",
       "antivirals         0.000000\n",
       "fatigue            0.645161\n",
       "malaise            0.645161\n",
       "anorexia           0.645161\n",
       "liver_big          6.451613\n",
       "liver_firm         7.096774\n",
       "spleen_palpable    3.225806\n",
       "spiders            3.225806\n",
       "ascites            3.225806\n",
       "varices            3.225806\n",
       "bilirubin          0.000000\n",
       "alk_phosphate      0.000000\n",
       "sgot               0.000000\n",
       "albumin            0.000000\n",
       "histology          0.000000\n",
       "class              0.000000\n",
       "dtype: float64"
      ]
     },
     "execution_count": 34,
     "metadata": {},
     "output_type": "execute_result"
    }
   ],
   "source": [
    "df.isna().sum()/len(df)*100"
   ]
  },
  {
   "cell_type": "markdown",
   "id": "sized-median",
   "metadata": {},
   "source": [
    "## Columnas categóricas\n",
    "Observamos que en `dtypes` las columnas categoriales se describen como objetos. Por lo tanto, podemos seleccionar las columnas `objeto`. Nos gustaría considerar sólo las columnas booleanas. Sin embargo, el tipo `object` incluye también la columna `class`, que es una cadena. Seleccionamos todas las columnas de objetos y eliminamos de ellas la columna `class`. Entonces podemos convertir el tipo del resultado a `bool`."
   ]
  },
  {
   "cell_type": "code",
   "execution_count": null,
   "id": "incorporate-rubber",
   "metadata": {},
   "outputs": [],
   "source": [
    "boolean_columns = df.select_dtypes(include=np.object).columns.tolist()\n",
    "boolean_columns.remove('class')\n",
    "df[boolean_columns] = df[boolean_columns].astype('bool')"
   ]
  },
  {
   "cell_type": "code",
   "execution_count": null,
   "id": "median-trigger",
   "metadata": {},
   "outputs": [
    {
     "data": {
      "text/html": [
       "<div>\n",
       "<style scoped>\n",
       "    .dataframe tbody tr th:only-of-type {\n",
       "        vertical-align: middle;\n",
       "    }\n",
       "\n",
       "    .dataframe tbody tr th {\n",
       "        vertical-align: top;\n",
       "    }\n",
       "\n",
       "    .dataframe thead th {\n",
       "        text-align: right;\n",
       "    }\n",
       "</style>\n",
       "<table border=\"1\" class=\"dataframe\">\n",
       "  <thead>\n",
       "    <tr style=\"text-align: right;\">\n",
       "      <th></th>\n",
       "      <th>sex</th>\n",
       "      <th>steroid</th>\n",
       "      <th>fatigue</th>\n",
       "      <th>malaise</th>\n",
       "      <th>anorexia</th>\n",
       "      <th>liver_big</th>\n",
       "      <th>liver_firm</th>\n",
       "      <th>spleen_palpable</th>\n",
       "      <th>spiders</th>\n",
       "      <th>ascites</th>\n",
       "      <th>varices</th>\n",
       "    </tr>\n",
       "  </thead>\n",
       "  <tbody>\n",
       "    <tr>\n",
       "      <th>0</th>\n",
       "      <td>True</td>\n",
       "      <td>False</td>\n",
       "      <td>False</td>\n",
       "      <td>False</td>\n",
       "      <td>False</td>\n",
       "      <td>False</td>\n",
       "      <td>False</td>\n",
       "      <td>False</td>\n",
       "      <td>False</td>\n",
       "      <td>False</td>\n",
       "      <td>False</td>\n",
       "    </tr>\n",
       "    <tr>\n",
       "      <th>1</th>\n",
       "      <td>True</td>\n",
       "      <td>False</td>\n",
       "      <td>True</td>\n",
       "      <td>False</td>\n",
       "      <td>False</td>\n",
       "      <td>False</td>\n",
       "      <td>False</td>\n",
       "      <td>False</td>\n",
       "      <td>False</td>\n",
       "      <td>False</td>\n",
       "      <td>False</td>\n",
       "    </tr>\n",
       "    <tr>\n",
       "      <th>2</th>\n",
       "      <td>True</td>\n",
       "      <td>True</td>\n",
       "      <td>True</td>\n",
       "      <td>False</td>\n",
       "      <td>False</td>\n",
       "      <td>True</td>\n",
       "      <td>False</td>\n",
       "      <td>False</td>\n",
       "      <td>False</td>\n",
       "      <td>False</td>\n",
       "      <td>False</td>\n",
       "    </tr>\n",
       "    <tr>\n",
       "      <th>3</th>\n",
       "      <td>True</td>\n",
       "      <td>True</td>\n",
       "      <td>False</td>\n",
       "      <td>False</td>\n",
       "      <td>False</td>\n",
       "      <td>True</td>\n",
       "      <td>False</td>\n",
       "      <td>False</td>\n",
       "      <td>False</td>\n",
       "      <td>False</td>\n",
       "      <td>False</td>\n",
       "    </tr>\n",
       "    <tr>\n",
       "      <th>4</th>\n",
       "      <td>True</td>\n",
       "      <td>True</td>\n",
       "      <td>False</td>\n",
       "      <td>False</td>\n",
       "      <td>False</td>\n",
       "      <td>True</td>\n",
       "      <td>False</td>\n",
       "      <td>False</td>\n",
       "      <td>False</td>\n",
       "      <td>False</td>\n",
       "      <td>False</td>\n",
       "    </tr>\n",
       "    <tr>\n",
       "      <th>...</th>\n",
       "      <td>...</td>\n",
       "      <td>...</td>\n",
       "      <td>...</td>\n",
       "      <td>...</td>\n",
       "      <td>...</td>\n",
       "      <td>...</td>\n",
       "      <td>...</td>\n",
       "      <td>...</td>\n",
       "      <td>...</td>\n",
       "      <td>...</td>\n",
       "      <td>...</td>\n",
       "    </tr>\n",
       "    <tr>\n",
       "      <th>150</th>\n",
       "      <td>True</td>\n",
       "      <td>True</td>\n",
       "      <td>True</td>\n",
       "      <td>True</td>\n",
       "      <td>True</td>\n",
       "      <td>True</td>\n",
       "      <td>False</td>\n",
       "      <td>False</td>\n",
       "      <td>True</td>\n",
       "      <td>True</td>\n",
       "      <td>True</td>\n",
       "    </tr>\n",
       "    <tr>\n",
       "      <th>151</th>\n",
       "      <td>True</td>\n",
       "      <td>True</td>\n",
       "      <td>True</td>\n",
       "      <td>False</td>\n",
       "      <td>False</td>\n",
       "      <td>True</td>\n",
       "      <td>True</td>\n",
       "      <td>False</td>\n",
       "      <td>False</td>\n",
       "      <td>False</td>\n",
       "      <td>False</td>\n",
       "    </tr>\n",
       "    <tr>\n",
       "      <th>152</th>\n",
       "      <td>True</td>\n",
       "      <td>False</td>\n",
       "      <td>True</td>\n",
       "      <td>True</td>\n",
       "      <td>False</td>\n",
       "      <td>False</td>\n",
       "      <td>True</td>\n",
       "      <td>False</td>\n",
       "      <td>True</td>\n",
       "      <td>False</td>\n",
       "      <td>False</td>\n",
       "    </tr>\n",
       "    <tr>\n",
       "      <th>153</th>\n",
       "      <td>True</td>\n",
       "      <td>False</td>\n",
       "      <td>True</td>\n",
       "      <td>False</td>\n",
       "      <td>False</td>\n",
       "      <td>True</td>\n",
       "      <td>False</td>\n",
       "      <td>True</td>\n",
       "      <td>True</td>\n",
       "      <td>False</td>\n",
       "      <td>True</td>\n",
       "    </tr>\n",
       "    <tr>\n",
       "      <th>154</th>\n",
       "      <td>True</td>\n",
       "      <td>True</td>\n",
       "      <td>True</td>\n",
       "      <td>False</td>\n",
       "      <td>False</td>\n",
       "      <td>True</td>\n",
       "      <td>False</td>\n",
       "      <td>True</td>\n",
       "      <td>True</td>\n",
       "      <td>True</td>\n",
       "      <td>False</td>\n",
       "    </tr>\n",
       "  </tbody>\n",
       "</table>\n",
       "<p>155 rows × 11 columns</p>\n",
       "</div>"
      ],
      "text/plain": [
       "      sex  steroid  fatigue  malaise  anorexia  liver_big  liver_firm  \\\n",
       "0    True    False    False    False     False      False       False   \n",
       "1    True    False     True    False     False      False       False   \n",
       "2    True     True     True    False     False       True       False   \n",
       "3    True     True    False    False     False       True       False   \n",
       "4    True     True    False    False     False       True       False   \n",
       "..    ...      ...      ...      ...       ...        ...         ...   \n",
       "150  True     True     True     True      True       True       False   \n",
       "151  True     True     True    False     False       True        True   \n",
       "152  True    False     True     True     False      False        True   \n",
       "153  True    False     True    False     False       True       False   \n",
       "154  True     True     True    False     False       True       False   \n",
       "\n",
       "     spleen_palpable  spiders  ascites  varices  \n",
       "0              False    False    False    False  \n",
       "1              False    False    False    False  \n",
       "2              False    False    False    False  \n",
       "3              False    False    False    False  \n",
       "4              False    False    False    False  \n",
       "..               ...      ...      ...      ...  \n",
       "150            False     True     True     True  \n",
       "151            False    False    False    False  \n",
       "152            False     True    False    False  \n",
       "153             True     True    False     True  \n",
       "154             True     True     True    False  \n",
       "\n",
       "[155 rows x 11 columns]"
      ]
     },
     "execution_count": 36,
     "metadata": {},
     "output_type": "execute_result"
    }
   ],
   "source": [
    "df[boolean_columns].fillna(df.mode())"
   ]
  },
  {
   "cell_type": "code",
   "execution_count": null,
   "id": "tight-sustainability",
   "metadata": {},
   "outputs": [
    {
     "data": {
      "text/plain": [
       "age                0.0\n",
       "sex                0.0\n",
       "steroid            0.0\n",
       "antivirals         0.0\n",
       "fatigue            0.0\n",
       "malaise            0.0\n",
       "anorexia           0.0\n",
       "liver_big          0.0\n",
       "liver_firm         0.0\n",
       "spleen_palpable    0.0\n",
       "spiders            0.0\n",
       "ascites            0.0\n",
       "varices            0.0\n",
       "bilirubin          0.0\n",
       "alk_phosphate      0.0\n",
       "sgot               0.0\n",
       "albumin            0.0\n",
       "histology          0.0\n",
       "class              0.0\n",
       "dtype: float64"
      ]
     },
     "execution_count": 37,
     "metadata": {},
     "output_type": "execute_result"
    }
   ],
   "source": [
    "df.isna().sum()/len(df)*100"
   ]
  },
  {
   "cell_type": "markdown",
   "id": "painful-lightning",
   "metadata": {},
   "source": [
    "## Interpolación\n",
    "Otra solución para reemplazar los valores perdidos implica el uso de otras funciones, como la interpolación lineal. En este caso, por ejemplo, podríamos reemplazar un valor faltante sobre una columna, con la interpolación entre la anterior y la siguiente. Esto se puede conseguir mediante el uso de la función `interpolar()`.\n",
    "\n",
    "Como ya hemos gestionado todos los valores perdidos, recargamos el conjunto de datos."
   ]
  },
  {
   "cell_type": "code",
   "execution_count": null,
   "id": "moderate-receptor",
   "metadata": {
    "scrolled": true
   },
   "outputs": [],
   "source": [
    "df = pd.read_csv('datasets/hepatitis.csv')\n",
    "numeric = df.select_dtypes(include=np.number)\n",
    "numeric_columns = numeric.columns"
   ]
  },
  {
   "cell_type": "markdown",
   "id": "spatial-shopper",
   "metadata": {},
   "source": [
    "Ahora podemos aplicar la función `interpolar()` a las columnas numéricas, estableciendo también la dirección del límite como `hacia adelante`. Esto significa que la interpolación lineal se aplica desde la primera fila hasta la última."
   ]
  },
  {
   "cell_type": "code",
   "execution_count": null,
   "id": "impaired-aircraft",
   "metadata": {},
   "outputs": [],
   "source": [
    "df[numeric_columns] = df[numeric_columns].interpolate(method ='linear', limit_direction ='forward')"
   ]
  },
  {
   "cell_type": "markdown",
   "id": "mineral-infrared",
   "metadata": {},
   "source": [
    "Por ejemplo, en la línea 6 la columna bilirrubina, que era NaN antes de la interpolación, asume ahora el valor 0,95, que es la interpolación entre 0,90 (línea 4) y 1,00 (línea 6)."
   ]
  },
  {
   "cell_type": "code",
   "execution_count": null,
   "id": "french-equilibrium",
   "metadata": {},
   "outputs": [
    {
     "data": {
      "text/html": [
       "<div>\n",
       "<style scoped>\n",
       "    .dataframe tbody tr th:only-of-type {\n",
       "        vertical-align: middle;\n",
       "    }\n",
       "\n",
       "    .dataframe tbody tr th {\n",
       "        vertical-align: top;\n",
       "    }\n",
       "\n",
       "    .dataframe thead th {\n",
       "        text-align: right;\n",
       "    }\n",
       "</style>\n",
       "<table border=\"1\" class=\"dataframe\">\n",
       "  <thead>\n",
       "    <tr style=\"text-align: right;\">\n",
       "      <th></th>\n",
       "      <th>age</th>\n",
       "      <th>sex</th>\n",
       "      <th>steroid</th>\n",
       "      <th>antivirals</th>\n",
       "      <th>fatigue</th>\n",
       "      <th>malaise</th>\n",
       "      <th>anorexia</th>\n",
       "      <th>liver_big</th>\n",
       "      <th>liver_firm</th>\n",
       "      <th>spleen_palpable</th>\n",
       "      <th>spiders</th>\n",
       "      <th>ascites</th>\n",
       "      <th>varices</th>\n",
       "      <th>bilirubin</th>\n",
       "      <th>alk_phosphate</th>\n",
       "      <th>sgot</th>\n",
       "      <th>albumin</th>\n",
       "      <th>protime</th>\n",
       "      <th>histology</th>\n",
       "      <th>class</th>\n",
       "    </tr>\n",
       "  </thead>\n",
       "  <tbody>\n",
       "    <tr>\n",
       "      <th>0</th>\n",
       "      <td>30</td>\n",
       "      <td>male</td>\n",
       "      <td>False</td>\n",
       "      <td>False</td>\n",
       "      <td>False</td>\n",
       "      <td>False</td>\n",
       "      <td>False</td>\n",
       "      <td>False</td>\n",
       "      <td>False</td>\n",
       "      <td>False</td>\n",
       "      <td>False</td>\n",
       "      <td>False</td>\n",
       "      <td>False</td>\n",
       "      <td>1.00</td>\n",
       "      <td>85.0</td>\n",
       "      <td>18.000000</td>\n",
       "      <td>4.000000</td>\n",
       "      <td>NaN</td>\n",
       "      <td>False</td>\n",
       "      <td>live</td>\n",
       "    </tr>\n",
       "    <tr>\n",
       "      <th>1</th>\n",
       "      <td>50</td>\n",
       "      <td>female</td>\n",
       "      <td>False</td>\n",
       "      <td>False</td>\n",
       "      <td>True</td>\n",
       "      <td>False</td>\n",
       "      <td>False</td>\n",
       "      <td>False</td>\n",
       "      <td>False</td>\n",
       "      <td>False</td>\n",
       "      <td>False</td>\n",
       "      <td>False</td>\n",
       "      <td>False</td>\n",
       "      <td>0.90</td>\n",
       "      <td>135.0</td>\n",
       "      <td>42.000000</td>\n",
       "      <td>3.500000</td>\n",
       "      <td>NaN</td>\n",
       "      <td>False</td>\n",
       "      <td>live</td>\n",
       "    </tr>\n",
       "    <tr>\n",
       "      <th>2</th>\n",
       "      <td>78</td>\n",
       "      <td>female</td>\n",
       "      <td>True</td>\n",
       "      <td>False</td>\n",
       "      <td>True</td>\n",
       "      <td>False</td>\n",
       "      <td>False</td>\n",
       "      <td>True</td>\n",
       "      <td>False</td>\n",
       "      <td>False</td>\n",
       "      <td>False</td>\n",
       "      <td>False</td>\n",
       "      <td>False</td>\n",
       "      <td>0.70</td>\n",
       "      <td>96.0</td>\n",
       "      <td>32.000000</td>\n",
       "      <td>4.000000</td>\n",
       "      <td>NaN</td>\n",
       "      <td>False</td>\n",
       "      <td>live</td>\n",
       "    </tr>\n",
       "    <tr>\n",
       "      <th>3</th>\n",
       "      <td>31</td>\n",
       "      <td>female</td>\n",
       "      <td>NaN</td>\n",
       "      <td>True</td>\n",
       "      <td>False</td>\n",
       "      <td>False</td>\n",
       "      <td>False</td>\n",
       "      <td>True</td>\n",
       "      <td>False</td>\n",
       "      <td>False</td>\n",
       "      <td>False</td>\n",
       "      <td>False</td>\n",
       "      <td>False</td>\n",
       "      <td>0.70</td>\n",
       "      <td>46.0</td>\n",
       "      <td>52.000000</td>\n",
       "      <td>4.000000</td>\n",
       "      <td>80.0</td>\n",
       "      <td>False</td>\n",
       "      <td>live</td>\n",
       "    </tr>\n",
       "    <tr>\n",
       "      <th>4</th>\n",
       "      <td>34</td>\n",
       "      <td>female</td>\n",
       "      <td>True</td>\n",
       "      <td>False</td>\n",
       "      <td>False</td>\n",
       "      <td>False</td>\n",
       "      <td>False</td>\n",
       "      <td>True</td>\n",
       "      <td>False</td>\n",
       "      <td>False</td>\n",
       "      <td>False</td>\n",
       "      <td>False</td>\n",
       "      <td>False</td>\n",
       "      <td>1.00</td>\n",
       "      <td>70.5</td>\n",
       "      <td>200.000000</td>\n",
       "      <td>4.000000</td>\n",
       "      <td>77.5</td>\n",
       "      <td>False</td>\n",
       "      <td>live</td>\n",
       "    </tr>\n",
       "    <tr>\n",
       "      <th>5</th>\n",
       "      <td>34</td>\n",
       "      <td>female</td>\n",
       "      <td>True</td>\n",
       "      <td>False</td>\n",
       "      <td>False</td>\n",
       "      <td>False</td>\n",
       "      <td>False</td>\n",
       "      <td>True</td>\n",
       "      <td>False</td>\n",
       "      <td>False</td>\n",
       "      <td>False</td>\n",
       "      <td>False</td>\n",
       "      <td>False</td>\n",
       "      <td>0.90</td>\n",
       "      <td>95.0</td>\n",
       "      <td>28.000000</td>\n",
       "      <td>4.000000</td>\n",
       "      <td>75.0</td>\n",
       "      <td>False</td>\n",
       "      <td>live</td>\n",
       "    </tr>\n",
       "    <tr>\n",
       "      <th>6</th>\n",
       "      <td>51</td>\n",
       "      <td>female</td>\n",
       "      <td>False</td>\n",
       "      <td>False</td>\n",
       "      <td>True</td>\n",
       "      <td>False</td>\n",
       "      <td>True</td>\n",
       "      <td>True</td>\n",
       "      <td>False</td>\n",
       "      <td>True</td>\n",
       "      <td>True</td>\n",
       "      <td>False</td>\n",
       "      <td>False</td>\n",
       "      <td>0.95</td>\n",
       "      <td>91.6</td>\n",
       "      <td>34.666667</td>\n",
       "      <td>4.133333</td>\n",
       "      <td>77.0</td>\n",
       "      <td>False</td>\n",
       "      <td>die</td>\n",
       "    </tr>\n",
       "    <tr>\n",
       "      <th>7</th>\n",
       "      <td>23</td>\n",
       "      <td>female</td>\n",
       "      <td>True</td>\n",
       "      <td>False</td>\n",
       "      <td>False</td>\n",
       "      <td>False</td>\n",
       "      <td>False</td>\n",
       "      <td>True</td>\n",
       "      <td>False</td>\n",
       "      <td>False</td>\n",
       "      <td>False</td>\n",
       "      <td>False</td>\n",
       "      <td>False</td>\n",
       "      <td>1.00</td>\n",
       "      <td>88.2</td>\n",
       "      <td>41.333333</td>\n",
       "      <td>4.266667</td>\n",
       "      <td>79.0</td>\n",
       "      <td>False</td>\n",
       "      <td>live</td>\n",
       "    </tr>\n",
       "    <tr>\n",
       "      <th>8</th>\n",
       "      <td>39</td>\n",
       "      <td>female</td>\n",
       "      <td>True</td>\n",
       "      <td>False</td>\n",
       "      <td>True</td>\n",
       "      <td>False</td>\n",
       "      <td>False</td>\n",
       "      <td>True</td>\n",
       "      <td>True</td>\n",
       "      <td>False</td>\n",
       "      <td>False</td>\n",
       "      <td>False</td>\n",
       "      <td>False</td>\n",
       "      <td>0.70</td>\n",
       "      <td>84.8</td>\n",
       "      <td>48.000000</td>\n",
       "      <td>4.400000</td>\n",
       "      <td>81.0</td>\n",
       "      <td>False</td>\n",
       "      <td>live</td>\n",
       "    </tr>\n",
       "    <tr>\n",
       "      <th>9</th>\n",
       "      <td>30</td>\n",
       "      <td>female</td>\n",
       "      <td>True</td>\n",
       "      <td>False</td>\n",
       "      <td>False</td>\n",
       "      <td>False</td>\n",
       "      <td>False</td>\n",
       "      <td>True</td>\n",
       "      <td>False</td>\n",
       "      <td>False</td>\n",
       "      <td>False</td>\n",
       "      <td>False</td>\n",
       "      <td>False</td>\n",
       "      <td>1.00</td>\n",
       "      <td>81.4</td>\n",
       "      <td>120.000000</td>\n",
       "      <td>3.900000</td>\n",
       "      <td>83.0</td>\n",
       "      <td>False</td>\n",
       "      <td>live</td>\n",
       "    </tr>\n",
       "  </tbody>\n",
       "</table>\n",
       "</div>"
      ],
      "text/plain": [
       "   age     sex steroid  antivirals fatigue malaise anorexia liver_big  \\\n",
       "0   30    male   False       False   False   False    False     False   \n",
       "1   50  female   False       False    True   False    False     False   \n",
       "2   78  female    True       False    True   False    False      True   \n",
       "3   31  female     NaN        True   False   False    False      True   \n",
       "4   34  female    True       False   False   False    False      True   \n",
       "5   34  female    True       False   False   False    False      True   \n",
       "6   51  female   False       False    True   False     True      True   \n",
       "7   23  female    True       False   False   False    False      True   \n",
       "8   39  female    True       False    True   False    False      True   \n",
       "9   30  female    True       False   False   False    False      True   \n",
       "\n",
       "  liver_firm spleen_palpable spiders ascites varices  bilirubin  \\\n",
       "0      False           False   False   False   False       1.00   \n",
       "1      False           False   False   False   False       0.90   \n",
       "2      False           False   False   False   False       0.70   \n",
       "3      False           False   False   False   False       0.70   \n",
       "4      False           False   False   False   False       1.00   \n",
       "5      False           False   False   False   False       0.90   \n",
       "6      False            True    True   False   False       0.95   \n",
       "7      False           False   False   False   False       1.00   \n",
       "8       True           False   False   False   False       0.70   \n",
       "9      False           False   False   False   False       1.00   \n",
       "\n",
       "   alk_phosphate        sgot   albumin  protime  histology class  \n",
       "0           85.0   18.000000  4.000000      NaN      False  live  \n",
       "1          135.0   42.000000  3.500000      NaN      False  live  \n",
       "2           96.0   32.000000  4.000000      NaN      False  live  \n",
       "3           46.0   52.000000  4.000000     80.0      False  live  \n",
       "4           70.5  200.000000  4.000000     77.5      False  live  \n",
       "5           95.0   28.000000  4.000000     75.0      False  live  \n",
       "6           91.6   34.666667  4.133333     77.0      False   die  \n",
       "7           88.2   41.333333  4.266667     79.0      False  live  \n",
       "8           84.8   48.000000  4.400000     81.0      False  live  \n",
       "9           81.4  120.000000  3.900000     83.0      False  live  "
      ]
     },
     "execution_count": 40,
     "metadata": {},
     "output_type": "execute_result"
    }
   ],
   "source": [
    "df.head(10)"
   ]
  },
  {
   "cell_type": "markdown",
   "id": "quiet-watershed",
   "metadata": {},
   "source": [
    "## Preprocesamiento de datos con scikit-learn - Valores perdidos\n",
    "\n",
    "\n",
    "En este tutorial explotamos el conjunto de datos cupcake.csv, que contiene la tendencia de búsqueda de la palabra cupcake en Google Trends. Los datos se extraen de este enlace. En el conjunto de datos original se han eliminado los datos correspondientes a 2004-02 y 2006-03, para demostrar cómo tratar los valores perdidos. Los valores originales eran 5 y 10 respectivamente. Aprovechamos la biblioteca pandas para importar el conjunto de datos y lo transformamos en un marco de datos mediante la función read_csv()."
   ]
  },
  {
   "cell_type": "code",
   "execution_count": null,
   "id": "reserved-chemical",
   "metadata": {},
   "outputs": [
    {
     "data": {
      "text/html": [
       "<div>\n",
       "<style scoped>\n",
       "    .dataframe tbody tr th:only-of-type {\n",
       "        vertical-align: middle;\n",
       "    }\n",
       "\n",
       "    .dataframe tbody tr th {\n",
       "        vertical-align: top;\n",
       "    }\n",
       "\n",
       "    .dataframe thead th {\n",
       "        text-align: right;\n",
       "    }\n",
       "</style>\n",
       "<table border=\"1\" class=\"dataframe\">\n",
       "  <thead>\n",
       "    <tr style=\"text-align: right;\">\n",
       "      <th></th>\n",
       "      <th>Mese</th>\n",
       "      <th>Cupcake</th>\n",
       "    </tr>\n",
       "  </thead>\n",
       "  <tbody>\n",
       "    <tr>\n",
       "      <th>0</th>\n",
       "      <td>2004-01</td>\n",
       "      <td>5.0</td>\n",
       "    </tr>\n",
       "    <tr>\n",
       "      <th>1</th>\n",
       "      <td>2004-02</td>\n",
       "      <td>NaN</td>\n",
       "    </tr>\n",
       "    <tr>\n",
       "      <th>2</th>\n",
       "      <td>2004-03</td>\n",
       "      <td>4.0</td>\n",
       "    </tr>\n",
       "    <tr>\n",
       "      <th>3</th>\n",
       "      <td>2004-04</td>\n",
       "      <td>6.0</td>\n",
       "    </tr>\n",
       "    <tr>\n",
       "      <th>4</th>\n",
       "      <td>2004-05</td>\n",
       "      <td>5.0</td>\n",
       "    </tr>\n",
       "  </tbody>\n",
       "</table>\n",
       "</div>"
      ],
      "text/plain": [
       "      Mese  Cupcake\n",
       "0  2004-01      5.0\n",
       "1  2004-02      NaN\n",
       "2  2004-03      4.0\n",
       "3  2004-04      6.0\n",
       "4  2004-05      5.0"
      ]
     },
     "execution_count": 41,
     "metadata": {},
     "output_type": "execute_result"
    }
   ],
   "source": [
    "df = pd.read_csv('datasets/cupcake.csv')\n",
    "df.head(5)"
   ]
  },
  {
   "cell_type": "code",
   "execution_count": null,
   "id": "incoming-inspiration",
   "metadata": {},
   "outputs": [],
   "source": [
    "X = np.array(df['Cupcake']).reshape(-1,1)\n"
   ]
  },
  {
   "cell_type": "markdown",
   "id": "durable-convenience",
   "metadata": {},
   "source": [
    "Los valores perdidos son valores que no están disponibles en el conjunto de datos original. Una solución para tratar los valores perdidos podría ser su eliminación del conjunto de datos. Sin embargo, esto conduce a la pérdida de datos. La biblioteca scikit-learn ofrece dos mecanismos para tratar los valores perdidos:\n",
    "\n",
    "   * Imputación de características univariante\n",
    "   * Imputación de características multivariantes\n",
    "   * Imputación de vecinos más cercanos\n",
    "\n",
    "## Imputación de características univariante\n",
    "\n",
    "En la Imputación de Características Univariantes se trata de reemplazar los valores perdidos por un valor constante o alguna estadística proporcionada relacionada con una característica. La clase SimpleImputer puede utilizarse para realizar la imputación univariante de características. Especificamos cuál es el valor que falta a través del parámetro missing_values y la estrategia de reemplazo a través del parámetro strategy. Por ejemplo, podemos sustituir todos los valores NaN (identificados por la variable numpy.nan) por el valor medio de la columna."
   ]
  },
  {
   "cell_type": "code",
   "execution_count": null,
   "id": "abandoned-nancy",
   "metadata": {},
   "outputs": [],
   "source": [
    "import numpy as np\n",
    "from sklearn.impute import SimpleImputer\n",
    "\n"
   ]
  },
  {
   "cell_type": "markdown",
   "id": "dated-revision",
   "metadata": {},
   "source": [
    "Ahora podemos encajar el preprocesador con la columna `Cupcake` del dataframe. \n"
   ]
  },
  {
   "cell_type": "code",
   "execution_count": null,
   "id": "prospective-briefs",
   "metadata": {},
   "outputs": [],
   "source": [
    "preprocessor = SimpleImputer(missing_values=np.nan, strategy='mean')"
   ]
  },
  {
   "cell_type": "markdown",
   "id": "bronze-practitioner",
   "metadata": {},
   "source": [
    "Ahora podemos ajustar el preprocesador con la columna `Cupcake` del dataframe. \n"
   ]
  },
  {
   "cell_type": "code",
   "execution_count": null,
   "id": "specified-production",
   "metadata": {},
   "outputs": [
    {
     "data": {
      "text/plain": [
       "SimpleImputer()"
      ]
     },
     "execution_count": 45,
     "metadata": {},
     "output_type": "execute_result"
    }
   ],
   "source": [
    "preprocessor.fit(X)"
   ]
  },
  {
   "cell_type": "markdown",
   "id": "completed-panel",
   "metadata": {},
   "source": [
    "Aplicamos la función `transform()` a nuestros datos.\n"
   ]
  },
  {
   "cell_type": "code",
   "execution_count": null,
   "id": "human-testament",
   "metadata": {},
   "outputs": [],
   "source": [
    "X_prep = preprocessor.transform(X)"
   ]
  },
  {
   "cell_type": "markdown",
   "id": "personal-leeds",
   "metadata": {},
   "source": [
    "Lo convertimos a la forma original aplicando la función inversa reshape() y almacenamos el resultado en una nueva columna del datafram df.\n"
   ]
  },
  {
   "cell_type": "code",
   "execution_count": null,
   "id": "pharmaceutical-afghanistan",
   "metadata": {},
   "outputs": [
    {
     "data": {
      "text/html": [
       "<div>\n",
       "<style scoped>\n",
       "    .dataframe tbody tr th:only-of-type {\n",
       "        vertical-align: middle;\n",
       "    }\n",
       "\n",
       "    .dataframe tbody tr th {\n",
       "        vertical-align: top;\n",
       "    }\n",
       "\n",
       "    .dataframe thead th {\n",
       "        text-align: right;\n",
       "    }\n",
       "</style>\n",
       "<table border=\"1\" class=\"dataframe\">\n",
       "  <thead>\n",
       "    <tr style=\"text-align: right;\">\n",
       "      <th></th>\n",
       "      <th>Mese</th>\n",
       "      <th>Cupcake</th>\n",
       "      <th>Cupcake_univariate</th>\n",
       "    </tr>\n",
       "  </thead>\n",
       "  <tbody>\n",
       "    <tr>\n",
       "      <th>0</th>\n",
       "      <td>2004-01</td>\n",
       "      <td>5.0</td>\n",
       "      <td>5.00</td>\n",
       "    </tr>\n",
       "    <tr>\n",
       "      <th>1</th>\n",
       "      <td>2004-02</td>\n",
       "      <td>NaN</td>\n",
       "      <td>50.05</td>\n",
       "    </tr>\n",
       "    <tr>\n",
       "      <th>2</th>\n",
       "      <td>2004-03</td>\n",
       "      <td>4.0</td>\n",
       "      <td>4.00</td>\n",
       "    </tr>\n",
       "    <tr>\n",
       "      <th>3</th>\n",
       "      <td>2004-04</td>\n",
       "      <td>6.0</td>\n",
       "      <td>6.00</td>\n",
       "    </tr>\n",
       "    <tr>\n",
       "      <th>4</th>\n",
       "      <td>2004-05</td>\n",
       "      <td>5.0</td>\n",
       "      <td>5.00</td>\n",
       "    </tr>\n",
       "  </tbody>\n",
       "</table>\n",
       "</div>"
      ],
      "text/plain": [
       "      Mese  Cupcake  Cupcake_univariate\n",
       "0  2004-01      5.0                5.00\n",
       "1  2004-02      NaN               50.05\n",
       "2  2004-03      4.0                4.00\n",
       "3  2004-04      6.0                6.00\n",
       "4  2004-05      5.0                5.00"
      ]
     },
     "execution_count": 47,
     "metadata": {},
     "output_type": "execute_result"
    }
   ],
   "source": [
    "df['Cupcake_univariate'] = X_prep.reshape(1,-1)[0]\n",
    "df.head()"
   ]
  },
  {
   "cell_type": "markdown",
   "id": "breeding-preview",
   "metadata": {},
   "source": [
    "## Imputación de características multivariantes\n",
    "\n",
    "En la imputación de características multivariantes, cada característica con valores perdidos se calcula en función de las demás características. Se construye una imputación iterativa por lo que se debe especificar el número máximo de iteraciones. Podemos utilizar la clase IterativeImputation. Consideramos dos características: la columna Cupcake y el índice del dataframe. Como el IterativeImputer está todavía en fase experimental, debemos habilitarlo explícitamente."
   ]
  },
  {
   "cell_type": "code",
   "execution_count": null,
   "id": "strong-constitution",
   "metadata": {},
   "outputs": [],
   "source": [
    "from sklearn.experimental import enable_iterative_imputer\n",
    "from sklearn.impute import IterativeImputer\n",
    "preprocessor = IterativeImputer(max_iter=10, random_state=0)"
   ]
  },
  {
   "cell_type": "markdown",
   "id": "liquid-continent",
   "metadata": {},
   "source": [
    "Debemos convertir las dos características en matrices y transformarlas en la forma `[[f11,f21], [f12,f22] ...]`. Esto puede hacerse aplicando la función `reshape()` a cada característica y luego la función `hstack()` como sigue:\n"
   ]
  },
  {
   "cell_type": "code",
   "execution_count": null,
   "id": "organized-advisory",
   "metadata": {},
   "outputs": [],
   "source": [
    "X1 = np.array(df['Cupcake']).reshape(-1,1)\n",
    "X2 = np.array(df.index).reshape(-1,1)\n",
    "X = np.hstack((X1,X2))\n"
   ]
  },
  {
   "cell_type": "markdown",
   "id": "diverse-broadcasting",
   "metadata": {},
   "source": [
    "Ajustamos el preprocesador con las características obtenidas."
   ]
  },
  {
   "cell_type": "code",
   "execution_count": null,
   "id": "statutory-casino",
   "metadata": {},
   "outputs": [
    {
     "data": {
      "text/plain": [
       "IterativeImputer(random_state=0)"
      ]
     },
     "execution_count": 50,
     "metadata": {},
     "output_type": "execute_result"
    }
   ],
   "source": [
    "preprocessor.fit(X)"
   ]
  },
  {
   "cell_type": "markdown",
   "id": "understanding-rates",
   "metadata": {},
   "source": [
    "Y aplicamos el preprocesador a las mismas características X. Para recuperar el resultado de la operación, debemos aplicar la función hsplit(), que divide el array horizontalmente, y luego aplicamos la inversa reshape()."
   ]
  },
  {
   "cell_type": "code",
   "execution_count": null,
   "id": "cultural-synthetic",
   "metadata": {},
   "outputs": [],
   "source": [
    "X_prep = preprocessor.transform(X)\n",
    "df['Cupcake_multivariate'] = np.hsplit(X_prep, 2)[0].reshape(1,-1)[0]"
   ]
  },
  {
   "cell_type": "code",
   "execution_count": null,
   "id": "moral-improvement",
   "metadata": {},
   "outputs": [
    {
     "data": {
      "text/plain": [
       "Mese                      2006-03\n",
       "Cupcake                       NaN\n",
       "Cupcake_univariate          50.05\n",
       "Cupcake_multivariate    28.469457\n",
       "Name: 26, dtype: object"
      ]
     },
     "execution_count": 52,
     "metadata": {},
     "output_type": "execute_result"
    }
   ],
   "source": [
    "df.iloc[26]"
   ]
  },
  {
   "cell_type": "markdown",
   "id": "encouraging-clinton",
   "metadata": {},
   "source": [
    "## Imputación por vecinos más cercanos\n",
    "\n",
    "Esta categoría de imputación rellena los valores que faltan utilizando el enfoque de los vecinos más cercanos. Cada valor que falta se calcula utilizando los valores de n_vecinos más cercanos que tienen un valor. Podemos utilizar la clase KNNImputer de la biblioteca scikit-learn. Para que funcione correctamente, debemos especificar al menos dos características. Así, explotamos la variable X, previamente definida."
   ]
  },
  {
   "cell_type": "code",
   "execution_count": null,
   "id": "hispanic-priest",
   "metadata": {},
   "outputs": [],
   "source": [
    "from sklearn.impute import KNNImputer\n"
   ]
  },
  {
   "cell_type": "code",
   "execution_count": null,
   "id": "homeless-sandwich",
   "metadata": {},
   "outputs": [],
   "source": [
    "preprocessor = KNNImputer(n_neighbors=5, weights=\"distance\")\n",
    "preprocessor.fit(X)\n",
    "X_prep = preprocessor.transform(X)\n",
    "df['Cupcake_knn'] = np.hsplit(X_prep, 2)[0].reshape(1,-1)[0]"
   ]
  },
  {
   "cell_type": "code",
   "execution_count": null,
   "id": "desirable-globe",
   "metadata": {},
   "outputs": [
    {
     "data": {
      "text/plain": [
       "Mese                      2006-03\n",
       "Cupcake                       NaN\n",
       "Cupcake_univariate          50.05\n",
       "Cupcake_multivariate    28.469457\n",
       "Cupcake_knn                  10.7\n",
       "Name: 26, dtype: object"
      ]
     },
     "execution_count": 55,
     "metadata": {},
     "output_type": "execute_result"
    }
   ],
   "source": [
    "df.iloc[26]"
   ]
  },
  {
   "cell_type": "code",
   "execution_count": null,
   "id": "printable-physiology",
   "metadata": {},
   "outputs": [
    {
     "data": {
      "text/plain": [
       "Mese                      2004-02\n",
       "Cupcake                       NaN\n",
       "Cupcake_univariate          50.05\n",
       "Cupcake_multivariate    21.339636\n",
       "Cupcake_knn              4.918919\n",
       "Name: 1, dtype: object"
      ]
     },
     "execution_count": 56,
     "metadata": {},
     "output_type": "execute_result"
    }
   ],
   "source": [
    "df.iloc[1]"
   ]
  },
  {
   "cell_type": "code",
   "execution_count": null,
   "id": "spread-semester",
   "metadata": {},
   "outputs": [
    {
     "data": {
      "text/plain": [
       "<AxesSubplot:>"
      ]
     },
     "execution_count": 57,
     "metadata": {},
     "output_type": "execute_result"
    },
    {
     "data": {
      "image/png": "[encoded data removed]",
      "text/plain": [
       "<Figure size 432x288 with 1 Axes>"
      ]
     },
     "metadata": {
      "needs_background": "light"
     },
     "output_type": "display_data"
    }
   ],
   "source": [
    "df.plot()"
   ]
  },
  {
   "cell_type": "markdown",
   "id": "wired-prescription",
   "metadata": {},
   "source": [
    "## Preprocesamiento de datos - Normalización\n",
    "\n",
    "La normalización de datos consiste en ajustar los valores medidos en diferentes escalas a una escala común. Cuando se trata de marcos de datos, la normalización de datos permite ajustar los valores referidos a diferentes columnas a una escala común. Esta operación es muy recomendable cuando las columnas de un marco de datos se consideran características de entrada de un algoritmo de aprendizaje automático, porque permite dar a todas las características el mismo peso.\n",
    "\n",
    "La normalización sólo se aplica a las columnas que contienen valores numéricos. Existen cinco métodos de normalización:\n",
    "\n",
    "  *  escalado de una característica\n",
    "  *  mín. máx.\n",
    "  *  puntuación z\n",
    "  *  escala logarítmica\n",
    "  *  recorte"
   ]
  },
  {
   "cell_type": "code",
   "execution_count": null,
   "id": "labeled-helena",
   "metadata": {},
   "outputs": [],
   "source": [
    "X = np.array(df['Cupcake_knn']).reshape(-1,1)\n"
   ]
  },
  {
   "cell_type": "markdown",
   "id": "incorporated-australia",
   "metadata": {},
   "source": [
    "## Escalado de características individuales\n",
    "\n",
    "El escalado de características simples convierte cada valor de una columna en un número entre 0 y 1. El nuevo valor se calcula como el valor actual dividido por el valor máximo de la columna. Esto se puede hacer a través de la clase MaxAbsScaler. Aplicamos el escalador a la columna de tampones, que mut se convierte en array y se remodela.\n"
   ]
  },
  {
   "cell_type": "code",
   "execution_count": null,
   "id": "beautiful-belly",
   "metadata": {},
   "outputs": [],
   "source": [
    "from sklearn.preprocessing import MaxAbsScaler\n"
   ]
  },
  {
   "cell_type": "code",
   "execution_count": null,
   "id": "cutting-format",
   "metadata": {},
   "outputs": [],
   "source": [
    "scaler = MaxAbsScaler()"
   ]
  },
  {
   "cell_type": "code",
   "execution_count": null,
   "id": "persistent-technician",
   "metadata": {},
   "outputs": [
    {
     "data": {
      "text/plain": [
       "MaxAbsScaler()"
      ]
     },
     "execution_count": 61,
     "metadata": {},
     "output_type": "execute_result"
    }
   ],
   "source": [
    "scaler.fit(X)\n"
   ]
  },
  {
   "cell_type": "code",
   "execution_count": null,
   "id": "early-depth",
   "metadata": {},
   "outputs": [],
   "source": [
    "X_scaled = scaler.transform(X)\n"
   ]
  },
  {
   "cell_type": "code",
   "execution_count": null,
   "id": "pharmaceutical-local",
   "metadata": {},
   "outputs": [
    {
     "data": {
      "text/html": [
       "<div>\n",
       "<style scoped>\n",
       "    .dataframe tbody tr th:only-of-type {\n",
       "        vertical-align: middle;\n",
       "    }\n",
       "\n",
       "    .dataframe tbody tr th {\n",
       "        vertical-align: top;\n",
       "    }\n",
       "\n",
       "    .dataframe thead th {\n",
       "        text-align: right;\n",
       "    }\n",
       "</style>\n",
       "<table border=\"1\" class=\"dataframe\">\n",
       "  <thead>\n",
       "    <tr style=\"text-align: right;\">\n",
       "      <th></th>\n",
       "      <th>Mese</th>\n",
       "      <th>Cupcake</th>\n",
       "      <th>Cupcake_univariate</th>\n",
       "      <th>Cupcake_multivariate</th>\n",
       "      <th>Cupcake_knn</th>\n",
       "      <th>Cupcake_knn_singleFeatureScaling</th>\n",
       "    </tr>\n",
       "  </thead>\n",
       "  <tbody>\n",
       "    <tr>\n",
       "      <th>0</th>\n",
       "      <td>2004-01</td>\n",
       "      <td>5.0</td>\n",
       "      <td>5.00</td>\n",
       "      <td>5.000000</td>\n",
       "      <td>5.000000</td>\n",
       "      <td>0.050000</td>\n",
       "    </tr>\n",
       "    <tr>\n",
       "      <th>1</th>\n",
       "      <td>2004-02</td>\n",
       "      <td>NaN</td>\n",
       "      <td>50.05</td>\n",
       "      <td>21.339636</td>\n",
       "      <td>4.918919</td>\n",
       "      <td>0.049189</td>\n",
       "    </tr>\n",
       "    <tr>\n",
       "      <th>2</th>\n",
       "      <td>2004-03</td>\n",
       "      <td>4.0</td>\n",
       "      <td>4.00</td>\n",
       "      <td>4.000000</td>\n",
       "      <td>4.000000</td>\n",
       "      <td>0.040000</td>\n",
       "    </tr>\n",
       "    <tr>\n",
       "      <th>3</th>\n",
       "      <td>2004-04</td>\n",
       "      <td>6.0</td>\n",
       "      <td>6.00</td>\n",
       "      <td>6.000000</td>\n",
       "      <td>6.000000</td>\n",
       "      <td>0.060000</td>\n",
       "    </tr>\n",
       "    <tr>\n",
       "      <th>4</th>\n",
       "      <td>2004-05</td>\n",
       "      <td>5.0</td>\n",
       "      <td>5.00</td>\n",
       "      <td>5.000000</td>\n",
       "      <td>5.000000</td>\n",
       "      <td>0.050000</td>\n",
       "    </tr>\n",
       "  </tbody>\n",
       "</table>\n",
       "</div>"
      ],
      "text/plain": [
       "      Mese  Cupcake  Cupcake_univariate  Cupcake_multivariate  Cupcake_knn  \\\n",
       "0  2004-01      5.0                5.00              5.000000     5.000000   \n",
       "1  2004-02      NaN               50.05             21.339636     4.918919   \n",
       "2  2004-03      4.0                4.00              4.000000     4.000000   \n",
       "3  2004-04      6.0                6.00              6.000000     6.000000   \n",
       "4  2004-05      5.0                5.00              5.000000     5.000000   \n",
       "\n",
       "   Cupcake_knn_singleFeatureScaling  \n",
       "0                          0.050000  \n",
       "1                          0.049189  \n",
       "2                          0.040000  \n",
       "3                          0.060000  \n",
       "4                          0.050000  "
      ]
     },
     "execution_count": 63,
     "metadata": {},
     "output_type": "execute_result"
    }
   ],
   "source": [
    "\n",
    "df['Cupcake_knn_singleFeatureScaling'] = X_scaled.reshape(1,-1)[0]\n",
    "df.head()"
   ]
  },
  {
   "cell_type": "code",
   "execution_count": null,
   "id": "first-gates",
   "metadata": {},
   "outputs": [
    {
     "data": {
      "text/plain": [
       "array([[ 5.        ],\n",
       "       [ 4.91891892],\n",
       "       [ 4.        ],\n",
       "       [ 6.        ],\n",
       "       [ 5.        ],\n",
       "       [ 6.        ],\n",
       "       [ 6.        ],\n",
       "       [ 5.        ],\n",
       "       [ 5.        ],\n",
       "       [10.        ]])"
      ]
     },
     "execution_count": 64,
     "metadata": {},
     "output_type": "execute_result"
    }
   ],
   "source": [
    "scaler.inverse_transform(X_scaled)[:10]"
   ]
  },
  {
   "cell_type": "markdown",
   "id": "recognized-shipping",
   "metadata": {},
   "source": [
    "## Min Max \n",
    "\n",
    "Min Max convierte cada valor de una columna en un número entre 0 y 1. El nuevo valor se calcula como la diferencia entre el valor actual y el valor min, dividido por el rango de los valores de la columna. En scikit-learn utilizamos la clase MinMaxScaler. Por ejemplo, podemos aplicar el método min max a una columna."
   ]
  },
  {
   "cell_type": "code",
   "execution_count": null,
   "id": "quick-possession",
   "metadata": {},
   "outputs": [],
   "source": [
    "from sklearn.preprocessing import MinMaxScaler"
   ]
  },
  {
   "cell_type": "code",
   "execution_count": null,
   "id": "revised-annotation",
   "metadata": {},
   "outputs": [],
   "source": [
    "scaler = MinMaxScaler()\n",
    "scaler.fit(X)\n",
    "X_scaled = scaler.transform(X)\n"
   ]
  },
  {
   "cell_type": "code",
   "execution_count": null,
   "id": "organic-liberty",
   "metadata": {},
   "outputs": [
    {
     "data": {
      "text/html": [
       "<div>\n",
       "<style scoped>\n",
       "    .dataframe tbody tr th:only-of-type {\n",
       "        vertical-align: middle;\n",
       "    }\n",
       "\n",
       "    .dataframe tbody tr th {\n",
       "        vertical-align: top;\n",
       "    }\n",
       "\n",
       "    .dataframe thead th {\n",
       "        text-align: right;\n",
       "    }\n",
       "</style>\n",
       "<table border=\"1\" class=\"dataframe\">\n",
       "  <thead>\n",
       "    <tr style=\"text-align: right;\">\n",
       "      <th></th>\n",
       "      <th>Mese</th>\n",
       "      <th>Cupcake</th>\n",
       "      <th>Cupcake_univariate</th>\n",
       "      <th>Cupcake_multivariate</th>\n",
       "      <th>Cupcake_knn</th>\n",
       "      <th>Cupcake_knn_singleFeatureScaling</th>\n",
       "      <th>Cupcake_knn_minmax</th>\n",
       "    </tr>\n",
       "  </thead>\n",
       "  <tbody>\n",
       "    <tr>\n",
       "      <th>0</th>\n",
       "      <td>2004-01</td>\n",
       "      <td>5.0</td>\n",
       "      <td>5.00</td>\n",
       "      <td>5.000000</td>\n",
       "      <td>5.000000</td>\n",
       "      <td>0.050000</td>\n",
       "      <td>0.010417</td>\n",
       "    </tr>\n",
       "    <tr>\n",
       "      <th>1</th>\n",
       "      <td>2004-02</td>\n",
       "      <td>NaN</td>\n",
       "      <td>50.05</td>\n",
       "      <td>21.339636</td>\n",
       "      <td>4.918919</td>\n",
       "      <td>0.049189</td>\n",
       "      <td>0.009572</td>\n",
       "    </tr>\n",
       "    <tr>\n",
       "      <th>2</th>\n",
       "      <td>2004-03</td>\n",
       "      <td>4.0</td>\n",
       "      <td>4.00</td>\n",
       "      <td>4.000000</td>\n",
       "      <td>4.000000</td>\n",
       "      <td>0.040000</td>\n",
       "      <td>0.000000</td>\n",
       "    </tr>\n",
       "    <tr>\n",
       "      <th>3</th>\n",
       "      <td>2004-04</td>\n",
       "      <td>6.0</td>\n",
       "      <td>6.00</td>\n",
       "      <td>6.000000</td>\n",
       "      <td>6.000000</td>\n",
       "      <td>0.060000</td>\n",
       "      <td>0.020833</td>\n",
       "    </tr>\n",
       "    <tr>\n",
       "      <th>4</th>\n",
       "      <td>2004-05</td>\n",
       "      <td>5.0</td>\n",
       "      <td>5.00</td>\n",
       "      <td>5.000000</td>\n",
       "      <td>5.000000</td>\n",
       "      <td>0.050000</td>\n",
       "      <td>0.010417</td>\n",
       "    </tr>\n",
       "  </tbody>\n",
       "</table>\n",
       "</div>"
      ],
      "text/plain": [
       "      Mese  Cupcake  Cupcake_univariate  Cupcake_multivariate  Cupcake_knn  \\\n",
       "0  2004-01      5.0                5.00              5.000000     5.000000   \n",
       "1  2004-02      NaN               50.05             21.339636     4.918919   \n",
       "2  2004-03      4.0                4.00              4.000000     4.000000   \n",
       "3  2004-04      6.0                6.00              6.000000     6.000000   \n",
       "4  2004-05      5.0                5.00              5.000000     5.000000   \n",
       "\n",
       "   Cupcake_knn_singleFeatureScaling  Cupcake_knn_minmax  \n",
       "0                          0.050000            0.010417  \n",
       "1                          0.049189            0.009572  \n",
       "2                          0.040000            0.000000  \n",
       "3                          0.060000            0.020833  \n",
       "4                          0.050000            0.010417  "
      ]
     },
     "execution_count": 67,
     "metadata": {},
     "output_type": "execute_result"
    }
   ],
   "source": [
    "df['Cupcake_knn_minmax'] = X_scaled.reshape(1,-1)[0]\n",
    "df.head()"
   ]
  },
  {
   "cell_type": "code",
   "execution_count": null,
   "id": "sensitive-station",
   "metadata": {},
   "outputs": [
    {
     "data": {
      "text/plain": [
       "(array([36., 12., 13., 11., 34., 26., 18., 18., 22., 14.]),\n",
       " array([0. , 0.1, 0.2, 0.3, 0.4, 0.5, 0.6, 0.7, 0.8, 0.9, 1. ]),\n",
       " <BarContainer object of 10 artists>)"
      ]
     },
     "execution_count": 68,
     "metadata": {},
     "output_type": "execute_result"
    },
    {
     "data": {
      "image/png": "[encoded data removed]",
      "text/plain": [
       "<Figure size 432x288 with 1 Axes>"
      ]
     },
     "metadata": {
      "needs_background": "light"
     },
     "output_type": "display_data"
    }
   ],
   "source": [
    "plt.hist(df['Cupcake_knn_minmax'].values)"
   ]
  },
  {
   "cell_type": "markdown",
   "id": "parental-production",
   "metadata": {},
   "source": [
    "## Zscore\n",
    "La puntuación Z convierte cada valor de una columna en un número en torno a 0. Los valores típicos que se obtienen mediante una transformación de puntuación z oscilan entre -3 y 3. El nuevo valor se calcula como la diferencia entre el valor actual y el valor medio, dividido por la desviación estándar. En scikit-learn podemos utilizar la función StandardScaler. Por ejemplo, podemos calcular la puntuación z de la columna deceduti."
   ]
  },
  {
   "cell_type": "code",
   "execution_count": null,
   "id": "minus-sapphire",
   "metadata": {},
   "outputs": [],
   "source": [
    "from sklearn.preprocessing import StandardScaler\n"
   ]
  },
  {
   "cell_type": "code",
   "execution_count": null,
   "id": "funky-hampshire",
   "metadata": {},
   "outputs": [
    {
     "data": {
      "text/html": [
       "<div>\n",
       "<style scoped>\n",
       "    .dataframe tbody tr th:only-of-type {\n",
       "        vertical-align: middle;\n",
       "    }\n",
       "\n",
       "    .dataframe tbody tr th {\n",
       "        vertical-align: top;\n",
       "    }\n",
       "\n",
       "    .dataframe thead th {\n",
       "        text-align: right;\n",
       "    }\n",
       "</style>\n",
       "<table border=\"1\" class=\"dataframe\">\n",
       "  <thead>\n",
       "    <tr style=\"text-align: right;\">\n",
       "      <th></th>\n",
       "      <th>Mese</th>\n",
       "      <th>Cupcake</th>\n",
       "      <th>Cupcake_univariate</th>\n",
       "      <th>Cupcake_multivariate</th>\n",
       "      <th>Cupcake_knn</th>\n",
       "      <th>Cupcake_knn_singleFeatureScaling</th>\n",
       "      <th>Cupcake_knn_minmax</th>\n",
       "      <th>Cupcake_knn_Zscore</th>\n",
       "    </tr>\n",
       "  </thead>\n",
       "  <tbody>\n",
       "    <tr>\n",
       "      <th>0</th>\n",
       "      <td>2004-01</td>\n",
       "      <td>5.0</td>\n",
       "      <td>5.00</td>\n",
       "      <td>5.000000</td>\n",
       "      <td>5.000000</td>\n",
       "      <td>0.050000</td>\n",
       "      <td>0.010417</td>\n",
       "      <td>-1.589874</td>\n",
       "    </tr>\n",
       "    <tr>\n",
       "      <th>1</th>\n",
       "      <td>2004-02</td>\n",
       "      <td>NaN</td>\n",
       "      <td>50.05</td>\n",
       "      <td>21.339636</td>\n",
       "      <td>4.918919</td>\n",
       "      <td>0.049189</td>\n",
       "      <td>0.009572</td>\n",
       "      <td>-1.592757</td>\n",
       "    </tr>\n",
       "    <tr>\n",
       "      <th>2</th>\n",
       "      <td>2004-03</td>\n",
       "      <td>4.0</td>\n",
       "      <td>4.00</td>\n",
       "      <td>4.000000</td>\n",
       "      <td>4.000000</td>\n",
       "      <td>0.040000</td>\n",
       "      <td>0.000000</td>\n",
       "      <td>-1.625430</td>\n",
       "    </tr>\n",
       "    <tr>\n",
       "      <th>3</th>\n",
       "      <td>2004-04</td>\n",
       "      <td>6.0</td>\n",
       "      <td>6.00</td>\n",
       "      <td>6.000000</td>\n",
       "      <td>6.000000</td>\n",
       "      <td>0.060000</td>\n",
       "      <td>0.020833</td>\n",
       "      <td>-1.554319</td>\n",
       "    </tr>\n",
       "    <tr>\n",
       "      <th>4</th>\n",
       "      <td>2004-05</td>\n",
       "      <td>5.0</td>\n",
       "      <td>5.00</td>\n",
       "      <td>5.000000</td>\n",
       "      <td>5.000000</td>\n",
       "      <td>0.050000</td>\n",
       "      <td>0.010417</td>\n",
       "      <td>-1.589874</td>\n",
       "    </tr>\n",
       "  </tbody>\n",
       "</table>\n",
       "</div>"
      ],
      "text/plain": [
       "      Mese  Cupcake  Cupcake_univariate  Cupcake_multivariate  Cupcake_knn  \\\n",
       "0  2004-01      5.0                5.00              5.000000     5.000000   \n",
       "1  2004-02      NaN               50.05             21.339636     4.918919   \n",
       "2  2004-03      4.0                4.00              4.000000     4.000000   \n",
       "3  2004-04      6.0                6.00              6.000000     6.000000   \n",
       "4  2004-05      5.0                5.00              5.000000     5.000000   \n",
       "\n",
       "   Cupcake_knn_singleFeatureScaling  Cupcake_knn_minmax  Cupcake_knn_Zscore  \n",
       "0                          0.050000            0.010417           -1.589874  \n",
       "1                          0.049189            0.009572           -1.592757  \n",
       "2                          0.040000            0.000000           -1.625430  \n",
       "3                          0.060000            0.020833           -1.554319  \n",
       "4                          0.050000            0.010417           -1.589874  "
      ]
     },
     "execution_count": 70,
     "metadata": {},
     "output_type": "execute_result"
    }
   ],
   "source": [
    "scaler = StandardScaler()\n",
    "scaler.fit(X)\n",
    "X_scaled = scaler.transform(X)\n",
    "df['Cupcake_knn_Zscore'] = X_scaled.reshape(1,-1)[0]\n",
    "df.head()"
   ]
  },
  {
   "cell_type": "code",
   "execution_count": null,
   "id": "foster-stewart",
   "metadata": {},
   "outputs": [
    {
     "data": {
      "text/plain": [
       "(array([36., 12., 13., 11., 34., 26., 18., 18., 22., 14.]),\n",
       " array([-1.6254299 , -1.28409528, -0.94276066, -0.60142604, -0.26009142,\n",
       "         0.0812432 ,  0.42257782,  0.76391243,  1.10524705,  1.44658167,\n",
       "         1.78791629]),\n",
       " <BarContainer object of 10 artists>)"
      ]
     },
     "execution_count": 71,
     "metadata": {},
     "output_type": "execute_result"
    },
    {
     "data": {
      "image/png": "[encoded data removed]",
      "text/plain": [
       "<Figure size 432x288 with 1 Axes>"
      ]
     },
     "metadata": {
      "needs_background": "light"
     },
     "output_type": "display_data"
    }
   ],
   "source": [
    "plt.hist(df['Cupcake_knn_Zscore'].values)"
   ]
  },
  {
   "cell_type": "markdown",
   "id": "compact-lecture",
   "metadata": {},
   "source": [
    "## Escala logarítmica\n",
    "\n",
    "El escalamiento logarítmico implica la conversión de una columna a la escala logarítmica. Si queremos utilizar el logaritmo natural, podemos utilizar la función log() de la biblioteca numpy. Por ejemplo, podemos aplicar el escalado log a la columna dimessi_guariti. Debemos tratar con log(0) porque no existe. Utilizamos el operador lambda para seleccionar las filas individuales de la columna.\n",
    "\n"
   ]
  },
  {
   "cell_type": "code",
   "execution_count": null,
   "id": "religious-range",
   "metadata": {},
   "outputs": [],
   "source": [
    "df['Cupcake_knn_log'] = df['Cupcake_knn'].apply(lambda x: np.log(x) if x != 0 else 0)"
   ]
  },
  {
   "cell_type": "code",
   "execution_count": null,
   "id": "nuclear-announcement",
   "metadata": {},
   "outputs": [],
   "source": []
  },
  {
   "cell_type": "markdown",
   "id": "beneficial-ecuador",
   "metadata": {},
   "source": [
    "## Recorte\n",
    "\n",
    "El recorte implica la limitación de todos los valores por debajo o por encima de un determinado valor. El recorte es útil cuando una columna contiene algunos valores atípicos. Podemos establecer un valor máximo vmax y un valor mínimo vmin y establecer todos los valores atípicos mayores que el valor máximo en vmax y todos los valores atípicos menores que el valor mínimo en vmin. Por ejemplo, podemos considerar la columna ricoverati_con_sintomi y podemos establecer vmax = 10000 y vmin = 10."
   ]
  },
  {
   "cell_type": "code",
   "execution_count": null,
   "id": "figured-lancaster",
   "metadata": {},
   "outputs": [],
   "source": [
    "vmax = 10000\n",
    "vmin = 10\n",
    "\n",
    "df['Cupcake_knn_clip'] = df['Cupcake_knn'].apply(lambda x: vmax if x > vmax else vmin if x < vmin else x)"
   ]
  },
  {
   "cell_type": "markdown",
   "id": "worth-tooth",
   "metadata": {},
   "source": [
    "## Categorizacion de variables continuas:Binning\n",
    "El binning (o bucketing) de datos agrupa los datos en bins (o buckets), en el sentido de que sustituye los valores contenidos en un pequeño intervalo por un único valor representativo de ese intervalo. A veces, el binning mejora la precisión de los modelos predictivos.\n",
    "\n",
    "El binning de datos es un tipo de preprocesamiento de datos, un mecanismo que incluye también el tratamiento de los valores perdidos, el formateo, la normalización y la estandarización.\n",
    "\n",
    "El binning puede aplicarse para convertir valores numéricos en categóricos o para muestrear (cuantificar) valores numéricos. \n",
    "\n",
    "    convertir valores numéricos en categóricos incluye el binning por distancia y el binning por frecuencia\n",
    "    reducir los valores numéricos incluye la cuantificación (o muestreo).\n",
    "\n",
    "El binning es una técnica de suavización de datos. El suavizado de datos se emplea para eliminar el ruido de los datos.\n",
    "\n",
    "# Clasificación por distancia\n",
    "\n",
    "En este caso definimos los bordes de cada bin. Agrupamos los valores relacionados con la columna Cupcake en tres grupos: pequeño, mediano y grande. Para ello, tenemos que calcular los intervalos dentro de cada grupo cae. Calculamos el intervalo como la diferencia entre el valor máximo y el mínimo y luego dividimos este intervalo en tres partes, una para cada grupo. Aprovechamos las funciones min() y max() de dataframe para calcular el valor mínimo y el valor máximo de la columna Cupcake.\n"
   ]
  },
  {
   "cell_type": "code",
   "execution_count": null,
   "id": "focused-boutique",
   "metadata": {},
   "outputs": [
    {
     "name": "stdout",
     "output_type": "stream",
     "text": [
      "4.0\n",
      "100.0\n"
     ]
    }
   ],
   "source": [
    "min_value = df['Cupcake'].min()\n",
    "max_value = df['Cupcake'].max()\n",
    "print(min_value)\n",
    "print(max_value)"
   ]
  },
  {
   "cell_type": "markdown",
   "id": "hollow-smith",
   "metadata": {},
   "source": [
    "Ahora podemos calcular el rango de cada intervalo, es decir, el valor mínimo y máximo de cada intervalo. Como tenemos 3 grupos, necesitamos 4 bordes de intervalos (bins):\n",
    "\n",
    "*    pequeño - (borde1, borde2)\n",
    "*    mediano - (arista2, arista3)\n",
    "*   grande - (borde3, borde4)\n",
    "\n",
    "Podemos utilizar la función linspace() del paquete numpy para calcular los 4 bins, igualmente distribuidos.\n"
   ]
  },
  {
   "cell_type": "code",
   "execution_count": null,
   "id": "surprising-lambda",
   "metadata": {},
   "outputs": [
    {
     "data": {
      "text/plain": [
       "array([  4.,  36.,  68., 100.])"
      ]
     },
     "execution_count": 75,
     "metadata": {},
     "output_type": "execute_result"
    }
   ],
   "source": [
    "bins = np.linspace(min_value,max_value,4)\n",
    "bins\n",
    "#bins = [ 0, 10, 50, 100 ]\n"
   ]
  },
  {
   "cell_type": "code",
   "execution_count": null,
   "id": "medieval-contrary",
   "metadata": {},
   "outputs": [],
   "source": [
    "labels = ['pequenho', 'mediano', 'grande']"
   ]
  },
  {
   "cell_type": "markdown",
   "id": "adopted-raising",
   "metadata": {},
   "source": [
    "Podemos utilizar la función cut() para convertir los valores numéricos de la columna Cupcake en valores categóricos. Tenemos que especificar los intervalos y las etiquetas. Además, establecemos el parámetro include_lowest a True para incluir también el valor mínimo.\n"
   ]
  },
  {
   "cell_type": "code",
   "execution_count": null,
   "id": "substantial-lemon",
   "metadata": {},
   "outputs": [],
   "source": [
    "df['bin_cut_linspace'] = pd.cut(df['Cupcake'], bins=bins, labels=labels, include_lowest=True)"
   ]
  },
  {
   "cell_type": "code",
   "execution_count": null,
   "id": "labeled-vessel",
   "metadata": {},
   "outputs": [
    {
     "data": {
      "image/png": "[encoded data removed]",
      "text/plain": [
       "<Figure size 432x288 with 1 Axes>"
      ]
     },
     "metadata": {
      "needs_background": "light"
     },
     "output_type": "display_data"
    }
   ],
   "source": [
    "plt.hist(df['bin_cut_linspace'].dropna(), bins=3)\n",
    "plt.show()"
   ]
  },
  {
   "cell_type": "markdown",
   "id": "changed-leone",
   "metadata": {},
   "source": [
    "# Categorizacion por frecuencia\n",
    "\n",
    "El agrupamiento por frecuencia calcula el tamaño de cada recipiente para que cada uno contenga el (casi) mismo número de observaciones, pero el rango del recipiente variará. Podemos utilizar la función qcut() de pandas Python. Podemos establecer el parámetro de precisión para definir el número de puntos decimales.\n",
    "\n",
    "\n",
    "\n"
   ]
  },
  {
   "cell_type": "code",
   "execution_count": null,
   "id": "adjacent-reality",
   "metadata": {},
   "outputs": [
    {
     "data": {
      "image/png": "[encoded data removed]",
      "text/plain": [
       "<Figure size 432x288 with 1 Axes>"
      ]
     },
     "metadata": {
      "needs_background": "light"
     },
     "output_type": "display_data"
    }
   ],
   "source": [
    "df['bin_qcut'] = pd.qcut(df['Cupcake'], q=3,precision=1, labels=labels)\n",
    "plt.hist(df['bin_qcut'].dropna(), bins=3)\n",
    "plt.show()"
   ]
  },
  {
   "cell_type": "markdown",
   "id": "worse-attribute",
   "metadata": {},
   "source": [
    "# Categoriazacion por Muestreo\n",
    "\n",
    "El muestreo es otra técnica de agrupación de datos. Permite reducir el número de muestras, agrupando valores similares o contiguos. Existen tres enfoques para realizar el muestreo\n",
    "\n",
    " *   por la media de las casillas: cada valor de una casilla se sustituye por el valor medio de la casilla.\n",
    " *   por la mediana del contenedor: cada valor del contenedor se sustituye por el valor de la mediana del mismo.\n",
    " *   por el límite de la bandeja: cada valor de la bandeja se sustituye por el valor más cercano al límite, es decir, el valor máximo o mínimo de la bandeja.\n",
    "\n",
    "Para realizar el muestreo, se puede utilizar la función binned_statistic() del paquete scipy.stats. Esta función recibe como entrada dos matrices, x_data e y_data, así como los estadísticos que se van a utilizar (por ejemplo, la mediana o la media) y el número de contenedores que se van a crear. La función devuelve los valores de los bins así como los bordes de cada bin.\n",
    "\n"
   ]
  },
  {
   "cell_type": "code",
   "execution_count": null,
   "id": "sound-regression",
   "metadata": {},
   "outputs": [
    {
     "data": {
      "text/plain": [
       "array([  4.,  52., 100.])"
      ]
     },
     "execution_count": 80,
     "metadata": {},
     "output_type": "execute_result"
    }
   ],
   "source": [
    "from scipy.stats import binned_statistic\n",
    "x_data = np.arange(0, len(df.dropna()))\n",
    "y_data = df['Cupcake'].dropna()\n",
    "x_bins,bin_edges, misc = binned_statistic(y_data,x_data, statistic=\"mean\", bins=2)\n",
    "bin_edges"
   ]
  },
  {
   "cell_type": "markdown",
   "id": "simple-headline",
   "metadata": {},
   "source": [
    "Ahora debemos aproximar cada valor de la columna df['Cupcake'] al valor de la mediana del bin correspondiente. Así, convertimos los bordes del bin en un IntervalIndex, que recibe como índice los bordes izquierdo y derecho de cada intervalo. En nuestro caso, los bordes izquierdos comienzan desde el principio de los bordes del bin y no contienen el último valor de los bordes del bin. Los bordes de la derecha, en cambio, comienzan desde el segundo valor de los bordes del contenedor y duran hasta el último valor.\n"
   ]
  },
  {
   "cell_type": "code",
   "execution_count": null,
   "id": "accessory-ordinary",
   "metadata": {},
   "outputs": [],
   "source": [
    "bin_intervals = pd.IntervalIndex.from_arrays(bin_edges[:-1], bin_edges[1:])"
   ]
  },
  {
   "cell_type": "markdown",
   "id": "floral-sheep",
   "metadata": {},
   "source": [
    "Podemos categorizar la columna Cupcake definiendo una función set_to_median() que recorre los intervalos y cuando encuentra el intervalo correcto, devuelve el valor medio.\n"
   ]
  },
  {
   "cell_type": "code",
   "execution_count": null,
   "id": "previous-necklace",
   "metadata": {},
   "outputs": [],
   "source": [
    "def set_to_median(x, bin_intervals):\n",
    "    for interval in bin_intervals:\n",
    "        if x in interval:\n",
    "            return interval.mid"
   ]
  },
  {
   "cell_type": "code",
   "execution_count": null,
   "id": "aquatic-howard",
   "metadata": {},
   "outputs": [],
   "source": [
    "df['sampled_cupcake'] = df['Cupcake'].apply(lambda x: set_to_median(x, bin_intervals))"
   ]
  },
  {
   "cell_type": "code",
   "execution_count": null,
   "id": "complimentary-trunk",
   "metadata": {},
   "outputs": [
    {
     "data": {
      "image/png": "[encoded data removed]",
      "text/plain": [
       "<Figure size 432x288 with 1 Axes>"
      ]
     },
     "metadata": {
      "needs_background": "light"
     },
     "output_type": "display_data"
    }
   ],
   "source": [
    "plt.plot(df['Cupcake'], label='original')\n",
    "plt.plot(df['sampled_cupcake'], color='red', label='sampled')\n",
    "plt.legend()\n",
    "plt.show()"
   ]
  },
  {
   "cell_type": "markdown",
   "id": "charitable-collective",
   "metadata": {},
   "source": [
    "## Detección de valores atípicos\n",
    "\n",
    "La detección de valores atípicos en un conjunto de datos implica el descubrimiento de elementos con un comportamiento anormal. La detección de valores atípicos puede considerarse una técnica de preprocesamiento, al igual que la detección de valores perdidos, la normalización, la estandarización, el formateo de datos, el agrupamiento de datos y la eliminación de duplicados. \n",
    "\n",
    "Existen diferentes técnicas para la detección de valores atípicos:\n",
    "\n",
    " *   Análisis de valores extremos: este enfoque supone que los valores demasiado grandes o demasiado pequeños son valores atípicos. Esta técnica incluye la prueba Z y la prueba t de Student;\n",
    " *   Modelos probabilísticos y estadísticos: estos enfoques asumen distribuciones específicas para los datos. Los valores atípicos son los puntos con baja probabilidad;\n",
    " *   Modelos lineales: estos enfoques aprovechan la distancia de cada punto de datos respecto a un plano específico para encontrar valores atípicos. Estas técnicas incluyen el PCA (análisis de componentes principales);\n",
    "*    Modelos basados en la proximidad: en estos modelos los valores atípicos son puntos que están aislados del resto de las observaciones. Estas técnicas incluyen el análisis de clústeres, el análisis basado en la densidad y el vecindario más cercano;\n",
    " *   Modelos teóricos de la información: en estos modelos los valores atípicos aumentan la longitud mínima del código para describir un conjunto de datos;\n",
    " *   Detección de valores atípicos de alta dimensión: estos modelos implementan métodos específicos para manejar datos dispersos de alta dimensión.\n"
   ]
  },
  {
   "cell_type": "code",
   "execution_count": null,
   "id": "later-runner",
   "metadata": {},
   "outputs": [
    {
     "data": {
      "image/png": "[encoded data removed]",
      "text/plain": [
       "<Figure size 432x288 with 1 Axes>"
      ]
     },
     "metadata": {
      "needs_background": "light"
     },
     "output_type": "display_data"
    }
   ],
   "source": [
    "X = np.arange(0,100)\n",
    "Y = np.sin(50*X)\n",
    "Y[5] = 1.25\n",
    "Y[60] = -2\n",
    "Y[85] = 1.4\n",
    "n_outliers = 3\n",
    "plt.plot(X,Y)\n",
    "plt.scatter(X,Y)\n",
    "plt.grid()\n",
    "plt.ylabel('Y')\n",
    "plt.xlabel('X')\n",
    "plt.show()"
   ]
  },
  {
   "cell_type": "markdown",
   "id": "seeing-memorabilia",
   "metadata": {},
   "source": [
    "Modelos basados en la proximidad\n",
    "\n",
    "Estos modelos consideran los valores atípicos como puntos aislados del resto de las observaciones. Los principales modelos basados en la proximidad son\n",
    "\n",
    "  *  el análisis de conglomerados\n",
    "  *  el análisis basado en la densidad\n",
    "  *  vecindad más cercana.\n",
    "\n",
    "La biblioteca pyod implementa los siguientes algoritmos:\n",
    "\n",
    "   * LOF (Local Outlier Factor)\n",
    "   * COF (Factor de valores atípicos basado en la conectividad)\n",
    "   * CBLOF (Clustering-Based Local Outlier Factor)\n",
    "   * LOCI (Integral de Correlación Local)\n",
    "   * HBOS (puntuación de valores atípicos basada en el histograma)\n",
    "   * kNN (k vecinos más cercanos)\n",
    "   * AvgKNN (kNN medio)\n",
    "   * MedKNN (kNN medio)\n",
    "   * SOD (Detección de valores atípicos en el subespacio)\n",
    "   * ROD (Detección de valores atípicos basada en la rotación)\n",
    "\n",
    "Aqui mostramos un ejemplo del modelo KNN. En primer lugar, reformulo los datos de Y en un formato que pueda darse como entrada al modelo KNN(). A continuación, construyo el modelo KNN y lo ajusto con Y. Finalmente, predigo los valores atípicos mediante la función predict()."
   ]
  },
  {
   "cell_type": "code",
   "execution_count": null,
   "id": "considered-general",
   "metadata": {},
   "outputs": [],
   "source": [
    "from pyod.models.knn import KNN\n",
    "\n",
    "Y = Y.reshape(-1, 1)\n",
    "clf = KNN()\n",
    "clf.fit(Y)\n",
    "\n",
    "outliers = clf.predict(Y)"
   ]
  },
  {
   "cell_type": "code",
   "execution_count": null,
   "id": "bright-essay",
   "metadata": {},
   "outputs": [],
   "source": [
    "Y_outliers = Y[np.where(outliers==1)]\n",
    "X_outliers = X[np.where(outliers==1)]\n",
    "Y_inliers = Y[np.where(outliers==0)]\n",
    "X_inliers = X[np.where(outliers==0)]"
   ]
  },
  {
   "cell_type": "code",
   "execution_count": null,
   "id": "micro-costs",
   "metadata": {},
   "outputs": [
    {
     "data": {
      "image/png": "[encoded data removed]",
      "text/plain": [
       "<Figure size 432x288 with 1 Axes>"
      ]
     },
     "metadata": {
      "needs_background": "light"
     },
     "output_type": "display_data"
    }
   ],
   "source": [
    "plt.scatter(X_outliers, Y_outliers, edgecolor='black',color='red', label='outliers')\n",
    "plt.scatter(X_inliers, Y_inliers, edgecolor='black',color='green', label='inliers')\n",
    "plt.legend()\n",
    "plt.grid()\n",
    "plt.ylabel('Y')\n",
    "plt.xlabel('X')\n",
    "plt.show()"
   ]
  },
  {
   "cell_type": "code",
   "execution_count": null,
   "id": "logical-dinner",
   "metadata": {},
   "outputs": [],
   "source": []
  }
 ],
 "metadata": {
  "kernelspec": {
   "display_name": "Python 3",
   "language": "python",
   "name": "python3"
  },
  "language_info": {
   "codemirror_mode": {
    "name": "ipython",
    "version": 3
   },
   "file_extension": ".py",
   "mimetype": "text/x-python",
   "name": "python",
   "nbconvert_exporter": "python",
   "pygments_lexer": "ipython3",
   "version": "3.8.8"
  },
  "vscode": {
   "interpreter": {
    "hash": "3c94f911bf3ef5ee3fb9b08a8b87884dbcf12148a8bae2a7a04293b68ee3bed7"
   }
  }
 },
 "nbformat": 4,
 "nbformat_minor": 5
}
