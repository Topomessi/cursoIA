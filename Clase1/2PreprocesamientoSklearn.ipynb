{
 "cells": [
  {
   "cell_type": "markdown",
   "id": "conceptual-comment",
   "metadata": {
    "tags": []
   },
   "source": [
    "## Preprocessamiento con Sklearn\n",
    "\n",
    "¿Qué veremos?\n",
    "*  Completar datos interpolando y utilizando Scitkilearn\n",
    "*  Detección de anomalías\n",
    "*  Normalización de datos\n",
    "*  Categorización de variables\n",
    "*  Análisis de fechas."
   ]
  },
  {
   "cell_type": "code",
   "execution_count": 5,
   "id": "accessible-theta",
   "metadata": {},
   "outputs": [],
   "source": [
    "# Python ≥3.5 is required\n",
    "import sys\n",
    "assert sys.version_info >= (3, 5)"
   ]
  },
  {
   "cell_type": "code",
   "execution_count": 6,
   "id": "warming-infrastructure",
   "metadata": {},
   "outputs": [],
   "source": [
    "# Scikit-Learn ≥0.20 is required\n",
    "import sklearn\n",
    "assert sklearn.__version__ >= \"0.20\""
   ]
  },
  {
   "cell_type": "code",
   "execution_count": 7,
   "id": "fifty-keeping",
   "metadata": {},
   "outputs": [],
   "source": [
    "import os\n",
    "import matplotlib.pyplot as plt\n",
    "import numpy as np\n",
    "import pandas as pd\n",
    "%matplotlib inline\n",
    "import matplotlib as mpl\n",
    "mpl.rc('axes', labelsize=14)\n",
    "mpl.rc('xtick', labelsize=12)\n",
    "mpl.rc('ytick', labelsize=12)"
   ]
  },
  {
   "cell_type": "markdown",
   "id": "catholic-performance",
   "metadata": {},
   "source": [
    "## Interpolacion utilizando scikitlearn"
   ]
  },
  {
   "cell_type": "markdown",
   "id": "institutional-challenge",
   "metadata": {},
   "source": [
    "## Preprocesamiento de datos con scikit-learn - Valores perdidos\n",
    "\n",
    "\n",
    "En este tutorial explotamos el conjunto de datos cupcake.csv, que contiene la tendencia de búsqueda de la palabra cupcake en Google Trends. Los datos se extraen de este enlace. En el conjunto de datos original se han eliminado los datos correspondientes a 2004-02 y 2006-03, para demostrar cómo tratar los valores perdidos. Los valores originales eran 5 y 10 respectivamente. Aprovechamos la biblioteca pandas para importar el conjunto de datos y lo transformamos en un marco de datos mediante la función read_csv()."
   ]
  },
  {
   "cell_type": "code",
   "execution_count": 8,
   "id": "stone-paint",
   "metadata": {},
   "outputs": [
    {
     "data": {
      "text/html": [
       "<div>\n",
       "<style scoped>\n",
       "    .dataframe tbody tr th:only-of-type {\n",
       "        vertical-align: middle;\n",
       "    }\n",
       "\n",
       "    .dataframe tbody tr th {\n",
       "        vertical-align: top;\n",
       "    }\n",
       "\n",
       "    .dataframe thead th {\n",
       "        text-align: right;\n",
       "    }\n",
       "</style>\n",
       "<table border=\"1\" class=\"dataframe\">\n",
       "  <thead>\n",
       "    <tr style=\"text-align: right;\">\n",
       "      <th></th>\n",
       "      <th>Mese</th>\n",
       "      <th>Cupcake</th>\n",
       "    </tr>\n",
       "  </thead>\n",
       "  <tbody>\n",
       "    <tr>\n",
       "      <th>0</th>\n",
       "      <td>2004-01</td>\n",
       "      <td>5.0</td>\n",
       "    </tr>\n",
       "    <tr>\n",
       "      <th>1</th>\n",
       "      <td>2004-02</td>\n",
       "      <td>NaN</td>\n",
       "    </tr>\n",
       "    <tr>\n",
       "      <th>2</th>\n",
       "      <td>2004-03</td>\n",
       "      <td>4.0</td>\n",
       "    </tr>\n",
       "    <tr>\n",
       "      <th>3</th>\n",
       "      <td>2004-04</td>\n",
       "      <td>6.0</td>\n",
       "    </tr>\n",
       "    <tr>\n",
       "      <th>4</th>\n",
       "      <td>2004-05</td>\n",
       "      <td>5.0</td>\n",
       "    </tr>\n",
       "  </tbody>\n",
       "</table>\n",
       "</div>"
      ],
      "text/plain": [
       "      Mese  Cupcake\n",
       "0  2004-01      5.0\n",
       "1  2004-02      NaN\n",
       "2  2004-03      4.0\n",
       "3  2004-04      6.0\n",
       "4  2004-05      5.0"
      ]
     },
     "execution_count": 8,
     "metadata": {},
     "output_type": "execute_result"
    }
   ],
   "source": [
    "df = pd.read_csv('datasets/cupcake.csv')\n",
    "df.head(5)"
   ]
  },
  {
   "cell_type": "code",
   "execution_count": 9,
   "id": "angry-school",
   "metadata": {},
   "outputs": [],
   "source": [
    "X = np.array(df['Cupcake']).reshape(-1,1)\n"
   ]
  },
  {
   "cell_type": "markdown",
   "id": "decreased-scroll",
   "metadata": {},
   "source": [
    "Los valores perdidos son valores que no están disponibles en el conjunto de datos original. Una solución para tratar los valores perdidos podría ser su eliminación del conjunto de datos. Sin embargo, esto conduce a la pérdida de datos. La biblioteca scikit-learn ofrece dos mecanismos para tratar los valores perdidos:\n",
    "\n",
    "   * Imputación de características univariante\n",
    "   * Imputación de características multivariantes\n",
    "   * Imputación de vecinos más cercanos\n",
    "\n",
    "## Imputación de características univariante\n",
    "\n",
    "En la Imputación de Características Univariantes se trata de reemplazar los valores perdidos por un valor constante o alguna estadística proporcionada relacionada con una característica. La clase SimpleImputer puede utilizarse para realizar la imputación univariante de características. Especificamos cuál es el valor que falta a través del parámetro missing_values y la estrategia de reemplazo a través del parámetro strategy. Por ejemplo, podemos sustituir todos los valores NaN (identificados por la variable numpy.nan) por el valor medio de la columna."
   ]
  },
  {
   "cell_type": "code",
   "execution_count": 10,
   "id": "useful-steering",
   "metadata": {},
   "outputs": [],
   "source": [
    "import numpy as np\n",
    "from sklearn.impute import SimpleImputer\n",
    "\n"
   ]
  },
  {
   "cell_type": "markdown",
   "id": "tutorial-zambia",
   "metadata": {},
   "source": [
    "Ahora podemos encajar el preprocesador con la columna `Cupcake` del dataframe. \n"
   ]
  },
  {
   "cell_type": "code",
   "execution_count": 11,
   "id": "adopted-editor",
   "metadata": {},
   "outputs": [],
   "source": [
    "preprocessor = SimpleImputer(missing_values=np.nan, strategy='mean')"
   ]
  },
  {
   "cell_type": "markdown",
   "id": "fiscal-italy",
   "metadata": {},
   "source": [
    "Ahora podemos ajustar el preprocesador con la columna `Cupcake` del dataframe. \n"
   ]
  },
  {
   "cell_type": "code",
   "execution_count": 12,
   "id": "protecting-notice",
   "metadata": {},
   "outputs": [
    {
     "data": {
      "text/plain": [
       "SimpleImputer()"
      ]
     },
     "execution_count": 12,
     "metadata": {},
     "output_type": "execute_result"
    }
   ],
   "source": [
    "preprocessor.fit(X)"
   ]
  },
  {
   "cell_type": "markdown",
   "id": "christian-bronze",
   "metadata": {},
   "source": [
    "Aplicamos la función `transform()` a nuestros datos.\n"
   ]
  },
  {
   "cell_type": "code",
   "execution_count": 13,
   "id": "selective-clear",
   "metadata": {},
   "outputs": [],
   "source": [
    "X_prep = preprocessor.transform(X)"
   ]
  },
  {
   "cell_type": "markdown",
   "id": "combined-friendly",
   "metadata": {},
   "source": [
    "Lo convertimos a la forma original aplicando la función inversa reshape() y almacenamos el resultado en una nueva columna del datafram df.\n"
   ]
  },
  {
   "cell_type": "code",
   "execution_count": 14,
   "id": "israeli-cheese",
   "metadata": {},
   "outputs": [
    {
     "data": {
      "text/html": [
       "<div>\n",
       "<style scoped>\n",
       "    .dataframe tbody tr th:only-of-type {\n",
       "        vertical-align: middle;\n",
       "    }\n",
       "\n",
       "    .dataframe tbody tr th {\n",
       "        vertical-align: top;\n",
       "    }\n",
       "\n",
       "    .dataframe thead th {\n",
       "        text-align: right;\n",
       "    }\n",
       "</style>\n",
       "<table border=\"1\" class=\"dataframe\">\n",
       "  <thead>\n",
       "    <tr style=\"text-align: right;\">\n",
       "      <th></th>\n",
       "      <th>Mese</th>\n",
       "      <th>Cupcake</th>\n",
       "      <th>Cupcake_univariate</th>\n",
       "    </tr>\n",
       "  </thead>\n",
       "  <tbody>\n",
       "    <tr>\n",
       "      <th>0</th>\n",
       "      <td>2004-01</td>\n",
       "      <td>5.0</td>\n",
       "      <td>5.00</td>\n",
       "    </tr>\n",
       "    <tr>\n",
       "      <th>1</th>\n",
       "      <td>2004-02</td>\n",
       "      <td>NaN</td>\n",
       "      <td>50.05</td>\n",
       "    </tr>\n",
       "    <tr>\n",
       "      <th>2</th>\n",
       "      <td>2004-03</td>\n",
       "      <td>4.0</td>\n",
       "      <td>4.00</td>\n",
       "    </tr>\n",
       "    <tr>\n",
       "      <th>3</th>\n",
       "      <td>2004-04</td>\n",
       "      <td>6.0</td>\n",
       "      <td>6.00</td>\n",
       "    </tr>\n",
       "    <tr>\n",
       "      <th>4</th>\n",
       "      <td>2004-05</td>\n",
       "      <td>5.0</td>\n",
       "      <td>5.00</td>\n",
       "    </tr>\n",
       "  </tbody>\n",
       "</table>\n",
       "</div>"
      ],
      "text/plain": [
       "      Mese  Cupcake  Cupcake_univariate\n",
       "0  2004-01      5.0                5.00\n",
       "1  2004-02      NaN               50.05\n",
       "2  2004-03      4.0                4.00\n",
       "3  2004-04      6.0                6.00\n",
       "4  2004-05      5.0                5.00"
      ]
     },
     "execution_count": 14,
     "metadata": {},
     "output_type": "execute_result"
    }
   ],
   "source": [
    "df['Cupcake_univariate'] = X_prep.reshape(1,-1)[0]\n",
    "df.head()"
   ]
  },
  {
   "cell_type": "markdown",
   "id": "special-serial",
   "metadata": {},
   "source": [
    "## Imputación de características multivariantes\n",
    "\n",
    "En la imputación de características multivariantes, cada característica con valores perdidos se calcula en función de las demás características. Se construye una imputación iterativa por lo que se debe especificar el número máximo de iteraciones. Podemos utilizar la clase IterativeImputation. Consideramos dos características: la columna Cupcake y el índice del dataframe. Como el IterativeImputer está todavía en fase experimental, debemos habilitarlo explícitamente."
   ]
  },
  {
   "cell_type": "code",
   "execution_count": 15,
   "id": "positive-oregon",
   "metadata": {},
   "outputs": [],
   "source": [
    "from sklearn.experimental import enable_iterative_imputer\n",
    "from sklearn.impute import IterativeImputer\n",
    "preprocessor = IterativeImputer(max_iter=10, random_state=0)"
   ]
  },
  {
   "cell_type": "markdown",
   "id": "colonial-layer",
   "metadata": {},
   "source": [
    "Debemos convertir las dos características en matrices y transformarlas en la forma `[[f11,f21], [f12,f22] ...]`. Esto puede hacerse aplicando la función `reshape()` a cada característica y luego la función `hstack()` como sigue:\n"
   ]
  },
  {
   "cell_type": "code",
   "execution_count": 16,
   "id": "parental-newspaper",
   "metadata": {},
   "outputs": [],
   "source": [
    "X1 = np.array(df['Cupcake']).reshape(-1,1)\n",
    "X2 = np.array(df.index).reshape(-1,1)\n",
    "X = np.hstack((X1,X2))\n"
   ]
  },
  {
   "cell_type": "markdown",
   "id": "romance-grain",
   "metadata": {},
   "source": [
    "Ajustamos el preprocesador con las características obtenidas."
   ]
  },
  {
   "cell_type": "code",
   "execution_count": 17,
   "id": "particular-birthday",
   "metadata": {},
   "outputs": [
    {
     "data": {
      "text/plain": [
       "IterativeImputer(random_state=0)"
      ]
     },
     "execution_count": 17,
     "metadata": {},
     "output_type": "execute_result"
    }
   ],
   "source": [
    "preprocessor.fit(X)"
   ]
  },
  {
   "cell_type": "markdown",
   "id": "authorized-consideration",
   "metadata": {},
   "source": [
    "Y aplicamos el preprocesador a las mismas características X. Para recuperar el resultado de la operación, debemos aplicar la función hsplit(), que divide el array horizontalmente, y luego aplicamos la inversa reshape()."
   ]
  },
  {
   "cell_type": "code",
   "execution_count": 18,
   "id": "absolute-despite",
   "metadata": {},
   "outputs": [],
   "source": [
    "X_prep = preprocessor.transform(X)\n",
    "df['Cupcake_multivariate'] = np.hsplit(X_prep, 2)[0].reshape(1,-1)[0]"
   ]
  },
  {
   "cell_type": "code",
   "execution_count": 19,
   "id": "soviet-denmark",
   "metadata": {},
   "outputs": [
    {
     "data": {
      "text/plain": [
       "Mese                      2006-03\n",
       "Cupcake                       NaN\n",
       "Cupcake_univariate          50.05\n",
       "Cupcake_multivariate    28.469457\n",
       "Name: 26, dtype: object"
      ]
     },
     "execution_count": 19,
     "metadata": {},
     "output_type": "execute_result"
    }
   ],
   "source": [
    "df.iloc[26]"
   ]
  },
  {
   "cell_type": "markdown",
   "id": "common-rugby",
   "metadata": {},
   "source": [
    "## Imputación por vecinos más cercanos\n",
    "\n",
    "Esta categoría de imputación rellena los valores que faltan utilizando el enfoque de los vecinos más cercanos. Cada valor que falta se calcula utilizando los valores de n_vecinos más cercanos que tienen un valor. Podemos utilizar la clase KNNImputer de la biblioteca scikit-learn. Para que funcione correctamente, debemos especificar al menos dos características. Así, explotamos la variable X, previamente definida."
   ]
  },
  {
   "cell_type": "code",
   "execution_count": 20,
   "id": "false-copper",
   "metadata": {},
   "outputs": [],
   "source": [
    "from sklearn.impute import KNNImputer\n"
   ]
  },
  {
   "cell_type": "code",
   "execution_count": 21,
   "id": "isolated-repeat",
   "metadata": {},
   "outputs": [],
   "source": [
    "preprocessor = KNNImputer(n_neighbors=5, weights=\"distance\")\n",
    "preprocessor.fit(X)\n",
    "X_prep = preprocessor.transform(X)\n",
    "df['Cupcake_knn'] = np.hsplit(X_prep, 2)[0].reshape(1,-1)[0]"
   ]
  },
  {
   "cell_type": "code",
   "execution_count": 22,
   "id": "consecutive-skating",
   "metadata": {},
   "outputs": [
    {
     "data": {
      "text/plain": [
       "Mese                      2006-03\n",
       "Cupcake                       NaN\n",
       "Cupcake_univariate          50.05\n",
       "Cupcake_multivariate    28.469457\n",
       "Cupcake_knn                  10.7\n",
       "Name: 26, dtype: object"
      ]
     },
     "execution_count": 22,
     "metadata": {},
     "output_type": "execute_result"
    }
   ],
   "source": [
    "df.iloc[26]"
   ]
  },
  {
   "cell_type": "code",
   "execution_count": 23,
   "id": "brutal-bridges",
   "metadata": {},
   "outputs": [
    {
     "data": {
      "text/plain": [
       "Mese                      2004-02\n",
       "Cupcake                       NaN\n",
       "Cupcake_univariate          50.05\n",
       "Cupcake_multivariate    21.339636\n",
       "Cupcake_knn              4.918919\n",
       "Name: 1, dtype: object"
      ]
     },
     "execution_count": 23,
     "metadata": {},
     "output_type": "execute_result"
    }
   ],
   "source": [
    "df.iloc[1]"
   ]
  },
  {
   "cell_type": "code",
   "execution_count": 24,
   "id": "caroline-register",
   "metadata": {},
   "outputs": [
    {
     "data": {
      "text/plain": [
       "<AxesSubplot:>"
      ]
     },
     "execution_count": 24,
     "metadata": {},
     "output_type": "execute_result"
    },
    {
     "data": {
      "image/png": "[encoded data removed]",
      "text/plain": [
       "<Figure size 432x288 with 1 Axes>"
      ]
     },
     "metadata": {
      "needs_background": "light"
     },
     "output_type": "display_data"
    }
   ],
   "source": [
    "df.plot()"
   ]
  },
  {
   "cell_type": "markdown",
   "id": "precious-program",
   "metadata": {},
   "source": [
    "## Detección de valores atípicos\n",
    "\n",
    "La detección de valores atípicos en un conjunto de datos implica el descubrimiento de elementos con un comportamiento anormal. La detección de valores atípicos puede considerarse una técnica de preprocesamiento, al igual que la detección de valores perdidos, la normalización, la estandarización, el formateo de datos, el agrupamiento de datos y la eliminación de duplicados. \n",
    "\n",
    "Existen diferentes técnicas para la detección de valores atípicos:\n",
    "\n",
    " *   Análisis de valores extremos: este enfoque supone que los valores demasiado grandes o demasiado pequeños son valores atípicos. Esta técnica incluye la prueba Z y la prueba t de Student;\n",
    " *   Modelos probabilísticos y estadísticos: estos enfoques asumen distribuciones específicas para los datos. Los valores atípicos son los puntos con baja probabilidad;\n",
    " *   Modelos lineales: estos enfoques aprovechan la distancia de cada punto de datos respecto a un plano específico para encontrar valores atípicos. Estas técnicas incluyen el PCA (análisis de componentes principales);\n",
    "*    Modelos basados en la proximidad: en estos modelos los valores atípicos son puntos que están aislados del resto de las observaciones. Estas técnicas incluyen el análisis de clústeres, el análisis basado en la densidad y el vecindario más cercano;\n",
    " *   Modelos teóricos de la información: en estos modelos los valores atípicos aumentan la longitud mínima del código para describir un conjunto de datos;\n",
    " *   Detección de valores atípicos de alta dimensión: estos modelos implementan métodos específicos para manejar datos dispersos de alta dimensión.\n"
   ]
  },
  {
   "cell_type": "code",
   "execution_count": 25,
   "id": "funded-passenger",
   "metadata": {},
   "outputs": [
    {
     "data": {
      "image/png": "[encoded data removed]",
      "text/plain": [
       "<Figure size 432x288 with 1 Axes>"
      ]
     },
     "metadata": {
      "needs_background": "light"
     },
     "output_type": "display_data"
    }
   ],
   "source": [
    "X = np.arange(0,100)\n",
    "Y = np.sin(50*X)\n",
    "Y[5] = 1.25\n",
    "Y[60] = -2\n",
    "Y[85] = 1.4\n",
    "n_outliers = 3\n",
    "plt.plot(X,Y)\n",
    "plt.scatter(X,Y)\n",
    "plt.grid()\n",
    "plt.ylabel('Y')\n",
    "plt.xlabel('X')\n",
    "plt.show()"
   ]
  },
  {
   "cell_type": "markdown",
   "id": "powerful-presentation",
   "metadata": {},
   "source": [
    "Modelos basados en la proximidad\n",
    "\n",
    "Estos modelos consideran los valores atípicos como puntos aislados del resto de las observaciones. Los principales modelos basados en la proximidad son\n",
    "\n",
    "  *  el análisis de conglomerados\n",
    "  *  el análisis basado en la densidad\n",
    "  *  vecindad más cercana.\n",
    "\n",
    "La biblioteca pyod implementa los siguientes algoritmos:\n",
    "\n",
    "   * LOF (Local Outlier Factor)\n",
    "   * COF (Factor de valores atípicos basado en la conectividad)\n",
    "   * CBLOF (Clustering-Based Local Outlier Factor)\n",
    "   * LOCI (Integral de Correlación Local)\n",
    "   * HBOS (puntuación de valores atípicos basada en el histograma)\n",
    "   * kNN (k vecinos más cercanos)\n",
    "   * AvgKNN (kNN medio)\n",
    "   * MedKNN (kNN medio)\n",
    "   * SOD (Detección de valores atípicos en el subespacio)\n",
    "   * ROD (Detección de valores atípicos basada en la rotación)\n",
    "\n",
    "Aqui mostramos un ejemplo del modelo KNN. En primer lugar, reformulo los datos de Y en un formato que pueda darse como entrada al modelo KNN(). A continuación, construyo el modelo KNN y lo ajusto con Y. Finalmente, predigo los valores atípicos mediante la función predict()."
   ]
  },
  {
   "cell_type": "code",
   "execution_count": 26,
   "id": "trained-baseball",
   "metadata": {},
   "outputs": [],
   "source": [
    "from pyod.models.knn import KNN\n",
    "\n",
    "Y = Y.reshape(-1, 1)\n",
    "clf = KNN()\n",
    "clf.fit(Y)\n",
    "\n",
    "outliers = clf.predict(Y)"
   ]
  },
  {
   "cell_type": "code",
   "execution_count": 27,
   "id": "center-punch",
   "metadata": {},
   "outputs": [],
   "source": [
    "Y_outliers = Y[np.where(outliers==1)]\n",
    "X_outliers = X[np.where(outliers==1)]\n",
    "Y_inliers = Y[np.where(outliers==0)]\n",
    "X_inliers = X[np.where(outliers==0)]"
   ]
  },
  {
   "cell_type": "code",
   "execution_count": 28,
   "id": "committed-horizontal",
   "metadata": {},
   "outputs": [
    {
     "data": {
      "image/png": "[encoded data removed]",
      "text/plain": [
       "<Figure size 432x288 with 1 Axes>"
      ]
     },
     "metadata": {
      "needs_background": "light"
     },
     "output_type": "display_data"
    }
   ],
   "source": [
    "plt.scatter(X_outliers, Y_outliers, edgecolor='black',color='red', label='outliers')\n",
    "plt.scatter(X_inliers, Y_inliers, edgecolor='black',color='green', label='inliers')\n",
    "plt.legend()\n",
    "plt.grid()\n",
    "plt.ylabel('Y')\n",
    "plt.xlabel('X')\n",
    "plt.show()"
   ]
  },
  {
   "cell_type": "code",
   "execution_count": 29,
   "id": "spanish-singapore",
   "metadata": {},
   "outputs": [
    {
     "name": "stdout",
     "output_type": "stream",
     "text": [
      "Python 3.8.8\n"
     ]
    }
   ],
   "source": [
    "!python --version"
   ]
  },
  {
   "cell_type": "markdown",
   "id": "electric-footage",
   "metadata": {},
   "source": [
    "## Preprocesamiento de datos - Normalización\n",
    "\n",
    "La normalización de datos consiste en ajustar los valores medidos en diferentes escalas a una escala común. Cuando se trata de marcos de datos, la normalización de datos permite ajustar los valores referidos a diferentes columnas a una escala común. Esta operación es muy recomendable cuando las columnas de un marco de datos se consideran características de entrada de un algoritmo de aprendizaje automático, porque permite dar a todas las características el mismo peso.\n",
    "\n",
    "La normalización sólo se aplica a las columnas que contienen valores numéricos. Existen cinco métodos de normalización:\n",
    "\n",
    "  *  escalado de una característica\n",
    "  *  mín. máx.\n",
    "  *  puntuación z\n",
    "  *  escala logarítmica\n",
    "  *  recorte"
   ]
  },
  {
   "cell_type": "code",
   "execution_count": 30,
   "id": "pursuant-festival",
   "metadata": {},
   "outputs": [],
   "source": [
    "X = np.array(df['Cupcake_knn']).reshape(-1,1)\n"
   ]
  },
  {
   "cell_type": "markdown",
   "id": "realistic-coffee",
   "metadata": {},
   "source": [
    "## Escalado de características individuales\n",
    "\n",
    "El escalado de características simples convierte cada valor de una columna en un número entre 0 y 1. El nuevo valor se calcula como el valor actual dividido por el valor máximo de la columna. Esto se puede hacer a través de la clase MaxAbsScaler. Aplicamos el escalador a la columna de tampones, que mut se convierte en array y se remodela.\n"
   ]
  },
  {
   "cell_type": "code",
   "execution_count": 31,
   "id": "weird-steps",
   "metadata": {},
   "outputs": [],
   "source": [
    "from sklearn.preprocessing import MaxAbsScaler\n"
   ]
  },
  {
   "cell_type": "code",
   "execution_count": 32,
   "id": "wooden-acceptance",
   "metadata": {},
   "outputs": [],
   "source": [
    "scaler = MaxAbsScaler()"
   ]
  },
  {
   "cell_type": "code",
   "execution_count": 33,
   "id": "biological-framing",
   "metadata": {},
   "outputs": [
    {
     "data": {
      "text/plain": [
       "MaxAbsScaler()"
      ]
     },
     "execution_count": 33,
     "metadata": {},
     "output_type": "execute_result"
    }
   ],
   "source": [
    "scaler.fit(X)\n"
   ]
  },
  {
   "cell_type": "code",
   "execution_count": 34,
   "id": "noble-practitioner",
   "metadata": {},
   "outputs": [],
   "source": [
    "X_scaled = scaler.transform(X)\n"
   ]
  },
  {
   "cell_type": "code",
   "execution_count": 35,
   "id": "gentle-chick",
   "metadata": {},
   "outputs": [
    {
     "data": {
      "text/html": [
       "<div>\n",
       "<style scoped>\n",
       "    .dataframe tbody tr th:only-of-type {\n",
       "        vertical-align: middle;\n",
       "    }\n",
       "\n",
       "    .dataframe tbody tr th {\n",
       "        vertical-align: top;\n",
       "    }\n",
       "\n",
       "    .dataframe thead th {\n",
       "        text-align: right;\n",
       "    }\n",
       "</style>\n",
       "<table border=\"1\" class=\"dataframe\">\n",
       "  <thead>\n",
       "    <tr style=\"text-align: right;\">\n",
       "      <th></th>\n",
       "      <th>Mese</th>\n",
       "      <th>Cupcake</th>\n",
       "      <th>Cupcake_univariate</th>\n",
       "      <th>Cupcake_multivariate</th>\n",
       "      <th>Cupcake_knn</th>\n",
       "      <th>Cupcake_knn_singleFeatureScaling</th>\n",
       "    </tr>\n",
       "  </thead>\n",
       "  <tbody>\n",
       "    <tr>\n",
       "      <th>0</th>\n",
       "      <td>2004-01</td>\n",
       "      <td>5.0</td>\n",
       "      <td>5.00</td>\n",
       "      <td>5.000000</td>\n",
       "      <td>5.000000</td>\n",
       "      <td>0.050000</td>\n",
       "    </tr>\n",
       "    <tr>\n",
       "      <th>1</th>\n",
       "      <td>2004-02</td>\n",
       "      <td>NaN</td>\n",
       "      <td>50.05</td>\n",
       "      <td>21.339636</td>\n",
       "      <td>4.918919</td>\n",
       "      <td>0.049189</td>\n",
       "    </tr>\n",
       "    <tr>\n",
       "      <th>2</th>\n",
       "      <td>2004-03</td>\n",
       "      <td>4.0</td>\n",
       "      <td>4.00</td>\n",
       "      <td>4.000000</td>\n",
       "      <td>4.000000</td>\n",
       "      <td>0.040000</td>\n",
       "    </tr>\n",
       "    <tr>\n",
       "      <th>3</th>\n",
       "      <td>2004-04</td>\n",
       "      <td>6.0</td>\n",
       "      <td>6.00</td>\n",
       "      <td>6.000000</td>\n",
       "      <td>6.000000</td>\n",
       "      <td>0.060000</td>\n",
       "    </tr>\n",
       "    <tr>\n",
       "      <th>4</th>\n",
       "      <td>2004-05</td>\n",
       "      <td>5.0</td>\n",
       "      <td>5.00</td>\n",
       "      <td>5.000000</td>\n",
       "      <td>5.000000</td>\n",
       "      <td>0.050000</td>\n",
       "    </tr>\n",
       "  </tbody>\n",
       "</table>\n",
       "</div>"
      ],
      "text/plain": [
       "      Mese  Cupcake  Cupcake_univariate  Cupcake_multivariate  Cupcake_knn  \\\n",
       "0  2004-01      5.0                5.00              5.000000     5.000000   \n",
       "1  2004-02      NaN               50.05             21.339636     4.918919   \n",
       "2  2004-03      4.0                4.00              4.000000     4.000000   \n",
       "3  2004-04      6.0                6.00              6.000000     6.000000   \n",
       "4  2004-05      5.0                5.00              5.000000     5.000000   \n",
       "\n",
       "   Cupcake_knn_singleFeatureScaling  \n",
       "0                          0.050000  \n",
       "1                          0.049189  \n",
       "2                          0.040000  \n",
       "3                          0.060000  \n",
       "4                          0.050000  "
      ]
     },
     "execution_count": 35,
     "metadata": {},
     "output_type": "execute_result"
    }
   ],
   "source": [
    "\n",
    "df['Cupcake_knn_singleFeatureScaling'] = X_scaled.reshape(1,-1)[0]\n",
    "df.head()"
   ]
  },
  {
   "cell_type": "code",
   "execution_count": 36,
   "id": "stable-cotton",
   "metadata": {},
   "outputs": [
    {
     "data": {
      "text/plain": [
       "array([[ 5.        ],\n",
       "       [ 4.91891892],\n",
       "       [ 4.        ],\n",
       "       [ 6.        ],\n",
       "       [ 5.        ],\n",
       "       [ 6.        ],\n",
       "       [ 6.        ],\n",
       "       [ 5.        ],\n",
       "       [ 5.        ],\n",
       "       [10.        ]])"
      ]
     },
     "execution_count": 36,
     "metadata": {},
     "output_type": "execute_result"
    }
   ],
   "source": [
    "scaler.inverse_transform(X_scaled)[:10]"
   ]
  },
  {
   "cell_type": "markdown",
   "id": "animated-quarterly",
   "metadata": {},
   "source": [
    "## Min Max \n",
    "\n",
    "Min Max convierte cada valor de una columna en un número entre 0 y 1. El nuevo valor se calcula como la diferencia entre el valor actual y el valor min, dividido por el rango de los valores de la columna. En scikit-learn utilizamos la clase MinMaxScaler. Por ejemplo, podemos aplicar el método min max a una columna."
   ]
  },
  {
   "cell_type": "code",
   "execution_count": 37,
   "id": "designing-emission",
   "metadata": {},
   "outputs": [],
   "source": [
    "from sklearn.preprocessing import MinMaxScaler"
   ]
  },
  {
   "cell_type": "code",
   "execution_count": 38,
   "id": "abandoned-spanking",
   "metadata": {},
   "outputs": [],
   "source": [
    "scaler = MinMaxScaler()\n",
    "scaler.fit(X)\n",
    "X_scaled = scaler.transform(X)\n"
   ]
  },
  {
   "cell_type": "code",
   "execution_count": 39,
   "id": "express-wages",
   "metadata": {},
   "outputs": [
    {
     "data": {
      "text/html": [
       "<div>\n",
       "<style scoped>\n",
       "    .dataframe tbody tr th:only-of-type {\n",
       "        vertical-align: middle;\n",
       "    }\n",
       "\n",
       "    .dataframe tbody tr th {\n",
       "        vertical-align: top;\n",
       "    }\n",
       "\n",
       "    .dataframe thead th {\n",
       "        text-align: right;\n",
       "    }\n",
       "</style>\n",
       "<table border=\"1\" class=\"dataframe\">\n",
       "  <thead>\n",
       "    <tr style=\"text-align: right;\">\n",
       "      <th></th>\n",
       "      <th>Mese</th>\n",
       "      <th>Cupcake</th>\n",
       "      <th>Cupcake_univariate</th>\n",
       "      <th>Cupcake_multivariate</th>\n",
       "      <th>Cupcake_knn</th>\n",
       "      <th>Cupcake_knn_singleFeatureScaling</th>\n",
       "      <th>Cupcake_knn_minmax</th>\n",
       "    </tr>\n",
       "  </thead>\n",
       "  <tbody>\n",
       "    <tr>\n",
       "      <th>0</th>\n",
       "      <td>2004-01</td>\n",
       "      <td>5.0</td>\n",
       "      <td>5.00</td>\n",
       "      <td>5.000000</td>\n",
       "      <td>5.000000</td>\n",
       "      <td>0.050000</td>\n",
       "      <td>0.010417</td>\n",
       "    </tr>\n",
       "    <tr>\n",
       "      <th>1</th>\n",
       "      <td>2004-02</td>\n",
       "      <td>NaN</td>\n",
       "      <td>50.05</td>\n",
       "      <td>21.339636</td>\n",
       "      <td>4.918919</td>\n",
       "      <td>0.049189</td>\n",
       "      <td>0.009572</td>\n",
       "    </tr>\n",
       "    <tr>\n",
       "      <th>2</th>\n",
       "      <td>2004-03</td>\n",
       "      <td>4.0</td>\n",
       "      <td>4.00</td>\n",
       "      <td>4.000000</td>\n",
       "      <td>4.000000</td>\n",
       "      <td>0.040000</td>\n",
       "      <td>0.000000</td>\n",
       "    </tr>\n",
       "    <tr>\n",
       "      <th>3</th>\n",
       "      <td>2004-04</td>\n",
       "      <td>6.0</td>\n",
       "      <td>6.00</td>\n",
       "      <td>6.000000</td>\n",
       "      <td>6.000000</td>\n",
       "      <td>0.060000</td>\n",
       "      <td>0.020833</td>\n",
       "    </tr>\n",
       "    <tr>\n",
       "      <th>4</th>\n",
       "      <td>2004-05</td>\n",
       "      <td>5.0</td>\n",
       "      <td>5.00</td>\n",
       "      <td>5.000000</td>\n",
       "      <td>5.000000</td>\n",
       "      <td>0.050000</td>\n",
       "      <td>0.010417</td>\n",
       "    </tr>\n",
       "  </tbody>\n",
       "</table>\n",
       "</div>"
      ],
      "text/plain": [
       "      Mese  Cupcake  Cupcake_univariate  Cupcake_multivariate  Cupcake_knn  \\\n",
       "0  2004-01      5.0                5.00              5.000000     5.000000   \n",
       "1  2004-02      NaN               50.05             21.339636     4.918919   \n",
       "2  2004-03      4.0                4.00              4.000000     4.000000   \n",
       "3  2004-04      6.0                6.00              6.000000     6.000000   \n",
       "4  2004-05      5.0                5.00              5.000000     5.000000   \n",
       "\n",
       "   Cupcake_knn_singleFeatureScaling  Cupcake_knn_minmax  \n",
       "0                          0.050000            0.010417  \n",
       "1                          0.049189            0.009572  \n",
       "2                          0.040000            0.000000  \n",
       "3                          0.060000            0.020833  \n",
       "4                          0.050000            0.010417  "
      ]
     },
     "execution_count": 39,
     "metadata": {},
     "output_type": "execute_result"
    }
   ],
   "source": [
    "df['Cupcake_knn_minmax'] = X_scaled.reshape(1,-1)[0]\n",
    "df.head()"
   ]
  },
  {
   "cell_type": "code",
   "execution_count": 40,
   "id": "awful-zoning",
   "metadata": {},
   "outputs": [
    {
     "data": {
      "text/plain": [
       "(array([36., 12., 13., 11., 34., 26., 18., 18., 22., 14.]),\n",
       " array([0. , 0.1, 0.2, 0.3, 0.4, 0.5, 0.6, 0.7, 0.8, 0.9, 1. ]),\n",
       " <BarContainer object of 10 artists>)"
      ]
     },
     "execution_count": 40,
     "metadata": {},
     "output_type": "execute_result"
    },
    {
     "data": {
      "image/png": "[encoded data removed]",
      "text/plain": [
       "<Figure size 432x288 with 1 Axes>"
      ]
     },
     "metadata": {
      "needs_background": "light"
     },
     "output_type": "display_data"
    }
   ],
   "source": [
    "plt.hist(df['Cupcake_knn_minmax'].values)"
   ]
  },
  {
   "cell_type": "markdown",
   "id": "considerable-combat",
   "metadata": {},
   "source": [
    "## Zscore\n",
    "La puntuación Z convierte cada valor de una columna en un número en torno a 0. Los valores típicos que se obtienen mediante una transformación de puntuación z oscilan entre -3 y 3. El nuevo valor se calcula como la diferencia entre el valor actual y el valor medio, dividido por la desviación estándar. En scikit-learn podemos utilizar la función StandardScaler. Por ejemplo, podemos calcular la puntuación z de la columna deceduti."
   ]
  },
  {
   "cell_type": "code",
   "execution_count": 41,
   "id": "valid-worthy",
   "metadata": {},
   "outputs": [],
   "source": [
    "from sklearn.preprocessing import StandardScaler\n"
   ]
  },
  {
   "cell_type": "code",
   "execution_count": 42,
   "id": "moral-grill",
   "metadata": {},
   "outputs": [
    {
     "data": {
      "text/html": [
       "<div>\n",
       "<style scoped>\n",
       "    .dataframe tbody tr th:only-of-type {\n",
       "        vertical-align: middle;\n",
       "    }\n",
       "\n",
       "    .dataframe tbody tr th {\n",
       "        vertical-align: top;\n",
       "    }\n",
       "\n",
       "    .dataframe thead th {\n",
       "        text-align: right;\n",
       "    }\n",
       "</style>\n",
       "<table border=\"1\" class=\"dataframe\">\n",
       "  <thead>\n",
       "    <tr style=\"text-align: right;\">\n",
       "      <th></th>\n",
       "      <th>Mese</th>\n",
       "      <th>Cupcake</th>\n",
       "      <th>Cupcake_univariate</th>\n",
       "      <th>Cupcake_multivariate</th>\n",
       "      <th>Cupcake_knn</th>\n",
       "      <th>Cupcake_knn_singleFeatureScaling</th>\n",
       "      <th>Cupcake_knn_minmax</th>\n",
       "      <th>Cupcake_knn_Zscore</th>\n",
       "    </tr>\n",
       "  </thead>\n",
       "  <tbody>\n",
       "    <tr>\n",
       "      <th>0</th>\n",
       "      <td>2004-01</td>\n",
       "      <td>5.0</td>\n",
       "      <td>5.00</td>\n",
       "      <td>5.000000</td>\n",
       "      <td>5.000000</td>\n",
       "      <td>0.050000</td>\n",
       "      <td>0.010417</td>\n",
       "      <td>-1.589874</td>\n",
       "    </tr>\n",
       "    <tr>\n",
       "      <th>1</th>\n",
       "      <td>2004-02</td>\n",
       "      <td>NaN</td>\n",
       "      <td>50.05</td>\n",
       "      <td>21.339636</td>\n",
       "      <td>4.918919</td>\n",
       "      <td>0.049189</td>\n",
       "      <td>0.009572</td>\n",
       "      <td>-1.592757</td>\n",
       "    </tr>\n",
       "    <tr>\n",
       "      <th>2</th>\n",
       "      <td>2004-03</td>\n",
       "      <td>4.0</td>\n",
       "      <td>4.00</td>\n",
       "      <td>4.000000</td>\n",
       "      <td>4.000000</td>\n",
       "      <td>0.040000</td>\n",
       "      <td>0.000000</td>\n",
       "      <td>-1.625430</td>\n",
       "    </tr>\n",
       "    <tr>\n",
       "      <th>3</th>\n",
       "      <td>2004-04</td>\n",
       "      <td>6.0</td>\n",
       "      <td>6.00</td>\n",
       "      <td>6.000000</td>\n",
       "      <td>6.000000</td>\n",
       "      <td>0.060000</td>\n",
       "      <td>0.020833</td>\n",
       "      <td>-1.554319</td>\n",
       "    </tr>\n",
       "    <tr>\n",
       "      <th>4</th>\n",
       "      <td>2004-05</td>\n",
       "      <td>5.0</td>\n",
       "      <td>5.00</td>\n",
       "      <td>5.000000</td>\n",
       "      <td>5.000000</td>\n",
       "      <td>0.050000</td>\n",
       "      <td>0.010417</td>\n",
       "      <td>-1.589874</td>\n",
       "    </tr>\n",
       "  </tbody>\n",
       "</table>\n",
       "</div>"
      ],
      "text/plain": [
       "      Mese  Cupcake  Cupcake_univariate  Cupcake_multivariate  Cupcake_knn  \\\n",
       "0  2004-01      5.0                5.00              5.000000     5.000000   \n",
       "1  2004-02      NaN               50.05             21.339636     4.918919   \n",
       "2  2004-03      4.0                4.00              4.000000     4.000000   \n",
       "3  2004-04      6.0                6.00              6.000000     6.000000   \n",
       "4  2004-05      5.0                5.00              5.000000     5.000000   \n",
       "\n",
       "   Cupcake_knn_singleFeatureScaling  Cupcake_knn_minmax  Cupcake_knn_Zscore  \n",
       "0                          0.050000            0.010417           -1.589874  \n",
       "1                          0.049189            0.009572           -1.592757  \n",
       "2                          0.040000            0.000000           -1.625430  \n",
       "3                          0.060000            0.020833           -1.554319  \n",
       "4                          0.050000            0.010417           -1.589874  "
      ]
     },
     "execution_count": 42,
     "metadata": {},
     "output_type": "execute_result"
    }
   ],
   "source": [
    "scaler = StandardScaler()\n",
    "scaler.fit(X)\n",
    "X_scaled = scaler.transform(X)\n",
    "df['Cupcake_knn_Zscore'] = X_scaled.reshape(1,-1)[0]\n",
    "df.head()"
   ]
  },
  {
   "cell_type": "code",
   "execution_count": 43,
   "id": "charming-parade",
   "metadata": {},
   "outputs": [
    {
     "data": {
      "text/plain": [
       "(array([36., 12., 13., 11., 34., 26., 18., 18., 22., 14.]),\n",
       " array([-1.6254299 , -1.28409528, -0.94276066, -0.60142604, -0.26009142,\n",
       "         0.0812432 ,  0.42257782,  0.76391243,  1.10524705,  1.44658167,\n",
       "         1.78791629]),\n",
       " <BarContainer object of 10 artists>)"
      ]
     },
     "execution_count": 43,
     "metadata": {},
     "output_type": "execute_result"
    },
    {
     "data": {
      "image/png": "[encoded data removed]",
      "text/plain": [
       "<Figure size 432x288 with 1 Axes>"
      ]
     },
     "metadata": {
      "needs_background": "light"
     },
     "output_type": "display_data"
    }
   ],
   "source": [
    "plt.hist(df['Cupcake_knn_Zscore'].values)"
   ]
  },
  {
   "cell_type": "markdown",
   "id": "broken-laptop",
   "metadata": {},
   "source": [
    "## Escala logarítmica\n",
    "\n",
    "El escalamiento logarítmico implica la conversión de una columna a la escala logarítmica. Si queremos utilizar el logaritmo natural, podemos utilizar la función log() de la biblioteca numpy. Por ejemplo, podemos aplicar el escalado log a la columna dimessi_guariti. Debemos tratar con log(0) porque no existe. Utilizamos el operador lambda para seleccionar las filas individuales de la columna.\n",
    "\n"
   ]
  },
  {
   "cell_type": "code",
   "execution_count": 44,
   "id": "veterinary-preparation",
   "metadata": {},
   "outputs": [],
   "source": [
    "df['Cupcake_knn_log'] = df['Cupcake_knn'].apply(lambda x: np.log(x) if x != 0 else 0)"
   ]
  },
  {
   "cell_type": "code",
   "execution_count": null,
   "id": "norman-match",
   "metadata": {},
   "outputs": [],
   "source": []
  },
  {
   "cell_type": "markdown",
   "id": "stupid-interpretation",
   "metadata": {},
   "source": [
    "## Recorte\n",
    "\n",
    "El recorte implica la limitación de todos los valores por debajo o por encima de un determinado valor. El recorte es útil cuando una columna contiene algunos valores atípicos. Podemos establecer un valor máximo vmax y un valor mínimo vmin y establecer todos los valores atípicos mayores que el valor máximo en vmax y todos los valores atípicos menores que el valor mínimo en vmin. Por ejemplo, podemos considerar la columna ricoverati_con_sintomi y podemos establecer vmax = 10000 y vmin = 10."
   ]
  },
  {
   "cell_type": "code",
   "execution_count": 45,
   "id": "identified-flush",
   "metadata": {},
   "outputs": [],
   "source": [
    "vmax = 10000\n",
    "vmin = 10\n",
    "\n",
    "df['Cupcake_knn_clip'] = df['Cupcake_knn'].apply(lambda x: vmax if x > vmax else vmin if x < vmin else x)"
   ]
  },
  {
   "cell_type": "markdown",
   "id": "copyrighted-spectrum",
   "metadata": {},
   "source": [
    "## Categorizacion de variables continuas:Binning\n",
    "El binning (o bucketing) de datos agrupa los datos en bins (o buckets), en el sentido de que sustituye los valores contenidos en un pequeño intervalo por un único valor representativo de ese intervalo. A veces, el binning mejora la precisión de los modelos predictivos.\n",
    "\n",
    "El binning de datos es un tipo de preprocesamiento de datos, un mecanismo que incluye también el tratamiento de los valores perdidos, el formateo, la normalización y la estandarización.\n",
    "\n",
    "El binning puede aplicarse para convertir valores numéricos en categóricos o para muestrear (cuantificar) valores numéricos. \n",
    "\n",
    "    convertir valores numéricos en categóricos incluye el binning por distancia y el binning por frecuencia\n",
    "    reducir los valores numéricos incluye la cuantificación (o muestreo).\n",
    "\n",
    "El binning es una técnica de suavización de datos. El suavizado de datos se emplea para eliminar el ruido de los datos.\n",
    "\n",
    "# Clasificación por distancia\n",
    "\n",
    "En este caso definimos los bordes de cada bin. Agrupamos los valores relacionados con la columna Cupcake en tres grupos: pequeño, mediano y grande. Para ello, tenemos que calcular los intervalos dentro de cada grupo cae. Calculamos el intervalo como la diferencia entre el valor máximo y el mínimo y luego dividimos este intervalo en tres partes, una para cada grupo. Aprovechamos las funciones min() y max() de dataframe para calcular el valor mínimo y el valor máximo de la columna Cupcake.\n"
   ]
  },
  {
   "cell_type": "code",
   "execution_count": 46,
   "id": "aging-updating",
   "metadata": {},
   "outputs": [
    {
     "name": "stdout",
     "output_type": "stream",
     "text": [
      "4.0\n",
      "100.0\n"
     ]
    }
   ],
   "source": [
    "min_value = df['Cupcake'].min()\n",
    "max_value = df['Cupcake'].max()\n",
    "print(min_value)\n",
    "print(max_value)"
   ]
  },
  {
   "cell_type": "markdown",
   "id": "electoral-sixth",
   "metadata": {},
   "source": [
    "Ahora podemos calcular el rango de cada intervalo, es decir, el valor mínimo y máximo de cada intervalo. Como tenemos 3 grupos, necesitamos 4 bordes de intervalos (bins):\n",
    "\n",
    "*    pequeño - (borde1, borde2)\n",
    "*    mediano - (arista2, arista3)\n",
    "*   grande - (borde3, borde4)\n",
    "\n",
    "Podemos utilizar la función linspace() del paquete numpy para calcular los 4 bins, igualmente distribuidos.\n"
   ]
  },
  {
   "cell_type": "code",
   "execution_count": 47,
   "id": "complicated-aberdeen",
   "metadata": {},
   "outputs": [
    {
     "data": {
      "text/plain": [
       "array([  4.,  36.,  68., 100.])"
      ]
     },
     "execution_count": 47,
     "metadata": {},
     "output_type": "execute_result"
    }
   ],
   "source": [
    "bins = np.linspace(min_value,max_value,4)\n",
    "bins\n",
    "#bins = [ 0, 10, 50, 100 ]\n"
   ]
  },
  {
   "cell_type": "code",
   "execution_count": 48,
   "id": "cheap-apartment",
   "metadata": {},
   "outputs": [],
   "source": [
    "labels = ['pequenho', 'mediano', 'grande']"
   ]
  },
  {
   "cell_type": "markdown",
   "id": "universal-deadline",
   "metadata": {},
   "source": [
    "Podemos utilizar la función cut() para convertir los valores numéricos de la columna Cupcake en valores categóricos. Tenemos que especificar los intervalos y las etiquetas. Además, establecemos el parámetro include_lowest a True para incluir también el valor mínimo.\n"
   ]
  },
  {
   "cell_type": "code",
   "execution_count": 49,
   "id": "hourly-diesel",
   "metadata": {},
   "outputs": [],
   "source": [
    "df['bin_cut_linspace'] = pd.cut(df['Cupcake'], bins=bins, labels=labels, include_lowest=True)"
   ]
  },
  {
   "cell_type": "code",
   "execution_count": 50,
   "id": "popular-console",
   "metadata": {},
   "outputs": [
    {
     "data": {
      "image/png": "[encoded data removed]",
      "text/plain": [
       "<Figure size 432x288 with 1 Axes>"
      ]
     },
     "metadata": {
      "needs_background": "light"
     },
     "output_type": "display_data"
    }
   ],
   "source": [
    "plt.hist(df['bin_cut_linspace'].dropna(), bins=3)\n",
    "plt.show()"
   ]
  },
  {
   "cell_type": "markdown",
   "id": "aggressive-drunk",
   "metadata": {},
   "source": [
    "# Categorizacion por frecuencia\n",
    "\n",
    "El agrupamiento por frecuencia calcula el tamaño de cada recipiente para que cada uno contenga el (casi) mismo número de observaciones, pero el rango del recipiente variará. Podemos utilizar la función qcut() de pandas Python. Podemos establecer el parámetro de precisión para definir el número de puntos decimales.\n",
    "\n",
    "\n",
    "\n"
   ]
  },
  {
   "cell_type": "code",
   "execution_count": 51,
   "id": "gorgeous-sunset",
   "metadata": {},
   "outputs": [
    {
     "data": {
      "image/png": "[encoded data removed]",
      "text/plain": [
       "<Figure size 432x288 with 1 Axes>"
      ]
     },
     "metadata": {
      "needs_background": "light"
     },
     "output_type": "display_data"
    }
   ],
   "source": [
    "df['bin_qcut'] = pd.qcut(df['Cupcake'], q=3,precision=1, labels=labels)\n",
    "plt.hist(df['bin_qcut'].dropna(), bins=3)\n",
    "plt.show()"
   ]
  },
  {
   "cell_type": "markdown",
   "id": "frank-caution",
   "metadata": {},
   "source": [
    "# Categorización por Muestreo\n",
    "\n",
    "El muestreo es otra técnica de agrupación de datos. Permite reducir el número de muestras, agrupando valores similares o contiguos. Existen tres enfoques para realizar el muestreo\n",
    "\n",
    " *   por la media de las casillas: cada valor de una casilla se sustituye por el valor medio de la casilla.\n",
    " *   por la mediana del contenedor: cada valor del contenedor se sustituye por el valor de la mediana del mismo.\n",
    " *   por el límite de la bandeja: cada valor de la bandeja se sustituye por el valor más cercano al límite, es decir, el valor máximo o mínimo de la bandeja.\n",
    "\n",
    "Para realizar el muestreo, se puede utilizar la función binned_statistic() del paquete scipy.stats. Esta función recibe como entrada dos matrices, x_data e y_data, así como los estadísticos que se van a utilizar (por ejemplo, la mediana o la media) y el número de contenedores que se van a crear. La función devuelve los valores de los bins así como los bordes de cada bin.\n",
    "\n"
   ]
  },
  {
   "cell_type": "code",
   "execution_count": 52,
   "id": "upper-semiconductor",
   "metadata": {},
   "outputs": [
    {
     "data": {
      "text/plain": [
       "array([  4.,  52., 100.])"
      ]
     },
     "execution_count": 52,
     "metadata": {},
     "output_type": "execute_result"
    }
   ],
   "source": [
    "from scipy.stats import binned_statistic\n",
    "x_data = np.arange(0, len(df.dropna()))\n",
    "y_data = df['Cupcake'].dropna()\n",
    "x_bins,bin_edges, misc = binned_statistic(y_data,x_data, statistic=\"mean\", bins=2)\n",
    "bin_edges"
   ]
  },
  {
   "cell_type": "markdown",
   "id": "processed-marsh",
   "metadata": {},
   "source": [
    "Ahora debemos aproximar cada valor de la columna df['Cupcake'] al valor de la mediana del bin correspondiente. Así, convertimos los bordes del bin en un IntervalIndex, que recibe como índice los bordes izquierdo y derecho de cada intervalo. En nuestro caso, los bordes izquierdos comienzan desde el principio de los bordes del bin y no contienen el último valor de los bordes del bin. Los bordes de la derecha, en cambio, comienzan desde el segundo valor de los bordes del contenedor y duran hasta el último valor.\n"
   ]
  },
  {
   "cell_type": "code",
   "execution_count": 53,
   "id": "packed-orbit",
   "metadata": {},
   "outputs": [],
   "source": [
    "bin_intervals = pd.IntervalIndex.from_arrays(bin_edges[:-1], bin_edges[1:])"
   ]
  },
  {
   "cell_type": "markdown",
   "id": "specified-argument",
   "metadata": {},
   "source": [
    "Podemos categorizar la columna Cupcake definiendo una función set_to_median() que recorre los intervalos y cuando encuentra el intervalo correcto, devuelve el valor medio.\n"
   ]
  },
  {
   "cell_type": "code",
   "execution_count": 54,
   "id": "olympic-alcohol",
   "metadata": {},
   "outputs": [],
   "source": [
    "def set_to_median(x, bin_intervals):\n",
    "    for interval in bin_intervals:\n",
    "        if x in interval:\n",
    "            return interval.mid"
   ]
  },
  {
   "cell_type": "code",
   "execution_count": 55,
   "id": "insured-background",
   "metadata": {},
   "outputs": [],
   "source": [
    "df['sampled_cupcake'] = df['Cupcake'].apply(lambda x: set_to_median(x, bin_intervals))"
   ]
  },
  {
   "cell_type": "code",
   "execution_count": 56,
   "id": "recent-picture",
   "metadata": {},
   "outputs": [
    {
     "data": {
      "image/png": "[encoded data removed]",
      "text/plain": [
       "<Figure size 432x288 with 1 Axes>"
      ]
     },
     "metadata": {
      "needs_background": "light"
     },
     "output_type": "display_data"
    }
   ],
   "source": [
    "plt.plot(df['Cupcake'], label='original')\n",
    "plt.plot(df['sampled_cupcake'], color='red', label='sampled')\n",
    "plt.legend()\n",
    "plt.show()"
   ]
  },
  {
   "cell_type": "markdown",
   "id": "outside-graphic",
   "metadata": {},
   "source": [
    "## Codificacion de datos categóricos\n",
    "Muchos algoritmos de aprendizaje automático son incapaces de procesar variables categóricas. Por ejemplo: Bajo, Medio, Alto\n",
    "\n",
    "Por lo tanto, es importante codificar los datos en una forma adecuada para poder preprocesar estas variables. La codificación consiste en convertir todas las variables de entrada y salida en numéricas. De este modo, el modelo podrá comprender y extraer la información generando la salida deseada. Los datos categóricos varían en función del número de valores posibles.\n",
    "\n",
    "* Codificación de números enteros\n",
    "\n",
    "En este primer paso, asignará el valor entero para cada valor de categoría. Por ejemplo, el azul es 1, el verde es 2 y el amarillo es 3. Puede invertir fácilmente este tipo de codificación. También puede referirse a la codificación de enteros como codificación de etiquetas. Para muchas variables, este paso es suficiente para procesar el modelo.\n",
    "\n",
    "* Codificación unidireccional(one hot)\n",
    "\n",
    "Las variables categóricas no incluyen ninguna relación entre las variables como las variables ordinales. Por lo tanto, es necesario llevar el proceso de codificación a otro nivel. Para este tipo de datos, la codificación de números enteros no es suficiente. Incluso si se codifican los datos sin un orden natural, las categorías no se alinearán. Debido al bajo rendimiento, el resultado será inesperado.\n",
    "\n"
   ]
  },
  {
   "cell_type": "code",
   "execution_count": 57,
   "id": "living-michigan",
   "metadata": {},
   "outputs": [],
   "source": [
    "X=df['bin_qcut'].dropna()"
   ]
  },
  {
   "cell_type": "code",
   "execution_count": 58,
   "id": "fabulous-colors",
   "metadata": {},
   "outputs": [],
   "source": [
    "from sklearn.preprocessing import LabelEncoder, OneHotEncoder"
   ]
  },
  {
   "cell_type": "code",
   "execution_count": 59,
   "id": "thorough-bikini",
   "metadata": {},
   "outputs": [],
   "source": [
    "le = LabelEncoder()\n",
    "# 2/3. FIT AND TRANSFORM\n",
    "# use df.apply() to apply le.fit_transform to all columns\n",
    "X_2 = le.fit_transform(X)"
   ]
  },
  {
   "cell_type": "code",
   "execution_count": 60,
   "id": "genetic-smell",
   "metadata": {},
   "outputs": [
    {
     "data": {
      "text/plain": [
       "array([2, 2, 2, 2, 2, 2, 2, 2, 2, 2, 2, 2, 2, 2, 2, 2, 2, 2, 2, 2, 2, 2,\n",
       "       2, 2, 2, 2, 2, 2, 2, 2, 2, 2, 2, 2, 2, 2, 2, 2, 2, 2, 2, 2, 2, 2,\n",
       "       2, 2, 2, 2, 2, 2, 2, 2, 2, 2, 2, 2, 2, 2, 2, 2, 2, 2, 2, 2, 2, 1,\n",
       "       2, 1, 1, 2, 1, 1, 1, 1, 1, 1, 1, 0, 1, 1, 1, 1, 1, 0, 0, 0, 0, 0,\n",
       "       0, 0, 0, 0, 0, 0, 0, 0, 0, 0, 0, 0, 0, 0, 0, 0, 0, 0, 0, 0, 0, 0,\n",
       "       0, 0, 0, 0, 0, 0, 0, 0, 0, 0, 0, 0, 0, 0, 0, 0, 0, 0, 0, 0, 0, 0,\n",
       "       0, 0, 0, 0, 0, 0, 0, 0, 0, 0, 0, 0, 0, 0, 0, 1, 1, 1, 0, 1, 1, 1,\n",
       "       0, 1, 1, 1, 1, 1, 1, 1, 1, 1, 1, 1, 1, 1, 1, 1, 1, 1, 1, 1, 1, 1,\n",
       "       1, 1, 1, 1, 1, 1, 1, 1, 1, 1, 1, 1, 1, 1, 1, 1, 1, 1, 1, 1, 1, 1,\n",
       "       1, 1])"
      ]
     },
     "execution_count": 60,
     "metadata": {},
     "output_type": "execute_result"
    }
   ],
   "source": [
    "X_2"
   ]
  },
  {
   "cell_type": "markdown",
   "id": "otherwise-toilet",
   "metadata": {},
   "source": [
    "# One Hot"
   ]
  },
  {
   "cell_type": "code",
   "execution_count": 61,
   "id": "retired-gilbert",
   "metadata": {},
   "outputs": [],
   "source": [
    "ohe = OneHotEncoder()\n",
    "transformed = ohe.fit_transform(X_2.reshape(-1, 1))\n"
   ]
  },
  {
   "cell_type": "code",
   "execution_count": 62,
   "id": "configured-rough",
   "metadata": {},
   "outputs": [
    {
     "data": {
      "text/plain": [
       "array([[0., 0., 1.],\n",
       "       [0., 0., 1.],\n",
       "       [0., 0., 1.],\n",
       "       [0., 0., 1.],\n",
       "       [0., 0., 1.],\n",
       "       [0., 0., 1.],\n",
       "       [0., 0., 1.],\n",
       "       [0., 0., 1.],\n",
       "       [0., 0., 1.],\n",
       "       [0., 0., 1.],\n",
       "       [0., 0., 1.],\n",
       "       [0., 0., 1.],\n",
       "       [0., 0., 1.],\n",
       "       [0., 0., 1.],\n",
       "       [0., 0., 1.],\n",
       "       [0., 0., 1.],\n",
       "       [0., 0., 1.],\n",
       "       [0., 0., 1.],\n",
       "       [0., 0., 1.],\n",
       "       [0., 0., 1.],\n",
       "       [0., 0., 1.],\n",
       "       [0., 0., 1.],\n",
       "       [0., 0., 1.],\n",
       "       [0., 0., 1.],\n",
       "       [0., 0., 1.],\n",
       "       [0., 0., 1.],\n",
       "       [0., 0., 1.],\n",
       "       [0., 0., 1.],\n",
       "       [0., 0., 1.],\n",
       "       [0., 0., 1.],\n",
       "       [0., 0., 1.],\n",
       "       [0., 0., 1.],\n",
       "       [0., 0., 1.],\n",
       "       [0., 0., 1.],\n",
       "       [0., 0., 1.],\n",
       "       [0., 0., 1.],\n",
       "       [0., 0., 1.],\n",
       "       [0., 0., 1.],\n",
       "       [0., 0., 1.],\n",
       "       [0., 0., 1.],\n",
       "       [0., 0., 1.],\n",
       "       [0., 0., 1.],\n",
       "       [0., 0., 1.],\n",
       "       [0., 0., 1.],\n",
       "       [0., 0., 1.],\n",
       "       [0., 0., 1.],\n",
       "       [0., 0., 1.],\n",
       "       [0., 0., 1.],\n",
       "       [0., 0., 1.],\n",
       "       [0., 0., 1.],\n",
       "       [0., 0., 1.],\n",
       "       [0., 0., 1.],\n",
       "       [0., 0., 1.],\n",
       "       [0., 0., 1.],\n",
       "       [0., 0., 1.],\n",
       "       [0., 0., 1.],\n",
       "       [0., 0., 1.],\n",
       "       [0., 0., 1.],\n",
       "       [0., 0., 1.],\n",
       "       [0., 0., 1.],\n",
       "       [0., 0., 1.],\n",
       "       [0., 0., 1.],\n",
       "       [0., 0., 1.],\n",
       "       [0., 0., 1.],\n",
       "       [0., 0., 1.],\n",
       "       [0., 1., 0.],\n",
       "       [0., 0., 1.],\n",
       "       [0., 1., 0.],\n",
       "       [0., 1., 0.],\n",
       "       [0., 0., 1.],\n",
       "       [0., 1., 0.],\n",
       "       [0., 1., 0.],\n",
       "       [0., 1., 0.],\n",
       "       [0., 1., 0.],\n",
       "       [0., 1., 0.],\n",
       "       [0., 1., 0.],\n",
       "       [0., 1., 0.],\n",
       "       [1., 0., 0.],\n",
       "       [0., 1., 0.],\n",
       "       [0., 1., 0.],\n",
       "       [0., 1., 0.],\n",
       "       [0., 1., 0.],\n",
       "       [0., 1., 0.],\n",
       "       [1., 0., 0.],\n",
       "       [1., 0., 0.],\n",
       "       [1., 0., 0.],\n",
       "       [1., 0., 0.],\n",
       "       [1., 0., 0.],\n",
       "       [1., 0., 0.],\n",
       "       [1., 0., 0.],\n",
       "       [1., 0., 0.],\n",
       "       [1., 0., 0.],\n",
       "       [1., 0., 0.],\n",
       "       [1., 0., 0.],\n",
       "       [1., 0., 0.],\n",
       "       [1., 0., 0.],\n",
       "       [1., 0., 0.],\n",
       "       [1., 0., 0.],\n",
       "       [1., 0., 0.],\n",
       "       [1., 0., 0.],\n",
       "       [1., 0., 0.],\n",
       "       [1., 0., 0.],\n",
       "       [1., 0., 0.],\n",
       "       [1., 0., 0.],\n",
       "       [1., 0., 0.],\n",
       "       [1., 0., 0.],\n",
       "       [1., 0., 0.],\n",
       "       [1., 0., 0.],\n",
       "       [1., 0., 0.],\n",
       "       [1., 0., 0.],\n",
       "       [1., 0., 0.],\n",
       "       [1., 0., 0.],\n",
       "       [1., 0., 0.],\n",
       "       [1., 0., 0.],\n",
       "       [1., 0., 0.],\n",
       "       [1., 0., 0.],\n",
       "       [1., 0., 0.],\n",
       "       [1., 0., 0.],\n",
       "       [1., 0., 0.],\n",
       "       [1., 0., 0.],\n",
       "       [1., 0., 0.],\n",
       "       [1., 0., 0.],\n",
       "       [1., 0., 0.],\n",
       "       [1., 0., 0.],\n",
       "       [1., 0., 0.],\n",
       "       [1., 0., 0.],\n",
       "       [1., 0., 0.],\n",
       "       [1., 0., 0.],\n",
       "       [1., 0., 0.],\n",
       "       [1., 0., 0.],\n",
       "       [1., 0., 0.],\n",
       "       [1., 0., 0.],\n",
       "       [1., 0., 0.],\n",
       "       [1., 0., 0.],\n",
       "       [1., 0., 0.],\n",
       "       [1., 0., 0.],\n",
       "       [1., 0., 0.],\n",
       "       [1., 0., 0.],\n",
       "       [1., 0., 0.],\n",
       "       [1., 0., 0.],\n",
       "       [1., 0., 0.],\n",
       "       [1., 0., 0.],\n",
       "       [1., 0., 0.],\n",
       "       [1., 0., 0.],\n",
       "       [1., 0., 0.],\n",
       "       [1., 0., 0.],\n",
       "       [1., 0., 0.],\n",
       "       [0., 1., 0.],\n",
       "       [0., 1., 0.],\n",
       "       [0., 1., 0.],\n",
       "       [1., 0., 0.],\n",
       "       [0., 1., 0.],\n",
       "       [0., 1., 0.],\n",
       "       [0., 1., 0.],\n",
       "       [1., 0., 0.],\n",
       "       [0., 1., 0.],\n",
       "       [0., 1., 0.],\n",
       "       [0., 1., 0.],\n",
       "       [0., 1., 0.],\n",
       "       [0., 1., 0.],\n",
       "       [0., 1., 0.],\n",
       "       [0., 1., 0.],\n",
       "       [0., 1., 0.],\n",
       "       [0., 1., 0.],\n",
       "       [0., 1., 0.],\n",
       "       [0., 1., 0.],\n",
       "       [0., 1., 0.],\n",
       "       [0., 1., 0.],\n",
       "       [0., 1., 0.],\n",
       "       [0., 1., 0.],\n",
       "       [0., 1., 0.],\n",
       "       [0., 1., 0.],\n",
       "       [0., 1., 0.],\n",
       "       [0., 1., 0.],\n",
       "       [0., 1., 0.],\n",
       "       [0., 1., 0.],\n",
       "       [0., 1., 0.],\n",
       "       [0., 1., 0.],\n",
       "       [0., 1., 0.],\n",
       "       [0., 1., 0.],\n",
       "       [0., 1., 0.],\n",
       "       [0., 1., 0.],\n",
       "       [0., 1., 0.],\n",
       "       [0., 1., 0.],\n",
       "       [0., 1., 0.],\n",
       "       [0., 1., 0.],\n",
       "       [0., 1., 0.],\n",
       "       [0., 1., 0.],\n",
       "       [0., 1., 0.],\n",
       "       [0., 1., 0.],\n",
       "       [0., 1., 0.],\n",
       "       [0., 1., 0.],\n",
       "       [0., 1., 0.],\n",
       "       [0., 1., 0.],\n",
       "       [0., 1., 0.],\n",
       "       [0., 1., 0.],\n",
       "       [0., 1., 0.],\n",
       "       [0., 1., 0.],\n",
       "       [0., 1., 0.],\n",
       "       [0., 1., 0.]])"
      ]
     },
     "execution_count": 62,
     "metadata": {},
     "output_type": "execute_result"
    }
   ],
   "source": [
    "transformed.toarray()"
   ]
  },
  {
   "cell_type": "code",
   "execution_count": null,
   "id": "streaming-priest",
   "metadata": {},
   "outputs": [],
   "source": []
  },
  {
   "cell_type": "code",
   "execution_count": 63,
   "id": "unsigned-sucking",
   "metadata": {},
   "outputs": [],
   "source": [
    "from datetime import datetime\n",
    "def parser(x):\n",
    "\treturn datetime.strptime(x,'%Y-%m')\n",
    " "
   ]
  },
  {
   "cell_type": "code",
   "execution_count": 64,
   "id": "wrong-crest",
   "metadata": {},
   "outputs": [],
   "source": [
    "\n",
    "series = pd.read_csv('datasets/cupcake.csv', header=0, parse_dates=[0], index_col=0, squeeze=True, date_parser=parser)\n"
   ]
  },
  {
   "cell_type": "code",
   "execution_count": 65,
   "id": "introductory-spokesman",
   "metadata": {},
   "outputs": [
    {
     "data": {
      "image/png": "[encoded data removed]",
      "text/plain": [
       "<Figure size 432x288 with 1 Axes>"
      ]
     },
     "metadata": {
      "needs_background": "light"
     },
     "output_type": "display_data"
    }
   ],
   "source": [
    "series.plot()\n",
    "plt.show()"
   ]
  },
  {
   "cell_type": "code",
   "execution_count": 66,
   "id": "green-doctor",
   "metadata": {},
   "outputs": [
    {
     "data": {
      "text/plain": [
       "Mese\n",
       "2004-01-01    5.0\n",
       "2004-02-01    NaN\n",
       "2004-03-01    4.0\n",
       "2004-04-01    6.0\n",
       "2004-05-01    5.0\n",
       "Name: Cupcake, dtype: float64"
      ]
     },
     "execution_count": 66,
     "metadata": {},
     "output_type": "execute_result"
    }
   ],
   "source": [
    "series.head()"
   ]
  },
  {
   "cell_type": "markdown",
   "id": "ordinary-affect",
   "metadata": {},
   "source": []
  },
  {
   "cell_type": "code",
   "execution_count": 67,
   "id": "private-lodging",
   "metadata": {},
   "outputs": [
    {
     "data": {
      "text/plain": [
       "Mese\n",
       "2004-01-01     5.000000\n",
       "2004-01-02     4.779471\n",
       "2004-01-03     4.566356\n",
       "2004-01-04     4.360137\n",
       "2004-01-05     4.160815\n",
       "                ...    \n",
       "2020-11-27    43.570899\n",
       "2020-11-28    43.441650\n",
       "2020-11-29    43.303991\n",
       "2020-11-30    43.157923\n",
       "2020-12-01    43.000000\n",
       "Freq: D, Name: Cupcake, Length: 6180, dtype: float64"
      ]
     },
     "execution_count": 67,
     "metadata": {},
     "output_type": "execute_result"
    }
   ],
   "source": [
    "series.resample('D').interpolate(method='spline', order=2)"
   ]
  },
  {
   "cell_type": "code",
   "execution_count": 68,
   "id": "toxic-sharp",
   "metadata": {},
   "outputs": [
    {
     "data": {
      "image/png": "[encoded data removed]",
      "text/plain": [
       "<Figure size 432x288 with 1 Axes>"
      ]
     },
     "metadata": {
      "needs_background": "light"
     },
     "output_type": "display_data"
    }
   ],
   "source": [
    "series.plot()\n",
    "plt.show()"
   ]
  },
  {
   "cell_type": "code",
   "execution_count": null,
   "id": "lucky-pharmacology",
   "metadata": {},
   "outputs": [],
   "source": []
  }
 ],
 "metadata": {
  "kernelspec": {
   "display_name": "Python 3",
   "language": "python",
   "name": "python3"
  },
  "language_info": {
   "codemirror_mode": {
    "name": "ipython",
    "version": 3
   },
   "file_extension": ".py",
   "mimetype": "text/x-python",
   "name": "python",
   "nbconvert_exporter": "python",
   "pygments_lexer": "ipython3",
   "version": "3.8.8"
  }
 },
 "nbformat": 4,
 "nbformat_minor": 5
}
