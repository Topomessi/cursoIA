{
 "cells": [
  {
   "cell_type": "markdown",
   "metadata": {
    "colab_type": "text",
    "id": "1u9QVVsShC9X"
   },
   "source": [
    "# Part 12.3: Keras Q-Learning in the OpenAI Gym\n",
    "\n",
    "Q-Learning, as we covered in the previous part, is a robust machine learning algorithm.  Unfortunately, Q-Learning requires that the Q-table contain an entry for every possible state that the environment can take.  If the environment only includes a handful of discrete state elements, then traditional Q-learning might be a good learning algorithm.  However, if the state space is large, the Q-table can become prohibitively large.\n",
    "\n",
    "Creating policies for large state spaces is a task that Deep Q-Learning Networks (DQN) can usually handle.  Unlike a table, a neural network does not require the program to represent every combination of state and action.  Neural networks can generalize these states and learn commonalities.  A DQN maps the state to its input neurons and the action Q-values to the output neurons.  The DQN effectively becomes a function that accepts state and suggestions an action by returning the expected reward for each of the possible actions. Figure 12.DQL demonstrates the DQN structure and mapping between state and action.\n",
    "\n",
    "**Figure 12.DQL: Deep Q-Learning (DQL)**\n",
    "![Deep Q-Learning](https://raw.githubusercontent.com/jeffheaton/t81_558_deep_learning/master/images/deepqlearning.png \"Reinforcement Learning\")\n",
    "\n",
    "\n"
   ]
  },
  {
   "cell_type": "markdown",
   "metadata": {
    "colab_type": "text",
    "id": "kNrNXKI7bINP"
   },
   "source": [
    "As this diagram illustrates, the environment state contains several elements.  For the basic DQN the state can be a mix of continuous and categorical/discrete values.  For the DQN, the discrete state elements the program typically encoded as dummy variables. The actions should be discrete when your program implements a DQN.  Other algorithms support continuous outputs, which we will discuss later in this chapter.\n",
    "\n",
    "In this chapter, we will make use of [TF-Agents](https://www.tensorflow.org/agents) to implement a DQN to solve the cart-pole environment.  TF-Agents makes designing, implementing, and testing new RL algorithms easier by providing well tested modular components that can be modified and extended. It enables fast code iteration, with functional test integration and benchmarking.\n",
    "\n",
    "## DQN and the Cart-Pole Problem\n",
    "\n",
    "Barto (1983) first described the cart-pole problem. [[Cite:barto1983neuronlike]](http://www.derongliu.org/adp/adp-cdrom/Barto1983.pdf) A cart is connected to a hinged rigid pole.  The cart is free to move only in the vertical plane of the cart/track.  The agent can apply an implusive \"left\" or \"right\" force F of a fixed magnitude to the cart at discrete time intervals.  The cart-pole environment simulates the physics behind keeping the pole in a reasonably upright position on the cart.  The environment has four state variables:\n",
    "* $x$ The position of the cart on the track.\n",
    "* $\\theta$ The angle of the pole with the vertical\n",
    "* $\\dot{x}$ The cart velocity.\n",
    "* $\\dot{\\theta}$ The rate of change of the angle.\n",
    "\n",
    "The action space consists of discrete actions:\n",
    "* Apply force left\n",
    "* Apply force right\n",
    "\n",
    "To apply DQN to this problem, you need to create the following components for TF-Agents.\n",
    "\n",
    "* Environment\n",
    "* Agent\n",
    "* Policies\n",
    "* Metrics and Evaluation\n",
    "* Replay Buffer\n",
    "* Data Collection\n",
    "* Training\n",
    "\n",
    "These components are standard in most DQN implementations.  Later, we will apply these same components to an Atari game, and after that, a problem of our design. This example is based on the [cart-pole tutorial](https://github.com/tensorflow/agents/blob/master/docs/tutorials/1_dqn_tutorial.ipynb) provided for TF-Agents.  We begin by importing needed Python libraries.\n"
   ]
  },
  {
   "cell_type": "code",
   "execution_count": 1,
   "metadata": {
    "colab": {},
    "colab_type": "code",
    "id": "sMitx5qSgJk1"
   },
   "outputs": [
    {
     "name": "stderr",
     "output_type": "stream",
     "text": [
      "D:\\UserFiles\\anaconda\\envs\\ia\\lib\\site-packages\\numpy\\_distributor_init.py:30: UserWarning: loaded more than 1 DLL from .libs:\n",
      "D:\\UserFiles\\anaconda\\envs\\ia\\lib\\site-packages\\numpy\\.libs\\libopenblas.NOIJJG62EMASZI6NYURL6JBKM4EVBGM7.gfortran-win_amd64.dll\n",
      "D:\\UserFiles\\anaconda\\envs\\ia\\lib\\site-packages\\numpy\\.libs\\libopenblas.WCDJNK7YVMPZQ2ME2ZZHJJRJ3JIKNDB7.gfortran-win_amd64.dll\n",
      "  warnings.warn(\"loaded more than 1 DLL from .libs:\\n%s\" %\n"
     ]
    }
   ],
   "source": [
    "import base64\n",
    "#import imageio\n",
    "import IPython\n",
    "import matplotlib\n",
    "import matplotlib.pyplot as plt\n",
    "import numpy as np\n",
    "import PIL.Image\n",
    "import pyvirtualdisplay\n",
    "\n",
    "import tensorflow as tf\n",
    "\n",
    "from tf_agents.agents.dqn import dqn_agent\n",
    "from tf_agents.drivers import dynamic_step_driver\n",
    "from tf_agents.environments import suite_gym\n",
    "from tf_agents.environments import tf_py_environment\n",
    "from tf_agents.eval import metric_utils\n",
    "from tf_agents.metrics import tf_metrics\n",
    "from tf_agents.networks import q_network\n",
    "from tf_agents.policies import random_tf_policy\n",
    "from tf_agents.replay_buffers import tf_uniform_replay_buffer\n",
    "from tf_agents.trajectories import trajectory\n",
    "from tf_agents.utils import common"
   ]
  },
  {
   "cell_type": "code",
   "execution_count": null,
   "metadata": {},
   "outputs": [],
   "source": []
  },
  {
   "cell_type": "markdown",
   "metadata": {
    "colab_type": "text",
    "id": "LmC0NDhdLIKY"
   },
   "source": [
    "## Hyperparameters\n",
    "\n",
    "Several hyperparameters must be defined.  The TF-Agent example provided reasonably well-tuned hyperparameters for cart-pole.  Later we will adapt these to an Atari game."
   ]
  },
  {
   "cell_type": "code",
   "execution_count": 3,
   "metadata": {
    "colab": {},
    "colab_type": "code",
    "id": "HC1kNrOsLSIZ"
   },
   "outputs": [],
   "source": [
    "# How long should training run?\n",
    "num_iterations = 20000 \n",
    "# How many initial random steps, before training start, to\n",
    "# collect initial data.\n",
    "initial_collect_steps = 1000   \n",
    "# How many steps should we run each iteration to collect \n",
    "# data from.\n",
    "collect_steps_per_iteration = 1 \n",
    "# How much data should we store for training examples.\n",
    "replay_buffer_max_length = 100000\n",
    "\n",
    "batch_size = 64  \n",
    "learning_rate = 1e-3 \n",
    "# How often should the program provide an update.\n",
    "log_interval = 200  \n",
    "\n",
    "# How many episodes should the program use for each evaluation.\n",
    "num_eval_episodes = 10\n",
    "# How often should an evaluation occur.\n",
    "eval_interval = 1000  "
   ]
  },
  {
   "cell_type": "markdown",
   "metadata": {
    "colab_type": "text",
    "id": "VMsJC3DEgI0x"
   },
   "source": [
    "## Environment\n",
    "\n",
    "TF-Agents uses OpenAI gym environments to represent the task or problem to be solved. Standard environments can be created in TF-Agents using **tf_agents.environments** suites. TF-Agents has suites for loading environments from sources such as the OpenAI Gym, Atari, and DM Control. We begin by loading the CartPole environment from the OpenAI Gym suite. "
   ]
  },
  {
   "cell_type": "code",
   "execution_count": 4,
   "metadata": {
    "colab": {},
    "colab_type": "code",
    "id": "pYEz-S9gEv2-"
   },
   "outputs": [],
   "source": [
    "env_name = 'CartPole-v0'\n",
    "env = suite_gym.load(env_name)"
   ]
  },
  {
   "cell_type": "markdown",
   "metadata": {
    "colab_type": "text",
    "id": "IIHYVBkuvPNw"
   },
   "source": [
    "We will quickly render this environment to see the visual representation."
   ]
  },
  {
   "cell_type": "code",
   "execution_count": 5,
   "metadata": {
    "colab": {
     "base_uri": "https://localhost:8080/",
     "height": 417
    },
    "colab_type": "code",
    "id": "RlO7WIQHu_7D",
    "outputId": "80809f67-ea56-4fe6-d0d1-cc7e5822e0a8"
   },
   "outputs": [
    {
     "data": {
      "image/png": "[encoded data removed]",
      "text/plain": [
       "<PIL.Image.Image image mode=RGB size=600x400 at 0x21F42BBBC40>"
      ]
     },
     "execution_count": 5,
     "metadata": {},
     "output_type": "execute_result"
    }
   ],
   "source": [
    "env.reset()\n",
    "PIL.Image.fromarray(env.render())"
   ]
  },
  {
   "cell_type": "markdown",
   "metadata": {
    "colab_type": "text",
    "id": "B9_lskPOey18"
   },
   "source": [
    "The `environment.step` method takes an `action` in the environment and returns a `TimeStep` tuple containing the next observation of the environment and the reward for the action.\n",
    "\n",
    "The `time_step_spec()` method returns the specification for the `TimeStep` tuple. Its `observation` attribute shows the shape of observations, the data types, and the ranges of allowed values. The `reward` attribute shows the same details for the reward.\n"
   ]
  },
  {
   "cell_type": "code",
   "execution_count": 6,
   "metadata": {
    "colab": {
     "base_uri": "https://localhost:8080/",
     "height": 72
    },
    "colab_type": "code",
    "id": "exDv57iHfwQV",
    "outputId": "d2fa3ab5-fc87-4547-d2a6-5088c1f79e49"
   },
   "outputs": [
    {
     "name": "stdout",
     "output_type": "stream",
     "text": [
      "Observation Spec:\n",
      "BoundedArraySpec(shape=(4,), dtype=dtype('float32'), name='observation', minimum=[-4.8000002e+00 -3.4028235e+38 -4.1887903e-01 -3.4028235e+38], maximum=[4.8000002e+00 3.4028235e+38 4.1887903e-01 3.4028235e+38])\n"
     ]
    }
   ],
   "source": [
    "print('Observation Spec:')\n",
    "print(env.time_step_spec().observation)"
   ]
  },
  {
   "cell_type": "code",
   "execution_count": 7,
   "metadata": {
    "colab": {
     "base_uri": "https://localhost:8080/",
     "height": 52
    },
    "colab_type": "code",
    "id": "UxiSyCbBUQPi",
    "outputId": "d076d38a-c64d-41f1-c1c1-754575fabb4f"
   },
   "outputs": [
    {
     "name": "stdout",
     "output_type": "stream",
     "text": [
      "Reward Spec:\n",
      "ArraySpec(shape=(), dtype=dtype('float32'), name='reward')\n"
     ]
    }
   ],
   "source": [
    "print('Reward Spec:')\n",
    "print(env.time_step_spec().reward)"
   ]
  },
  {
   "cell_type": "markdown",
   "metadata": {
    "colab_type": "text",
    "id": "b_lHcIcqUaqB"
   },
   "source": [
    "The `action_spec()` method returns the shape, data types, and allowed values of valid actions."
   ]
  },
  {
   "cell_type": "code",
   "execution_count": 8,
   "metadata": {
    "colab": {
     "base_uri": "https://localhost:8080/",
     "height": 72
    },
    "colab_type": "code",
    "id": "bttJ4uxZUQBr",
    "outputId": "3306c5c7-7462-4162-ae68-3404f898d744"
   },
   "outputs": [
    {
     "name": "stdout",
     "output_type": "stream",
     "text": [
      "Action Spec:\n",
      "BoundedArraySpec(shape=(), dtype=dtype('int64'), name='action', minimum=0, maximum=1)\n"
     ]
    }
   ],
   "source": [
    "print('Action Spec:')\n",
    "print(env.action_spec())"
   ]
  },
  {
   "cell_type": "markdown",
   "metadata": {
    "colab_type": "text",
    "id": "eJCgJnx3g0yY"
   },
   "source": [
    "In the Cartpole environment:\n",
    "\n",
    "-   `observation` is an array of 4 floats: \n",
    "    -   the position and velocity of the cart\n",
    "    -   the angular position and velocity of the pole \n",
    "-   `reward` is a scalar float value\n",
    "-   `action` is a scalar integer with only two possible values:\n",
    "    -   `0` — \"move left\"\n",
    "    -   `1` — \"move right\"\n"
   ]
  },
  {
   "cell_type": "code",
   "execution_count": 9,
   "metadata": {
    "colab": {
     "base_uri": "https://localhost:8080/",
     "height": 107
    },
    "colab_type": "code",
    "id": "V2UGR5t_iZX-",
    "outputId": "c8754ed2-00f1-4a91-9abd-b71771a8674e"
   },
   "outputs": [
    {
     "name": "stdout",
     "output_type": "stream",
     "text": [
      "Time step:\n",
      "TimeStep(step_type=array(0), reward=array(0., dtype=float32), discount=array(1., dtype=float32), observation=array([-0.00948801,  0.03642279, -0.00750723,  0.02342577], dtype=float32))\n",
      "Next time step:\n",
      "TimeStep(step_type=array(1), reward=array(1., dtype=float32), discount=array(1., dtype=float32), observation=array([-0.00875956,  0.23165159, -0.00703871, -0.27161628], dtype=float32))\n"
     ]
    }
   ],
   "source": [
    "time_step = env.reset()\n",
    "print('Time step:')\n",
    "print(time_step)\n",
    "\n",
    "action = np.array(1, dtype=np.int32)\n",
    "\n",
    "next_time_step = env.step(action)\n",
    "print('Next time step:')\n",
    "print(next_time_step)"
   ]
  },
  {
   "cell_type": "markdown",
   "metadata": {
    "colab_type": "text",
    "id": "4JSc9GviWUBK"
   },
   "source": [
    "Usually, the program instantiates two environments: one for training and one for evaluation. "
   ]
  },
  {
   "cell_type": "code",
   "execution_count": 10,
   "metadata": {
    "colab": {},
    "colab_type": "code",
    "id": "N7brXNIGWXjC"
   },
   "outputs": [],
   "source": [
    "train_py_env = suite_gym.load(env_name)\n",
    "eval_py_env = suite_gym.load(env_name)"
   ]
  },
  {
   "cell_type": "markdown",
   "metadata": {
    "colab_type": "text",
    "id": "zuUqXAVmecTU"
   },
   "source": [
    "The Cartpole environment, like most environments, is written in pure Python and is converted to TF-Agents and TensorFlow using the **TFPyEnvironment** wrapper. The original environment's API uses Numpy arrays. The **TFPyEnvironment** turns these to **Tensors** to make it compatible with Tensorflow agents and policies.\n"
   ]
  },
  {
   "cell_type": "code",
   "execution_count": 11,
   "metadata": {
    "colab": {},
    "colab_type": "code",
    "id": "Xp-Y4mD6eDhF"
   },
   "outputs": [],
   "source": [
    "train_env = tf_py_environment.TFPyEnvironment(train_py_env)\n",
    "eval_env = tf_py_environment.TFPyEnvironment(eval_py_env)"
   ]
  },
  {
   "cell_type": "markdown",
   "metadata": {
    "colab_type": "text",
    "id": "E9lW_OZYFR8A"
   },
   "source": [
    "## Agent\n",
    "\n",
    "An Agent represents the algorithm used to solve an RL problem. TF-Agents provides standard implementations of a variety of Agents:\n",
    "\n",
    "-   [DQN](https://storage.googleapis.com/deepmind-media/dqn/DQNNaturePaper.pdf) (used in this example)\n",
    "-   [REINFORCE](http://www-anw.cs.umass.edu/~barto/courses/cs687/williams92simple.pdf)\n",
    "-   [DDPG](https://arxiv.org/pdf/1509.02971.pdf)\n",
    "-   [TD3](https://arxiv.org/pdf/1802.09477.pdf)\n",
    "-   [PPO](https://arxiv.org/abs/1707.06347)\n",
    "-   [SAC](https://arxiv.org/abs/1801.01290).\n",
    "\n",
    "You can only use the DQN agent in environments which have a discrete action space.  The DQN makes use of a QNetwork, a neural network model that learns to predict Q-Values (expected returns) for all actions, given a state from the environment.\n",
    "\n",
    "The following code uses **tf_agents.networks.q_network** to create a QNetwork, passing in the **observation_spec**, **action_spec**, and a tuple describing the number and size of the model's hidden layers.\n"
   ]
  },
  {
   "cell_type": "code",
   "execution_count": 12,
   "metadata": {
    "colab": {},
    "colab_type": "code",
    "id": "TgkdEPg_muzV"
   },
   "outputs": [],
   "source": [
    "fc_layer_params = (100,)\n",
    "\n",
    "q_net = q_network.QNetwork(\n",
    "    train_env.observation_spec(),\n",
    "    train_env.action_spec(),\n",
    "    fc_layer_params=fc_layer_params)"
   ]
  },
  {
   "cell_type": "markdown",
   "metadata": {
    "colab_type": "text",
    "id": "z62u55hSmviJ"
   },
   "source": [
    "Now we use **tf_agents.agents.dqn.dqn_agent** to instantiate a **DqnAgent**. In addition to the **time_step_spec**, **action_spec** and the QNetwork, the agent constructor also requires an optimizer (in this case, **AdamOptimizer**), a loss function, and an integer step counter."
   ]
  },
  {
   "cell_type": "code",
   "execution_count": 13,
   "metadata": {
    "colab": {},
    "colab_type": "code",
    "id": "jbY4yrjTEyc9"
   },
   "outputs": [],
   "source": [
    "optimizer = tf.compat.v1.train.AdamOptimizer(learning_rate=learning_rate)\n",
    "\n",
    "train_step_counter = tf.Variable(0)\n",
    "\n",
    "agent = dqn_agent.DqnAgent(\n",
    "    train_env.time_step_spec(),\n",
    "    train_env.action_spec(),\n",
    "    q_network=q_net,\n",
    "    optimizer=optimizer,\n",
    "    td_errors_loss_fn=common.element_wise_squared_loss,\n",
    "    train_step_counter=train_step_counter)\n",
    "\n",
    "agent.initialize()"
   ]
  },
  {
   "cell_type": "markdown",
   "metadata": {
    "colab_type": "text",
    "id": "I0KLrEPwkn5x"
   },
   "source": [
    "## Policies\n",
    "\n",
    "A policy defines the way an agent acts in an environment. Typically, the goal of reinforcement learning is to train the underlying model until the policy produces the desired outcome.\n",
    "\n",
    "In this example:\n",
    "\n",
    "* The desired outcome is keeping the pole balanced upright over the cart.\n",
    "* The policy returns an action (left or right) for each `time_step` observation.\n",
    "\n",
    "Agents contain two policies: \n",
    "\n",
    "*  **agent.policy** -  The algorithm uses this main policy for evaluation and deployment.\n",
    "* **agent.collect_policy** - The algorithm this secondary policy for data collection.\n"
   ]
  },
  {
   "cell_type": "code",
   "execution_count": 14,
   "metadata": {
    "colab": {},
    "colab_type": "code",
    "id": "BwY7StuMkuV4"
   },
   "outputs": [],
   "source": [
    "eval_policy = agent.policy\n",
    "collect_policy = agent.collect_policy"
   ]
  },
  {
   "cell_type": "markdown",
   "metadata": {
    "colab_type": "text",
    "id": "2Qs1Fl3dV0ae"
   },
   "source": [
    "Policies can be created independently of agents. For example, use **tf_agents.policies.random_tf_policy** to create a policy which will randomly select an action for each **time_step**. We will use this random policy to create initial collection data to begin training."
   ]
  },
  {
   "cell_type": "code",
   "execution_count": 15,
   "metadata": {
    "colab": {},
    "colab_type": "code",
    "id": "HE37-UCIrE69"
   },
   "outputs": [],
   "source": [
    "random_policy = random_tf_policy.RandomTFPolicy(train_env.time_step_spec(),\n",
    "                                                train_env.action_spec())"
   ]
  },
  {
   "cell_type": "markdown",
   "metadata": {
    "colab_type": "text",
    "id": "dOlnlRRsUbxP"
   },
   "source": [
    "To get an action from a policy, call the **policy.action(time_step)** method. The **time_step** contains the observation from the environment. This method returns a **PolicyStep**, which is a named tuple with three components:\n",
    "\n",
    "* **action** - The action to be taken (in this case, 0 or 1).\n",
    "* **state** - Used for stateful (that is, RNN-based) policies.\n",
    "* **info** - Auxiliary data, such as log probabilities of actions.\n",
    "\n",
    "Next we create an environment and setup the random policy."
   ]
  },
  {
   "cell_type": "code",
   "execution_count": 16,
   "metadata": {
    "colab": {
     "base_uri": "https://localhost:8080/",
     "height": 55
    },
    "colab_type": "code",
    "id": "5gCcpXswVAxk",
    "outputId": "930ea39a-2f76-4580-efc9-68580f813016"
   },
   "outputs": [
    {
     "data": {
      "text/plain": [
       "PolicyStep(action=<tf.Tensor: shape=(1,), dtype=int64, numpy=array([0], dtype=int64)>, state=(), info=())"
      ]
     },
     "execution_count": 16,
     "metadata": {},
     "output_type": "execute_result"
    }
   ],
   "source": [
    "example_environment = tf_py_environment.TFPyEnvironment(\n",
    "    suite_gym.load('CartPole-v0'))\n",
    "time_step = example_environment.reset()\n",
    "random_policy.action(time_step)"
   ]
  },
  {
   "cell_type": "markdown",
   "metadata": {
    "colab_type": "text",
    "id": "94rCXQtbUbXv"
   },
   "source": [
    "## Metrics and Evaluation\n",
    "\n",
    "The most common metric used to evaluate a policy is the average return. The return is the sum of rewards obtained while running a policy in an environment for an episode. Several episodes are run, creating an average return. The following function computes the average return of a policy, given the policy, environment, and a number of episodes.  We will use this same evaluation for Atari.\n"
   ]
  },
  {
   "cell_type": "code",
   "execution_count": 17,
   "metadata": {
    "colab": {},
    "colab_type": "code",
    "id": "bitzHo5_UbXy"
   },
   "outputs": [],
   "source": [
    "def compute_avg_return(environment, policy, num_episodes=10):\n",
    "\n",
    "  total_return = 0.0\n",
    "  for _ in range(num_episodes):\n",
    "\n",
    "    time_step = environment.reset()\n",
    "    episode_return = 0.0\n",
    "\n",
    "    while not time_step.is_last():\n",
    "      action_step = policy.action(time_step)\n",
    "      time_step = environment.step(action_step.action)\n",
    "      episode_return += time_step.reward\n",
    "    total_return += episode_return\n",
    "\n",
    "  avg_return = total_return / num_episodes\n",
    "  return avg_return.numpy()[0]\n",
    "\n",
    "\n",
    "# See also the metrics module for standard implementations \n",
    "# of different metrics.\n",
    "# https://github.com/tensorflow/agents/tree/master/tf_agents/metrics"
   ]
  },
  {
   "cell_type": "markdown",
   "metadata": {
    "colab_type": "text",
    "id": "_snCVvq5Z8lJ"
   },
   "source": [
    "Running this computation on the `random_policy` shows a baseline performance in the environment."
   ]
  },
  {
   "cell_type": "code",
   "execution_count": 18,
   "metadata": {
    "colab": {
     "base_uri": "https://localhost:8080/",
     "height": 35
    },
    "colab_type": "code",
    "id": "9bgU6Q6BZ8Bp",
    "outputId": "faac7766-d5ff-4ce0-a7a4-3caa70d07a3c"
   },
   "outputs": [
    {
     "data": {
      "text/plain": [
       "19.8"
      ]
     },
     "execution_count": 18,
     "metadata": {},
     "output_type": "execute_result"
    }
   ],
   "source": [
    "compute_avg_return(eval_env, random_policy, num_eval_episodes)"
   ]
  },
  {
   "cell_type": "markdown",
   "metadata": {
    "colab_type": "text",
    "id": "NLva6g2jdWgr"
   },
   "source": [
    "## Replay Buffer\n",
    "\n",
    "The replay buffer keeps track of data collected from the environment. This tutorial uses **TFUniformReplayBuffer**. The constructor requires the specs for the data it will be collecting. This value is available from the agent using the **collect_data_spec** method. The batch size and maximum buffer length are also required.\n"
   ]
  },
  {
   "cell_type": "code",
   "execution_count": 19,
   "metadata": {
    "colab": {},
    "colab_type": "code",
    "id": "vX2zGUWJGWAl"
   },
   "outputs": [],
   "source": [
    "replay_buffer = tf_uniform_replay_buffer.TFUniformReplayBuffer(\n",
    "    data_spec=agent.collect_data_spec,\n",
    "    batch_size=train_env.batch_size,\n",
    "    max_length=replay_buffer_max_length)"
   ]
  },
  {
   "cell_type": "markdown",
   "metadata": {
    "colab_type": "text",
    "id": "ZGNTDJpZs4NN"
   },
   "source": [
    "For most agents, **collect_data_spec** is a named tuple called **Trajectory**, containing the specs for observations, actions, rewards, and other items."
   ]
  },
  {
   "cell_type": "code",
   "execution_count": 20,
   "metadata": {
    "colab": {
     "base_uri": "https://localhost:8080/",
     "height": 89
    },
    "colab_type": "code",
    "id": "_IZ-3HcqgE1z",
    "outputId": "801659c4-e3c0-40de-ed3a-287183813052"
   },
   "outputs": [
    {
     "data": {
      "text/plain": [
       "Trajectory(step_type=TensorSpec(shape=(), dtype=tf.int32, name='step_type'), observation=BoundedTensorSpec(shape=(4,), dtype=tf.float32, name='observation', minimum=array([-4.8000002e+00, -3.4028235e+38, -4.1887903e-01, -3.4028235e+38],\n",
       "      dtype=float32), maximum=array([4.8000002e+00, 3.4028235e+38, 4.1887903e-01, 3.4028235e+38],\n",
       "      dtype=float32)), action=BoundedTensorSpec(shape=(), dtype=tf.int64, name='action', minimum=array(0, dtype=int64), maximum=array(1, dtype=int64)), policy_info=(), next_step_type=TensorSpec(shape=(), dtype=tf.int32, name='step_type'), reward=TensorSpec(shape=(), dtype=tf.float32, name='reward'), discount=BoundedTensorSpec(shape=(), dtype=tf.float32, name='discount', minimum=array(0., dtype=float32), maximum=array(1., dtype=float32)))"
      ]
     },
     "execution_count": 20,
     "metadata": {},
     "output_type": "execute_result"
    }
   ],
   "source": [
    "agent.collect_data_spec"
   ]
  },
  {
   "cell_type": "markdown",
   "metadata": {
    "colab_type": "text",
    "id": "rVD5nQ9ZGo8_"
   },
   "source": [
    "## Data Collection\n",
    "\n",
    "Now execute the random policy in the environment for a few steps, recording the data in the replay buffer."
   ]
  },
  {
   "cell_type": "code",
   "execution_count": 21,
   "metadata": {
    "colab": {},
    "colab_type": "code",
    "id": "wr1KSAEGG4h9"
   },
   "outputs": [],
   "source": [
    "def collect_step(environment, policy, buffer):\n",
    "  time_step = environment.current_time_step()\n",
    "  action_step = policy.action(time_step)\n",
    "  next_time_step = environment.step(action_step.action)\n",
    "  traj = trajectory.from_transition(time_step, action_step, next_time_step)\n",
    "\n",
    "  # Add trajectory to the replay buffer\n",
    "  buffer.add_batch(traj)\n",
    "\n",
    "def collect_data(env, policy, buffer, steps):\n",
    "  for _ in range(steps):\n",
    "    collect_step(env, policy, buffer)\n",
    "\n",
    "collect_data(train_env, random_policy, replay_buffer, steps=100)\n",
    "\n",
    "# This loop is so common in RL, that we provide standard implementations. \n",
    "# For more details see the drivers module.\n",
    "# https://www.tensorflow.org/agents/api_docs/python/tf_agents/drivers"
   ]
  },
  {
   "cell_type": "markdown",
   "metadata": {
    "colab_type": "text",
    "id": "84z5pQJdoKxo"
   },
   "source": [
    "The replay buffer is now a collection of Trajectories. The agent needs access to the replay buffer. TF-Agents provides this access by creating an iterable **tf.data.Dataset** pipeline, which will feed data to the agent.\n",
    "\n",
    "Each row of the replay buffer only stores a single observation step. But since the DQN Agent needs both the current and next observation to compute the loss, the dataset pipeline will sample two adjacent rows for each item in the batch (**num_steps=2**).\n",
    "\n",
    "The program also optimizes this dataset by running parallel calls and prefetching data."
   ]
  },
  {
   "cell_type": "code",
   "execution_count": 22,
   "metadata": {
    "colab": {
     "base_uri": "https://localhost:8080/",
     "height": 55
    },
    "colab_type": "code",
    "id": "ba7bilizt_qW",
    "outputId": "4e936689-1eb9-48a0-d8cf-b3dd5364763c"
   },
   "outputs": [
    {
     "name": "stdout",
     "output_type": "stream",
     "text": [
      "WARNING:tensorflow:From C:\\Users\\yoda\\AppData\\Roaming\\Python\\Python38\\site-packages\\tensorflow\\python\\autograph\\impl\\api.py:382: ReplayBuffer.get_next (from tf_agents.replay_buffers.replay_buffer) is deprecated and will be removed in a future version.\n",
      "Instructions for updating:\n",
      "Use `as_dataset(..., single_deterministic_pass=False) instead.\n"
     ]
    },
    {
     "data": {
      "text/plain": [
       "<PrefetchDataset shapes: (Trajectory(step_type=(64, 2), observation=(64, 2, 4), action=(64, 2), policy_info=(), next_step_type=(64, 2), reward=(64, 2), discount=(64, 2)), BufferInfo(ids=(64, 2), probabilities=(64,))), types: (Trajectory(step_type=tf.int32, observation=tf.float32, action=tf.int64, policy_info=(), next_step_type=tf.int32, reward=tf.float32, discount=tf.float32), BufferInfo(ids=tf.int64, probabilities=tf.float32))>"
      ]
     },
     "execution_count": 22,
     "metadata": {},
     "output_type": "execute_result"
    }
   ],
   "source": [
    "# Dataset generates trajectories with shape [Bx2x...]\n",
    "dataset = replay_buffer.as_dataset(\n",
    "    num_parallel_calls=3, \n",
    "    sample_batch_size=batch_size, \n",
    "    num_steps=2).prefetch(3)\n",
    "\n",
    "\n",
    "dataset"
   ]
  },
  {
   "cell_type": "code",
   "execution_count": 23,
   "metadata": {
    "colab": {
     "base_uri": "https://localhost:8080/",
     "height": 55
    },
    "colab_type": "code",
    "id": "K13AST-2ppOq",
    "outputId": "97ff10f3-df62-46a4-b094-ef29c954fa01"
   },
   "outputs": [
    {
     "name": "stdout",
     "output_type": "stream",
     "text": [
      "<tensorflow.python.data.ops.iterator_ops.OwnedIterator object at 0x0000021F4BECFC10>\n"
     ]
    }
   ],
   "source": [
    "iterator = iter(dataset)\n",
    "\n",
    "print(iterator)\n"
   ]
  },
  {
   "cell_type": "markdown",
   "metadata": {
    "colab_type": "text",
    "id": "hBc9lj9VWWtZ"
   },
   "source": [
    "## Training the agent\n",
    "\n",
    "Two things must happen during the training loop:\n",
    "\n",
    "* Collect data from the environment\n",
    "* Use that data to train the agent's neural network(s)\n",
    "\n",
    "This example also periodically evaluates the policy and prints the current score.\n",
    "\n",
    "The following will take ~5 minutes to run."
   ]
  },
  {
   "cell_type": "code",
   "execution_count": null,
   "metadata": {
    "colab": {
     "base_uri": "https://localhost:8080/",
     "height": 1000
    },
    "colab_type": "code",
    "id": "0pTbJ3PeyF-u",
    "outputId": "e26938c6-8432-468c-da19-29cd047ff7d3"
   },
   "outputs": [
    {
     "name": "stdout",
     "output_type": "stream",
     "text": [
      "WARNING:tensorflow:From C:\\Users\\yoda\\AppData\\Roaming\\Python\\Python38\\site-packages\\tensorflow\\python\\util\\dispatch.py:206: calling foldr_v2 (from tensorflow.python.ops.functional_ops) with back_prop=False is deprecated and will be removed in a future version.\n",
      "Instructions for updating:\n",
      "back_prop=False is deprecated. Consider using tf.stop_gradient instead.\n",
      "Instead of:\n",
      "results = tf.foldr(fn, elems, back_prop=False)\n",
      "Use:\n",
      "results = tf.nest.map_structure(tf.stop_gradient, tf.foldr(fn, elems))\n",
      "step = 200: loss = 46.04743576049805\n",
      "step = 400: loss = 13.623235702514648\n",
      "step = 600: loss = 12.431130409240723\n",
      "step = 800: loss = 7.254703044891357\n",
      "step = 1000: loss = 6.300016403198242\n",
      "step = 1000: Average Return = 15.699999809265137\n",
      "step = 1200: loss = 47.28271484375\n",
      "step = 1400: loss = 42.790348052978516\n",
      "step = 1600: loss = 19.461088180541992\n",
      "step = 1800: loss = 28.2158260345459\n",
      "step = 2000: loss = 39.0587272644043\n",
      "step = 2000: Average Return = 34.599998474121094\n",
      "step = 2200: loss = 31.86520767211914\n",
      "step = 2400: loss = 14.444765090942383\n",
      "step = 2600: loss = 45.420448303222656\n",
      "step = 2800: loss = 31.74579429626465\n",
      "step = 3000: loss = 33.58186340332031\n",
      "step = 3000: Average Return = 36.20000076293945\n",
      "step = 3200: loss = 52.19155502319336\n",
      "step = 3400: loss = 51.11762237548828\n",
      "step = 3600: loss = 33.73213577270508\n",
      "step = 3800: loss = 68.20513916015625\n",
      "step = 4000: loss = 39.548583984375\n",
      "step = 4000: Average Return = 116.30000305175781\n",
      "step = 4200: loss = 24.717418670654297\n",
      "step = 4400: loss = 5.054844856262207\n",
      "step = 4600: loss = 97.45891571044922\n",
      "step = 4800: loss = 84.9725341796875\n",
      "step = 5000: loss = 83.41654968261719\n",
      "step = 5000: Average Return = 68.69999694824219\n"
     ]
    }
   ],
   "source": [
    "# (Optional) Optimize by wrapping some of the code in a graph \n",
    "# using TF function.\n",
    "agent.train = common.function(agent.train)\n",
    "\n",
    "# Reset the train step\n",
    "agent.train_step_counter.assign(0)\n",
    "\n",
    "# Evaluate the agent's policy once before training.\n",
    "avg_return = compute_avg_return(eval_env, agent.policy, \\\n",
    "                                num_eval_episodes)\n",
    "returns = [avg_return]\n",
    "\n",
    "for _ in range(num_iterations):\n",
    "\n",
    "  # Collect a few steps using collect_policy and save to the replay buffer.\n",
    "  for _ in range(collect_steps_per_iteration):\n",
    "    collect_step(train_env, agent.collect_policy, replay_buffer)\n",
    "\n",
    "  # Sample a batch of data from the buffer and update the agent's network.\n",
    "  experience, unused_info = next(iterator)\n",
    "  train_loss = agent.train(experience).loss\n",
    "\n",
    "  step = agent.train_step_counter.numpy()\n",
    "\n",
    "  if step % log_interval == 0:\n",
    "    print('step = {0}: loss = {1}'.format(step, train_loss))\n",
    "\n",
    "  if step % eval_interval == 0:\n",
    "    avg_return = compute_avg_return(eval_env, agent.policy, \\\n",
    "                                    num_eval_episodes)\n",
    "    print('step = {0}: Average Return = {1}'.format(step, avg_return))\n",
    "    returns.append(avg_return)"
   ]
  },
  {
   "cell_type": "markdown",
   "metadata": {
    "colab_type": "text",
    "id": "68jNcA_TiJDq"
   },
   "source": [
    "## Visualization\n"
   ]
  },
  {
   "cell_type": "markdown",
   "metadata": {
    "colab_type": "text",
    "id": "aO-LWCdbbOIC"
   },
   "source": [
    "### Plots\n",
    "\n",
    "Use **matplotlib.pyplot** to chart how the policy improved during training.\n",
    "\n",
    "One iteration of **Cartpole-v0** consists of 200 time steps. The environment gives a reward of `+1` for each step the pole stays up, so the maximum return for one episode is 200. The charts show the return increasing towards that maximum each time it is evaluated during training. (It may be a little unstable and not increase each time monotonically.)"
   ]
  },
  {
   "cell_type": "code",
   "execution_count": null,
   "metadata": {
    "colab": {
     "base_uri": "https://localhost:8080/",
     "height": 301
    },
    "colab_type": "code",
    "id": "NxtL1mbOYCVO",
    "outputId": "1409307e-bff5-4c8c-ee14-5d47f5be8e98"
   },
   "outputs": [],
   "source": [
    "iterations = range(0, num_iterations + 1, eval_interval)\n",
    "plt.plot(iterations, returns)\n",
    "plt.ylabel('Average Return')\n",
    "plt.xlabel('Iterations')\n",
    "plt.ylim(top=250)"
   ]
  },
  {
   "cell_type": "markdown",
   "metadata": {
    "colab_type": "text",
    "id": "M7-XpPP99Cy7"
   },
   "source": [
    "### Videos"
   ]
  },
  {
   "cell_type": "markdown",
   "metadata": {
    "colab_type": "text",
    "id": "9pGfGxSH32gn"
   },
   "source": [
    "Charts are nice. But more exciting is seeing an agent actually performing a task in an environment. \n",
    "\n",
    "First, create a function to embed videos in the notebook."
   ]
  },
  {
   "cell_type": "code",
   "execution_count": null,
   "metadata": {
    "colab": {},
    "colab_type": "code",
    "id": "ULaGr8pvOKbl"
   },
   "outputs": [],
   "source": [
    "def embed_mp4(filename):\n",
    "  \"\"\"Embeds an mp4 file in the notebook.\"\"\"\n",
    "  video = open(filename,'rb').read()\n",
    "  b64 = base64.b64encode(video)\n",
    "  tag = '''\n",
    "  <video width=\"640\" height=\"480\" controls>\n",
    "    <source src=\"data:video/mp4;base64,{0}\" type=\"video/mp4\">\n",
    "  Your browser does not support the video tag.\n",
    "  </video>'''.format(b64.decode())\n",
    "\n",
    "  return IPython.display.HTML(tag)"
   ]
  },
  {
   "cell_type": "markdown",
   "metadata": {
    "colab_type": "text",
    "id": "9c_PH-pX4Pr5"
   },
   "source": [
    "Now iterate through a few episodes of the Cartpole game with the agent. The underlying Python environment (the one \"inside\" the TensorFlow environment wrapper) provides a `render()` method, which outputs an image of the environment state. These can be collected into a video."
   ]
  },
  {
   "cell_type": "code",
   "execution_count": null,
   "metadata": {
    "colab": {
     "base_uri": "https://localhost:8080/",
     "height": 539
    },
    "colab_type": "code",
    "id": "owOVWB158NlF",
    "outputId": "6cbb5962-93a6-4304-dee3-a765a67919b1"
   },
   "outputs": [],
   "source": [
    "def create_policy_eval_video(policy, filename, num_episodes=5, fps=30):\n",
    "  filename = filename + \".mp4\"\n",
    "  with imageio.get_writer(filename, fps=fps) as video:\n",
    "    for _ in range(num_episodes):\n",
    "      time_step = eval_env.reset()\n",
    "      video.append_data(eval_py_env.render())\n",
    "      while not time_step.is_last():\n",
    "        action_step = policy.action(time_step)\n",
    "        time_step = eval_env.step(action_step.action)\n",
    "        video.append_data(eval_py_env.render())\n",
    "  return embed_mp4(filename)\n",
    "\n",
    "\n",
    "\n",
    "\n",
    "create_policy_eval_video(agent.policy, \"trained-agent\")"
   ]
  },
  {
   "cell_type": "markdown",
   "metadata": {
    "colab_type": "text",
    "id": "povaAOcZygLw"
   },
   "source": [
    "For fun, compare the trained agent (above) to an agent moving randomly. (It does not do as well.)"
   ]
  },
  {
   "cell_type": "code",
   "execution_count": 65,
   "metadata": {
    "colab": {
     "base_uri": "https://localhost:8080/",
     "height": 539
    },
    "colab_type": "code",
    "id": "pJZIdC37yNH4",
    "outputId": "e3c5ca7e-00a4-401a-b934-2c15b4296e02"
   },
   "outputs": [
    {
     "name": "stderr",
     "output_type": "stream",
     "text": [
      "WARNING:root:IMAGEIO FFMPEG_WRITER WARNING: input image is not divisible by macro_block_size=16, resizing from (400, 600) to (400, 608) to ensure video compatibility with most codecs and players. To prevent resizing, make your input image divisible by the macro_block_size or set the macro_block_size to None (risking incompatibility). You may also see a FFMPEG warning concerning speedloss due to data not being aligned.\n"
     ]
    },
    {
     "data": {
      "text/html": [
       "\n",
       "  <video width=\"640\" height=\"480\" controls>\n",
       "    <source src=\"data:video/mp4;base64,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\" type=\"video/mp4\">\n",
       "  Your browser does not support the video tag.\n",
       "  </video>"
      ],
      "text/plain": [
       "<IPython.core.display.HTML object>"
      ]
     },
     "execution_count": 65,
     "metadata": {
      "tags": []
     },
     "output_type": "execute_result"
    }
   ],
   "source": [
    "create_policy_eval_video(random_policy, \"random-agent\")"
   ]
  }
 ],
 "metadata": {
  "anaconda-cloud": {},
  "kernelspec": {
   "display_name": "Python 3",
   "language": "python",
   "name": "python3"
  },
  "language_info": {
   "codemirror_mode": {
    "name": "ipython",
    "version": 3
   },
   "file_extension": ".py",
   "mimetype": "text/x-python",
   "name": "python",
   "nbconvert_exporter": "python",
   "pygments_lexer": "ipython3",
   "version": "3.8.8"
  }
 },
 "nbformat": 4,
 "nbformat_minor": 4
}
