{
 "cells": [
  {
   "cell_type": "markdown",
   "metadata": {
    "colab_type": "text",
    "id": "zA-E4NR2-NoY"
   },
   "source": [
    "# Part 12.2: Introduction to Q-Learning\n",
    "\n",
    "Q-Learning is a foundational technique upon which deep reinforcement learning is based.  Before we explore deep reinforcement learning, it is essential to understand Q-Learning.  Several components make up any Q-Learning system.\n",
    "\n",
    "* **Agent** - The agent is an entity that exists in an environment that takes actions to affect the state of the environment, to receive rewards.\n",
    "* **Environment** - The environment is the universe that the agent exists in.  The environment is always in a specific state that is changed by the actions of the agent.\n",
    "* **Actions** - Steps that can be performed by the agent to alter the environment \n",
    "* **Step** - A step occurs each time that the agent performs an action and potentially changes the environment state.\n",
    "* **Episode** - A chain of steps that ultimately culminates in the environment entering a terminal state.\n",
    "* **Epoch** - A training iteration of the agent that contains some number of episodes.\n",
    "* **Terminal State** -  A state in which further actions do not make sense.  In many environments, a terminal state occurs when the agent has one, lost, or the environment exceeding the maximum number of steps.\n",
    "\n",
    "Q-Learning works by building a table that suggests an action for every possible state.  This approach runs into several problems.  First, the environment is usually composed of several continuous numbers, resulting in an infinite number of states. Q-Learning handles continuous states by binning these numeric values into ranges. \n",
    "\n",
    "Additionally, Q-Learning primarily deals with discrete actions, such as pressing a joystick up or down.  Out of the box, Q-Learning does not deal with continuous inputs, such as a car's accelerator that can be in a range of positions from released to fully engaged. Researchers have come up with clever tricks to allow Q-Learning to accommodate continuous actions.\n",
    "\n",
    "In the next chapter, we will learn more about deep reinforcement learning. Deep neural networks can help to solve the problems of continuous environments and action spaces.  For now, we will apply regular Q-Learning to the Mountain Car problem from OpenAI Gym.\n",
    "\n",
    "### Introducing the Mountain Car\n",
    "\n",
    "This section will demonstrate how Q-Learning can create a solution to the mountain car gym environment.  The Mountain car is an environment where a car must climb a mountain.  Because gravity is stronger than the car's engine, even with full throttle, it cannot merely accelerate up the steep slope. The vehicle is situated in a valley and must learn to utilize potential energy by driving up the opposite hill before the car can make it to the goal at the top of the rightmost hill.\n",
    "\n",
    "First, it might be helpful to visualize the mountain car environment.  The following code shows this environment.  This code makes use of TF-Agents to perform this render. Usually, we use TF-Agents for the type of deep reinforcement learning that we will see in the next module.  However, for now, TF-Agents is just used to render the mountain care environment."
   ]
  },
  {
   "cell_type": "code",
   "execution_count": 1,
   "metadata": {
    "colab": {
     "base_uri": "https://localhost:8080/",
     "height": 417
    },
    "colab_type": "code",
    "id": "ngaU1pVi-mjb",
    "outputId": "141951c6-adfd-4f0d-e5ce-22a515a02a08"
   },
   "outputs": [
    {
     "name": "stderr",
     "output_type": "stream",
     "text": [
      "D:\\UserFiles\\anaconda\\envs\\ia\\lib\\site-packages\\numpy\\_distributor_init.py:30: UserWarning: loaded more than 1 DLL from .libs:\n",
      "D:\\UserFiles\\anaconda\\envs\\ia\\lib\\site-packages\\numpy\\.libs\\libopenblas.NOIJJG62EMASZI6NYURL6JBKM4EVBGM7.gfortran-win_amd64.dll\n",
      "D:\\UserFiles\\anaconda\\envs\\ia\\lib\\site-packages\\numpy\\.libs\\libopenblas.WCDJNK7YVMPZQ2ME2ZZHJJRJ3JIKNDB7.gfortran-win_amd64.dll\n",
      "  warnings.warn(\"loaded more than 1 DLL from .libs:\\n%s\" %\n"
     ]
    },
    {
     "data": {
      "image/png": "[encoded data removed]",
      "text/plain": [
       "<PIL.Image.Image image mode=RGB size=600x400 at 0x210E337F1F0>"
      ]
     },
     "execution_count": 1,
     "metadata": {},
     "output_type": "execute_result"
    }
   ],
   "source": [
    "import tf_agents\n",
    "from tf_agents.environments import suite_gym\n",
    "import PIL.Image\n",
    "\n",
    "env_name = 'MountainCar-v0'\n",
    "env = suite_gym.load(env_name)\n",
    "env.reset()\n",
    "PIL.Image.fromarray(env.render())"
   ]
  },
  {
   "cell_type": "markdown",
   "metadata": {
    "colab_type": "text",
    "id": "cQBcs3yAMo_P"
   },
   "source": [
    "The mountain car environment provides the following discrete actions:\n",
    "\n",
    "* 0 - Apply left force\n",
    "* 1 - Apply no force\n",
    "* 2 - Apply right force\n",
    "\n",
    "The mountain car environment is made up of the following continuous values:\n",
    "\n",
    "* state[0] - Position \n",
    "* state[1] - Velocity\n",
    "\n",
    "The following code shows an agent that applies full throttle to climb the hill.  The cart is not strong enough.  It will need to use potential energy from the mountain behind it."
   ]
  },
  {
   "cell_type": "code",
   "execution_count": 1,
   "metadata": {
    "colab": {},
    "colab_type": "code",
    "id": "QMLS0b-tbc_j"
   },
   "outputs": [
    {
     "name": "stderr",
     "output_type": "stream",
     "text": [
      "D:\\UserFiles\\anaconda\\envs\\ia\\lib\\site-packages\\numpy\\_distributor_init.py:30: UserWarning: loaded more than 1 DLL from .libs:\n",
      "D:\\UserFiles\\anaconda\\envs\\ia\\lib\\site-packages\\numpy\\.libs\\libopenblas.NOIJJG62EMASZI6NYURL6JBKM4EVBGM7.gfortran-win_amd64.dll\n",
      "D:\\UserFiles\\anaconda\\envs\\ia\\lib\\site-packages\\numpy\\.libs\\libopenblas.WCDJNK7YVMPZQ2ME2ZZHJJRJ3JIKNDB7.gfortran-win_amd64.dll\n",
      "  warnings.warn(\"loaded more than 1 DLL from .libs:\\n%s\" %\n"
     ]
    }
   ],
   "source": [
    "import gym\n",
    "from gym.wrappers import Monitor\n",
    "import glob\n",
    "import io\n",
    "import base64\n",
    "from IPython.display import HTML\n",
    "from IPython import display as ipythondisplay\n"
   ]
  },
  {
   "cell_type": "code",
   "execution_count": 2,
   "metadata": {
    "colab": {
     "base_uri": "https://localhost:8080/",
     "height": 1000
    },
    "colab_type": "code",
    "id": "iCRJdn0G-NoZ",
    "outputId": "37de6cbf-0fce-4cae-f88e-df646520c0dd"
   },
   "outputs": [
    {
     "name": "stdout",
     "output_type": "stream",
     "text": [
      "Step 1: State=[-0.5269235   0.00103268], Reward=-1.0\n",
      "Step 2: State=[-0.52486588  0.00205761], Reward=-1.0\n",
      "Step 3: State=[-0.52179876  0.00306712], Reward=-1.0\n",
      "Step 4: State=[-0.51774515  0.00405362], Reward=-1.0\n",
      "Step 5: State=[-0.51273543  0.00500972], Reward=-1.0\n",
      "Step 6: State=[-0.50680717  0.00592826], Reward=-1.0\n",
      "Step 7: State=[-0.5000048   0.00680237], Reward=-1.0\n",
      "Step 8: State=[-0.49237923  0.00762557], Reward=-1.0\n",
      "Step 9: State=[-0.48398747  0.00839176], Reward=-1.0\n",
      "Step 10: State=[-0.47489209  0.00909538], Reward=-1.0\n",
      "Step 11: State=[-0.46516072  0.00973137], Reward=-1.0\n",
      "Step 12: State=[-0.45486539  0.01029533], Reward=-1.0\n",
      "Step 13: State=[-0.44408191  0.01078348], Reward=-1.0\n",
      "Step 14: State=[-0.43288917  0.01119274], Reward=-1.0\n",
      "Step 15: State=[-0.42136839  0.01152078], Reward=-1.0\n",
      "Step 16: State=[-0.40960237  0.01176602], Reward=-1.0\n",
      "Step 17: State=[-0.39767476  0.01192761], Reward=-1.0\n",
      "Step 18: State=[-0.38566927  0.01200549], Reward=-1.0\n",
      "Step 19: State=[-0.37366899  0.01200028], Reward=-1.0\n",
      "Step 20: State=[-0.36175564  0.01191335], Reward=-1.0\n",
      "Step 21: State=[-0.35000899  0.01174665], Reward=-1.0\n",
      "Step 22: State=[-0.3385062   0.01150278], Reward=-1.0\n",
      "Step 23: State=[-0.32732137  0.01118484], Reward=-1.0\n",
      "Step 24: State=[-0.31652501  0.01079636], Reward=-1.0\n",
      "Step 25: State=[-0.30618372  0.01034129], Reward=-1.0\n",
      "Step 26: State=[-0.29635986  0.00982386], Reward=-1.0\n",
      "Step 27: State=[-0.28711132  0.00924854], Reward=-1.0\n",
      "Step 28: State=[-0.27849134  0.00861998], Reward=-1.0\n",
      "Step 29: State=[-0.27054843  0.00794291], Reward=-1.0\n",
      "Step 30: State=[-0.26332629  0.00722215], Reward=-1.0\n",
      "Step 31: State=[-0.25686379  0.00646249], Reward=-1.0\n",
      "Step 32: State=[-0.25119504  0.00566875], Reward=-1.0\n",
      "Step 33: State=[-0.2463494   0.00484565], Reward=-1.0\n",
      "Step 34: State=[-0.24235153  0.00399787], Reward=-1.0\n",
      "Step 35: State=[-0.23922149  0.00313003], Reward=-1.0\n",
      "Step 36: State=[-0.23697482  0.00224667], Reward=-1.0\n",
      "Step 37: State=[-0.23562254  0.00135228], Reward=-1.0\n",
      "Step 38: State=[-0.23517127  0.00045128], Reward=-1.0\n",
      "Step 39: State=[-0.23562318 -0.00045192], Reward=-1.0\n",
      "Step 40: State=[-0.2369761  -0.00135292], Reward=-1.0\n",
      "Step 41: State=[-0.23922341 -0.00224731], Reward=-1.0\n",
      "Step 42: State=[-0.24235407 -0.00313066], Reward=-1.0\n",
      "Step 43: State=[-0.24635255 -0.00399848], Reward=-1.0\n",
      "Step 44: State=[-0.25119879 -0.00484624], Reward=-1.0\n",
      "Step 45: State=[-0.25686811 -0.00566932], Reward=-1.0\n",
      "Step 46: State=[-0.26333116 -0.00646305], Reward=-1.0\n",
      "Step 47: State=[-0.27055384 -0.00722267], Reward=-1.0\n",
      "Step 48: State=[-0.27849724 -0.00794341], Reward=-1.0\n",
      "Step 49: State=[-0.28711769 -0.00862044], Reward=-1.0\n",
      "Step 50: State=[-0.29636665 -0.00924897], Reward=-1.0\n",
      "Step 51: State=[-0.3061909  -0.00982425], Reward=-1.0\n",
      "Step 52: State=[-0.31653254 -0.01034164], Reward=-1.0\n",
      "Step 53: State=[-0.3273292  -0.01079666], Reward=-1.0\n",
      "Step 54: State=[-0.33851429 -0.01118509], Reward=-1.0\n",
      "Step 55: State=[-0.35001727 -0.01150298], Reward=-1.0\n",
      "Step 56: State=[-0.36176407 -0.0117468 ], Reward=-1.0\n",
      "Step 57: State=[-0.37367751 -0.01191344], Reward=-1.0\n",
      "Step 58: State=[-0.38567783 -0.01200032], Reward=-1.0\n",
      "Step 59: State=[-0.39768329 -0.01200546], Reward=-1.0\n",
      "Step 60: State=[-0.40961082 -0.01192753], Reward=-1.0\n",
      "Step 61: State=[-0.42137669 -0.01176587], Reward=-1.0\n",
      "Step 62: State=[-0.43289727 -0.01152058], Reward=-1.0\n",
      "Step 63: State=[-0.44408974 -0.01119248], Reward=-1.0\n",
      "Step 64: State=[-0.4548729  -0.01078316], Reward=-1.0\n",
      "Step 65: State=[-0.46516786 -0.01029496], Reward=-1.0\n",
      "Step 66: State=[-0.4748988  -0.00973095], Reward=-1.0\n",
      "Step 67: State=[-0.4839937 -0.0090949], Reward=-1.0\n",
      "Step 68: State=[-0.49238494 -0.00839124], Reward=-1.0\n",
      "Step 69: State=[-0.50000994 -0.007625  ], Reward=-1.0\n",
      "Step 70: State=[-0.50681171 -0.00680177], Reward=-1.0\n",
      "Step 71: State=[-0.51273933 -0.00592762], Reward=-1.0\n",
      "Step 72: State=[-0.51774838 -0.00500905], Reward=-1.0\n",
      "Step 73: State=[-0.5218013  -0.00405293], Reward=-1.0\n",
      "Step 74: State=[-0.52486771 -0.00306641], Reward=-1.0\n",
      "Step 75: State=[-0.5269246  -0.00205689], Reward=-1.0\n",
      "Step 76: State=[-0.52795654 -0.00103195], Reward=-1.0\n",
      "Step 77: State=[-5.27955807e-01  7.36029530e-07], Reward=-1.0\n",
      "Step 78: State=[-0.52692239  0.00103341], Reward=-1.0\n",
      "Step 79: State=[-0.52486405  0.00205834], Reward=-1.0\n",
      "Step 80: State=[-0.52179623  0.00306783], Reward=-1.0\n",
      "Step 81: State=[-0.51774192  0.00405431], Reward=-1.0\n",
      "Step 82: State=[-0.51273153  0.00501039], Reward=-1.0\n",
      "Step 83: State=[-0.50680263  0.0059289 ], Reward=-1.0\n",
      "Step 84: State=[-0.49999966  0.00680298], Reward=-1.0\n",
      "Step 85: State=[-0.49237352  0.00762613], Reward=-1.0\n",
      "Step 86: State=[-0.48398124  0.00839229], Reward=-1.0\n",
      "Step 87: State=[-0.47488538  0.00909585], Reward=-1.0\n",
      "Step 88: State=[-0.46515358  0.0097318 ], Reward=-1.0\n",
      "Step 89: State=[-0.45485788  0.01029571], Reward=-1.0\n",
      "Step 90: State=[-0.44407408  0.0107838 ], Reward=-1.0\n",
      "Step 91: State=[-0.43288108  0.011193  ], Reward=-1.0\n",
      "Step 92: State=[-0.42136009  0.01152099], Reward=-1.0\n",
      "Step 93: State=[-0.40959393  0.01176616], Reward=-1.0\n",
      "Step 94: State=[-0.39766623  0.0119277 ], Reward=-1.0\n",
      "Step 95: State=[-0.38566072  0.01200551], Reward=-1.0\n",
      "Step 96: State=[-0.37366047  0.01200025], Reward=-1.0\n",
      "Step 97: State=[-0.36174721  0.01191325], Reward=-1.0\n",
      "Step 98: State=[-0.3500007   0.01174651], Reward=-1.0\n",
      "Step 99: State=[-0.33849812  0.01150258], Reward=-1.0\n",
      "Step 100: State=[-0.32731354  0.01118458], Reward=-1.0\n",
      "Step 101: State=[-0.31651748  0.01079606], Reward=-1.0\n",
      "Step 102: State=[-0.30617653  0.01034094], Reward=-1.0\n",
      "Step 103: State=[-0.29635306  0.00982347], Reward=-1.0\n",
      "Step 104: State=[-0.28710495  0.00924811], Reward=-1.0\n",
      "Step 105: State=[-0.27848544  0.00861951], Reward=-1.0\n",
      "Step 106: State=[-0.27054303  0.00794241], Reward=-1.0\n",
      "Step 107: State=[-0.26332141  0.00722162], Reward=-1.0\n",
      "Step 108: State=[-0.25685947  0.00646194], Reward=-1.0\n",
      "Step 109: State=[-0.2511913   0.00566817], Reward=-1.0\n",
      "Step 110: State=[-0.24634625  0.00484505], Reward=-1.0\n",
      "Step 111: State=[-0.24234899  0.00399726], Reward=-1.0\n",
      "Step 112: State=[-0.23921958  0.00312941], Reward=-1.0\n",
      "Step 113: State=[-0.23697354  0.00224604], Reward=-1.0\n",
      "Step 114: State=[-0.2356219   0.00135164], Reward=-1.0\n",
      "Step 115: State=[-0.23517127  0.00045063], Reward=-1.0\n",
      "Step 116: State=[-0.23562383 -0.00045256], Reward=-1.0\n",
      "Step 117: State=[-0.23697738 -0.00135356], Reward=-1.0\n",
      "Step 118: State=[-0.23922532 -0.00224794], Reward=-1.0\n",
      "Step 119: State=[-0.24235661 -0.00313128], Reward=-1.0\n",
      "Step 120: State=[-0.2463557  -0.00399909], Reward=-1.0\n",
      "Step 121: State=[-0.25120254 -0.00484684], Reward=-1.0\n",
      "Step 122: State=[-0.25687244 -0.0056699 ], Reward=-1.0\n",
      "Step 123: State=[-0.26333604 -0.0064636 ], Reward=-1.0\n",
      "Step 124: State=[-0.27055924 -0.0072232 ], Reward=-1.0\n",
      "Step 125: State=[-0.27850315 -0.00794391], Reward=-1.0\n",
      "Step 126: State=[-0.28712405 -0.00862091], Reward=-1.0\n",
      "Step 127: State=[-0.29637345 -0.0092494 ], Reward=-1.0\n",
      "Step 128: State=[-0.30619809 -0.00982464], Reward=-1.0\n",
      "Step 129: State=[-0.31654007 -0.01034198], Reward=-1.0\n",
      "Step 130: State=[-0.32733703 -0.01079696], Reward=-1.0\n",
      "Step 131: State=[-0.33852237 -0.01118534], Reward=-1.0\n",
      "Step 132: State=[-0.35002556 -0.01150319], Reward=-1.0\n",
      "Step 133: State=[-0.3617725  -0.01174695], Reward=-1.0\n",
      "Step 134: State=[-0.37368603 -0.01191353], Reward=-1.0\n",
      "Step 135: State=[-0.38568638 -0.01200035], Reward=-1.0\n",
      "Step 136: State=[-0.39769182 -0.01200544], Reward=-1.0\n",
      "Step 137: State=[-0.40961926 -0.01192744], Reward=-1.0\n",
      "Step 138: State=[-0.42138499 -0.01176573], Reward=-1.0\n",
      "Step 139: State=[-0.43290536 -0.01152037], Reward=-1.0\n",
      "Step 140: State=[-0.44409758 -0.01119221], Reward=-1.0\n",
      "Step 141: State=[-0.45488041 -0.01078284], Reward=-1.0\n",
      "Step 142: State=[-0.46517499 -0.01029458], Reward=-1.0\n",
      "Step 143: State=[-0.47490551 -0.00973052], Reward=-1.0\n",
      "Step 144: State=[-0.48399993 -0.00909442], Reward=-1.0\n",
      "Step 145: State=[-0.49239065 -0.00839071], Reward=-1.0\n",
      "Step 146: State=[-0.50001508 -0.00762443], Reward=-1.0\n",
      "Step 147: State=[-0.50681624 -0.00680116], Reward=-1.0\n",
      "Step 148: State=[-0.51274322 -0.00592698], Reward=-1.0\n",
      "Step 149: State=[-0.5177516  -0.00500838], Reward=-1.0\n",
      "Step 150: State=[-0.52180384 -0.00405223], Reward=-1.0\n",
      "Step 151: State=[-0.52486953 -0.0030657 ], Reward=-1.0\n",
      "Step 152: State=[-0.5269257  -0.00205616], Reward=-1.0\n",
      "Step 153: State=[-0.52795691 -0.00103121], Reward=-1.0\n",
      "Step 154: State=[-5.27955438e-01  1.47205906e-06], Reward=-1.0\n",
      "Step 155: State=[-0.52692129  0.00103415], Reward=-1.0\n",
      "Step 156: State=[-0.52486223  0.00205906], Reward=-1.0\n",
      "Step 157: State=[-0.52179369  0.00306854], Reward=-1.0\n",
      "Step 158: State=[-0.51773868  0.004055  ], Reward=-1.0\n",
      "Step 159: State=[-0.51272763  0.00501105], Reward=-1.0\n",
      "Step 160: State=[-0.5067981   0.00592953], Reward=-1.0\n",
      "Step 161: State=[-0.49999451  0.00680358], Reward=-1.0\n",
      "Step 162: State=[-0.49236781  0.0076267 ], Reward=-1.0\n",
      "Step 163: State=[-0.483975    0.00839281], Reward=-1.0\n",
      "Step 164: State=[-0.47487867  0.00909633], Reward=-1.0\n",
      "Step 165: State=[-0.46514645  0.00973223], Reward=-1.0\n",
      "Step 166: State=[-0.45485037  0.01029608], Reward=-1.0\n",
      "Step 167: State=[-0.44406625  0.01078411], Reward=-1.0\n",
      "Step 168: State=[-0.43287299  0.01119326], Reward=-1.0\n",
      "Step 169: State=[-0.4213518   0.01152119], Reward=-1.0\n",
      "Step 170: State=[-0.40958549  0.01176631], Reward=-1.0\n",
      "Step 171: State=[-0.3976577   0.01192778], Reward=-1.0\n",
      "Step 172: State=[-0.38565216  0.01200554], Reward=-1.0\n",
      "Step 173: State=[-0.37365195  0.01200022], Reward=-1.0\n",
      "Step 174: State=[-0.36173878  0.01191316], Reward=-1.0\n",
      "Step 175: State=[-0.34999242  0.01174636], Reward=-1.0\n",
      "Step 176: State=[-0.33849004  0.01150238], Reward=-1.0\n",
      "Step 177: State=[-0.3273057   0.01118433], Reward=-1.0\n",
      "Step 178: State=[-0.31650995  0.01079576], Reward=-1.0\n",
      "Step 179: State=[-0.30616935  0.0103406 ], Reward=-1.0\n",
      "Step 180: State=[-0.29634627  0.00982308], Reward=-1.0\n",
      "Step 181: State=[-0.28709859  0.00924768], Reward=-1.0\n",
      "Step 182: State=[-0.27847954  0.00861905], Reward=-1.0\n",
      "Step 183: State=[-0.27053763  0.00794191], Reward=-1.0\n",
      "Step 184: State=[-0.26331654  0.00722109], Reward=-1.0\n",
      "Step 185: State=[-0.25685515  0.00646139], Reward=-1.0\n",
      "Step 186: State=[-0.25118755  0.0056676 ], Reward=-1.0\n",
      "Step 187: State=[-0.2463431   0.00484446], Reward=-1.0\n",
      "Step 188: State=[-0.24234645  0.00399665], Reward=-1.0\n",
      "Step 189: State=[-0.23921766  0.00312879], Reward=-1.0\n",
      "Step 190: State=[-0.23697226  0.00224541], Reward=-1.0\n",
      "Step 191: State=[-0.23562126  0.001351  ], Reward=-1.0\n",
      "Step 192: State=[-0.23517127  0.00044999], Reward=-1.0\n",
      "Step 193: State=[-0.23562447 -0.0004532 ], Reward=-1.0\n",
      "Step 194: State=[-0.23697867 -0.0013542 ], Reward=-1.0\n",
      "Step 195: State=[-0.23922724 -0.00224857], Reward=-1.0\n",
      "Step 196: State=[-0.24235915 -0.0031319 ], Reward=-1.0\n",
      "Step 197: State=[-0.24635885 -0.00399971], Reward=-1.0\n",
      "Step 198: State=[-0.25120628 -0.00484743], Reward=-1.0\n",
      "Step 199: State=[-0.25687676 -0.00567048], Reward=-1.0\n",
      "Step 200: State=[-0.26334091 -0.00646416], Reward=-1.0\n"
     ]
    }
   ],
   "source": [
    "import gym\n",
    "env = gym.make(\"MountainCar-v0\")\n",
    "\n",
    "env.reset()\n",
    "done = False\n",
    "\n",
    "i = 0\n",
    "while not done:\n",
    "    i += 1\n",
    "    state, reward, done, _ = env.step(2)\n",
    "    env.render()\n",
    "    print(f\"Step {i}: State={state}, Reward={reward}\")\n",
    "    \n",
    "env.close()"
   ]
  },
  {
   "cell_type": "markdown",
   "metadata": {
    "colab_type": "text",
    "id": "IVcdwI-0-Nod"
   },
   "source": [
    "### Programmed Car\n",
    "\n",
    "Now we will look at a car that I hand-programmed.  This car is straightforward; however, it solves the problem. The programmed car always applies force to one direction or another.  It does not break.  Whatever direction the vehicle is currently rolling, the agent uses power in that direction.  Therefore, the car begins to climb a hill, is overpowered, and turns backward.  However, once it starts to roll backward force is immediately applied in this new direction.\n",
    "\n",
    "The following code implements this preprogrammed car."
   ]
  },
  {
   "cell_type": "code",
   "execution_count": 3,
   "metadata": {
    "colab": {
     "base_uri": "https://localhost:8080/",
     "height": 1000
    },
    "colab_type": "code",
    "id": "AMzYrqRy-Noe",
    "outputId": "7ae64efe-40cb-4576-9158-4674848a00c1"
   },
   "outputs": [
    {
     "name": "stdout",
     "output_type": "stream",
     "text": [
      "Step 1: State=[-0.49956764 -0.00118897], Reward=-1.0\n",
      "Step 2: State=[-0.50193669 -0.00236905], Reward=-1.0\n",
      "Step 3: State=[-0.50546809 -0.0035314 ], Reward=-1.0\n",
      "Step 4: State=[-0.5101354  -0.00466731], Reward=-1.0\n",
      "Step 5: State=[-0.51590366 -0.00576826], Reward=-1.0\n",
      "Step 6: State=[-0.52272963 -0.00682597], Reward=-1.0\n",
      "Step 7: State=[-0.53056211 -0.00783249], Reward=-1.0\n",
      "Step 8: State=[-0.53934238 -0.00878027], Reward=-1.0\n",
      "Step 9: State=[-0.54900461 -0.00966223], Reward=-1.0\n",
      "Step 10: State=[-0.55947649 -0.01047187], Reward=-1.0\n",
      "Step 11: State=[-0.5706798  -0.01120331], Reward=-1.0\n",
      "Step 12: State=[-0.58253117 -0.01185137], Reward=-1.0\n",
      "Step 13: State=[-0.59494285 -0.01241168], Reward=-1.0\n",
      "Step 14: State=[-0.60782353 -0.01288068], Reward=-1.0\n",
      "Step 15: State=[-0.62107922 -0.01325569], Reward=-1.0\n",
      "Step 16: State=[-0.63461418 -0.01353496], Reward=-1.0\n",
      "Step 17: State=[-0.64833184 -0.01371766], Reward=-1.0\n",
      "Step 18: State=[-0.66213568 -0.01380384], Reward=-1.0\n",
      "Step 19: State=[-0.67593014 -0.01379447], Reward=-1.0\n",
      "Step 20: State=[-0.68962148 -0.01369133], Reward=-1.0\n",
      "Step 21: State=[-0.70311849 -0.01349701], Reward=-1.0\n",
      "Step 22: State=[-0.71633325 -0.01321476], Reward=-1.0\n",
      "Step 23: State=[-0.72918171 -0.01284846], Reward=-1.0\n",
      "Step 24: State=[-0.7415842 -0.0124025], Reward=-1.0\n",
      "Step 25: State=[-0.75346587 -0.01188167], Reward=-1.0\n",
      "Step 26: State=[-0.76475697 -0.01129109], Reward=-1.0\n",
      "Step 27: State=[-0.77539308 -0.01063611], Reward=-1.0\n",
      "Step 28: State=[-0.78531527 -0.00992219], Reward=-1.0\n",
      "Step 29: State=[-0.79447014 -0.00915487], Reward=-1.0\n",
      "Step 30: State=[-0.80280979 -0.00833965], Reward=-1.0\n",
      "Step 31: State=[-0.81029178 -0.007482  ], Reward=-1.0\n",
      "Step 32: State=[-0.81687904 -0.00658726], Reward=-1.0\n",
      "Step 33: State=[-0.82253971 -0.00566067], Reward=-1.0\n",
      "Step 34: State=[-0.827247  -0.0047073], Reward=-1.0\n",
      "Step 35: State=[-0.83097909 -0.00373209], Reward=-1.0\n",
      "Step 36: State=[-0.83371894 -0.00273985], Reward=-1.0\n",
      "Step 37: State=[-0.8354542  -0.00173526], Reward=-1.0\n",
      "Step 38: State=[-8.36177115e-01 -7.22919740e-04], Reward=-1.0\n",
      "Step 39: State=[-8.35884484e-01  2.92630687e-04], Reward=-1.0\n",
      "Step 40: State=[-0.8325776   0.00330688], Reward=-1.0\n",
      "Step 41: State=[-0.82627126  0.00630634], Reward=-1.0\n",
      "Step 42: State=[-0.8169942   0.00927706], Reward=-1.0\n",
      "Step 43: State=[-0.80479    0.0122042], Reward=-1.0\n",
      "Step 44: State=[-0.78971824  0.01507176], Reward=-1.0\n",
      "Step 45: State=[-0.77185595  0.01786229], Reward=-1.0\n",
      "Step 46: State=[-0.75129915  0.0205568 ], Reward=-1.0\n",
      "Step 47: State=[-0.72816435  0.0231348 ], Reward=-1.0\n",
      "Step 48: State=[-0.70258982  0.02557454], Reward=-1.0\n",
      "Step 49: State=[-0.67473644  0.02785338], Reward=-1.0\n",
      "Step 50: State=[-0.64478797  0.02994847], Reward=-1.0\n",
      "Step 51: State=[-0.61295047  0.0318375 ], Reward=-1.0\n",
      "Step 52: State=[-0.57945083  0.03349964], Reward=-1.0\n",
      "Step 53: State=[-0.54453426  0.03491657], Reward=-1.0\n",
      "Step 54: State=[-0.50846078  0.03607348], Reward=-1.0\n",
      "Step 55: State=[-0.47150079  0.03695999], Reward=-1.0\n",
      "Step 56: State=[-0.43392995  0.03757084], Reward=-1.0\n",
      "Step 57: State=[-0.39602354  0.03790641], Reward=-1.0\n",
      "Step 58: State=[-0.35805076  0.03797278], Reward=-1.0\n",
      "Step 59: State=[-0.32026917  0.03778159], Reward=-1.0\n",
      "Step 60: State=[-0.28291973  0.03734944], Reward=-1.0\n",
      "Step 61: State=[-0.24622257  0.03669715], Reward=-1.0\n",
      "Step 62: State=[-0.21037383  0.03584874], Reward=-1.0\n",
      "Step 63: State=[-0.17554351  0.03483032], Reward=-1.0\n",
      "Step 64: State=[-0.14187445  0.03366906], Reward=-1.0\n",
      "Step 65: State=[-0.10948235  0.03239211], Reward=-1.0\n",
      "Step 66: State=[-0.0784566   0.03102574], Reward=-1.0\n",
      "Step 67: State=[-0.04886193  0.02959467], Reward=-1.0\n",
      "Step 68: State=[-0.02074044  0.02812149], Reward=-1.0\n",
      "Step 69: State=[0.00588588 0.02662632], Reward=-1.0\n",
      "Step 70: State=[0.03101259 0.02512671], Reward=-1.0\n",
      "Step 71: State=[0.05465012 0.02363753], Reward=-1.0\n",
      "Step 72: State=[0.07682117 0.02217105], Reward=-1.0\n",
      "Step 73: State=[0.09755832 0.02073715], Reward=-1.0\n",
      "Step 74: State=[0.11690178 0.01934346], Reward=-1.0\n",
      "Step 75: State=[0.13489741 0.01799563], Reward=-1.0\n",
      "Step 76: State=[0.15159498 0.01669757], Reward=-1.0\n",
      "Step 77: State=[0.16704667 0.01545168], Reward=-1.0\n",
      "Step 78: State=[0.18130576 0.0142591 ], Reward=-1.0\n",
      "Step 79: State=[0.19442564 0.01311988], Reward=-1.0\n",
      "Step 80: State=[0.20645886 0.01203322], Reward=-1.0\n",
      "Step 81: State=[0.21745648 0.01099762], Reward=-1.0\n",
      "Step 82: State=[0.22746748 0.010011  ], Reward=-1.0\n",
      "Step 83: State=[0.23653833 0.00907085], Reward=-1.0\n",
      "Step 84: State=[0.24471265 0.00817432], Reward=-1.0\n",
      "Step 85: State=[0.25203094 0.0073183 ], Reward=-1.0\n",
      "Step 86: State=[0.25853043 0.00649949], Reward=-1.0\n",
      "Step 87: State=[0.26424491 0.00571447], Reward=-1.0\n",
      "Step 88: State=[0.26920463 0.00495972], Reward=-1.0\n",
      "Step 89: State=[0.27343629 0.00423166], Reward=-1.0\n",
      "Step 90: State=[0.27696296 0.00352667], Reward=-1.0\n",
      "Step 91: State=[0.27980409 0.00284112], Reward=-1.0\n",
      "Step 92: State=[0.28197546 0.00217137], Reward=-1.0\n",
      "Step 93: State=[0.28348924 0.00151378], Reward=-1.0\n",
      "Step 94: State=[0.28435394 0.0008647 ], Reward=-1.0\n",
      "Step 95: State=[2.84574437e-01 2.20499317e-04], Reward=-1.0\n",
      "Step 96: State=[ 0.28415198 -0.00042245], Reward=-1.0\n",
      "Step 97: State=[ 0.28108419 -0.00306779], Reward=-1.0\n",
      "Step 98: State=[ 0.2753538  -0.00573039], Reward=-1.0\n",
      "Step 99: State=[ 0.26692897 -0.00842483], Reward=-1.0\n",
      "Step 100: State=[ 0.25576379 -0.01116518], Reward=-1.0\n",
      "Step 101: State=[ 0.24179912 -0.01396467], Reward=-1.0\n",
      "Step 102: State=[ 0.22496386 -0.01683526], Reward=-1.0\n",
      "Step 103: State=[ 0.20517667 -0.0197872 ], Reward=-1.0\n",
      "Step 104: State=[ 0.1823483  -0.02282836], Reward=-1.0\n",
      "Step 105: State=[ 0.15638477 -0.02596353], Reward=-1.0\n",
      "Step 106: State=[ 0.12719137 -0.0291934 ], Reward=-1.0\n",
      "Step 107: State=[ 0.09467777 -0.0325136 ], Reward=-1.0\n",
      "Step 108: State=[ 0.05876433 -0.03591344], Reward=-1.0\n",
      "Step 109: State=[ 0.01938964 -0.03937469], Reward=-1.0\n",
      "Step 110: State=[-0.02348082 -0.04287046], Reward=-1.0\n",
      "Step 111: State=[-0.06984508 -0.04636426], Reward=-1.0\n",
      "Step 112: State=[-0.11965466 -0.04980958], Reward=-1.0\n",
      "Step 113: State=[-0.17280489 -0.05315023], Reward=-1.0\n",
      "Step 114: State=[-0.22912664 -0.05632175], Reward=-1.0\n",
      "Step 115: State=[-0.28838066 -0.05925402], Reward=-1.0\n",
      "Step 116: State=[-0.35025601 -0.06187535], Reward=-1.0\n",
      "Step 117: State=[-0.41437363 -0.06411762], Reward=-1.0\n",
      "Step 118: State=[-0.48029585 -0.06592222], Reward=-1.0\n",
      "Step 119: State=[-0.54754194 -0.06724608], Reward=-1.0\n",
      "Step 120: State=[-0.6156086  -0.06806666], Reward=-1.0\n",
      "Step 121: State=[-0.68399392 -0.06838532], Reward=-1.0\n",
      "Step 122: State=[-0.75222216 -0.06822824], Reward=-1.0\n",
      "Step 123: State=[-0.81986704 -0.06764488], Reward=-1.0\n",
      "Step 124: State=[-0.88657112 -0.06670408], Reward=-1.0\n",
      "Step 125: State=[-0.95205989 -0.06548877], Reward=-1.0\n",
      "Step 126: State=[-1.01614979 -0.0640899 ], Reward=-1.0\n",
      "Step 127: State=[-1.07875053 -0.06260074], Reward=-1.0\n",
      "Step 128: State=[-1.13986246 -0.06111193], Reward=-1.0\n",
      "Step 129: State=[-1.19957037 -0.05970791], Reward=-1.0\n",
      "Step 130: State=[-1.2  0. ], Reward=-1.0\n",
      "Step 131: State=[-1.1987581  0.0012419], Reward=-1.0\n",
      "Step 132: State=[-1.19427021  0.0044879 ], Reward=-1.0\n",
      "Step 133: State=[-1.18652173  0.00774848], Reward=-1.0\n",
      "Step 134: State=[-1.17548846  0.01103326], Reward=-1.0\n",
      "Step 135: State=[-1.16113808  0.01435038], Reward=-1.0\n",
      "Step 136: State=[-1.14343234  0.01770574], Reward=-1.0\n",
      "Step 137: State=[-1.12233007  0.02110228], Reward=-1.0\n",
      "Step 138: State=[-1.09779103  0.02453904], Reward=-1.0\n",
      "Step 139: State=[-1.06978073  0.0280103 ], Reward=-1.0\n",
      "Step 140: State=[-1.03827616  0.03150456], Reward=-1.0\n",
      "Step 141: State=[-1.0032725   0.03500367], Reward=-1.0\n",
      "Step 142: State=[-0.9647905   0.03848199], Reward=-1.0\n",
      "Step 143: State=[-0.92288452  0.04190598], Reward=-1.0\n",
      "Step 144: State=[-0.87765038  0.04523414], Reward=-1.0\n",
      "Step 145: State=[-0.82923273  0.04841765], Reward=-1.0\n",
      "Step 146: State=[-0.77783078  0.05140195], Reward=-1.0\n",
      "Step 147: State=[-0.72370164  0.05412914], Reward=-1.0\n",
      "Step 148: State=[-0.66716026  0.05654138], Reward=-1.0\n",
      "Step 149: State=[-0.60857514  0.05858511], Reward=-1.0\n",
      "Step 150: State=[-0.54835959  0.06021555], Reward=-1.0\n",
      "Step 151: State=[-0.4869585   0.06140109], Reward=-1.0\n",
      "Step 152: State=[-0.42483166  0.06212684], Reward=-1.0\n",
      "Step 153: State=[-0.36243478  0.06239688], Reward=-1.0\n",
      "Step 154: State=[-0.30020009  0.06223469], Reward=-1.0\n",
      "Step 155: State=[-0.23851824  0.06168185], Reward=-1.0\n",
      "Step 156: State=[-0.17772322  0.06079502], Reward=-1.0\n",
      "Step 157: State=[-0.1180812   0.05964202], Reward=-1.0\n",
      "Step 158: State=[-0.05978395  0.05829725], Reward=-1.0\n",
      "Step 159: State=[-0.0029466   0.05683735], Reward=-1.0\n",
      "Step 160: State=[0.05239085 0.05533745], Reward=-1.0\n",
      "Step 161: State=[0.10625911 0.05386826], Reward=-1.0\n",
      "Step 162: State=[0.15875332 0.05249421], Reward=-1.0\n",
      "Step 163: State=[0.21002575 0.05127242], Reward=-1.0\n",
      "Step 164: State=[0.26027822 0.05025247], Reward=-1.0\n",
      "Step 165: State=[0.30975487 0.04947665], Reward=-1.0\n",
      "Step 166: State=[0.35873547 0.0489806 ], Reward=-1.0\n",
      "Step 167: State=[0.40752939 0.04879392], Reward=-1.0\n",
      "Step 168: State=[0.45647027 0.04894088], Reward=-1.0\n",
      "Step 169: State=[0.50591109 0.04944082], Reward=-1.0\n"
     ]
    }
   ],
   "source": [
    "import gym\n",
    "\n",
    "env = gym.make(\"MountainCar-v0\")\n",
    "  \n",
    "state = env.reset()\n",
    "done = False\n",
    "\n",
    "i = 0\n",
    "while not done:\n",
    "    i += 1\n",
    "    \n",
    "    if state[1]>0:\n",
    "        action = 2\n",
    "    else:\n",
    "        action = 0\n",
    "    \n",
    "    state, reward, done, _ = env.step(action)\n",
    "    env.render()\n",
    "    print(f\"Step {i}: State={state}, Reward={reward}\")\n",
    "    \n",
    "env.close()"
   ]
  },
  {
   "cell_type": "markdown",
   "metadata": {
    "colab_type": "text",
    "id": "eDSKmI___tEl"
   },
   "source": [
    "We now visualize the preprogrammed car solving the problem."
   ]
  },
  {
   "cell_type": "markdown",
   "metadata": {
    "colab_type": "text",
    "id": "QAyqqoy9-Nog"
   },
   "source": [
    "### Reinforcement Learning\n",
    "\n",
    "Q-Learning is a system of rewards that the algorithm gives an agent for successfully moving the environment into a state considered successful.  These rewards are the Q-values from which this algorithm takes its name.  The final output from the Q-Learning algorithm is a table of Q-values that indicate the reward value of every action that the agent can take, given every possible environment state. The agent must bin continuous state values into a fixed finite number of columns.\n",
    "\n",
    "Learning occurs when the algorithm runs the agent and environment through a series of episodes and updates the Q-values based on the rewards received from actions taken; Figure 12.REINF provides a high-level overview of this reinforcement or Q-Learning loop.\n",
    "\n",
    "**Figure 12.REINF:Reinforcement/Q Learning**\n",
    "![Reinforcement Learning](https://raw.githubusercontent.com/jeffheaton/t81_558_deep_learning/master/images/reinforcement.png \"Reinforcement Learning\")\n",
    "\n",
    "The Q-values can dictate action by selecting the action column with the highest Q-value for the current environment state.  The choice between choosing a random action and a Q-value driven action is governed by the epsilon ($\\epsilon$) parameter, which is the probability of random action.\n",
    "\n",
    "Each time through the training loop, the training algorithm updates the Q-values according to the following equation.\n"
   ]
  },
  {
   "cell_type": "markdown",
   "metadata": {},
   "source": [
    "$Q^{new}(s_{t},a_{t}) \\leftarrow \\underbrace{Q(s_{t},a_{t})}_{\\text{old value}} + \\underbrace{\\alpha}_{\\text{learning rate}} \\cdot  \\overbrace{\\bigg( \\underbrace{\\underbrace{r_{t}}_{\\text{reward}} + \\underbrace{\\gamma}_{\\text{discount factor}} \\cdot \\underbrace{\\max_{a}Q(s_{t+1}, a)}_{\\text{estimate of optimal future value}}}_{\\text{new value (temporal difference target)}} - \\underbrace{Q(s_{t},a_{t})}_{\\text{old value}} \\bigg) }^{\\text{temporal difference}}$\n",
    "\n",
    "There are several parameters in this equation:\n",
    "* alpha ($\\alpha$) - The learning rate, how much should the current step cause the Q-values to be updated.\n",
    "* lambda ($\\lambda$) - The discount factor is the percentage of future reward that the algorithm should consider in this update.\n",
    "\n",
    "This equation modifies several values:\n",
    "\n",
    "* $Q(s_t,a_t)$ - The Q-table.  For each combination of states, what reward would the agent likely receive for performing each action?\n",
    "* $s_t$ - The current state.\n",
    "* $r_t$ - The last reward received.\n",
    "* $a_t$ - The action that the agent will perform.\n",
    "\n",
    "The equation works by calculating a delta (temporal difference) that the equation should apply to the old state.  This learning rate ($\\alpha$) scales this delta.  A learning rate of 1.0 would fully implement the temporal difference to the Q-values each iteration and would likely be very chaotic.\n",
    "\n",
    "There are two parts to the temporal difference: the new and old values.  The new value is subtracted from the old value to provide a delta; the full amount that we would change the Q-value by if the learning rate did not scale this value.  The new value is a summation of the reward received from the last action and the maximum of the Q-values from the resulting state when the client takes this action. It is essential to add the maximum of action Q-values for the new state because it estimates the optimal future values from proceeding with this action. \n",
    "\n",
    "### Q-Learning Car\n",
    "\n",
    "We will now use Q-Learning to produce a car that learns to drive itself.  Look out, Tesla!  We begin by defining two essential functions.\n"
   ]
  },
  {
   "cell_type": "code",
   "execution_count": 5,
   "metadata": {
    "colab": {},
    "colab_type": "code",
    "id": "UrQgXqbS-Noi"
   },
   "outputs": [],
   "source": [
    "import gym\n",
    "import numpy as np\n",
    "\n",
    "# This function converts the floating point state values into \n",
    "# discrete values. This is often called binning.  We divide \n",
    "# the range that the state values might occupy and assign \n",
    "# each region to a bucket.\n",
    "def calc_discrete_state(state):\n",
    "    discrete_state = (state - env.observation_space.low)/buckets\n",
    "    return tuple(discrete_state.astype(np.int))  \n",
    "\n",
    "# Run one game.  The q_table to use is provided.  We also \n",
    "# provide a flag to indicate if the game should be \n",
    "# rendered/animated.  Finally, we also provide\n",
    "# a flag to indicate if the q_table should be updated.\n",
    "def run_game(q_table, render, should_update):\n",
    "    done = False\n",
    "    discrete_state = calc_discrete_state(env.reset())\n",
    "    success = False\n",
    "    \n",
    "    while not done:\n",
    "        # Exploit or explore\n",
    "        if np.random.random() > epsilon:\n",
    "            # Exploit - use q-table to take current best action \n",
    "            # (and probably refine)\n",
    "            action = np.argmax(q_table[discrete_state])\n",
    "        else:\n",
    "            # Explore - t\n",
    "            action = np.random.randint(0, env.action_space.n)\n",
    "            \n",
    "        # Run simulation step\n",
    "        new_state, reward, done, _ = env.step(action)\n",
    "        \n",
    "        # Convert continuous state to discrete\n",
    "        new_state_disc = calc_discrete_state(new_state)\n",
    "\n",
    "        # Have we reached the goal position (have we won?)?\n",
    "        if new_state[0] >= env.unwrapped.goal_position:\n",
    "            success = True\n",
    "          \n",
    "        # Update q-table\n",
    "        if should_update:\n",
    "            max_future_q = np.max(q_table[new_state_disc])\n",
    "            current_q = q_table[discrete_state + (action,)]\n",
    "            new_q = (1 - LEARNING_RATE) * current_q + LEARNING_RATE * \\\n",
    "              (reward + DISCOUNT * max_future_q)\n",
    "            q_table[discrete_state + (action,)] = new_q\n",
    "\n",
    "        discrete_state = new_state_disc\n",
    "        \n",
    "        if render:\n",
    "            env.render()\n",
    "            \n",
    "    return success\n"
   ]
  },
  {
   "cell_type": "markdown",
   "metadata": {
    "colab_type": "text",
    "id": "n3j1M4MddIBF"
   },
   "source": [
    "Several hyperparameters are very important for Q-Learning. These parameters will likely need adjustment as you apply Q-Learning to other problems.  Because of this, it is crucial to understand the role of each parameter.\n",
    "\n",
    "* **LEARNING_RATE** The rate at which previous Q-values are updated based on new episodes run during training. \n",
    "* **DISCOUNT** The amount of significance to give estimates of future rewards when added to the reward for the current action taken.  A value of 0.95 would indicate a discount of 5% to the future reward estimates. \n",
    "* **EPISODES** The number of episodes to train over.  Increase this for more complex problems; however, training time also increases.\n",
    "* **SHOW_EVERY** How many episodes to allow to elapse before showing an update.\n",
    "* **DISCRETE_GRID_SIZE** How many buckets to use when converting each of the continuous state variables.  For example, [10, 10] indicates that the algorithm should use ten buckets for the first and second state variables.\n",
    "* **START_EPSILON_DECAYING** Epsilon is the probability that the agent will select a random action over what the Q-Table suggests. This value determines the starting probability of randomness.\n",
    "* **END_EPSILON_DECAYING** How many episodes should elapse before epsilon goes to zero and no random actions are permitted. For example, EPISODES//10  means only the first 1/10th of the episodes might have random actions."
   ]
  },
  {
   "cell_type": "code",
   "execution_count": 6,
   "metadata": {
    "colab": {},
    "colab_type": "code",
    "id": "rI0TJc7T-Nol"
   },
   "outputs": [],
   "source": [
    "LEARNING_RATE = 0.1\n",
    "DISCOUNT = 0.95\n",
    "EPISODES = 50000\n",
    "SHOW_EVERY = 1000\n",
    "\n",
    "DISCRETE_GRID_SIZE = [10, 10]\n",
    "START_EPSILON_DECAYING = 0.5\n",
    "END_EPSILON_DECAYING = EPISODES//10"
   ]
  },
  {
   "cell_type": "markdown",
   "metadata": {
    "colab_type": "text",
    "id": "Rw3SjzSyAktT"
   },
   "source": [
    "We can now make the environment.  If we are running in Google COLAB then we wrap the environment to be displayed inside the web browser.  Next create the discrete buckets for state and build Q-table."
   ]
  },
  {
   "cell_type": "code",
   "execution_count": 7,
   "metadata": {
    "colab": {},
    "colab_type": "code",
    "id": "2IdL-46y-Noo"
   },
   "outputs": [],
   "source": [
    "env = gym.make(\"MountainCar-v0\")\n",
    "\n",
    "epsilon = 1  \n",
    "epsilon_change = epsilon/(END_EPSILON_DECAYING - START_EPSILON_DECAYING)\n",
    "buckets = (env.observation_space.high - env.observation_space.low) \\\n",
    "    /DISCRETE_GRID_SIZE\n",
    "q_table = np.random.uniform(low=-3, high=0, size=(DISCRETE_GRID_SIZE \\\n",
    "    + [env.action_space.n]))\n",
    "success = False"
   ]
  },
  {
   "cell_type": "markdown",
   "metadata": {
    "colab_type": "text",
    "id": "Z2qG3ayDsRWz"
   },
   "source": [
    "We can now make the environment.  If we are running in Google COLAB then we wrap the environment to be displayed inside the web browser.  Next, create the discrete buckets for state and build Q-table."
   ]
  },
  {
   "cell_type": "code",
   "execution_count": 8,
   "metadata": {
    "colab": {
     "base_uri": "https://localhost:8080/",
     "height": 884
    },
    "colab_type": "code",
    "id": "Ot7cF0bX-Nor",
    "outputId": "92e0504b-93ea-4c8c-f1b5-47b9cacb75f6"
   },
   "outputs": [
    {
     "name": "stdout",
     "output_type": "stream",
     "text": [
      "0.0\n",
      "0.0\n",
      "0.0\n",
      "0.074\n",
      "0.367\n",
      "0.702\n",
      "0.346\n",
      "0.728\n",
      "0.943\n",
      "0.935\n",
      "0.866\n"
     ]
    },
    {
     "ename": "KeyboardInterrupt",
     "evalue": "",
     "output_type": "error",
     "traceback": [
      "\u001b[1;31m---------------------------------------------------------------------------\u001b[0m",
      "\u001b[1;31mKeyboardInterrupt\u001b[0m                         Traceback (most recent call last)",
      "\u001b[1;32m<ipython-input-8-9e5e4dc5b4c4>\u001b[0m in \u001b[0;36m<module>\u001b[1;34m\u001b[0m\n\u001b[0;32m     16\u001b[0m         \u001b[0msuccess_count\u001b[0m \u001b[1;33m=\u001b[0m \u001b[1;36m0\u001b[0m\u001b[1;33m\u001b[0m\u001b[1;33m\u001b[0m\u001b[0m\n\u001b[0;32m     17\u001b[0m     \u001b[1;32melse\u001b[0m\u001b[1;33m:\u001b[0m\u001b[1;33m\u001b[0m\u001b[1;33m\u001b[0m\u001b[0m\n\u001b[1;32m---> 18\u001b[1;33m         \u001b[0msuccess\u001b[0m \u001b[1;33m=\u001b[0m \u001b[0mrun_game\u001b[0m\u001b[1;33m(\u001b[0m\u001b[0mq_table\u001b[0m\u001b[1;33m,\u001b[0m \u001b[1;32mFalse\u001b[0m\u001b[1;33m,\u001b[0m \u001b[1;32mTrue\u001b[0m\u001b[1;33m)\u001b[0m\u001b[1;33m\u001b[0m\u001b[1;33m\u001b[0m\u001b[0m\n\u001b[0m\u001b[0;32m     19\u001b[0m \u001b[1;33m\u001b[0m\u001b[0m\n\u001b[0;32m     20\u001b[0m     \u001b[1;31m# Count successes\u001b[0m\u001b[1;33m\u001b[0m\u001b[1;33m\u001b[0m\u001b[1;33m\u001b[0m\u001b[0m\n",
      "\u001b[1;32m<ipython-input-5-26a54e020cf5>\u001b[0m in \u001b[0;36mrun_game\u001b[1;34m(q_table, render, should_update)\u001b[0m\n\u001b[0;32m     24\u001b[0m             \u001b[1;31m# Exploit - use q-table to take current best action\u001b[0m\u001b[1;33m\u001b[0m\u001b[1;33m\u001b[0m\u001b[1;33m\u001b[0m\u001b[0m\n\u001b[0;32m     25\u001b[0m             \u001b[1;31m# (and probably refine)\u001b[0m\u001b[1;33m\u001b[0m\u001b[1;33m\u001b[0m\u001b[1;33m\u001b[0m\u001b[0m\n\u001b[1;32m---> 26\u001b[1;33m             \u001b[0maction\u001b[0m \u001b[1;33m=\u001b[0m \u001b[0mnp\u001b[0m\u001b[1;33m.\u001b[0m\u001b[0margmax\u001b[0m\u001b[1;33m(\u001b[0m\u001b[0mq_table\u001b[0m\u001b[1;33m[\u001b[0m\u001b[0mdiscrete_state\u001b[0m\u001b[1;33m]\u001b[0m\u001b[1;33m)\u001b[0m\u001b[1;33m\u001b[0m\u001b[1;33m\u001b[0m\u001b[0m\n\u001b[0m\u001b[0;32m     27\u001b[0m         \u001b[1;32melse\u001b[0m\u001b[1;33m:\u001b[0m\u001b[1;33m\u001b[0m\u001b[1;33m\u001b[0m\u001b[0m\n\u001b[0;32m     28\u001b[0m             \u001b[1;31m# Explore - t\u001b[0m\u001b[1;33m\u001b[0m\u001b[1;33m\u001b[0m\u001b[1;33m\u001b[0m\u001b[0m\n",
      "\u001b[1;32m<__array_function__ internals>\u001b[0m in \u001b[0;36margmax\u001b[1;34m(*args, **kwargs)\u001b[0m\n",
      "\u001b[1;32mD:\\UserFiles\\anaconda\\envs\\ia\\lib\\site-packages\\numpy\\core\\fromnumeric.py\u001b[0m in \u001b[0;36margmax\u001b[1;34m(a, axis, out)\u001b[0m\n\u001b[0;32m   1186\u001b[0m \u001b[1;33m\u001b[0m\u001b[0m\n\u001b[0;32m   1187\u001b[0m     \"\"\"\n\u001b[1;32m-> 1188\u001b[1;33m     \u001b[1;32mreturn\u001b[0m \u001b[0m_wrapfunc\u001b[0m\u001b[1;33m(\u001b[0m\u001b[0ma\u001b[0m\u001b[1;33m,\u001b[0m \u001b[1;34m'argmax'\u001b[0m\u001b[1;33m,\u001b[0m \u001b[0maxis\u001b[0m\u001b[1;33m=\u001b[0m\u001b[0maxis\u001b[0m\u001b[1;33m,\u001b[0m \u001b[0mout\u001b[0m\u001b[1;33m=\u001b[0m\u001b[0mout\u001b[0m\u001b[1;33m)\u001b[0m\u001b[1;33m\u001b[0m\u001b[1;33m\u001b[0m\u001b[0m\n\u001b[0m\u001b[0;32m   1189\u001b[0m \u001b[1;33m\u001b[0m\u001b[0m\n\u001b[0;32m   1190\u001b[0m \u001b[1;33m\u001b[0m\u001b[0m\n",
      "\u001b[1;32mD:\\UserFiles\\anaconda\\envs\\ia\\lib\\site-packages\\numpy\\core\\fromnumeric.py\u001b[0m in \u001b[0;36m_wrapfunc\u001b[1;34m(obj, method, *args, **kwds)\u001b[0m\n\u001b[0;32m     56\u001b[0m \u001b[1;33m\u001b[0m\u001b[0m\n\u001b[0;32m     57\u001b[0m     \u001b[1;32mtry\u001b[0m\u001b[1;33m:\u001b[0m\u001b[1;33m\u001b[0m\u001b[1;33m\u001b[0m\u001b[0m\n\u001b[1;32m---> 58\u001b[1;33m         \u001b[1;32mreturn\u001b[0m \u001b[0mbound\u001b[0m\u001b[1;33m(\u001b[0m\u001b[1;33m*\u001b[0m\u001b[0margs\u001b[0m\u001b[1;33m,\u001b[0m \u001b[1;33m**\u001b[0m\u001b[0mkwds\u001b[0m\u001b[1;33m)\u001b[0m\u001b[1;33m\u001b[0m\u001b[1;33m\u001b[0m\u001b[0m\n\u001b[0m\u001b[0;32m     59\u001b[0m     \u001b[1;32mexcept\u001b[0m \u001b[0mTypeError\u001b[0m\u001b[1;33m:\u001b[0m\u001b[1;33m\u001b[0m\u001b[1;33m\u001b[0m\u001b[0m\n\u001b[0;32m     60\u001b[0m         \u001b[1;31m# A TypeError occurs if the object does have such a method in its\u001b[0m\u001b[1;33m\u001b[0m\u001b[1;33m\u001b[0m\u001b[1;33m\u001b[0m\u001b[0m\n",
      "\u001b[1;31mKeyboardInterrupt\u001b[0m: "
     ]
    }
   ],
   "source": [
    "episode = 0\n",
    "success_count = 0\n",
    "\n",
    "# Loop through the required number of episodes\n",
    "while episode<EPISODES:\n",
    "    episode+=1\n",
    "    done = False\n",
    "\n",
    "    # Run the game.  If we are local, display render animation at SHOW_EVERY\n",
    "    # intervals. \n",
    "    if episode % SHOW_EVERY == 100:\n",
    "        #print(f\"Current episode: {episode}, success: {success_count}\" +\\\n",
    "        #      \" ({float(success_count)/SHOW_EVERY})\")\n",
    "        print(float(success_count)/SHOW_EVERY)\n",
    "        success = run_game(q_table, True, False)\n",
    "        success_count = 0\n",
    "    else:\n",
    "        success = run_game(q_table, False, True)\n",
    "        \n",
    "    # Count successes\n",
    "    if success:\n",
    "        success_count += 1\n",
    "\n",
    "    # Move epsilon towards its ending value, if it still needs to move\n",
    "    if END_EPSILON_DECAYING >= episode >= START_EPSILON_DECAYING:\n",
    "        epsilon = max(0, epsilon - epsilon_change)\n",
    "\n",
    "print(success)"
   ]
  },
  {
   "cell_type": "markdown",
   "metadata": {
    "colab_type": "text",
    "id": "kDHTQkREFRSE"
   },
   "source": [
    "As you can see, the number of successful episodes generally increases as training progresses.  It is not advisable to stop the first time that we observe 100% success over 1,000 episodes. There is a randomness to most games, so it is not likely that an agent would retain its 100% success rate with a new run.  Once you observe that the agent has gotten 100% for several update intervals, it might be safe to stop training."
   ]
  },
  {
   "cell_type": "markdown",
   "metadata": {
    "colab_type": "text",
    "id": "dMPR70U0sY7o"
   },
   "source": [
    "# Running and Observing the Agent\n",
    "\n",
    "Now that the algorithm has trained the agent, we can observe the agent in action. You can use the following code to see the agent in action."
   ]
  },
  {
   "cell_type": "code",
   "execution_count": null,
   "metadata": {
    "colab": {
     "base_uri": "https://localhost:8080/",
     "height": 421
    },
    "colab_type": "code",
    "id": "v_mf3A0h-Nox",
    "outputId": "38d34522-667b-4de3-e84d-b0311e88f1ca"
   },
   "outputs": [],
   "source": [
    "run_game(q_table, True, False)\n",
    "show_video()"
   ]
  },
  {
   "cell_type": "markdown",
   "metadata": {
    "colab_type": "text",
    "id": "WeQzNFSosdys"
   },
   "source": [
    "# Inspecting the Q-Table\n",
    "\n",
    "We can also display the Q-table.  The following code shows the action that the agent would perform for each environment state.  As the weights of a neural network, this table is not straightforward to interpret.  Some patterns do emerge in that directions do arise, as seen by calculating the means of rows and columns. The actions seem consistent at upper and lower halves of both velocity and position."
   ]
  },
  {
   "cell_type": "code",
   "execution_count": null,
   "metadata": {
    "colab": {
     "base_uri": "https://localhost:8080/",
     "height": 359
    },
    "colab_type": "code",
    "id": "L62lyCTr-Noz",
    "outputId": "1d983119-83fa-490f-957e-8dd580b8425d"
   },
   "outputs": [],
   "source": [
    "import pandas as pd\n",
    "\n",
    "df = pd.DataFrame(q_table.argmax(axis=2))\n",
    "\n",
    "df.columns = [f'v-{x}' for x in range(DISCRETE_GRID_SIZE[0])]\n",
    "df.index = [f'p-{x}' for x in range(DISCRETE_GRID_SIZE[1])]\n",
    "df"
   ]
  },
  {
   "cell_type": "code",
   "execution_count": null,
   "metadata": {
    "colab": {
     "base_uri": "https://localhost:8080/",
     "height": 204
    },
    "colab_type": "code",
    "id": "Z-ZOL-d5Jbon",
    "outputId": "77de2b61-b460-423f-e5e6-97bff7070d72"
   },
   "outputs": [],
   "source": [
    "df.mean(axis=0)"
   ]
  },
  {
   "cell_type": "code",
   "execution_count": null,
   "metadata": {
    "colab": {
     "base_uri": "https://localhost:8080/",
     "height": 204
    },
    "colab_type": "code",
    "id": "LOGA4HP9KHW3",
    "outputId": "388ec235-1926-4801-88f2-ff852239dc16"
   },
   "outputs": [],
   "source": [
    "df.mean(axis=1)"
   ]
  },
  {
   "cell_type": "code",
   "execution_count": null,
   "metadata": {},
   "outputs": [],
   "source": []
  },
  {
   "cell_type": "code",
   "execution_count": null,
   "metadata": {},
   "outputs": [],
   "source": []
  },
  {
   "cell_type": "code",
   "execution_count": null,
   "metadata": {},
   "outputs": [],
   "source": []
  }
 ],
 "metadata": {
  "anaconda-cloud": {},
  "kernelspec": {
   "display_name": "Python 3",
   "language": "python",
   "name": "python3"
  },
  "language_info": {
   "codemirror_mode": {
    "name": "ipython",
    "version": 3
   },
   "file_extension": ".py",
   "mimetype": "text/x-python",
   "name": "python",
   "nbconvert_exporter": "python",
   "pygments_lexer": "ipython3",
   "version": "3.8.8"
  }
 },
 "nbformat": 4,
 "nbformat_minor": 4
}
