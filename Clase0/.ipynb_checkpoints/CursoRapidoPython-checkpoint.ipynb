{
 "cells": [
  {
   "cell_type": "markdown",
   "id": "incoming-optimum",
   "metadata": {},
   "source": [
    "\n",
    "\n",
    "## Jupyter Notebooks o Libretas Jupyter\n",
    "\n",
    "Constituye una de las mejores herramientas para análisis de datos. Brinda un ambiente ideal para realizar análisis de datos \"reproducibles\"\n",
    "Los datos pueden ser leídos, transformados y modelados dentro de una simple **Libreta**. Es un espacio sencillo para probar código y explorar ideas.\n",
    "\n",
    "Existen otras plataformas como **Spyder** que permite lo mismo aunque requiere más instalación. La diferencia es que se puede ejecutar y reejecutar código sin necesidad de programas separados.\n",
    "\n",
    "Algunas ventajas del uso de notebooks o libretas:  \n",
    "* Se pueden compartir por correo electrónico, DropBox, Github, etc.\n",
    "* Los resultados del código son interactivos en formato HTML, imágenes, LaTex, etc.\n",
    "* Integración con varias herramientas \n",
    "\n",
    "Las libretas constituyen un  entorno de tipo web ejecutado desde un servidor remoto o local que puede contener (**Python**, **R**, **Julia**, otros), ecuaciones, figuras, aplicaciones interactivas y texto de tipo *MarkDown* (como un lenguaje marcado pero muy simple) que permite mezclar documentación con el texto.  Es un entorno **REPL** (*Read-Eval-Print-Loop*: lee la entrada del usuario, la ejecuta, muestra el resultado y espera la siguiente entrada).\n",
    "\n",
    "**MarkDown** es un lenguaje sencillo usado para agregar estilos a texto en la web (es html pero mucho más sencillo).\n",
    "\n",
    "Comunmente usa símbolos como #, * y formas de agregar enlaces de manera sencilla. Tiene una ayuda muy rápida de Markdown en la opción de Ayuda (Help)-> Markdown Reference.\n",
    "\n",
    "Las libretas tienen extensión **.ipynb**.\n",
    "\n",
    "\n",
    "\n",
    "## Python\n",
    "\n",
    "Es un lenguaje de propósito general diseñado y desarrollado para escribir software para una variedad de disciplinas. Es un lenguaje procedural, orientado a objeto y con soporte funcional (las funciones son tipos).\n",
    "\n",
    "Es utilizado para resolver problemas en diversas áreas de las ciencias como biología, química, análisis financiero, machine learning, análisis de datos, robótica, computación, seguridad informática, y otros varios campos más. También es conocido por ser un lenguaje de tipo scripting utilizado por los administradores de sistemas.\n",
    "\n",
    "* Este es un material resumido del curso introductorio elaborado por el Prof. Cristian Cappo\n",
    "\n",
    "## Ejercicios sencillos\n",
    "\n",
    "Escriba en una celda:\n",
    "\n",
    "* Imprimir texto en la pantalla.\n"
   ]
  },
  {
   "cell_type": "code",
   "execution_count": 3,
   "id": "buried-family",
   "metadata": {},
   "outputs": [
    {
     "name": "stdout",
     "output_type": "stream",
     "text": [
      "Hola Python\n",
      "El resultado de 100^2 (cien al cuadrado) = 10000\n",
      "El resultado de 100^2 (cien al cuadrado) = 10000\n"
     ]
    }
   ],
   "source": [
    "# %%\n",
    "# Asi se colocan los comentarios \n",
    "print('Hola Python')    \n",
    "# Imprimimos un texto y un valor\n",
    "print('El resultado de 100^2 (cien al cuadrado) =', 100**2)\n",
    "# Otra forma, la más actual de imprimir (cadena de formato) \n",
    "print(f'El resultado de 100^2 (cien al cuadrado) = {100**2}')\n",
    "\n"
   ]
  },
  {
   "cell_type": "markdown",
   "id": "billion-validation",
   "metadata": {},
   "source": [
    "* Ejecutar una expresión aritmética sencilla donde se tiene suma, multiplicación y \n",
    "división con decimales. Fijarse que las precedencias de los operadores es igual que en matemática, \n",
    "la multiplicación y división tienen mayor precedencia que la suma y resta. \n",
    "Si tienen la misma precedencia entonces se evalua de izquierda a derecha. \n",
    "En este ejemplo primero se hace 20*3, el resultado se divide entre 2 y finalmente al resultado se le suma 10.\n",
    "\n"
   ]
  },
  {
   "cell_type": "code",
   "execution_count": 2,
   "id": "incoming-lambda",
   "metadata": {},
   "outputs": [
    {
     "data": {
      "text/plain": [
       "40.0"
      ]
     },
     "execution_count": 2,
     "metadata": {},
     "output_type": "execute_result"
    }
   ],
   "source": [
    "10 + 20 * 3 / 2  \n",
    "\n"
   ]
  },
  {
   "cell_type": "markdown",
   "id": "vocal-proportion",
   "metadata": {},
   "source": [
    " * Ejemplo para encontrar el valor de $2^5$. El operador de exponenciación de Python es ** (doble asterisco)\n",
    "\n",
    "\n"
   ]
  },
  {
   "cell_type": "code",
   "execution_count": 4,
   "id": "adopted-player",
   "metadata": {},
   "outputs": [
    {
     "data": {
      "text/plain": [
       "32"
      ]
     },
     "execution_count": 4,
     "metadata": {},
     "output_type": "execute_result"
    }
   ],
   "source": [
    "2**5\n"
   ]
  },
  {
   "cell_type": "markdown",
   "id": "former-polyester",
   "metadata": {},
   "source": [
    "* Resolver una división con decimales, por ejemplo $\\frac{15}{7}$. El operador de división \"exacta\" es / (con decimales).\n"
   ]
  },
  {
   "cell_type": "code",
   "execution_count": 5,
   "id": "clear-document",
   "metadata": {},
   "outputs": [
    {
     "data": {
      "text/plain": [
       "2.142857142857143"
      ]
     },
     "execution_count": 5,
     "metadata": {},
     "output_type": "execute_result"
    }
   ],
   "source": [
    "15/7"
   ]
  },
  {
   "cell_type": "markdown",
   "id": "central-broadcasting",
   "metadata": {},
   "source": [
    " * Una división entera sería con el operador // \n"
   ]
  },
  {
   "cell_type": "code",
   "execution_count": 6,
   "id": "critical-option",
   "metadata": {},
   "outputs": [
    {
     "data": {
      "text/plain": [
       "2"
      ]
     },
     "execution_count": 6,
     "metadata": {},
     "output_type": "execute_result"
    }
   ],
   "source": [
    "\n",
    "15//7"
   ]
  },
  {
   "cell_type": "markdown",
   "id": "floral-devon",
   "metadata": {},
   "source": [
    "* El resto de una división entera se puede obtener con el operador % \n"
   ]
  },
  {
   "cell_type": "code",
   "execution_count": 7,
   "id": "french-firewall",
   "metadata": {},
   "outputs": [
    {
     "data": {
      "text/plain": [
       "0"
      ]
     },
     "execution_count": 7,
     "metadata": {},
     "output_type": "execute_result"
    }
   ],
   "source": [
    "\n",
    "5%1"
   ]
  },
  {
   "cell_type": "markdown",
   "id": "involved-liberty",
   "metadata": {},
   "source": [
    "\n",
    " * Encontrar la raíz cuadrada de un número cualquiera utilizando una librería disponible. En este caso debemos habilitar el uso de la función que se encuentra en un módulo matemático denominado _math_. Para ello utilizamos la claúsula **import**\n"
   ]
  },
  {
   "cell_type": "code",
   "execution_count": 9,
   "id": "adapted-forth",
   "metadata": {},
   "outputs": [],
   "source": [
    "\n",
    "import math"
   ]
  },
  {
   "cell_type": "markdown",
   "id": "assisted-technician",
   "metadata": {},
   "source": [
    "## Tipo de Datos\n",
    "Un tipo de dato define la naturaleza de la información que vamos a tratar. Contiene dos componentes fundamentales: dominio del dato (valores posibles que puede tomar) y operaciones que se pueden realizar con el mismo. \n",
    "\n",
    "Python posee un rico conjunto de tipo de datos\n",
    "* Números enteros (int)\n",
    "* Números reales (float)\n",
    "* Números complejos (complex)\n",
    "* Números con cantidad de decimales fijos (decimal)\n",
    "* Números fraccionarios (fraction) (se encuentra en un módulo especial)\n",
    "* Texto o cadenas (str)\n",
    "* Diccionarios (dict)\n",
    "* Conjuntos (set)\n",
    "\n",
    "## Entrada y salida de datos\n",
    "\n",
    "A continuación algunos ejemplos de entrada de datos y el uso de las funcioens de conversión de acuerdo al problema planteado.\n",
    "\n",
    "Trate de entender los tipos de errores que pueden ocurrir, errores de sintaxis y también aquellos que se dan cuando se ejecuta la celda."
   ]
  },
  {
   "cell_type": "code",
   "execution_count": 7,
   "id": "collected-spare",
   "metadata": {},
   "outputs": [
    {
     "name": "stdin",
     "output_type": "stream",
     "text": [
      "Ingrese una variable: 10\n"
     ]
    },
    {
     "name": "stdout",
     "output_type": "stream",
     "text": [
      "El resultado de duplicar 10 es 20\n"
     ]
    }
   ],
   "source": [
    "# leer una variable entera e imprimir su valor duplicado\n",
    "n = int(input('Ingrese una variable:'))   \n",
    "\n",
    "# Imprimimos su valor duplicado\n",
    "print(f'El resultado de duplicar {n} es {n*2}')"
   ]
  },
  {
   "cell_type": "markdown",
   "id": "reflected-receiver",
   "metadata": {},
   "source": [
    "Fijarse que en realidad al leer la variable, se puede continuar en la siguiente celda (quedando pendiente la solicitud de dato), es decir son ejecuciones independientes.\n",
    " Ejemplo que lee un nombre y apellido, genero una tercera variable apenom que se forma con nombre + ',' + apellido. Por ejemplo si leo Juan Perez, entonces imprimir 'Juan, Perez'. Fijarse que en este caso no necesito ninguna conversión porque lo leido ya es una cadena.\n"
   ]
  },
  {
   "cell_type": "code",
   "execution_count": null,
   "id": "confirmed-multiple",
   "metadata": {},
   "outputs": [],
   "source": [
    "nombre = input('Ingrese el nombre: ')\n",
    "apellido = input('Ingrese el apellido:')\n",
    "\n",
    "apenom = nombre + ', ' + apellido"
   ]
  },
  {
   "cell_type": "markdown",
   "id": "democratic-powder",
   "metadata": {},
   "source": [
    " Otro ejemplo: leer dos variables enteras _a_ y _x_  e imprimir el valor de $a^{\\frac{x}{2}}$. Recuerde que el operador de exponenciación de Python es ** (doble asterisco)\n"
   ]
  },
  {
   "cell_type": "code",
   "execution_count": 10,
   "id": "industrial-settle",
   "metadata": {},
   "outputs": [
    {
     "name": "stdin",
     "output_type": "stream",
     "text": [
      "Ingrese el valor de a: 3\n",
      "Ingrese el valor de x: 2\n"
     ]
    },
    {
     "name": "stdout",
     "output_type": "stream",
     "text": [
      "El resultado es    3.00000\n"
     ]
    }
   ],
   "source": [
    "a = int(input('Ingrese el valor de a:'))\n",
    "x = int(input('Ingrese el valor de x:'))\n",
    "\n",
    "r = a**(x/2)\n",
    "print(f'El resultado es {r:10.5f}') # observe el resultado si ingresa números grandes\n"
   ]
  },
  {
   "cell_type": "markdown",
   "id": "critical-antenna",
   "metadata": {},
   "source": [
    "A continuación algunos ejemplos de uso de listas. La lista es el tipo más popular de Python debido a su flexibilidad y uso bastante sencillo. Es un tipo mutable, que significa que podemos alterar su contenido, de componentes variados.\n",
    " \n",
    " Se forma con los corchetes. Se inicia con \\[ y se termina con \\]. Cada elemento de la lista se separa con una coma (,). El primer elemento tiene la posición (o índice) 0, el siguiente 1 y así sucesivamente. Para conocer la cantidad de elementos utilizamos la función predefinida len().  \n",
    " \n",
    " A continuación algunos ejemplos:\n"
   ]
  },
  {
   "cell_type": "code",
   "execution_count": 11,
   "id": "minute-lambda",
   "metadata": {},
   "outputs": [],
   "source": [
    "dias = [ 'Domingo', 'Lunes', 'Martes', 'Miércoles', 'Jueves', 'Viernes', 'Sábado']\n"
   ]
  },
  {
   "cell_type": "code",
   "execution_count": 12,
   "id": "european-amendment",
   "metadata": {},
   "outputs": [
    {
     "data": {
      "text/plain": [
       "7"
      ]
     },
     "execution_count": 12,
     "metadata": {},
     "output_type": "execute_result"
    }
   ],
   "source": [
    "len(dias)"
   ]
  },
  {
   "cell_type": "markdown",
   "id": "informed-chrome",
   "metadata": {},
   "source": [
    " simplemente podemos verificar el contenido (sin usar print)"
   ]
  },
  {
   "cell_type": "code",
   "execution_count": 13,
   "id": "pointed-chrome",
   "metadata": {},
   "outputs": [
    {
     "data": {
      "text/plain": [
       "'Domingo'"
      ]
     },
     "execution_count": 13,
     "metadata": {},
     "output_type": "execute_result"
    }
   ],
   "source": [
    "dias[0]"
   ]
  },
  {
   "cell_type": "code",
   "execution_count": null,
   "id": "loose-coverage",
   "metadata": {},
   "outputs": [],
   "source": [
    " Creamos una lista de números y luego agregamos a la lista un número leido por teclado e imprimimos la lista resultante. Luego alteramos \n",
    "el primer valor de la lista haciendolo el doble. "
   ]
  },
  {
   "cell_type": "code",
   "execution_count": null,
   "id": "saving-athens",
   "metadata": {},
   "outputs": [],
   "source": [
    "lista = [7,6,5,4]\n",
    "\n",
    "n = int(input('Leer un nro:'))\n",
    "\n",
    "lista.append(n)\n",
    "\n",
    "print(lista)"
   ]
  },
  {
   "cell_type": "code",
   "execution_count": null,
   "id": "joined-appreciation",
   "metadata": {},
   "outputs": [],
   "source": []
  },
  {
   "cell_type": "code",
   "execution_count": null,
   "id": "radio-refrigerator",
   "metadata": {},
   "outputs": [],
   "source": [
    "print(lista)"
   ]
  },
  {
   "cell_type": "markdown",
   "id": "recovered-suicide",
   "metadata": {},
   "source": [
    "\n",
    "Mostramos algunos ejemplos de operación sobre cadenas y utilización de funciones preincorporadas además de la utilización de los slices.\n"
   ]
  },
  {
   "cell_type": "code",
   "execution_count": 24,
   "id": "endless-siemens",
   "metadata": {},
   "outputs": [
    {
     "name": "stdin",
     "output_type": "stream",
     "text": [
      "Ingrese un nombre: diego stalder\n"
     ]
    },
    {
     "name": "stdout",
     "output_type": "stream",
     "text": [
      "El nombre en mayúsculas es DIEGO STALDER\n",
      "La longitud de la cadena es 13\n",
      "Los dos primeros caracteres de la cadena son di\n",
      "redlats ogeid\n"
     ]
    },
    {
     "data": {
      "text/plain": [
       "['diego', 'stalder']"
      ]
     },
     "execution_count": 24,
     "metadata": {},
     "output_type": "execute_result"
    }
   ],
   "source": [
    "nombre = input('Ingrese un nombre:')\n",
    "\n",
    "print(f'El nombre en mayúsculas es {nombre.upper()}')\n",
    "\n",
    "print(f'La longitud de la cadena es {len(nombre)}')\n",
    "print(f'Los dos primeros caracteres de la cadena son {nombre[:2]}')\n",
    "print(nombre[::-1])\n",
    "nombre.split(' ')"
   ]
  },
  {
   "cell_type": "markdown",
   "id": "explicit-causing",
   "metadata": {},
   "source": [
    "concatenamos cada elemento de la lista con un caracter #"
   ]
  },
  {
   "cell_type": "code",
   "execution_count": 27,
   "id": "charitable-projection",
   "metadata": {},
   "outputs": [
    {
     "data": {
      "text/plain": [
       "'perro#gato#buho#cisne'"
      ]
     },
     "execution_count": 27,
     "metadata": {},
     "output_type": "execute_result"
    }
   ],
   "source": [
    "\"#\".join(['perro','gato','buho','cisne'])"
   ]
  },
  {
   "cell_type": "code",
   "execution_count": null,
   "id": "essential-constant",
   "metadata": {},
   "outputs": [],
   "source": [
    "print(f'Los dos ultimos caracteres de la cadena son {nombre[:2]}')"
   ]
  },
  {
   "cell_type": "code",
   "execution_count": 13,
   "id": "dated-dimension",
   "metadata": {},
   "outputs": [],
   "source": [
    "# Crear una cadena y una referencia a la misma cadena\n",
    "# verificar el comportamiento en cadenas y listas \n",
    "\n",
    "cad = 'Hola Python'\n",
    "otracad = cad"
   ]
  },
  {
   "cell_type": "code",
   "execution_count": 14,
   "id": "incredible-colors",
   "metadata": {},
   "outputs": [
    {
     "data": {
      "text/plain": [
       "2133778754928"
      ]
     },
     "execution_count": 14,
     "metadata": {},
     "output_type": "execute_result"
    }
   ],
   "source": [
    "id(cad)"
   ]
  },
  {
   "cell_type": "code",
   "execution_count": 15,
   "id": "widespread-notice",
   "metadata": {},
   "outputs": [
    {
     "data": {
      "text/plain": [
       "2133778754928"
      ]
     },
     "execution_count": 15,
     "metadata": {},
     "output_type": "execute_result"
    }
   ],
   "source": [
    "id(otracad)"
   ]
  },
  {
   "cell_type": "code",
   "execution_count": 16,
   "id": "fantastic-transfer",
   "metadata": {},
   "outputs": [
    {
     "data": {
      "text/plain": [
       "True"
      ]
     },
     "execution_count": 16,
     "metadata": {},
     "output_type": "execute_result"
    }
   ],
   "source": [
    "cad is otracad"
   ]
  },
  {
   "cell_type": "markdown",
   "id": "convertible-spain",
   "metadata": {},
   "source": [
    "¿Qué pasa cuando se le asigna a cad otro valor?"
   ]
  },
  {
   "cell_type": "code",
   "execution_count": 17,
   "id": "strategic-thomson",
   "metadata": {},
   "outputs": [],
   "source": [
    "cad = 'Hasta luego Python'"
   ]
  },
  {
   "cell_type": "code",
   "execution_count": 18,
   "id": "expired-lithuania",
   "metadata": {},
   "outputs": [
    {
     "data": {
      "text/plain": [
       "False"
      ]
     },
     "execution_count": 18,
     "metadata": {},
     "output_type": "execute_result"
    }
   ],
   "source": [
    "cad is otracad"
   ]
  },
  {
   "cell_type": "markdown",
   "id": "operational-international",
   "metadata": {},
   "source": [
    "Ahora verifiquemos como funcionan los objetos e identificadores en las listas"
   ]
  },
  {
   "cell_type": "code",
   "execution_count": 21,
   "id": "marked-pregnancy",
   "metadata": {},
   "outputs": [
    {
     "data": {
      "text/plain": [
       "'perro'"
      ]
     },
     "execution_count": 21,
     "metadata": {},
     "output_type": "execute_result"
    }
   ],
   "source": [
    "animales = ['perro','gato','vaca','oso','leon']\n",
    "animales2 = animales\n",
    "\n",
    "# ahora animales2 es una referencia a animales, cualquier cambio via animale2 afectará a animales\n",
    "\n",
    "animales2[0]"
   ]
  },
  {
   "cell_type": "markdown",
   "id": "increased-shopper",
   "metadata": {},
   "source": [
    "alteramos la lista via animales2"
   ]
  },
  {
   "cell_type": "code",
   "execution_count": 22,
   "id": "found-single",
   "metadata": {},
   "outputs": [],
   "source": [
    "animales2.append('elefante')"
   ]
  },
  {
   "cell_type": "code",
   "execution_count": 23,
   "id": "aging-tyler",
   "metadata": {},
   "outputs": [
    {
     "data": {
      "text/plain": [
       "['perro', 'gato', 'vaca', 'oso', 'leon', 'elefante']"
      ]
     },
     "execution_count": 23,
     "metadata": {},
     "output_type": "execute_result"
    }
   ],
   "source": [
    "animales"
   ]
  },
  {
   "cell_type": "code",
   "execution_count": 31,
   "id": "corrected-monroe",
   "metadata": {},
   "outputs": [],
   "source": [
    "import random"
   ]
  },
  {
   "cell_type": "code",
   "execution_count": 32,
   "id": "multiple-column",
   "metadata": {},
   "outputs": [
    {
     "name": "stdout",
     "output_type": "stream",
     "text": [
      "['leon', 'oso']\n"
     ]
    }
   ],
   "source": [
    "print(random.sample(animales,k=2)) # generar una lista con dos elementos tomados aleatoriamente de animales.\n"
   ]
  },
  {
   "cell_type": "markdown",
   "id": "considered-terry",
   "metadata": {},
   "source": [
    "Elementos compuestos de listas\n",
    " \n",
    " Es posible que una lista contenga otra lista y esta a su vez otra lista u otro tipo.\n",
    " \n",
    " Por ejemplo, considere agregar una lista que contenga la nota de los alumnos con el siguiente formato:\n",
    "   nombre,apellido, notas: que contiene nombre de la asignatura y su calificación\n",
    " \n",
    "\n",
    "\n",
    "\n",
    "\n"
   ]
  },
  {
   "cell_type": "code",
   "execution_count": 28,
   "id": "olympic-monitor",
   "metadata": {},
   "outputs": [],
   "source": [
    "alumnos = [ ['Juan',' Perez'  ,[['Matemática',80],['Castellano',70],['Computación',100]]],\\\n",
    "            ['Pedro','Benitez',[['Matemática',75],['Castellano',80],['Computación',80]]],\\\n",
    "            ['María','Acosta', [['Matemática',90],['Castellano',90],['Computación',75]]]]\n",
    "\n"
   ]
  },
  {
   "cell_type": "code",
   "execution_count": 29,
   "id": "seventh-rwanda",
   "metadata": {},
   "outputs": [
    {
     "name": "stdout",
     "output_type": "stream",
     "text": [
      "Las notas de Juan Perez son : [['Matemática', 80], ['Castellano', 70], ['Computación', 100]]\n"
     ]
    }
   ],
   "source": [
    "# Obtener todas la notas  Juan Perez\n",
    "print('Las notas de Juan Perez son :', alumnos[0][2])\n"
   ]
  },
  {
   "cell_type": "code",
   "execution_count": 30,
   "id": "flush-aviation",
   "metadata": {},
   "outputs": [
    {
     "name": "stdout",
     "output_type": "stream",
     "text": [
      "La nota de Juan Perez en Computación es 100\n"
     ]
    }
   ],
   "source": [
    "\n",
    "# Obtener la nota en Computación de Juan Perez\n",
    "print(f'La nota de Juan Perez en Computación es {alumnos[0][2][2][1]}')"
   ]
  },
  {
   "cell_type": "markdown",
   "id": "viral-cigarette",
   "metadata": {},
   "source": [
    "\n",
    "## Expresiones relacionales\n",
    "\n",
    "Permiten comparar el contenido de los operandos. Debe existir relación en el dominio de los operandos (por ejemplo datos numéricos, cadenas, etc).\n",
    "Luego de la comparación se retorna un valor _True_ o _False_.\n",
    "En Python es posible comparar operandos de diferentes tipos con algunos operadores lógicos. Si la relación no esta definida se emite una excepción de tipo _TypeError_.\n",
    "\n",
    "Los operadores de relación son los siguientes:\n",
    " | Operador  | Descripción                    |\n",
    " |:---------:|--------------------------------|\n",
    " |       >   |    Mayor                       |\n",
    " |       <   |    Menor                       |\n",
    " |      >=   |    Mayor o igual               |\n",
    " |      <=   |    Menor o igual               |\n",
    " |      ==   |    Igual                       |\n",
    " |      !=   |    Distinto                    |\n",
    " |      **is**   |    Igualdad en identidad       |\n",
    " |    **is not** |    Desigualdad en identidad    |"
   ]
  },
  {
   "cell_type": "code",
   "execution_count": 34,
   "id": "significant-owner",
   "metadata": {},
   "outputs": [
    {
     "name": "stdout",
     "output_type": "stream",
     "text": [
      "True\n",
      "False\n",
      "False\n",
      "True\n",
      "True\n",
      "False\n"
     ]
    },
    {
     "ename": "TypeError",
     "evalue": "'>' not supported between instances of 'int' and 'str'",
     "output_type": "error",
     "traceback": [
      "\u001b[1;31m---------------------------------------------------------------------------\u001b[0m",
      "\u001b[1;31mTypeError\u001b[0m                                 Traceback (most recent call last)",
      "\u001b[1;32m<ipython-input-34-3ee9f4582c46>\u001b[0m in \u001b[0;36m<module>\u001b[1;34m\u001b[0m\n\u001b[0;32m     10\u001b[0m \u001b[0mprint\u001b[0m\u001b[1;33m(\u001b[0m\u001b[0ma\u001b[0m \u001b[1;33m==\u001b[0m \u001b[0mcad\u001b[0m\u001b[1;33m)\u001b[0m\u001b[1;33m\u001b[0m\u001b[1;33m\u001b[0m\u001b[0m\n\u001b[0;32m     11\u001b[0m \u001b[1;33m\u001b[0m\u001b[0m\n\u001b[1;32m---> 12\u001b[1;33m \u001b[0mprint\u001b[0m \u001b[1;33m(\u001b[0m \u001b[0ma\u001b[0m \u001b[1;33m>\u001b[0m \u001b[0mcad\u001b[0m \u001b[1;33m)\u001b[0m \u001b[1;31m## Dará un error de tipo\u001b[0m\u001b[1;33m\u001b[0m\u001b[1;33m\u001b[0m\u001b[0m\n\u001b[0m",
      "\u001b[1;31mTypeError\u001b[0m: '>' not supported between instances of 'int' and 'str'"
     ]
    }
   ],
   "source": [
    "# Algunos ejemplos de comparaciones\n",
    "a = 5\n",
    "b = 10\n",
    "print ( a == 5 )\n",
    "print ( a > b )\n",
    "print ( a is b )\n",
    "print ( b >= a )\n",
    "print ( a <= b )\n",
    "cad = 'Python'\n",
    "print(a == cad)\n",
    "\n",
    "print ( a > cad ) ## Dará un error de tipo"
   ]
  },
  {
   "cell_type": "markdown",
   "id": "imported-charlotte",
   "metadata": {},
   "source": [
    "# Operadores lógicos\n",
    "\n",
    "Los operadores lógicos permiten evaluar el resultado de operaciones conjuntivas  (Y : _and_ ) , disyuntivas (O: _or_) o de negación (NO: _not_). Sus operandos usualmente son valores o variables lógicas o resultados de expresiones relacionales.\n",
    "\n",
    "Como operandos es posible tener otros tipos que no sean lógicos, en este caso se interpretan como False los ceros numéricos, las cadenas, listas, conjuntos y tuplas vacíos y como _True_ cuando tienen otros valores diferentes. Por ejemplo una cadena vacía `\"\"` es False, `0` es False, `0.0` es False, una lista vacía `[]` es False.  \n"
   ]
  },
  {
   "cell_type": "code",
   "execution_count": 35,
   "id": "outer-junction",
   "metadata": {},
   "outputs": [
    {
     "name": "stdout",
     "output_type": "stream",
     "text": [
      "True or True   : True\n",
      "True or False  : True\n",
      "False or True  : True\n",
      "False or False : False\n",
      "-----------\n",
      "True and True   : True\n",
      "True and False  : False\n",
      "False and True  : False\n",
      "False and False : False\n",
      "-----------\n",
      "not True  : False\n",
      "not False : True\n"
     ]
    }
   ],
   "source": [
    "# Tabla del or\n",
    "print(f'True or True   : {True or True}')\n",
    "print(f'True or False  : {True or False}')\n",
    "print(f'False or True  : {False or True}')\n",
    "print(f'False or False : {False or False}')\n",
    "\n",
    "print('-----------')\n",
    "# Tabla del and\n",
    "print(f'True and True   : {True and True}')\n",
    "print(f'True and False  : {True and False}')\n",
    "print(f'False and True  : {False and True}')\n",
    "print(f'False and False : {False and False}')\n",
    "\n",
    "print('-----------')\n",
    "# Tabla del not\n",
    "print(f'not True  : {not True}')\n",
    "print(f'not False : {not False}')\n"
   ]
  },
  {
   "cell_type": "markdown",
   "id": "residential-operator",
   "metadata": {},
   "source": [
    "### Estructura condicional simple\n",
    "\n",
    "La estructura condicional simple permite tomar una o varias acciones de acuerdo a la veracidad de una condición. \n",
    "\n",
    "La claúsula ``if`` permite esto y tiene la siguiente estructura\n",
    "\n",
    "```python\n",
    "  if <condicion>:\n",
    "     <accion1>\n",
    "     <accion2>\n",
    "     ..\n",
    "     <accion3>\n",
    "```\n",
    "Donde se ejecutan las acciones si la \\<condicion\\> es _True_\n",
    "\n",
    "Ejemplos\n",
    "Leer la edad de una persona y determinar si es mayor de edad o no considerando que se es mayor\n",
    " de edad a partir de los 18 años.\n",
    "\n",
    " Validar que la edad se encuentre entre 0 y 120."
   ]
  },
  {
   "cell_type": "code",
   "execution_count": 36,
   "id": "quality-substitute",
   "metadata": {},
   "outputs": [
    {
     "name": "stdin",
     "output_type": "stream",
     "text": [
      "Ingrese la edad de la persona:  20\n"
     ]
    },
    {
     "name": "stdout",
     "output_type": "stream",
     "text": [
      "Es una persona mayor de edad!!\n"
     ]
    }
   ],
   "source": [
    "\n",
    "edad = int(input('Ingrese la edad de la persona: '))\n",
    "\n",
    "if edad >= 0 and edad <= 120:\n",
    "    if edad >= 18:\n",
    "        print('Es una persona mayor de edad!!')       "
   ]
  },
  {
   "cell_type": "markdown",
   "id": "better-tomato",
   "metadata": {},
   "source": [
    "\n",
    "### Estructura repetitiva **while**\n",
    "\n",
    "Ejemplo sencillo de uso de while\n",
    "Leer una variable entera y si es negativa o cero volver a leerla. \n"
   ]
  },
  {
   "cell_type": "code",
   "execution_count": 37,
   "id": "bizarre-casino",
   "metadata": {},
   "outputs": [
    {
     "name": "stdin",
     "output_type": "stream",
     "text": [
      "Ingrese una variable positiva :  -1\n",
      "Favor ingrese una variable positiva :  1\n"
     ]
    },
    {
     "name": "stdout",
     "output_type": "stream",
     "text": [
      "La variable leída fue 1\n"
     ]
    }
   ],
   "source": [
    "\n",
    "n = int(input('Ingrese una variable positiva : '))\n",
    "        \n",
    "while n <= 0:\n",
    "    n = int(input('Favor ingrese una variable positiva : '))\n",
    "\n",
    "print(f'La variable leída fue {n}')"
   ]
  },
  {
   "cell_type": "markdown",
   "id": "oriented-homework",
   "metadata": {},
   "source": [
    "Ejemplo de uso de for \n",
    "Imprimir la suma de los elementos de una lista numérica\n"
   ]
  },
  {
   "cell_type": "code",
   "execution_count": 38,
   "id": "sophisticated-induction",
   "metadata": {},
   "outputs": [
    {
     "name": "stdout",
     "output_type": "stream",
     "text": [
      "La suma de los elementos es 15\n"
     ]
    }
   ],
   "source": [
    "\n",
    "suma = 0\n",
    "for elemento in [1,2,3,4,5]:\n",
    "    suma += elemento\n",
    "\n",
    "print(f'La suma de los elementos es {suma}')"
   ]
  },
  {
   "cell_type": "code",
   "execution_count": 39,
   "id": "received-motel",
   "metadata": {},
   "outputs": [
    {
     "name": "stdin",
     "output_type": "stream",
     "text": [
      "Introduzca una cadena diego\n"
     ]
    },
    {
     "name": "stdout",
     "output_type": "stream",
     "text": [
      "d\n",
      "i\n",
      "e\n",
      "g\n",
      "o\n"
     ]
    }
   ],
   "source": [
    "# Imprimir todos los elementos de una cadena que se lee por teclado\n",
    "# en lineas separadas\n",
    "\n",
    "cadena = input('Introduzca una cadena')\n",
    "\n",
    "for c in cadena:\n",
    "    print(c)"
   ]
  },
  {
   "cell_type": "code",
   "execution_count": 40,
   "id": "protecting-diameter",
   "metadata": {},
   "outputs": [
    {
     "name": "stdout",
     "output_type": "stream",
     "text": [
      "Lista aleatoria [534, 488, 152, 947, 654, 674, 941, 495, 732, 463]\n"
     ]
    }
   ],
   "source": [
    "# Ejemplo de uso de for sin considerar la variable de iteración\n",
    "# generar una lista con 10 valores numéricos enteros aleatorios menores a 1000\n",
    "\n",
    "import random\n",
    "\n",
    "lista_aleatoria = []\n",
    "\n",
    "for _ in range(10): ## fijarse que se usa _ cuando no se usa la var. de iteración\n",
    "    lista_aleatoria.append(random.randrange(1000))       \n",
    "\n",
    "print(f'Lista aleatoria {lista_aleatoria}')"
   ]
  },
  {
   "cell_type": "code",
   "execution_count": 41,
   "id": "connected-gasoline",
   "metadata": {},
   "outputs": [
    {
     "name": "stdout",
     "output_type": "stream",
     "text": [
      "0 1 2 3 4 5 6 7 8 9 10 11 12 13 14 15 16 17 18 19 20 21 22 23 24 25 26 27 28 29 30 31 32 33 34 35 36 37 38 39 40 41 42 43 44 45 46 47 48 49 50 51 52 53 54 55 56 57 58 59 60 61 62 63 64 65 66 67 68 69 70 71 72 73 74 75 76 77 78 79 80 81 82 83 84 85 86 87 88 89 90 91 92 93 94 95 96 97 98 99 100 "
     ]
    }
   ],
   "source": [
    "# Ejemplo de uso de range con un solo parámetro \n",
    "# Imprimir los primeros 100 números enteros mayores o iguales a cero\n",
    "\n",
    "# Ver el uso de print, end='' indica que al final de cada impresión de incluirá un espacio \n",
    "# y no un \\n (enter)\n",
    "\n",
    "for n in range(100+1): # se generarán números de 0 a 100. \n",
    "    print(n, end=' ')"
   ]
  },
  {
   "cell_type": "markdown",
   "id": "mental-musical",
   "metadata": {},
   "source": [
    "\n",
    "# Listas por comprensión\n",
    "\n",
    "Es una forma concisa de generar valores para una lista."
   ]
  },
  {
   "cell_type": "code",
   "execution_count": 43,
   "id": "lesser-adoption",
   "metadata": {},
   "outputs": [
    {
     "name": "stdout",
     "output_type": "stream",
     "text": [
      "[3, 6, 9, 12, 15, 18, 21, 24, 27, 30, 33, 36, 39, 42, 45, 48, 51, 54, 57, 60, 63, 66, 69, 72, 75, 78, 81, 84, 87, 90, 93, 96, 99]\n"
     ]
    }
   ],
   "source": [
    "\n",
    "lista_multiplos_3 = [ n for n in range(3,100,3) ]\n",
    "\n",
    "print(lista_multiplos_3)"
   ]
  },
  {
   "cell_type": "markdown",
   "id": "editorial-family",
   "metadata": {},
   "source": [
    "## Función\n",
    "\n",
    "Permite definir código independiente parametrizable. \n",
    "\n",
    "Su formato básico es:\n",
    "```shell\n",
    "     def <nombre_funcion> ( <lista_parametros> ) [ -> <tipo> ] :\n",
    "         <bloque_codigo>\n",
    "```\n",
    "Donde `<nombre_funcion>` es un identificador único que respeta la formación de identificadores.\n",
    "`<lista_parametros>` es la lista de parámetros que puede estar vacía, indicar un a cantidad fija de parámetros o una cantidad variable de parámetros.\n"
   ]
  },
  {
   "cell_type": "code",
   "execution_count": 44,
   "id": "differential-transaction",
   "metadata": {},
   "outputs": [
    {
     "name": "stdout",
     "output_type": "stream",
     "text": [
      "Lista de cuadrado de 0 al 20 [0, 1, 4, 9, 16, 25, 36, 49, 64, 81, 100, 121, 144, 169, 196, 225, 256, 289, 324, 361, 400]\n"
     ]
    }
   ],
   "source": [
    "# Ejemplo sencillo de uso de función\n",
    "# Definir una función que retorne el cuadrado de un número\n",
    "# Generar una lista con primeros 20 cuadrados de 0 a 20.   \n",
    "\n",
    "\n",
    "def cuadrado(n) -> int :  # recordar que -> es solo informativo, puede no colocarse\n",
    "    \"\"\"Retorna el cuadrado de n\"\"\"\n",
    "    return n**2\n",
    "\n",
    "# usualmente el código principal viene aquí abajo\n",
    "# aunque se puede intercalar código principal con\n",
    "# definiciones de funciones\n",
    "\n",
    "cuadrados = [ cuadrado(n) for n in range(20+1) ]\n",
    "                                                \n",
    "print(f'Lista de cuadrado de 0 al 20 {cuadrados}')"
   ]
  },
  {
   "cell_type": "markdown",
   "id": "boring-implementation",
   "metadata": {},
   "source": [
    " Definir una función que determina si un número\n",
    " es primo o no.\n",
    " Luego imprimir la lista de primos entre 2 y n\n",
    " n se lee por la entrada estándar."
   ]
  },
  {
   "cell_type": "code",
   "execution_count": 46,
   "id": "grateful-denmark",
   "metadata": {},
   "outputs": [],
   "source": [
    "\n",
    "def es_primo(n) -> bool: \n",
    "   # \"\"\"Determina si el nro n es primo o no.\"\"\"\n",
    "    es_primo = True\n",
    "    for k in range(2,n//2+1):\n",
    "        if ( n % k == 0 ):\n",
    "            es_primo = False\n",
    "            break\n",
    "    \n",
    "    return es_primo\n",
    "\n"
   ]
  },
  {
   "cell_type": "code",
   "execution_count": 48,
   "id": "wound-pulse",
   "metadata": {},
   "outputs": [
    {
     "name": "stdin",
     "output_type": "stream",
     "text": [
      "Leer n  3\n"
     ]
    },
    {
     "name": "stdout",
     "output_type": "stream",
     "text": [
      "[2, 3]\n"
     ]
    }
   ],
   "source": [
    "n = int(input('Leer n '))\n",
    "\n",
    "lista_primos = [ n for n in range(2, n+1) if es_primo(n) ]\n",
    "\n",
    "print(lista_primos)"
   ]
  },
  {
   "cell_type": "markdown",
   "id": "legitimate-guyana",
   "metadata": {},
   "source": [
    "## Diccionario\n",
    "\n",
    "Es una colección de elementos no ordenados donde cada elemento es el par `clave:valor` siendo una estructura mutable.\n",
    "\n",
    "Es la única colección _built-in_ que permite tener una estructura de mapa.\n",
    "\n",
    "El tipo se denomina _dict_\n",
    "\n",
    "Su definición es sencilla\n",
    "```shell\n",
    "    { clave:valor, clave:valor, .. , clave:valor } \n",
    "```\n",
    "\n",
    "Consideraciones:\n",
    "* Un diccionario empieza y termina con llaves `{}`.\n",
    "* Cada elemento consiste en una clave y un valor.\n",
    "* EL valor puede ser de cualquier tipo.\n",
    "* La clave puede ser cualquiera que no sea lista,conjunto o diccionarios. Pueden ser enteros, cadenas, tuplas, definidos por el usuario, etc.\n",
    "* Siempre es recomendable colocar un espacio luego de la coma.\n",
    "* En un diccionario la clave es única (no se duplican). Un intento de acceso a una clave que no existe genera un error de tipo _KeyError_.\n",
    "* Un diccionario vacío se define como `{}` o con `dict()`\n",
    "\n",
    "Siempre es posible verificar el tipo del objeto con la función `type`, en el caso de una función el tipo es `dict`"
   ]
  },
  {
   "cell_type": "code",
   "execution_count": 49,
   "id": "fewer-celebrity",
   "metadata": {},
   "outputs": [
    {
     "name": "stdout",
     "output_type": "stream",
     "text": [
      "<class 'dict'>\n",
      "El precio de la piña es 7500\n"
     ]
    },
    {
     "ename": "KeyError",
     "evalue": "'melón'",
     "output_type": "error",
     "traceback": [
      "\u001b[1;31m---------------------------------------------------------------------------\u001b[0m",
      "\u001b[1;31mKeyError\u001b[0m                                  Traceback (most recent call last)",
      "\u001b[1;32m<ipython-input-49-32c02b32e8ad>\u001b[0m in \u001b[0;36m<module>\u001b[1;34m\u001b[0m\n\u001b[0;32m     14\u001b[0m \u001b[1;31m# Si no existe la clave se genera un KeyError\u001b[0m\u001b[1;33m\u001b[0m\u001b[1;33m\u001b[0m\u001b[1;33m\u001b[0m\u001b[0m\n\u001b[0;32m     15\u001b[0m \u001b[1;33m\u001b[0m\u001b[0m\n\u001b[1;32m---> 16\u001b[1;33m \u001b[0mprint\u001b[0m\u001b[1;33m(\u001b[0m\u001b[1;34mf'El precio del melón es {frutas_precio[\"melón\"]}'\u001b[0m\u001b[1;33m)\u001b[0m\u001b[1;33m\u001b[0m\u001b[1;33m\u001b[0m\u001b[0m\n\u001b[0m",
      "\u001b[1;31mKeyError\u001b[0m: 'melón'"
     ]
    }
   ],
   "source": [
    "# Ejemplo sencillo de definición de un diccionario.\n",
    "# Considere frutas con sus precios por kilo.\n",
    "\n",
    "frutas_precio = { 'naranja':4500, 'banana':6500, 'pera':9800, 'manzana':14000, 'piña':7500, 'mamón':12000}\n",
    "\n",
    "print(type(frutas_precio))\n",
    "\n"
   ]
  },
  {
   "cell_type": "code",
   "execution_count": 50,
   "id": "ecological-wrestling",
   "metadata": {},
   "outputs": [
    {
     "name": "stdout",
     "output_type": "stream",
     "text": [
      "El precio de la piña es 7500\n"
     ]
    }
   ],
   "source": [
    "\n",
    "# Es posible acceder al valor por la clave\n",
    "\n",
    "fruta = 'piña'\n",
    "\n",
    "print(f'El precio de la {fruta} es {frutas_precio[fruta]}')"
   ]
  },
  {
   "cell_type": "code",
   "execution_count": 51,
   "id": "indirect-center",
   "metadata": {},
   "outputs": [
    {
     "ename": "KeyError",
     "evalue": "'melón'",
     "output_type": "error",
     "traceback": [
      "\u001b[1;31m---------------------------------------------------------------------------\u001b[0m",
      "\u001b[1;31mKeyError\u001b[0m                                  Traceback (most recent call last)",
      "\u001b[1;32m<ipython-input-51-bade3071f4b7>\u001b[0m in \u001b[0;36m<module>\u001b[1;34m\u001b[0m\n\u001b[0;32m      1\u001b[0m \u001b[1;31m# Si no existe la clave se genera un KeyError\u001b[0m\u001b[1;33m\u001b[0m\u001b[1;33m\u001b[0m\u001b[1;33m\u001b[0m\u001b[0m\n\u001b[0;32m      2\u001b[0m \u001b[1;33m\u001b[0m\u001b[0m\n\u001b[1;32m----> 3\u001b[1;33m \u001b[0mprint\u001b[0m\u001b[1;33m(\u001b[0m\u001b[1;34mf'El precio del melón es {frutas_precio[\"melón\"]}'\u001b[0m\u001b[1;33m)\u001b[0m\u001b[1;33m\u001b[0m\u001b[1;33m\u001b[0m\u001b[0m\n\u001b[0m",
      "\u001b[1;31mKeyError\u001b[0m: 'melón'"
     ]
    }
   ],
   "source": [
    "\n",
    "# Si no existe la clave se genera un KeyError\n",
    "\n",
    "print(f'El precio del melón es {frutas_precio[\"melón\"]}')"
   ]
  },
  {
   "cell_type": "markdown",
   "id": "boxed-keeping",
   "metadata": {},
   "source": [
    "## Tuplas\n",
    "\n",
    "Es una secuencia inmutable con elementos de cualquier tipo (heterogéneos) utilizada usualmente dentro de diccionarios o conjuntos.\n",
    "\n",
    "El tipo es _tuple_.\n",
    "\n",
    "Su definición es sencilla:\n",
    "```shell\n",
    "     ( elemento, elemento, .., elemento ) \n",
    "```\n",
    "Consideraciones:\n",
    "* Una tupla empieza con `(` y termina con `)`\n",
    "* El elemento puede ser de cualquier tipo\n",
    "* Soporta operaciones comunes de las secuencias (como las listas)\n",
    "* El constructor principal de una tupla es la coma.\n",
    "* Una tupla vacia se define como `()` o con el constructor `tuple()`\n",
    "* Una tupla de un solo elemento puede definirse como `e,` o `(e,)`\n",
    "* Es posible crear una tupla a partir de otros tipos iterables (listas, cadenas, etc).\n",
    "* Es posible \"descomponer o desempaquetar una tupla\" en variables. \n",
    "```python\n",
    "   a,b,c = ('1','2','3')\n",
    "   print(a+b+c)\n",
    "```\n",
    "\n",
    "Todas las operaciones en listas son aplicables a las tuplas.\n"
   ]
  },
  {
   "cell_type": "code",
   "execution_count": 52,
   "id": "shaped-grill",
   "metadata": {},
   "outputs": [
    {
     "name": "stdout",
     "output_type": "stream",
     "text": [
      "Precio mayorista de la naranja 4200 y minorista 5200\n"
     ]
    }
   ],
   "source": [
    "# Crea una tubla a partir de unacadena.\n",
    "tupla_c = tuple('hola')\n",
    "tupla_l = tuple(['uno','dos','tres'])\n",
    "\n",
    "# Podemos tener elementos compuestos, en este ejemplo tenemos un tupla de diccionarios.\n",
    "precio_tupla = ( {'melon':13000 }, {'naranja':5400} )\n",
    "\n",
    "# Podemos tener un diccionario de tuplas (frutas con precio mayorista y minorista)\n",
    "\n",
    "precio_dicc = {'melon':(12000,13500), 'naranja':(4200,5200) }\n",
    "\n",
    "# por ejemplo obtener el precio mayorista y minorista de la naranja en variables separadas (desempaquetado)\n",
    "\n",
    "precio_may_naranja, precio_min_naranja = precio_dicc['naranja']\n",
    "\n",
    "print(f'Precio mayorista de la naranja {precio_may_naranja} y minorista {precio_min_naranja}')"
   ]
  },
  {
   "cell_type": "code",
   "execution_count": 53,
   "id": "spare-marsh",
   "metadata": {},
   "outputs": [],
   "source": [
    "tupla=(1,2)"
   ]
  },
  {
   "cell_type": "code",
   "execution_count": 56,
   "id": "desperate-impossible",
   "metadata": {},
   "outputs": [
    {
     "data": {
      "text/plain": [
       "1"
      ]
     },
     "execution_count": 56,
     "metadata": {},
     "output_type": "execute_result"
    }
   ],
   "source": [
    "tupla[0]"
   ]
  },
  {
   "cell_type": "code",
   "execution_count": 57,
   "id": "sensitive-missouri",
   "metadata": {},
   "outputs": [
    {
     "ename": "TypeError",
     "evalue": "'tuple' object does not support item assignment",
     "output_type": "error",
     "traceback": [
      "\u001b[1;31m---------------------------------------------------------------------------\u001b[0m",
      "\u001b[1;31mTypeError\u001b[0m                                 Traceback (most recent call last)",
      "\u001b[1;32m<ipython-input-57-99d97385af4f>\u001b[0m in \u001b[0;36m<module>\u001b[1;34m\u001b[0m\n\u001b[1;32m----> 1\u001b[1;33m \u001b[0mtupla\u001b[0m\u001b[1;33m[\u001b[0m\u001b[1;36m0\u001b[0m\u001b[1;33m]\u001b[0m\u001b[1;33m=\u001b[0m\u001b[1;36m2\u001b[0m\u001b[1;33m\u001b[0m\u001b[1;33m\u001b[0m\u001b[0m\n\u001b[0m",
      "\u001b[1;31mTypeError\u001b[0m: 'tuple' object does not support item assignment"
     ]
    }
   ],
   "source": [
    "tupla[0]=2"
   ]
  },
  {
   "cell_type": "markdown",
   "id": "consecutive-anniversary",
   "metadata": {},
   "source": [
    "### Apertura de archivos\n",
    "\n",
    "La función que se utiliza para abrir un archivo es _open()_. Se utiliza tanto para archivos binarios como archivo de texto.\n",
    "\n",
    "```python\n",
    "      <archivo> = open(<nombre-archivo>,<modo>,encoding=<codificacion>)\n",
    "```\n",
    "El `<archivo>` es el objeto a través del cual se acceden a las funciones asociadas al archivo.\n",
    "El `<modo>` establece si será solo de lectura `r`, de escritura `w` o de ambos `rw` ó `+` o solo para agregar `a`. Ademas se define si será de text `t` o binario `b`. Por defecto un archivo se abre como `rt`, es decir de lectura de tipo texto.\n",
    "El parámetro `<nombre-archivo>` es una cadena que indica el nombre del archivo y eventualmente el directorio. \n",
    "La codificación puede ser cambiada con el parámetro encoding. Por defecto es el utilizado por el sistema, usualmente es utf-8.\n",
    "Además existen otros parámetros que pueden leidos con `help(open)`.\n",
    "\n",
    "Una vez que el archivo esta abierto, se puede acceder con las funciones que son para leer o escribir.\n",
    "\n",
    "Cuando se deja de utilizar el archivo se debe cerrar, informando al sistema operativo que se libera el uso del archivo. \n",
    "\n",
    "```python\n",
    "     <archivo>.close()\n",
    "```"
   ]
  },
  {
   "cell_type": "code",
   "execution_count": 65,
   "id": "suspected-ceremony",
   "metadata": {},
   "outputs": [
    {
     "ename": "TypeError",
     "evalue": "'enconding' is an invalid keyword argument for open()",
     "output_type": "error",
     "traceback": [
      "\u001b[1;31m---------------------------------------------------------------------------\u001b[0m",
      "\u001b[1;31mTypeError\u001b[0m                                 Traceback (most recent call last)",
      "\u001b[1;32m<ipython-input-65-89bcea275561>\u001b[0m in \u001b[0;36m<module>\u001b[1;34m\u001b[0m\n\u001b[1;32m----> 1\u001b[1;33m \u001b[0marchivo0\u001b[0m \u001b[1;33m=\u001b[0m \u001b[0mopen\u001b[0m\u001b[1;33m(\u001b[0m\u001b[1;34m'datos.txt'\u001b[0m\u001b[1;33m,\u001b[0m\u001b[0menconding\u001b[0m\u001b[1;33m=\u001b[0m\u001b[1;34m'utf-8'\u001b[0m\u001b[1;33m)\u001b[0m\u001b[1;33m\u001b[0m\u001b[1;33m\u001b[0m\u001b[0m\n\u001b[0m\u001b[0;32m      2\u001b[0m \u001b[1;33m\u001b[0m\u001b[0m\n\u001b[0;32m      3\u001b[0m \u001b[1;32mfor\u001b[0m \u001b[0mline\u001b[0m \u001b[1;32min\u001b[0m \u001b[0marchivo\u001b[0m\u001b[1;33m:\u001b[0m\u001b[1;33m\u001b[0m\u001b[1;33m\u001b[0m\u001b[0m\n\u001b[0;32m      4\u001b[0m     \u001b[0mprint\u001b[0m\u001b[1;33m(\u001b[0m\u001b[0mline\u001b[0m\u001b[1;33m,\u001b[0m \u001b[0mend\u001b[0m\u001b[1;33m=\u001b[0m\u001b[1;34m\"\"\u001b[0m\u001b[1;33m)\u001b[0m\u001b[1;33m\u001b[0m\u001b[1;33m\u001b[0m\u001b[0m\n\u001b[0;32m      5\u001b[0m \u001b[1;33m\u001b[0m\u001b[0m\n",
      "\u001b[1;31mTypeError\u001b[0m: 'enconding' is an invalid keyword argument for open()"
     ]
    }
   ],
   "source": [
    "archivo = open('datos.txt',enconding='utf-8') \n",
    "\n",
    "for line in archivo:\n",
    "    print(line, end=\"\")\n",
    "\n",
    "archivo.close()"
   ]
  },
  {
   "cell_type": "code",
   "execution_count": 59,
   "id": "close-potato",
   "metadata": {},
   "outputs": [
    {
     "name": "stdout",
     "output_type": "stream",
     "text": [
      "['MarÃ\\xada,Perez\\n', 'Juan,Montiel\\n', 'Pedro,GimÃ©nez\\n', 'Lucia,CalderÃ³n\\n', 'Albert,Einstein\\n', 'Bruce,Wayne\\n', 'Gabriel,GarcÃ\\xada Marquez\\n', 'Gustavo Adolfo, Becker\\n', 'Julio,CortÃ¡zar\\n', 'Julio,Verne\\n', 'Mario,Vargas Llosa']\n"
     ]
    },
    {
     "ename": "ValueError",
     "evalue": "I/O operation on closed file.",
     "output_type": "error",
     "traceback": [
      "\u001b[1;31m---------------------------------------------------------------------------\u001b[0m",
      "\u001b[1;31mValueError\u001b[0m                                Traceback (most recent call last)",
      "\u001b[1;32m<ipython-input-59-4da71cdff563>\u001b[0m in \u001b[0;36m<module>\u001b[1;34m\u001b[0m\n\u001b[0;32m      6\u001b[0m \u001b[0mprint\u001b[0m\u001b[1;33m(\u001b[0m\u001b[0mlista\u001b[0m\u001b[1;33m)\u001b[0m \u001b[1;31m# observar que cada linea incluye el terminador de linea \\n\u001b[0m\u001b[1;33m\u001b[0m\u001b[1;33m\u001b[0m\u001b[0m\n\u001b[0;32m      7\u001b[0m \u001b[1;33m\u001b[0m\u001b[0m\n\u001b[1;32m----> 8\u001b[1;33m \u001b[0marchivo\u001b[0m\u001b[1;33m.\u001b[0m\u001b[0mreadlines\u001b[0m\u001b[1;33m(\u001b[0m\u001b[1;33m)\u001b[0m \u001b[1;31m# si se intenta volver a leer notará que el archivo ya se cerró,\u001b[0m\u001b[1;33m\u001b[0m\u001b[1;33m\u001b[0m\u001b[0m\n\u001b[0m\u001b[0;32m      9\u001b[0m                     \u001b[1;31m# sucede automáticamente cuando se utiliza la cláusila with\u001b[0m\u001b[1;33m\u001b[0m\u001b[1;33m\u001b[0m\u001b[1;33m\u001b[0m\u001b[0m\n",
      "\u001b[1;31mValueError\u001b[0m: I/O operation on closed file."
     ]
    }
   ],
   "source": [
    "# Leer el contenido de un archivo y volcarlo en una lista\n",
    "\n",
    "with open('datos.txt') as archivo:\n",
    "    lista = archivo.readlines()\n",
    "\n",
    "print(lista) # observar que cada linea incluye el terminador de linea \\n\n",
    "\n",
    "archivo.readlines() # si se intenta volver a leer notará que el archivo ya se cerró, \n",
    "                    # sucede automáticamente cuando se utiliza la cláusila with"
   ]
  },
  {
   "cell_type": "code",
   "execution_count": 60,
   "id": "conventional-vietnam",
   "metadata": {},
   "outputs": [],
   "source": [
    "import random\n",
    "\n",
    "with open('salida.txt', 'w') as archivo:\n",
    "    for i in range(100):\n",
    "        archivo.write(str(random.randint(10,10000)) + '\\n')\n",
    "    "
   ]
  },
  {
   "cell_type": "code",
   "execution_count": 61,
   "id": "earlier-botswana",
   "metadata": {},
   "outputs": [
    {
     "name": "stdout",
     "output_type": "stream",
     "text": [
      "['Nombre', 'Apellido']\n",
      "['MarÃ\\xada', 'Perez']\n",
      "['Juan', 'Montiel']\n",
      "['Pedro', 'GimÃ©nez']\n",
      "['Lucia', 'CalderÃ³n']\n",
      "['Albert', 'Einstein']\n",
      "['Bruce', 'Wayne']\n",
      "['Gabriel', 'GarcÃ\\xada Marquez']\n",
      "['Gustavo Adolfo', ' Becker']\n",
      "['Julio', 'CortÃ¡zar']\n",
      "['Julio', 'Verne']\n",
      "['Mario', 'Vargas Llosa']\n",
      "{'Nombre': 'MarÃ\\xada', 'Apellido': 'Perez'}\n",
      "{'Nombre': 'Juan', 'Apellido': 'Montiel'}\n",
      "{'Nombre': 'Pedro', 'Apellido': 'GimÃ©nez'}\n",
      "{'Nombre': 'Lucia', 'Apellido': 'CalderÃ³n'}\n",
      "{'Nombre': 'Albert', 'Apellido': 'Einstein'}\n",
      "{'Nombre': 'Bruce', 'Apellido': 'Wayne'}\n",
      "{'Nombre': 'Gabriel', 'Apellido': 'GarcÃ\\xada Marquez'}\n",
      "{'Nombre': 'Gustavo Adolfo', 'Apellido': ' Becker'}\n",
      "{'Nombre': 'Julio', 'Apellido': 'CortÃ¡zar'}\n",
      "{'Nombre': 'Julio', 'Apellido': 'Verne'}\n",
      "{'Nombre': 'Mario', 'Apellido': 'Vargas Llosa'}\n"
     ]
    }
   ],
   "source": [
    "# Abrir un archivo csv \n",
    "import csv\n",
    "\n",
    "# El archivo implica una cabecera con el nombre de los campos\n",
    "# nombre_campo1, nombre_campo2, ..\n",
    "# campo1, campo2, ..\n",
    "with open('datos.csv', newline='') as archivo: # newline \n",
    "    lista = csv.reader(archivo,delimiter=',')\n",
    "    for linea in lista: # lista es un iterable donde cada elemento es una lista.\n",
    "        print(linea)\n",
    "\n",
    "# El archivo implica una cabecera con el nombre de los campos\n",
    "# nombre_campo1, nombre_campo2, ..\n",
    "# campo1, campo2, ..\n",
    "with open('datos.csv', newline='') as archivo: \n",
    "    dict_archivo = csv.DictReader(archivo,delimiter=',') # toma la primera linea como cabecera\n",
    "    for linea in dict_archivo: # cada linea es un diccionario\n",
    "        print(linea)"
   ]
  },
  {
   "cell_type": "code",
   "execution_count": null,
   "id": "blank-russell",
   "metadata": {},
   "outputs": [],
   "source": []
  }
 ],
 "metadata": {
  "kernelspec": {
   "display_name": "Python 3",
   "language": "python",
   "name": "python3"
  },
  "language_info": {
   "codemirror_mode": {
    "name": "ipython",
    "version": 3
   },
   "file_extension": ".py",
   "mimetype": "text/x-python",
   "name": "python",
   "nbconvert_exporter": "python",
   "pygments_lexer": "ipython3",
   "version": "3.8.8"
  }
 },
 "nbformat": 4,
 "nbformat_minor": 5
}
