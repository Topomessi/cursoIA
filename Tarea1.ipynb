{
  "nbformat": 4,
  "nbformat_minor": 0,
  "metadata": {
    "colab": {
      "provenance": [],
      "mount_file_id": "1KPeeOKFkK5Kx4JaaFire3K9eZQOf8Ppo",
      "authorship_tag": "ABX9TyOUf6u67eG9nsX21DVunz/y",
      "include_colab_link": true
    },
    "kernelspec": {
      "name": "python3",
      "display_name": "Python 3"
    },
    "language_info": {
      "name": "python"
    }
  },
  "cells": [
    {
      "cell_type": "markdown",
      "metadata": {
        "id": "view-in-github",
        "colab_type": "text"
      },
      "source": [
        "<a href=\"https://colab.research.google.com/github/Topomessi/cursoIA/blob/main/Tarea1.ipynb\" target=\"_parent\"><img src=\"https://colab.research.google.com/assets/colab-badge.svg\" alt=\"Open In Colab\"/></a>"
      ]
    },
    {
      "cell_type": "code",
      "execution_count": null,
      "metadata": {
        "id": "SaaIHbMGYSAf"
      },
      "outputs": [],
      "source": [
        "#Ivan Arias\n",
        "'''Cargar el conjunto de datos en un DataFrame.\n",
        "● Imprima las primeras filas del conjunto de datos para entender su estructura.\n",
        "● Compruebe y resuma cualquier valor faltante o NaN en cada columna.\n",
        "● Rellene los valores perdidos en Units_Sold con el valor medio de la columna.\n",
        "● Elimine las filas en Sales_Amount sea negativo o Store_Location falte.\n",
        "● Añada una nueva columna Sale_Price_Per_Unit dividiendo Sales_Amount\n",
        "por Units_Sold.\n",
        "● Convertir la columna Date a un objeto DateTime en pandas.\n",
        "● Agregue los datos para encontrar el total de Units_Sold y el Sales_Amount\n",
        "por Store_Location.\n",
        "● Agrupe los datos por mes y calcule las ventas totales de cada mes para\n",
        "identificar tendencias a lo largo del tiempo.\n",
        "● Identifique los 5 productos más vendidos (por Units_Sold).\n",
        "● Escribir una función Python para calcular la varianza de ventas de cada producto.'''"
      ]
    },
    {
      "cell_type": "code",
      "source": [
        "import pandas as pd"
      ],
      "metadata": {
        "id": "Yq8aZrRPYmpt"
      },
      "execution_count": 4,
      "outputs": []
    },
    {
      "cell_type": "code",
      "source": [
        "df=pd.read_csv('/content/sales_data.csv')"
      ],
      "metadata": {
        "id": "H-UdzaL_bK35"
      },
      "execution_count": 8,
      "outputs": []
    },
    {
      "cell_type": "code",
      "source": [
        "df.iloc[0,:]# ver primera fila"
      ],
      "metadata": {
        "colab": {
          "base_uri": "https://localhost:8080/"
        },
        "id": "HPmiIRvfdjeq",
        "outputId": "7d3fbde5-8b27-405a-b971-ff2fd0c4210b"
      },
      "execution_count": 9,
      "outputs": [
        {
          "output_type": "execute_result",
          "data": {
            "text/plain": [
              "Date              2023-01-21\n",
              "Product_ID              1003\n",
              "Store_Location          West\n",
              "Units_Sold                 0\n",
              "Sales_Amount         4033.98\n",
              "Name: 0, dtype: object"
            ]
          },
          "metadata": {},
          "execution_count": 9
        }
      ]
    },
    {
      "cell_type": "code",
      "source": [
        "vacio=df.isna()#recorrer todo solo para imprimir vacio? True es vacio"
      ],
      "metadata": {
        "id": "VNCyDv-ydmif"
      },
      "execution_count": 19,
      "outputs": []
    },
    {
      "cell_type": "code",
      "source": [
        "print(vacio.columns)#hacer lista vacia ir cargando los valores con Nan   True"
      ],
      "metadata": {
        "colab": {
          "base_uri": "https://localhost:8080/"
        },
        "id": "6XJCdjLR2hpA",
        "outputId": "922274aa-9329-4620-e3dd-09a12b95fbea"
      },
      "execution_count": 24,
      "outputs": [
        {
          "output_type": "stream",
          "name": "stdout",
          "text": [
            "Index(['Date', 'Product_ID', 'Store_Location', 'Units_Sold', 'Sales_Amount'], dtype='object')\n"
          ]
        }
      ]
    },
    {
      "cell_type": "code",
      "source": [],
      "metadata": {
        "id": "i6EmnY-i49ql"
      },
      "execution_count": null,
      "outputs": []
    }
  ]
}