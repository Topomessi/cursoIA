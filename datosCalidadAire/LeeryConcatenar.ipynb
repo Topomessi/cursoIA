{
 "cells": [
  {
   "cell_type": "code",
   "execution_count": 2,
   "id": "actual-butterfly",
   "metadata": {},
   "outputs": [],
   "source": [
    "import os\n",
    "import pandas as pd\n",
    "import matplotlib.pyplot as plt\n",
    "import numpy as np\n",
    "from scipy import integrate\n",
    "from scipy import signal\n",
    "import seaborn as sns\n",
    "from matplotlib.ticker import StrMethodFormatter,ScalarFormatter,AutoMinorLocator\n",
    "from scipy import integrate\n",
    "import statsmodels.formula.api as sm\n",
    "\n",
    "SMALL_SIZE = 16\n",
    "MEDIUM_SIZE = 18\n",
    "BIGGER_SIZE = 20\n",
    "\n",
    "plt.rc('font', size=SMALL_SIZE)          # controls default text sizes\n",
    "plt.rc('axes', titlesize=SMALL_SIZE)     # fontsize of the axes title\n",
    "plt.rc('axes', labelsize=MEDIUM_SIZE)    # fontsize of the x and y labels\n",
    "plt.rc('xtick', labelsize=SMALL_SIZE)    # fontsize of the tick labels\n",
    "plt.rc('ytick', labelsize=SMALL_SIZE)    # fontsize of the tick labels\n",
    "plt.rc('legend', fontsize=SMALL_SIZE)    # legend fontsize\n",
    "plt.rc('figure', titlesize=BIGGER_SIZE)  # fontsize of the figure title"
   ]
  },
  {
   "cell_type": "code",
   "execution_count": 7,
   "id": "elder-austria",
   "metadata": {},
   "outputs": [],
   "source": [
    "estaciones=pd.read_csv('Estacion2_2019.csv',names=[ 'ID', 'fecha', 'hora', 'MP1', 'MP2.5', 'MP10', 'Temperatura',' Humedad', 'Presión', 'Batería'],sep=';')\n"
   ]
  },
  {
   "cell_type": "code",
   "execution_count": 8,
   "id": "alpine-gender",
   "metadata": {},
   "outputs": [
    {
     "data": {
      "text/html": [
       "<div>\n",
       "<style scoped>\n",
       "    .dataframe tbody tr th:only-of-type {\n",
       "        vertical-align: middle;\n",
       "    }\n",
       "\n",
       "    .dataframe tbody tr th {\n",
       "        vertical-align: top;\n",
       "    }\n",
       "\n",
       "    .dataframe thead th {\n",
       "        text-align: right;\n",
       "    }\n",
       "</style>\n",
       "<table border=\"1\" class=\"dataframe\">\n",
       "  <thead>\n",
       "    <tr style=\"text-align: right;\">\n",
       "      <th></th>\n",
       "      <th>ID</th>\n",
       "      <th>fecha</th>\n",
       "      <th>hora</th>\n",
       "      <th>MP1</th>\n",
       "      <th>MP2.5</th>\n",
       "      <th>MP10</th>\n",
       "      <th>Temperatura</th>\n",
       "      <th>Humedad</th>\n",
       "      <th>Presión</th>\n",
       "      <th>Batería</th>\n",
       "    </tr>\n",
       "  </thead>\n",
       "  <tbody>\n",
       "    <tr>\n",
       "      <th>0</th>\n",
       "      <td>1</td>\n",
       "      <td>17-04-2019</td>\n",
       "      <td>9:15</td>\n",
       "      <td>5.500</td>\n",
       "      <td>8.429</td>\n",
       "      <td>37.619</td>\n",
       "      <td>24.5</td>\n",
       "      <td>62.5</td>\n",
       "      <td>1002.8</td>\n",
       "      <td>82</td>\n",
       "    </tr>\n",
       "    <tr>\n",
       "      <th>1</th>\n",
       "      <td>2</td>\n",
       "      <td>17-04-2019</td>\n",
       "      <td>9:20</td>\n",
       "      <td>3.889</td>\n",
       "      <td>5.210</td>\n",
       "      <td>7.889</td>\n",
       "      <td>25.1</td>\n",
       "      <td>61.3</td>\n",
       "      <td>1002.9</td>\n",
       "      <td>82</td>\n",
       "    </tr>\n",
       "    <tr>\n",
       "      <th>2</th>\n",
       "      <td>3</td>\n",
       "      <td>17-04-2019</td>\n",
       "      <td>9:25</td>\n",
       "      <td>3.289</td>\n",
       "      <td>5.069</td>\n",
       "      <td>24.629</td>\n",
       "      <td>25.9</td>\n",
       "      <td>59.1</td>\n",
       "      <td>1001.7</td>\n",
       "      <td>80</td>\n",
       "    </tr>\n",
       "    <tr>\n",
       "      <th>3</th>\n",
       "      <td>4</td>\n",
       "      <td>17-04-2019</td>\n",
       "      <td>9:30</td>\n",
       "      <td>11.109</td>\n",
       "      <td>14.259</td>\n",
       "      <td>20.869</td>\n",
       "      <td>26.5</td>\n",
       "      <td>57.4</td>\n",
       "      <td>998.8</td>\n",
       "      <td>80</td>\n",
       "    </tr>\n",
       "    <tr>\n",
       "      <th>4</th>\n",
       "      <td>5</td>\n",
       "      <td>17-04-2019</td>\n",
       "      <td>9:35</td>\n",
       "      <td>10.659</td>\n",
       "      <td>13.399</td>\n",
       "      <td>15.779</td>\n",
       "      <td>26.9</td>\n",
       "      <td>56.3</td>\n",
       "      <td>1000.1</td>\n",
       "      <td>80</td>\n",
       "    </tr>\n",
       "  </tbody>\n",
       "</table>\n",
       "</div>"
      ],
      "text/plain": [
       "   ID       fecha  hora     MP1   MP2.5    MP10  Temperatura   Humedad  \\\n",
       "0   1  17-04-2019  9:15   5.500   8.429  37.619         24.5      62.5   \n",
       "1   2  17-04-2019  9:20   3.889   5.210   7.889         25.1      61.3   \n",
       "2   3  17-04-2019  9:25   3.289   5.069  24.629         25.9      59.1   \n",
       "3   4  17-04-2019  9:30  11.109  14.259  20.869         26.5      57.4   \n",
       "4   5  17-04-2019  9:35  10.659  13.399  15.779         26.9      56.3   \n",
       "\n",
       "   Presión  Batería  \n",
       "0   1002.8       82  \n",
       "1   1002.9       82  \n",
       "2   1001.7       80  \n",
       "3    998.8       80  \n",
       "4   1000.1       80  "
      ]
     },
     "execution_count": 8,
     "metadata": {},
     "output_type": "execute_result"
    }
   ],
   "source": [
    "estaciones.head()"
   ]
  },
  {
   "cell_type": "code",
   "execution_count": 11,
   "id": "imperial-perry",
   "metadata": {},
   "outputs": [],
   "source": [
    "estaciones['datetime']=pd.to_datetime(estaciones.fecha +\" \"+estaciones.hora)"
   ]
  },
  {
   "cell_type": "code",
   "execution_count": 12,
   "id": "designed-anthony",
   "metadata": {},
   "outputs": [
    {
     "data": {
      "text/html": [
       "<div>\n",
       "<style scoped>\n",
       "    .dataframe tbody tr th:only-of-type {\n",
       "        vertical-align: middle;\n",
       "    }\n",
       "\n",
       "    .dataframe tbody tr th {\n",
       "        vertical-align: top;\n",
       "    }\n",
       "\n",
       "    .dataframe thead th {\n",
       "        text-align: right;\n",
       "    }\n",
       "</style>\n",
       "<table border=\"1\" class=\"dataframe\">\n",
       "  <thead>\n",
       "    <tr style=\"text-align: right;\">\n",
       "      <th></th>\n",
       "      <th>ID</th>\n",
       "      <th>fecha</th>\n",
       "      <th>hora</th>\n",
       "      <th>MP1</th>\n",
       "      <th>MP2.5</th>\n",
       "      <th>MP10</th>\n",
       "      <th>Temperatura</th>\n",
       "      <th>Humedad</th>\n",
       "      <th>Presión</th>\n",
       "      <th>Batería</th>\n",
       "      <th>datetime</th>\n",
       "    </tr>\n",
       "  </thead>\n",
       "  <tbody>\n",
       "    <tr>\n",
       "      <th>0</th>\n",
       "      <td>1</td>\n",
       "      <td>17-04-2019</td>\n",
       "      <td>9:15</td>\n",
       "      <td>5.500</td>\n",
       "      <td>8.429</td>\n",
       "      <td>37.619</td>\n",
       "      <td>24.5</td>\n",
       "      <td>62.5</td>\n",
       "      <td>1002.8</td>\n",
       "      <td>82</td>\n",
       "      <td>2019-04-17 09:15:00</td>\n",
       "    </tr>\n",
       "    <tr>\n",
       "      <th>1</th>\n",
       "      <td>2</td>\n",
       "      <td>17-04-2019</td>\n",
       "      <td>9:20</td>\n",
       "      <td>3.889</td>\n",
       "      <td>5.210</td>\n",
       "      <td>7.889</td>\n",
       "      <td>25.1</td>\n",
       "      <td>61.3</td>\n",
       "      <td>1002.9</td>\n",
       "      <td>82</td>\n",
       "      <td>2019-04-17 09:20:00</td>\n",
       "    </tr>\n",
       "    <tr>\n",
       "      <th>2</th>\n",
       "      <td>3</td>\n",
       "      <td>17-04-2019</td>\n",
       "      <td>9:25</td>\n",
       "      <td>3.289</td>\n",
       "      <td>5.069</td>\n",
       "      <td>24.629</td>\n",
       "      <td>25.9</td>\n",
       "      <td>59.1</td>\n",
       "      <td>1001.7</td>\n",
       "      <td>80</td>\n",
       "      <td>2019-04-17 09:25:00</td>\n",
       "    </tr>\n",
       "    <tr>\n",
       "      <th>3</th>\n",
       "      <td>4</td>\n",
       "      <td>17-04-2019</td>\n",
       "      <td>9:30</td>\n",
       "      <td>11.109</td>\n",
       "      <td>14.259</td>\n",
       "      <td>20.869</td>\n",
       "      <td>26.5</td>\n",
       "      <td>57.4</td>\n",
       "      <td>998.8</td>\n",
       "      <td>80</td>\n",
       "      <td>2019-04-17 09:30:00</td>\n",
       "    </tr>\n",
       "    <tr>\n",
       "      <th>4</th>\n",
       "      <td>5</td>\n",
       "      <td>17-04-2019</td>\n",
       "      <td>9:35</td>\n",
       "      <td>10.659</td>\n",
       "      <td>13.399</td>\n",
       "      <td>15.779</td>\n",
       "      <td>26.9</td>\n",
       "      <td>56.3</td>\n",
       "      <td>1000.1</td>\n",
       "      <td>80</td>\n",
       "      <td>2019-04-17 09:35:00</td>\n",
       "    </tr>\n",
       "  </tbody>\n",
       "</table>\n",
       "</div>"
      ],
      "text/plain": [
       "   ID       fecha  hora     MP1   MP2.5    MP10  Temperatura   Humedad  \\\n",
       "0   1  17-04-2019  9:15   5.500   8.429  37.619         24.5      62.5   \n",
       "1   2  17-04-2019  9:20   3.889   5.210   7.889         25.1      61.3   \n",
       "2   3  17-04-2019  9:25   3.289   5.069  24.629         25.9      59.1   \n",
       "3   4  17-04-2019  9:30  11.109  14.259  20.869         26.5      57.4   \n",
       "4   5  17-04-2019  9:35  10.659  13.399  15.779         26.9      56.3   \n",
       "\n",
       "   Presión  Batería            datetime  \n",
       "0   1002.8       82 2019-04-17 09:15:00  \n",
       "1   1002.9       82 2019-04-17 09:20:00  \n",
       "2   1001.7       80 2019-04-17 09:25:00  \n",
       "3    998.8       80 2019-04-17 09:30:00  \n",
       "4   1000.1       80 2019-04-17 09:35:00  "
      ]
     },
     "execution_count": 12,
     "metadata": {},
     "output_type": "execute_result"
    }
   ],
   "source": [
    "estaciones.head()"
   ]
  },
  {
   "cell_type": "code",
   "execution_count": 13,
   "id": "adapted-providence",
   "metadata": {},
   "outputs": [],
   "source": [
    "estaciones.set_index([\"datetime\"],drop=False, inplace=True)\n"
   ]
  },
  {
   "cell_type": "code",
   "execution_count": 26,
   "id": "gorgeous-discrimination",
   "metadata": {},
   "outputs": [
    {
     "data": {
      "text/plain": [
       "<AxesSubplot:xlabel='datetime'>"
      ]
     },
     "execution_count": 26,
     "metadata": {},
     "output_type": "execute_result"
    },
    {
     "data": {
      "image/png": "[encoded data removed]",
      "text/plain": [
       "<Figure size 1080x288 with 1 Axes>"
      ]
     },
     "metadata": {
      "needs_background": "light"
     },
     "output_type": "display_data"
    }
   ],
   "source": [
    "estaciones['Temperatura'][:3500].plot( marker='.',markersize=5, linestyle='None', alpha=0.6, figsize=(15, 4))"
   ]
  },
  {
   "cell_type": "code",
   "execution_count": null,
   "id": "numerical-claim",
   "metadata": {},
   "outputs": [],
   "source": [
    "#temperatura_r=temperatura.resample('H').interpolate(method='spline', order=2)\n"
   ]
  },
  {
   "cell_type": "code",
   "execution_count": null,
   "id": "suspected-despite",
   "metadata": {},
   "outputs": [],
   "source": []
  }
 ],
 "metadata": {
  "kernelspec": {
   "display_name": "Python 3",
   "language": "python",
   "name": "python3"
  },
  "language_info": {
   "codemirror_mode": {
    "name": "ipython",
    "version": 3
   },
   "file_extension": ".py",
   "mimetype": "text/x-python",
   "name": "python",
   "nbconvert_exporter": "python",
   "pygments_lexer": "ipython3",
   "version": "3.8.8"
  }
 },
 "nbformat": 4,
 "nbformat_minor": 5
}
