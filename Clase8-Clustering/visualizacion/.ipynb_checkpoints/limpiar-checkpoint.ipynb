{
 "cells": [
  {
   "cell_type": "code",
   "execution_count": 72,
   "id": "frank-clark",
   "metadata": {},
   "outputs": [],
   "source": [
    "import os\n",
    "import re\n",
    "import time\n",
    "import pandas as pd\n",
    "import numpy as np\n",
    "from tqdm import tqdm\n",
    "import plotly as px\n",
    "import plotly.graph_objects as go\n",
    "\n",
    "\n",
    "pd.set_option('display.max_columns', None)"
   ]
  },
  {
   "cell_type": "code",
   "execution_count": 73,
   "id": "continental-injury",
   "metadata": {},
   "outputs": [],
   "source": [
    "direccion='../Lectura/salida/'"
   ]
  },
  {
   "cell_type": "code",
   "execution_count": 74,
   "id": "consolidated-saudi",
   "metadata": {},
   "outputs": [
    {
     "name": "stderr",
     "output_type": "stream",
     "text": [
      " 33%|███▎      | 2/6 [00:00<00:00, 11.63it/s]"
     ]
    },
    {
     "name": "stdout",
     "output_type": "stream",
     "text": [
      "141.csv\n",
      "Index(['3011291', '2872032', '2162168'], dtype='object')\n",
      "2021-12-01 01:00:00 2021-12-31 23:00:00\n",
      "142.csv\n",
      "Index(['3010186', '2626102', '2276461', '2250797', '1082915', '1074690',\n",
      "       '1064362', '1061795', '1042018', '1041035'],\n",
      "      dtype='object')\n",
      "2021-12-01 01:00:00 2021-12-31 23:00:00\n",
      "245.csv\n"
     ]
    },
    {
     "name": "stderr",
     "output_type": "stream",
     "text": [
      " 67%|██████▋   | 4/6 [00:00<00:00, 10.32it/s]"
     ]
    },
    {
     "name": "stdout",
     "output_type": "stream",
     "text": [
      "Index(['2720198', '2625380', '2216547', '2205335', '2143663', '2126827',\n",
      "       '1088712', '1086589', '1072786', '1051409'],\n",
      "      dtype='object')\n",
      "2021-12-01 01:00:00 2021-12-31 23:00:00\n",
      "343.csv\n",
      "Index(['2664506', '1624616', '1624458', '1073263'], dtype='object')\n",
      "2021-12-01 01:00:00 2021-12-31 23:00:00\n",
      "546.csv\n",
      "Index(['2829910', '2759067', '1077952'], dtype='object')\n"
     ]
    },
    {
     "name": "stderr",
     "output_type": "stream",
     "text": [
      "100%|██████████| 6/6 [00:00<00:00, 11.47it/s]\n",
      "100%|██████████| 1/1 [00:00<00:00, 20.41it/s]"
     ]
    },
    {
     "name": "stdout",
     "output_type": "stream",
     "text": [
      "2021-12-01 01:00:00 2021-12-31 23:00:00\n",
      "846.csv\n",
      "Index(['2836881'], dtype='object')\n",
      "2021-12-01 01:00:00 2021-12-31 23:00:00\n",
      "141-checkpoint.csv\n",
      "Index(['3011291', '2872032', '2162168'], dtype='object')\n",
      "2021-12-01 01:00:00 2021-12-31 23:00:00\n"
     ]
    },
    {
     "name": "stderr",
     "output_type": "stream",
     "text": [
      "\n"
     ]
    }
   ],
   "source": [
    "for path, subdirs, files in os.walk(direccion):\n",
    "        for name in tqdm(files):\n",
    "            print(name)\n",
    "            df=pd.read_csv(os.path.join(path, name), skiprows=[1])\n",
    "            df[\"Hora\"]=pd.to_datetime(df.iloc[:, 0])\n",
    "            df=df.drop(df.columns[0], axis=1)\n",
    "            df=df.sort_values(by='Hora')\n",
    "            df = df.set_index('Hora')\n",
    "            flag=df.isna().sum()/len(df)>0.05\n",
    "            print(df.columns[flag])\n",
    "            df=df.drop(df.columns[flag], axis=1)\n",
    "            df=df.query(\"index > '2021-12-01 00:00:00'\")\n",
    "            first_idx = df.first_valid_index()\n",
    "            last_idx = df.last_valid_index()\n",
    "            print(first_idx, last_idx)\n",
    "                        \n",
    "            df.loc[first_idx:last_idx]\n",
    "            df.to_csv('salida/'+name)"
   ]
  },
  {
   "cell_type": "code",
   "execution_count": 69,
   "id": "waiting-connecticut",
   "metadata": {},
   "outputs": [
    {
     "data": {
      "text/plain": [
       "['141-checkpoint.csv']"
      ]
     },
     "execution_count": 69,
     "metadata": {},
     "output_type": "execute_result"
    }
   ],
   "source": [
    "files"
   ]
  },
  {
   "cell_type": "code",
   "execution_count": 71,
   "id": "sunrise-three",
   "metadata": {},
   "outputs": [
    {
     "data": {
      "text/plain": [
       "1572256    0.000000\n",
       "1290228    0.000000\n",
       "2981570    0.024357\n",
       "2971000    0.000000\n",
       "2808912    0.002706\n",
       "2790284    0.002706\n",
       "2723777    0.000000\n",
       "2721309    0.000000\n",
       "2668263    0.006766\n",
       "2622109    0.000000\n",
       "2576574    0.000000\n",
       "2559040    0.001353\n",
       "2481182    0.001353\n",
       "2460772    0.018945\n",
       "2404882    0.000000\n",
       "2333525    0.002706\n",
       "2308723    0.001353\n",
       "2299543    0.001353\n",
       "2207973    0.000000\n",
       "1793349    0.000000\n",
       "1793220    0.000000\n",
       "1793074    0.000000\n",
       "1793017    0.000000\n",
       "1791523    0.001353\n",
       "1783991    0.000000\n",
       "1783559    0.000000\n",
       "1658931    0.005413\n",
       "1629094    0.006766\n",
       "1221527    0.001353\n",
       "1219804    0.000000\n",
       "1084317    0.041949\n",
       "1083551    0.012179\n",
       "1083260    0.000000\n",
       "1083206    0.002706\n",
       "1033360    0.000000\n",
       "1030556    0.000000\n",
       "1026464    0.000000\n",
       "1025582    0.014885\n",
       "1023199    0.023004\n",
       "1016327    0.000000\n",
       "1015235    0.000000\n",
       "1013464    0.000000\n",
       "1010209    0.000000\n",
       "1009970    0.000000\n",
       "1007512    0.000000\n",
       "dtype: float64"
      ]
     },
     "execution_count": 71,
     "metadata": {},
     "output_type": "execute_result"
    }
   ],
   "source": [
    "df.isna().sum()/len(df)                 "
   ]
  },
  {
   "cell_type": "code",
   "execution_count": null,
   "id": "dietary-rider",
   "metadata": {},
   "outputs": [],
   "source": []
  },
  {
   "cell_type": "code",
   "execution_count": null,
   "id": "musical-audit",
   "metadata": {},
   "outputs": [],
   "source": []
  },
  {
   "cell_type": "code",
   "execution_count": null,
   "id": "representative-folder",
   "metadata": {},
   "outputs": [],
   "source": []
  }
 ],
 "metadata": {
  "kernelspec": {
   "display_name": "Python 3",
   "language": "python",
   "name": "python3"
  },
  "language_info": {
   "codemirror_mode": {
    "name": "ipython",
    "version": 3
   },
   "file_extension": ".py",
   "mimetype": "text/x-python",
   "name": "python",
   "nbconvert_exporter": "python",
   "pygments_lexer": "ipython3",
   "version": "3.8.8"
  }
 },
 "nbformat": 4,
 "nbformat_minor": 5
}
