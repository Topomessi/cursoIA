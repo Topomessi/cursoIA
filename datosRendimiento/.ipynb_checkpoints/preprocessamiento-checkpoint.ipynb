{
 "cells": [
  {
   "cell_type": "code",
   "execution_count": 2,
   "id": "historic-metropolitan",
   "metadata": {},
   "outputs": [],
   "source": [
    "import os\n",
    "import pandas as pd\n",
    "import numpy as np\n",
    "import matplotlib.pyplot as plt"
   ]
  },
  {
   "cell_type": "code",
   "execution_count": 3,
   "id": "radio-continent",
   "metadata": {},
   "outputs": [],
   "source": [
    "lectura= pd.read_csv(\"datos\\datosConcatenados.csv\")"
   ]
  },
  {
   "cell_type": "code",
   "execution_count": 4,
   "id": "religious-comment",
   "metadata": {},
   "outputs": [
    {
     "name": "stdout",
     "output_type": "stream",
     "text": [
      "<class 'pandas.core.frame.DataFrame'>\n",
      "RangeIndex: 221921 entries, 0 to 221920\n",
      "Data columns (total 23 columns):\n",
      " #   Column        Non-Null Count   Dtype  \n",
      "---  ------        --------------   -----  \n",
      " 0   Unnamed: 0    221921 non-null  int64  \n",
      " 1   danho         221921 non-null  int64  \n",
      " 2   ciclo         221921 non-null  int64  \n",
      " 3   Cod.Asign     221921 non-null  int64  \n",
      " 4   Asignatura    221921 non-null  object \n",
      " 5   Cod.Car.Sec   221921 non-null  object \n",
      " 6   Cod.Curso     221921 non-null  int64  \n",
      " 7   Convocatoria  221921 non-null  int64  \n",
      " 8   Anho          221921 non-null  int64  \n",
      " 9   Semestre      221921 non-null  int64  \n",
      " 10  Aprobado      221921 non-null  object \n",
      " 11  Anho.Firma    221921 non-null  int64  \n",
      " 12  Primer.Par    221921 non-null  int64  \n",
      " 13  Segundo.Par   221921 non-null  int64  \n",
      " 14  AOT           221921 non-null  int64  \n",
      " 15  Primer.Rec    221921 non-null  int64  \n",
      " 16  Segundo.Rec   221921 non-null  int64  \n",
      " 17  Nota.Final    137115 non-null  object \n",
      " 18  Tercer.Par    221921 non-null  float64\n",
      " 19  Asis          221921 non-null  float64\n",
      " 20  Cuarto.Par    28045 non-null   float64\n",
      " 21  4P_60         28045 non-null   float64\n",
      " 22  id_anony      221921 non-null  object \n",
      "dtypes: float64(4), int64(14), object(5)\n",
      "memory usage: 38.9+ MB\n"
     ]
    }
   ],
   "source": [
    "lectura.info()"
   ]
  },
  {
   "cell_type": "code",
   "execution_count": 5,
   "id": "international-tampa",
   "metadata": {},
   "outputs": [],
   "source": [
    "flag=lectura[\"Asignatura\"]==\"CALCULO 1\"\n"
   ]
  },
  {
   "cell_type": "code",
   "execution_count": 6,
   "id": "junior-invention",
   "metadata": {},
   "outputs": [
    {
     "data": {
      "text/plain": [
       "array(['CGF-175-09', 'CGF-PLS09 ', 'CGF-PLS13 ', 'CIV-175-09',\n",
       "       'CIV-PLS09 ', 'CIV-PLS13 ', 'ECA-175-09', 'ECA-PLS09 ',\n",
       "       'ECA-PLS13 ', 'ECA9-OPT  ', 'ELE-175-09', 'ELE-PLS09 ',\n",
       "       'ELE-PLS13 ', 'IND-175-09', 'IND-PLS09 ', 'IND-PLS13 ',\n",
       "       'INT9-PROYT', 'INT9CONSTR', 'INT9ELECTR', 'INT9G-ECO ',\n",
       "       'INT9MECANI', 'INT9ORTERR', 'INT9RNYMA ', 'INT9SANEHI',\n",
       "       'INT9SDIGYT', 'INT9TRANSP', 'MCT-175-09', 'MCT-PLS09 ',\n",
       "       'MCT-PLS13 ', 'MCT9-OPT  ', 'MEC-175-09', 'MEC-PLS09 ',\n",
       "       'MEC-PLS13 ', 'MEC9-OPT  ', 'TIVAS     '], dtype=object)"
      ]
     },
     "execution_count": 6,
     "metadata": {},
     "output_type": "execute_result"
    }
   ],
   "source": [
    "np.unique(lectura[\"Cod.Car.Sec\"])"
   ]
  },
  {
   "cell_type": "code",
   "execution_count": 7,
   "id": "yellow-rover",
   "metadata": {},
   "outputs": [],
   "source": [
    "#np.unique(lectura[\"Asignatura\"])"
   ]
  },
  {
   "cell_type": "code",
   "execution_count": null,
   "id": "colored-judge",
   "metadata": {},
   "outputs": [],
   "source": []
  },
  {
   "cell_type": "code",
   "execution_count": 8,
   "id": "gorgeous-maple",
   "metadata": {},
   "outputs": [],
   "source": [
    "carrera=pd.DataFrame(columns=lectura.columns)\n",
    "for car in ['MCT-175-09', 'MCT-PLS09 ','MCT-PLS13 ', 'MCT9-OPT  ']:\n",
    "     carrera=pd.concat([carrera, lectura[lectura[\"Cod.Car.Sec\"]==car]], axis=0)\n"
   ]
  },
  {
   "cell_type": "code",
   "execution_count": 9,
   "id": "fabulous-wilderness",
   "metadata": {},
   "outputs": [
    {
     "data": {
      "text/plain": [
       "array(['MCT-175-09', 'MCT-PLS09 ', 'MCT-PLS13 ', 'MCT9-OPT  '],\n",
       "      dtype=object)"
      ]
     },
     "execution_count": 9,
     "metadata": {},
     "output_type": "execute_result"
    }
   ],
   "source": [
    "np.unique(carrera[\"Cod.Car.Sec\"])"
   ]
  },
  {
   "cell_type": "code",
   "execution_count": 10,
   "id": "73e45835-5dcd-46a8-8732-4293bd4fe6a8",
   "metadata": {},
   "outputs": [],
   "source": [
    "estudiantes=np.unique(carrera.id_anony.values)"
   ]
  },
  {
   "cell_type": "code",
   "execution_count": 11,
   "id": "bb151a31-4cc1-4447-a01f-45dd99916de7",
   "metadata": {},
   "outputs": [
    {
     "data": {
      "text/plain": [
       "1417"
      ]
     },
     "execution_count": 11,
     "metadata": {},
     "output_type": "execute_result"
    }
   ],
   "source": [
    "len(estudiantes)"
   ]
  },
  {
   "cell_type": "code",
   "execution_count": null,
   "id": "f3fae86d-1ba2-415b-beff-67e399126d7d",
   "metadata": {},
   "outputs": [],
   "source": []
  },
  {
   "cell_type": "code",
   "execution_count": 17,
   "id": "neutral-sussex",
   "metadata": {},
   "outputs": [
    {
     "ename": "AttributeError",
     "evalue": "'DataFrame' object has no attribute 'Cod'",
     "output_type": "error",
     "traceback": [
      "\u001b[1;31m---------------------------------------------------------------------------\u001b[0m",
      "\u001b[1;31mAttributeError\u001b[0m                            Traceback (most recent call last)",
      "\u001b[1;32m<ipython-input-17-30b42ae171d6>\u001b[0m in \u001b[0;36m<module>\u001b[1;34m\u001b[0m\n\u001b[0;32m      2\u001b[0m \u001b[1;32mfor\u001b[0m \u001b[0mides\u001b[0m \u001b[1;32min\u001b[0m \u001b[0mestudiantes\u001b[0m\u001b[1;33m:\u001b[0m\u001b[1;33m\u001b[0m\u001b[1;33m\u001b[0m\u001b[0m\n\u001b[0;32m      3\u001b[0m     \u001b[0mregistro\u001b[0m\u001b[1;33m=\u001b[0m\u001b[0mcarrera\u001b[0m\u001b[1;33m[\u001b[0m\u001b[0mcarrera\u001b[0m\u001b[1;33m.\u001b[0m\u001b[0mid_anony\u001b[0m\u001b[1;33m.\u001b[0m\u001b[0mvalues\u001b[0m\u001b[1;33m==\u001b[0m\u001b[0mides\u001b[0m\u001b[1;33m]\u001b[0m\u001b[1;33m\u001b[0m\u001b[1;33m\u001b[0m\u001b[0m\n\u001b[1;32m----> 4\u001b[1;33m     \u001b[1;32mif\u001b[0m\u001b[1;33m(\u001b[0m\u001b[0mnp\u001b[0m\u001b[1;33m.\u001b[0m\u001b[0msum\u001b[0m\u001b[1;33m(\u001b[0m\u001b[0mregistro\u001b[0m\u001b[1;33m.\u001b[0m\u001b[0mCod\u001b[0m\u001b[1;33m.\u001b[0m\u001b[0mCurso\u001b[0m\u001b[1;33m.\u001b[0m\u001b[0mvalues\u001b[0m\u001b[1;33m==\u001b[0m\u001b[1;36m1\u001b[0m\u001b[1;33m)\u001b[0m\u001b[1;33m>=\u001b[0m\u001b[1;36m1\u001b[0m \u001b[1;32mand\u001b[0m \u001b[0mnp\u001b[0m\u001b[1;33m.\u001b[0m\u001b[0msum\u001b[0m\u001b[1;33m(\u001b[0m\u001b[0mregistro\u001b[0m\u001b[1;33m.\u001b[0m\u001b[0mCod\u001b[0m\u001b[1;33m.\u001b[0m\u001b[0mCurso\u001b[0m\u001b[1;33m.\u001b[0m\u001b[0mvalues\u001b[0m\u001b[1;33m==\u001b[0m\u001b[1;36m4\u001b[0m\u001b[1;33m)\u001b[0m\u001b[1;33m>=\u001b[0m\u001b[1;36m1\u001b[0m\u001b[1;33m)\u001b[0m\u001b[1;33m:\u001b[0m\u001b[1;33m\u001b[0m\u001b[1;33m\u001b[0m\u001b[0m\n\u001b[0m\u001b[0;32m      5\u001b[0m         \u001b[1;32mbreak\u001b[0m\u001b[1;33m\u001b[0m\u001b[1;33m\u001b[0m\u001b[0m\n\u001b[0;32m      6\u001b[0m \u001b[1;33m\u001b[0m\u001b[0m\n",
      "\u001b[1;32m~\\anaconda3\\lib\\site-packages\\pandas\\core\\generic.py\u001b[0m in \u001b[0;36m__getattr__\u001b[1;34m(self, name)\u001b[0m\n\u001b[0;32m   5463\u001b[0m             \u001b[1;32mif\u001b[0m \u001b[0mself\u001b[0m\u001b[1;33m.\u001b[0m\u001b[0m_info_axis\u001b[0m\u001b[1;33m.\u001b[0m\u001b[0m_can_hold_identifiers_and_holds_name\u001b[0m\u001b[1;33m(\u001b[0m\u001b[0mname\u001b[0m\u001b[1;33m)\u001b[0m\u001b[1;33m:\u001b[0m\u001b[1;33m\u001b[0m\u001b[1;33m\u001b[0m\u001b[0m\n\u001b[0;32m   5464\u001b[0m                 \u001b[1;32mreturn\u001b[0m \u001b[0mself\u001b[0m\u001b[1;33m[\u001b[0m\u001b[0mname\u001b[0m\u001b[1;33m]\u001b[0m\u001b[1;33m\u001b[0m\u001b[1;33m\u001b[0m\u001b[0m\n\u001b[1;32m-> 5465\u001b[1;33m             \u001b[1;32mreturn\u001b[0m \u001b[0mobject\u001b[0m\u001b[1;33m.\u001b[0m\u001b[0m__getattribute__\u001b[0m\u001b[1;33m(\u001b[0m\u001b[0mself\u001b[0m\u001b[1;33m,\u001b[0m \u001b[0mname\u001b[0m\u001b[1;33m)\u001b[0m\u001b[1;33m\u001b[0m\u001b[1;33m\u001b[0m\u001b[0m\n\u001b[0m\u001b[0;32m   5466\u001b[0m \u001b[1;33m\u001b[0m\u001b[0m\n\u001b[0;32m   5467\u001b[0m     \u001b[1;32mdef\u001b[0m \u001b[0m__setattr__\u001b[0m\u001b[1;33m(\u001b[0m\u001b[0mself\u001b[0m\u001b[1;33m,\u001b[0m \u001b[0mname\u001b[0m\u001b[1;33m:\u001b[0m \u001b[0mstr\u001b[0m\u001b[1;33m,\u001b[0m \u001b[0mvalue\u001b[0m\u001b[1;33m)\u001b[0m \u001b[1;33m->\u001b[0m \u001b[1;32mNone\u001b[0m\u001b[1;33m:\u001b[0m\u001b[1;33m\u001b[0m\u001b[1;33m\u001b[0m\u001b[0m\n",
      "\u001b[1;31mAttributeError\u001b[0m: 'DataFrame' object has no attribute 'Cod'"
     ]
    }
   ],
   "source": [
    "NuevosDatos=pd.DataFrame(columns=[\"id\",\"AnhoIni\",\"cicloIni\",\"AnhoFin\",\"cicloFin\"])\n",
    "for ides in estudiantes:\n",
    "    registro=carrera[carrera.id_anony.values==ides]\n",
    "    if(np.sum(registro[\"Cod.Curso\"].values==1)>=1 and np.sum(registro[\"Cod.Curso\"].values==4)>=1):\n",
    "        break\n",
    "    \n",
    "    \n",
    "    \n",
    "    \n",
    "    \n",
    "    "
   ]
  },
  {
   "cell_type": "code",
   "execution_count": 15,
   "id": "61badeb5-09e4-4f93-b992-0c727b402966",
   "metadata": {},
   "outputs": [
    {
     "data": {
      "text/html": [
       "<div>\n",
       "<style scoped>\n",
       "    .dataframe tbody tr th:only-of-type {\n",
       "        vertical-align: middle;\n",
       "    }\n",
       "\n",
       "    .dataframe tbody tr th {\n",
       "        vertical-align: top;\n",
       "    }\n",
       "\n",
       "    .dataframe thead th {\n",
       "        text-align: right;\n",
       "    }\n",
       "</style>\n",
       "<table border=\"1\" class=\"dataframe\">\n",
       "  <thead>\n",
       "    <tr style=\"text-align: right;\">\n",
       "      <th></th>\n",
       "      <th>Unnamed: 0</th>\n",
       "      <th>danho</th>\n",
       "      <th>ciclo</th>\n",
       "      <th>Cod.Asign</th>\n",
       "      <th>Asignatura</th>\n",
       "      <th>Cod.Car.Sec</th>\n",
       "      <th>Cod.Curso</th>\n",
       "      <th>Convocatoria</th>\n",
       "      <th>Anho</th>\n",
       "      <th>Semestre</th>\n",
       "      <th>...</th>\n",
       "      <th>Segundo.Par</th>\n",
       "      <th>AOT</th>\n",
       "      <th>Primer.Rec</th>\n",
       "      <th>Segundo.Rec</th>\n",
       "      <th>Nota.Final</th>\n",
       "      <th>Tercer.Par</th>\n",
       "      <th>Asis</th>\n",
       "      <th>Cuarto.Par</th>\n",
       "      <th>4P_60</th>\n",
       "      <th>id_anony</th>\n",
       "    </tr>\n",
       "  </thead>\n",
       "  <tbody>\n",
       "    <tr>\n",
       "      <th>4822</th>\n",
       "      <td>4822</td>\n",
       "      <td>2012</td>\n",
       "      <td>1</td>\n",
       "      <td>5722</td>\n",
       "      <td>NOCIONES DE DERECHO</td>\n",
       "      <td>MCT-PLS09</td>\n",
       "      <td>10</td>\n",
       "      <td>1</td>\n",
       "      <td>2012</td>\n",
       "      <td>1</td>\n",
       "      <td>...</td>\n",
       "      <td>27</td>\n",
       "      <td>10</td>\n",
       "      <td>0</td>\n",
       "      <td>0</td>\n",
       "      <td>1F-3</td>\n",
       "      <td>0.0</td>\n",
       "      <td>1.0</td>\n",
       "      <td>NaN</td>\n",
       "      <td>NaN</td>\n",
       "      <td>es_0</td>\n",
       "    </tr>\n",
       "  </tbody>\n",
       "</table>\n",
       "<p>1 rows × 23 columns</p>\n",
       "</div>"
      ],
      "text/plain": [
       "     Unnamed: 0 danho ciclo Cod.Asign           Asignatura Cod.Car.Sec  \\\n",
       "4822       4822  2012     1      5722  NOCIONES DE DERECHO  MCT-PLS09    \n",
       "\n",
       "     Cod.Curso Convocatoria  Anho Semestre  ... Segundo.Par AOT Primer.Rec  \\\n",
       "4822        10            1  2012        1  ...          27  10          0   \n",
       "\n",
       "     Segundo.Rec Nota.Final Tercer.Par Asis Cuarto.Par  4P_60  id_anony  \n",
       "4822           0       1F-3        0.0  1.0        NaN    NaN      es_0  \n",
       "\n",
       "[1 rows x 23 columns]"
      ]
     },
     "execution_count": 15,
     "metadata": {},
     "output_type": "execute_result"
    }
   ],
   "source": [
    "registro"
   ]
  },
  {
   "cell_type": "code",
   "execution_count": null,
   "id": "0ef2de85-af54-499f-b850-dda6e7fee351",
   "metadata": {},
   "outputs": [],
   "source": []
  },
  {
   "cell_type": "code",
   "execution_count": null,
   "id": "90471730-d511-4e72-a0fc-7bba58186885",
   "metadata": {},
   "outputs": [],
   "source": []
  },
  {
   "cell_type": "code",
   "execution_count": 48,
   "id": "foster-philippines",
   "metadata": {},
   "outputs": [],
   "source": [
    "flagPasaron=np.logical_and(carrera.Asignatura.values==\"CALCULO 1\", carrera[\"Aprobado\"]==\"S\")\n",
    "carreraP=carrera[flagPasaron]"
   ]
  },
  {
   "cell_type": "code",
   "execution_count": 49,
   "id": "nonprofit-brand",
   "metadata": {},
   "outputs": [
    {
     "name": "stdout",
     "output_type": "stream",
     "text": [
      "<class 'pandas.core.frame.DataFrame'>\n",
      "Int64Index: 349 entries, 13940 to 193704\n",
      "Data columns (total 23 columns):\n",
      " #   Column        Non-Null Count  Dtype  \n",
      "---  ------        --------------  -----  \n",
      " 0   Unnamed: 0    349 non-null    object \n",
      " 1   danho         349 non-null    object \n",
      " 2   ciclo         349 non-null    object \n",
      " 3   Cod.Asign     349 non-null    object \n",
      " 4   Asignatura    349 non-null    object \n",
      " 5   Cod.Car.Sec   349 non-null    object \n",
      " 6   Cod.Curso     349 non-null    object \n",
      " 7   Convocatoria  349 non-null    object \n",
      " 8   Anho          349 non-null    object \n",
      " 9   Semestre      349 non-null    object \n",
      " 10  Aprobado      349 non-null    object \n",
      " 11  Anho.Firma    349 non-null    object \n",
      " 12  Primer.Par    349 non-null    object \n",
      " 13  Segundo.Par   349 non-null    object \n",
      " 14  AOT           349 non-null    object \n",
      " 15  Primer.Rec    349 non-null    object \n",
      " 16  Segundo.Rec   349 non-null    object \n",
      " 17  Nota.Final    349 non-null    object \n",
      " 18  Tercer.Par    349 non-null    float64\n",
      " 19  Asis          349 non-null    float64\n",
      " 20  Cuarto.Par    37 non-null     float64\n",
      " 21  4P_60         37 non-null     float64\n",
      " 22  id_anony      349 non-null    object \n",
      "dtypes: float64(4), object(19)\n",
      "memory usage: 65.4+ KB\n"
     ]
    }
   ],
   "source": [
    "carreraP.info()"
   ]
  },
  {
   "cell_type": "code",
   "execution_count": 50,
   "id": "electric-elizabeth",
   "metadata": {},
   "outputs": [],
   "source": [
    "flagFirma2011=carreraP[\"Anho.Firma\"]==2011\n",
    "\n",
    "carreraPL=carreraP[~flagFirma2011]"
   ]
  },
  {
   "cell_type": "code",
   "execution_count": 51,
   "id": "confused-slovenia",
   "metadata": {},
   "outputs": [
    {
     "name": "stdout",
     "output_type": "stream",
     "text": [
      "<class 'pandas.core.frame.DataFrame'>\n",
      "Int64Index: 348 entries, 13940 to 193704\n",
      "Data columns (total 23 columns):\n",
      " #   Column        Non-Null Count  Dtype  \n",
      "---  ------        --------------  -----  \n",
      " 0   Unnamed: 0    348 non-null    object \n",
      " 1   danho         348 non-null    object \n",
      " 2   ciclo         348 non-null    object \n",
      " 3   Cod.Asign     348 non-null    object \n",
      " 4   Asignatura    348 non-null    object \n",
      " 5   Cod.Car.Sec   348 non-null    object \n",
      " 6   Cod.Curso     348 non-null    object \n",
      " 7   Convocatoria  348 non-null    object \n",
      " 8   Anho          348 non-null    object \n",
      " 9   Semestre      348 non-null    object \n",
      " 10  Aprobado      348 non-null    object \n",
      " 11  Anho.Firma    348 non-null    object \n",
      " 12  Primer.Par    348 non-null    object \n",
      " 13  Segundo.Par   348 non-null    object \n",
      " 14  AOT           348 non-null    object \n",
      " 15  Primer.Rec    348 non-null    object \n",
      " 16  Segundo.Rec   348 non-null    object \n",
      " 17  Nota.Final    348 non-null    object \n",
      " 18  Tercer.Par    348 non-null    float64\n",
      " 19  Asis          348 non-null    float64\n",
      " 20  Cuarto.Par    37 non-null     float64\n",
      " 21  4P_60         37 non-null     float64\n",
      " 22  id_anony      348 non-null    object \n",
      "dtypes: float64(4), object(19)\n",
      "memory usage: 65.2+ KB\n"
     ]
    }
   ],
   "source": [
    "carreraPL.info()"
   ]
  },
  {
   "cell_type": "code",
   "execution_count": 53,
   "id": "unable-registration",
   "metadata": {},
   "outputs": [
    {
     "name": "stdout",
     "output_type": "stream",
     "text": [
      "<class 'pandas.core.frame.DataFrame'>\n",
      "Int64Index: 425 entries, 13943 to 207709\n",
      "Data columns (total 23 columns):\n",
      " #   Column        Non-Null Count  Dtype  \n",
      "---  ------        --------------  -----  \n",
      " 0   Unnamed: 0    425 non-null    object \n",
      " 1   danho         425 non-null    object \n",
      " 2   ciclo         425 non-null    object \n",
      " 3   Cod.Asign     425 non-null    object \n",
      " 4   Asignatura    425 non-null    object \n",
      " 5   Cod.Car.Sec   425 non-null    object \n",
      " 6   Cod.Curso     425 non-null    object \n",
      " 7   Convocatoria  425 non-null    object \n",
      " 8   Anho          425 non-null    object \n",
      " 9   Semestre      425 non-null    object \n",
      " 10  Aprobado      425 non-null    object \n",
      " 11  Anho.Firma    425 non-null    object \n",
      " 12  Primer.Par    425 non-null    object \n",
      " 13  Segundo.Par   425 non-null    object \n",
      " 14  AOT           425 non-null    object \n",
      " 15  Primer.Rec    425 non-null    object \n",
      " 16  Segundo.Rec   425 non-null    object \n",
      " 17  Nota.Final    96 non-null     object \n",
      " 18  Tercer.Par    425 non-null    float64\n",
      " 19  Asis          425 non-null    float64\n",
      " 20  Cuarto.Par    95 non-null     float64\n",
      " 21  4P_60         95 non-null     float64\n",
      " 22  id_anony      425 non-null    object \n",
      "dtypes: float64(4), object(19)\n",
      "memory usage: 79.7+ KB\n"
     ]
    }
   ],
   "source": [
    "flagNoPasaron=np.logical_and(carrera.Asignatura.values==\"CALCULO 1\",carrera[\"Aprobado\"]==\"N\")\n",
    "carreraNP=carrera[flagNoPasaron]\n",
    "carreraNP.info()"
   ]
  },
  {
   "cell_type": "code",
   "execution_count": 54,
   "id": "aerial-driver",
   "metadata": {},
   "outputs": [
    {
     "data": {
      "text/html": [
       "<div>\n",
       "<style scoped>\n",
       "    .dataframe tbody tr th:only-of-type {\n",
       "        vertical-align: middle;\n",
       "    }\n",
       "\n",
       "    .dataframe tbody tr th {\n",
       "        vertical-align: top;\n",
       "    }\n",
       "\n",
       "    .dataframe thead th {\n",
       "        text-align: right;\n",
       "    }\n",
       "</style>\n",
       "<table border=\"1\" class=\"dataframe\">\n",
       "  <thead>\n",
       "    <tr style=\"text-align: right;\">\n",
       "      <th></th>\n",
       "      <th>Unnamed: 0</th>\n",
       "      <th>danho</th>\n",
       "      <th>ciclo</th>\n",
       "      <th>Cod.Asign</th>\n",
       "      <th>Asignatura</th>\n",
       "      <th>Cod.Car.Sec</th>\n",
       "      <th>Cod.Curso</th>\n",
       "      <th>Convocatoria</th>\n",
       "      <th>Anho</th>\n",
       "      <th>Semestre</th>\n",
       "      <th>...</th>\n",
       "      <th>Segundo.Par</th>\n",
       "      <th>AOT</th>\n",
       "      <th>Primer.Rec</th>\n",
       "      <th>Segundo.Rec</th>\n",
       "      <th>Nota.Final</th>\n",
       "      <th>Tercer.Par</th>\n",
       "      <th>Asis</th>\n",
       "      <th>Cuarto.Par</th>\n",
       "      <th>4P_60</th>\n",
       "      <th>id_anony</th>\n",
       "    </tr>\n",
       "  </thead>\n",
       "  <tbody>\n",
       "    <tr>\n",
       "      <th>13943</th>\n",
       "      <td>6503</td>\n",
       "      <td>2012</td>\n",
       "      <td>2</td>\n",
       "      <td>9001</td>\n",
       "      <td>CALCULO 1</td>\n",
       "      <td>MCT-PLS09</td>\n",
       "      <td>1</td>\n",
       "      <td>1</td>\n",
       "      <td>2012</td>\n",
       "      <td>2</td>\n",
       "      <td>...</td>\n",
       "      <td>6</td>\n",
       "      <td>1</td>\n",
       "      <td>0</td>\n",
       "      <td>0</td>\n",
       "      <td>NaN</td>\n",
       "      <td>0.0</td>\n",
       "      <td>1.0</td>\n",
       "      <td>NaN</td>\n",
       "      <td>NaN</td>\n",
       "      <td>es_2833</td>\n",
       "    </tr>\n",
       "    <tr>\n",
       "      <th>13950</th>\n",
       "      <td>6510</td>\n",
       "      <td>2012</td>\n",
       "      <td>2</td>\n",
       "      <td>9001</td>\n",
       "      <td>CALCULO 1</td>\n",
       "      <td>MCT-PLS09</td>\n",
       "      <td>1</td>\n",
       "      <td>1</td>\n",
       "      <td>2012</td>\n",
       "      <td>2</td>\n",
       "      <td>...</td>\n",
       "      <td>6</td>\n",
       "      <td>3</td>\n",
       "      <td>0</td>\n",
       "      <td>0</td>\n",
       "      <td>NaN</td>\n",
       "      <td>0.0</td>\n",
       "      <td>1.0</td>\n",
       "      <td>NaN</td>\n",
       "      <td>NaN</td>\n",
       "      <td>es_2838</td>\n",
       "    </tr>\n",
       "    <tr>\n",
       "      <th>13960</th>\n",
       "      <td>6520</td>\n",
       "      <td>2012</td>\n",
       "      <td>2</td>\n",
       "      <td>9001</td>\n",
       "      <td>CALCULO 1</td>\n",
       "      <td>MCT-PLS09</td>\n",
       "      <td>1</td>\n",
       "      <td>1</td>\n",
       "      <td>2012</td>\n",
       "      <td>2</td>\n",
       "      <td>...</td>\n",
       "      <td>18</td>\n",
       "      <td>4</td>\n",
       "      <td>0</td>\n",
       "      <td>0</td>\n",
       "      <td>1F-1,2F-1</td>\n",
       "      <td>0.0</td>\n",
       "      <td>1.0</td>\n",
       "      <td>NaN</td>\n",
       "      <td>NaN</td>\n",
       "      <td>es_2845</td>\n",
       "    </tr>\n",
       "    <tr>\n",
       "      <th>14051</th>\n",
       "      <td>6611</td>\n",
       "      <td>2012</td>\n",
       "      <td>2</td>\n",
       "      <td>9001</td>\n",
       "      <td>CALCULO 1</td>\n",
       "      <td>MCT-PLS09</td>\n",
       "      <td>1</td>\n",
       "      <td>1</td>\n",
       "      <td>2012</td>\n",
       "      <td>2</td>\n",
       "      <td>...</td>\n",
       "      <td>7</td>\n",
       "      <td>2</td>\n",
       "      <td>0</td>\n",
       "      <td>0</td>\n",
       "      <td>NaN</td>\n",
       "      <td>0.0</td>\n",
       "      <td>1.0</td>\n",
       "      <td>NaN</td>\n",
       "      <td>NaN</td>\n",
       "      <td>es_2922</td>\n",
       "    </tr>\n",
       "    <tr>\n",
       "      <th>14078</th>\n",
       "      <td>6638</td>\n",
       "      <td>2012</td>\n",
       "      <td>2</td>\n",
       "      <td>9001</td>\n",
       "      <td>CALCULO 1</td>\n",
       "      <td>MCT-PLS09</td>\n",
       "      <td>1</td>\n",
       "      <td>1</td>\n",
       "      <td>2012</td>\n",
       "      <td>2</td>\n",
       "      <td>...</td>\n",
       "      <td>19</td>\n",
       "      <td>2</td>\n",
       "      <td>0</td>\n",
       "      <td>0</td>\n",
       "      <td>NaN</td>\n",
       "      <td>0.0</td>\n",
       "      <td>1.0</td>\n",
       "      <td>NaN</td>\n",
       "      <td>NaN</td>\n",
       "      <td>es_2944</td>\n",
       "    </tr>\n",
       "  </tbody>\n",
       "</table>\n",
       "<p>5 rows × 23 columns</p>\n",
       "</div>"
      ],
      "text/plain": [
       "      Unnamed: 0 danho ciclo Cod.Asign Asignatura Cod.Car.Sec Cod.Curso  \\\n",
       "13943       6503  2012     2      9001  CALCULO 1  MCT-PLS09          1   \n",
       "13950       6510  2012     2      9001  CALCULO 1  MCT-PLS09          1   \n",
       "13960       6520  2012     2      9001  CALCULO 1  MCT-PLS09          1   \n",
       "14051       6611  2012     2      9001  CALCULO 1  MCT-PLS09          1   \n",
       "14078       6638  2012     2      9001  CALCULO 1  MCT-PLS09          1   \n",
       "\n",
       "      Convocatoria  Anho Semestre  ... Segundo.Par AOT Primer.Rec Segundo.Rec  \\\n",
       "13943            1  2012        2  ...           6   1          0           0   \n",
       "13950            1  2012        2  ...           6   3          0           0   \n",
       "13960            1  2012        2  ...          18   4          0           0   \n",
       "14051            1  2012        2  ...           7   2          0           0   \n",
       "14078            1  2012        2  ...          19   2          0           0   \n",
       "\n",
       "      Nota.Final Tercer.Par Asis Cuarto.Par  4P_60  id_anony  \n",
       "13943        NaN        0.0  1.0        NaN    NaN   es_2833  \n",
       "13950        NaN        0.0  1.0        NaN    NaN   es_2838  \n",
       "13960  1F-1,2F-1        0.0  1.0        NaN    NaN   es_2845  \n",
       "14051        NaN        0.0  1.0        NaN    NaN   es_2922  \n",
       "14078        NaN        0.0  1.0        NaN    NaN   es_2944  \n",
       "\n",
       "[5 rows x 23 columns]"
      ]
     },
     "execution_count": 54,
     "metadata": {},
     "output_type": "execute_result"
    }
   ],
   "source": [
    "carreraNP.head()"
   ]
  },
  {
   "cell_type": "code",
   "execution_count": 58,
   "id": "increasing-estate",
   "metadata": {},
   "outputs": [],
   "source": [
    "carreraPLN=pd.merge(carreraPL, carreraNP, on=['id_anony'], how='right')\n"
   ]
  },
  {
   "cell_type": "code",
   "execution_count": 61,
   "id": "soviet-designer",
   "metadata": {},
   "outputs": [
    {
     "name": "stdout",
     "output_type": "stream",
     "text": [
      "<class 'pandas.core.frame.DataFrame'>\n",
      "Int64Index: 427 entries, 0 to 426\n",
      "Data columns (total 45 columns):\n",
      " #   Column          Non-Null Count  Dtype  \n",
      "---  ------          --------------  -----  \n",
      " 0   Unnamed: 0_x    72 non-null     object \n",
      " 1   danho_x         72 non-null     object \n",
      " 2   ciclo_x         72 non-null     object \n",
      " 3   Cod.Asign_x     72 non-null     object \n",
      " 4   Asignatura_x    72 non-null     object \n",
      " 5   Cod.Car.Sec_x   72 non-null     object \n",
      " 6   Cod.Curso_x     72 non-null     object \n",
      " 7   Convocatoria_x  72 non-null     object \n",
      " 8   Anho_x          72 non-null     object \n",
      " 9   Semestre_x      72 non-null     object \n",
      " 10  Aprobado_x      72 non-null     object \n",
      " 11  Anho.Firma_x    72 non-null     object \n",
      " 12  Primer.Par_x    72 non-null     object \n",
      " 13  Segundo.Par_x   72 non-null     object \n",
      " 14  AOT_x           72 non-null     object \n",
      " 15  Primer.Rec_x    72 non-null     object \n",
      " 16  Segundo.Rec_x   72 non-null     object \n",
      " 17  Nota.Final_x    72 non-null     object \n",
      " 18  Tercer.Par_x    72 non-null     float64\n",
      " 19  Asis_x          72 non-null     float64\n",
      " 20  Cuarto.Par_x    22 non-null     float64\n",
      " 21  4P_60_x         22 non-null     float64\n",
      " 22  id_anony        427 non-null    object \n",
      " 23  Unnamed: 0_y    427 non-null    object \n",
      " 24  danho_y         427 non-null    object \n",
      " 25  ciclo_y         427 non-null    object \n",
      " 26  Cod.Asign_y     427 non-null    object \n",
      " 27  Asignatura_y    427 non-null    object \n",
      " 28  Cod.Car.Sec_y   427 non-null    object \n",
      " 29  Cod.Curso_y     427 non-null    object \n",
      " 30  Convocatoria_y  427 non-null    object \n",
      " 31  Anho_y          427 non-null    object \n",
      " 32  Semestre_y      427 non-null    object \n",
      " 33  Aprobado_y      427 non-null    object \n",
      " 34  Anho.Firma_y    427 non-null    object \n",
      " 35  Primer.Par_y    427 non-null    object \n",
      " 36  Segundo.Par_y   427 non-null    object \n",
      " 37  AOT_y           427 non-null    object \n",
      " 38  Primer.Rec_y    427 non-null    object \n",
      " 39  Segundo.Rec_y   427 non-null    object \n",
      " 40  Nota.Final_y    97 non-null     object \n",
      " 41  Tercer.Par_y    427 non-null    float64\n",
      " 42  Asis_y          427 non-null    float64\n",
      " 43  Cuarto.Par_y    95 non-null     float64\n",
      " 44  4P_60_y         95 non-null     float64\n",
      "dtypes: float64(8), object(37)\n",
      "memory usage: 153.5+ KB\n"
     ]
    }
   ],
   "source": [
    "carreraPLN.info()"
   ]
  },
  {
   "cell_type": "code",
   "execution_count": 64,
   "id": "cloudy-share",
   "metadata": {},
   "outputs": [
    {
     "data": {
      "text/plain": [
       "array([[nan, 'N'],\n",
       "       ['S', 'N'],\n",
       "       ['S', 'N'],\n",
       "       [nan, 'N'],\n",
       "       [nan, 'N'],\n",
       "       [nan, 'N'],\n",
       "       ['S', 'N'],\n",
       "       ['S', 'N'],\n",
       "       ['S', 'N'],\n",
       "       ['S', 'N']], dtype=object)"
      ]
     },
     "execution_count": 64,
     "metadata": {},
     "output_type": "execute_result"
    }
   ],
   "source": [
    "carreraPLN[[\"Aprobado_x\",\"Aprobado_y\"]].values[0:10]"
   ]
  },
  {
   "cell_type": "code",
   "execution_count": 18,
   "id": "found-fisher",
   "metadata": {},
   "outputs": [
    {
     "name": "stdout",
     "output_type": "stream",
     "text": [
      "2633\n",
      "2519\n",
      "2495\n"
     ]
    }
   ],
   "source": [
    "for asig in asignaturas:\n",
    "    flag=lectura.Asignatura.values==asig\n",
    "    print(np.sum(lectura[\"Aprobado\"][flag]==\"S\"))\n",
    "    \n",
    "    "
   ]
  },
  {
   "cell_type": "code",
   "execution_count": null,
   "id": "abstract-journal",
   "metadata": {},
   "outputs": [],
   "source": []
  }
 ],
 "metadata": {
  "kernelspec": {
   "display_name": "Python 3",
   "language": "python",
   "name": "python3"
  },
  "language_info": {
   "codemirror_mode": {
    "name": "ipython",
    "version": 3
   },
   "file_extension": ".py",
   "mimetype": "text/x-python",
   "name": "python",
   "nbconvert_exporter": "python",
   "pygments_lexer": "ipython3",
   "version": "3.8.8"
  }
 },
 "nbformat": 4,
 "nbformat_minor": 5
}
