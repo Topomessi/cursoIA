{
 "cells": [
  {
   "cell_type": "code",
   "execution_count": 8,
   "id": "historic-metropolitan",
   "metadata": {},
   "outputs": [],
   "source": [
    "import os\n",
    "import pandas as pd\n",
    "import numpy as np\n",
    "import matplotlib.pyplot as plt"
   ]
  },
  {
   "cell_type": "code",
   "execution_count": 9,
   "id": "radio-continent",
   "metadata": {},
   "outputs": [],
   "source": [
    "lectura= pd.read_csv(\"datos\\datosConcatenados.csv\")"
   ]
  },
  {
   "cell_type": "code",
   "execution_count": 10,
   "id": "religious-comment",
   "metadata": {},
   "outputs": [
    {
     "name": "stdout",
     "output_type": "stream",
     "text": [
      "<class 'pandas.core.frame.DataFrame'>\n",
      "RangeIndex: 221921 entries, 0 to 221920\n",
      "Data columns (total 23 columns):\n",
      " #   Column        Non-Null Count   Dtype  \n",
      "---  ------        --------------   -----  \n",
      " 0   Unnamed: 0    221921 non-null  int64  \n",
      " 1   danho         221921 non-null  int64  \n",
      " 2   ciclo         221921 non-null  int64  \n",
      " 3   Cod.Asign     221921 non-null  int64  \n",
      " 4   Asignatura    221921 non-null  object \n",
      " 5   Cod.Car.Sec   221921 non-null  object \n",
      " 6   Cod.Curso     221921 non-null  int64  \n",
      " 7   Convocatoria  221921 non-null  int64  \n",
      " 8   Anho          221921 non-null  int64  \n",
      " 9   Semestre      221921 non-null  int64  \n",
      " 10  Aprobado      221921 non-null  object \n",
      " 11  Anho.Firma    221921 non-null  int64  \n",
      " 12  Primer.Par    221921 non-null  int64  \n",
      " 13  Segundo.Par   221921 non-null  int64  \n",
      " 14  AOT           221921 non-null  int64  \n",
      " 15  Primer.Rec    221921 non-null  int64  \n",
      " 16  Segundo.Rec   221921 non-null  int64  \n",
      " 17  Nota.Final    137115 non-null  object \n",
      " 18  Tercer.Par    221921 non-null  float64\n",
      " 19  Asis          221921 non-null  float64\n",
      " 20  Cuarto.Par    28045 non-null   float64\n",
      " 21  4P_60         28045 non-null   float64\n",
      " 22  id_anony      221921 non-null  object \n",
      "dtypes: float64(4), int64(14), object(5)\n",
      "memory usage: 38.9+ MB\n"
     ]
    }
   ],
   "source": [
    "lectura.info()"
   ]
  },
  {
   "cell_type": "code",
   "execution_count": 14,
   "id": "international-tampa",
   "metadata": {},
   "outputs": [],
   "source": [
    "flag=lectura[\"Asignatura\"]==\"CALCULO 1\"\n"
   ]
  },
  {
   "cell_type": "code",
   "execution_count": 27,
   "id": "junior-invention",
   "metadata": {},
   "outputs": [
    {
     "data": {
      "text/plain": [
       "array(['CGF-175-09', 'CGF-PLS09 ', 'CGF-PLS13 ', 'CIV-175-09',\n",
       "       'CIV-PLS09 ', 'CIV-PLS13 ', 'ECA-175-09', 'ECA-PLS09 ',\n",
       "       'ECA-PLS13 ', 'ECA9-OPT  ', 'ELE-175-09', 'ELE-PLS09 ',\n",
       "       'ELE-PLS13 ', 'IND-175-09', 'IND-PLS09 ', 'IND-PLS13 ',\n",
       "       'INT9-PROYT', 'INT9CONSTR', 'INT9ELECTR', 'INT9G-ECO ',\n",
       "       'INT9MECANI', 'INT9ORTERR', 'INT9RNYMA ', 'INT9SANEHI',\n",
       "       'INT9SDIGYT', 'INT9TRANSP', 'MCT-175-09', 'MCT-PLS09 ',\n",
       "       'MCT-PLS13 ', 'MCT9-OPT  ', 'MEC-175-09', 'MEC-PLS09 ',\n",
       "       'MEC-PLS13 ', 'MEC9-OPT  ', 'TIVAS     '], dtype=object)"
      ]
     },
     "execution_count": 27,
     "metadata": {},
     "output_type": "execute_result"
    }
   ],
   "source": [
    "np.unique(lectura[\"Cod.Car.Sec\"])"
   ]
  },
  {
   "cell_type": "code",
   "execution_count": 19,
   "id": "yellow-rover",
   "metadata": {},
   "outputs": [],
   "source": [
    "#np.unique(lectura[\"Asignatura\"])"
   ]
  },
  {
   "cell_type": "code",
   "execution_count": 29,
   "id": "colored-judge",
   "metadata": {},
   "outputs": [
    {
     "data": {
      "text/plain": [
       "'Unnamed: 0'"
      ]
     },
     "execution_count": 29,
     "metadata": {},
     "output_type": "execute_result"
    }
   ],
   "source": []
  },
  {
   "cell_type": "code",
   "execution_count": 47,
   "id": "gorgeous-maple",
   "metadata": {},
   "outputs": [],
   "source": [
    "carrera=pd.DataFrame(columns=lectura.columns)\n",
    "for car in ['MCT-175-09', 'MCT-PLS09 ','MCT-PLS13 ', 'MCT9-OPT  ']:\n",
    "     carrera=pd.concat([carrera, lectura[lectura[\"Cod.Car.Sec\"]==car]], axis=0)\n"
   ]
  },
  {
   "cell_type": "code",
   "execution_count": 32,
   "id": "fabulous-wilderness",
   "metadata": {},
   "outputs": [
    {
     "data": {
      "text/plain": [
       "array(['MCT-175-09', 'MCT-PLS09 ', 'MCT-PLS13 ', 'MCT9-OPT  '],\n",
       "      dtype=object)"
      ]
     },
     "execution_count": 32,
     "metadata": {},
     "output_type": "execute_result"
    }
   ],
   "source": [
    "np.unique(carrera[\"Cod.Car.Sec\"])"
   ]
  },
  {
   "cell_type": "code",
   "execution_count": null,
   "id": "neutral-sussex",
   "metadata": {},
   "outputs": [],
   "source": [
    "NuevosDatos=pd.DataFrame(columns=[\"id\",\"AnhoIni\",\"cicloIni\",\"AnhoFin\",\"cicloFin\"])\n"
   ]
  },
  {
   "cell_type": "code",
   "execution_count": 48,
   "id": "foster-philippines",
   "metadata": {},
   "outputs": [],
   "source": [
    "flagPasaron=np.logical_and(carrera.Asignatura.values==\"CALCULO 1\", carrera[\"Aprobado\"]==\"S\")\n",
    "carreraP=carrera[flagPasaron]"
   ]
  },
  {
   "cell_type": "code",
   "execution_count": 49,
   "id": "nonprofit-brand",
   "metadata": {},
   "outputs": [
    {
     "name": "stdout",
     "output_type": "stream",
     "text": [
      "<class 'pandas.core.frame.DataFrame'>\n",
      "Int64Index: 349 entries, 13940 to 193704\n",
      "Data columns (total 23 columns):\n",
      " #   Column        Non-Null Count  Dtype  \n",
      "---  ------        --------------  -----  \n",
      " 0   Unnamed: 0    349 non-null    object \n",
      " 1   danho         349 non-null    object \n",
      " 2   ciclo         349 non-null    object \n",
      " 3   Cod.Asign     349 non-null    object \n",
      " 4   Asignatura    349 non-null    object \n",
      " 5   Cod.Car.Sec   349 non-null    object \n",
      " 6   Cod.Curso     349 non-null    object \n",
      " 7   Convocatoria  349 non-null    object \n",
      " 8   Anho          349 non-null    object \n",
      " 9   Semestre      349 non-null    object \n",
      " 10  Aprobado      349 non-null    object \n",
      " 11  Anho.Firma    349 non-null    object \n",
      " 12  Primer.Par    349 non-null    object \n",
      " 13  Segundo.Par   349 non-null    object \n",
      " 14  AOT           349 non-null    object \n",
      " 15  Primer.Rec    349 non-null    object \n",
      " 16  Segundo.Rec   349 non-null    object \n",
      " 17  Nota.Final    349 non-null    object \n",
      " 18  Tercer.Par    349 non-null    float64\n",
      " 19  Asis          349 non-null    float64\n",
      " 20  Cuarto.Par    37 non-null     float64\n",
      " 21  4P_60         37 non-null     float64\n",
      " 22  id_anony      349 non-null    object \n",
      "dtypes: float64(4), object(19)\n",
      "memory usage: 65.4+ KB\n"
     ]
    }
   ],
   "source": [
    "carreraP.info()"
   ]
  },
  {
   "cell_type": "code",
   "execution_count": 50,
   "id": "electric-elizabeth",
   "metadata": {},
   "outputs": [],
   "source": [
    "flagFirma2011=carreraP[\"Anho.Firma\"]==2011\n",
    "\n",
    "carreraPL=carreraP[~flagFirma2011]"
   ]
  },
  {
   "cell_type": "code",
   "execution_count": 51,
   "id": "confused-slovenia",
   "metadata": {},
   "outputs": [
    {
     "name": "stdout",
     "output_type": "stream",
     "text": [
      "<class 'pandas.core.frame.DataFrame'>\n",
      "Int64Index: 348 entries, 13940 to 193704\n",
      "Data columns (total 23 columns):\n",
      " #   Column        Non-Null Count  Dtype  \n",
      "---  ------        --------------  -----  \n",
      " 0   Unnamed: 0    348 non-null    object \n",
      " 1   danho         348 non-null    object \n",
      " 2   ciclo         348 non-null    object \n",
      " 3   Cod.Asign     348 non-null    object \n",
      " 4   Asignatura    348 non-null    object \n",
      " 5   Cod.Car.Sec   348 non-null    object \n",
      " 6   Cod.Curso     348 non-null    object \n",
      " 7   Convocatoria  348 non-null    object \n",
      " 8   Anho          348 non-null    object \n",
      " 9   Semestre      348 non-null    object \n",
      " 10  Aprobado      348 non-null    object \n",
      " 11  Anho.Firma    348 non-null    object \n",
      " 12  Primer.Par    348 non-null    object \n",
      " 13  Segundo.Par   348 non-null    object \n",
      " 14  AOT           348 non-null    object \n",
      " 15  Primer.Rec    348 non-null    object \n",
      " 16  Segundo.Rec   348 non-null    object \n",
      " 17  Nota.Final    348 non-null    object \n",
      " 18  Tercer.Par    348 non-null    float64\n",
      " 19  Asis          348 non-null    float64\n",
      " 20  Cuarto.Par    37 non-null     float64\n",
      " 21  4P_60         37 non-null     float64\n",
      " 22  id_anony      348 non-null    object \n",
      "dtypes: float64(4), object(19)\n",
      "memory usage: 65.2+ KB\n"
     ]
    }
   ],
   "source": [
    "carreraPL.info()"
   ]
  },
  {
   "cell_type": "code",
   "execution_count": 53,
   "id": "unable-registration",
   "metadata": {},
   "outputs": [
    {
     "name": "stdout",
     "output_type": "stream",
     "text": [
      "<class 'pandas.core.frame.DataFrame'>\n",
      "Int64Index: 425 entries, 13943 to 207709\n",
      "Data columns (total 23 columns):\n",
      " #   Column        Non-Null Count  Dtype  \n",
      "---  ------        --------------  -----  \n",
      " 0   Unnamed: 0    425 non-null    object \n",
      " 1   danho         425 non-null    object \n",
      " 2   ciclo         425 non-null    object \n",
      " 3   Cod.Asign     425 non-null    object \n",
      " 4   Asignatura    425 non-null    object \n",
      " 5   Cod.Car.Sec   425 non-null    object \n",
      " 6   Cod.Curso     425 non-null    object \n",
      " 7   Convocatoria  425 non-null    object \n",
      " 8   Anho          425 non-null    object \n",
      " 9   Semestre      425 non-null    object \n",
      " 10  Aprobado      425 non-null    object \n",
      " 11  Anho.Firma    425 non-null    object \n",
      " 12  Primer.Par    425 non-null    object \n",
      " 13  Segundo.Par   425 non-null    object \n",
      " 14  AOT           425 non-null    object \n",
      " 15  Primer.Rec    425 non-null    object \n",
      " 16  Segundo.Rec   425 non-null    object \n",
      " 17  Nota.Final    96 non-null     object \n",
      " 18  Tercer.Par    425 non-null    float64\n",
      " 19  Asis          425 non-null    float64\n",
      " 20  Cuarto.Par    95 non-null     float64\n",
      " 21  4P_60         95 non-null     float64\n",
      " 22  id_anony      425 non-null    object \n",
      "dtypes: float64(4), object(19)\n",
      "memory usage: 79.7+ KB\n"
     ]
    }
   ],
   "source": [
    "flagNoPasaron=np.logical_and(carrera.Asignatura.values==\"CALCULO 1\",carrera[\"Aprobado\"]==\"N\")\n",
    "carreraNP=carrera[flagNoPasaron]\n",
    "carreraNP.info()"
   ]
  },
  {
   "cell_type": "code",
   "execution_count": 54,
   "id": "aerial-driver",
   "metadata": {},
   "outputs": [
    {
     "data": {
      "text/html": [
       "<div>\n",
       "<style scoped>\n",
       "    .dataframe tbody tr th:only-of-type {\n",
       "        vertical-align: middle;\n",
       "    }\n",
       "\n",
       "    .dataframe tbody tr th {\n",
       "        vertical-align: top;\n",
       "    }\n",
       "\n",
       "    .dataframe thead th {\n",
       "        text-align: right;\n",
       "    }\n",
       "</style>\n",
       "<table border=\"1\" class=\"dataframe\">\n",
       "  <thead>\n",
       "    <tr style=\"text-align: right;\">\n",
       "      <th></th>\n",
       "      <th>Unnamed: 0</th>\n",
       "      <th>danho</th>\n",
       "      <th>ciclo</th>\n",
       "      <th>Cod.Asign</th>\n",
       "      <th>Asignatura</th>\n",
       "      <th>Cod.Car.Sec</th>\n",
       "      <th>Cod.Curso</th>\n",
       "      <th>Convocatoria</th>\n",
       "      <th>Anho</th>\n",
       "      <th>Semestre</th>\n",
       "      <th>...</th>\n",
       "      <th>Segundo.Par</th>\n",
       "      <th>AOT</th>\n",
       "      <th>Primer.Rec</th>\n",
       "      <th>Segundo.Rec</th>\n",
       "      <th>Nota.Final</th>\n",
       "      <th>Tercer.Par</th>\n",
       "      <th>Asis</th>\n",
       "      <th>Cuarto.Par</th>\n",
       "      <th>4P_60</th>\n",
       "      <th>id_anony</th>\n",
       "    </tr>\n",
       "  </thead>\n",
       "  <tbody>\n",
       "    <tr>\n",
       "      <th>13943</th>\n",
       "      <td>6503</td>\n",
       "      <td>2012</td>\n",
       "      <td>2</td>\n",
       "      <td>9001</td>\n",
       "      <td>CALCULO 1</td>\n",
       "      <td>MCT-PLS09</td>\n",
       "      <td>1</td>\n",
       "      <td>1</td>\n",
       "      <td>2012</td>\n",
       "      <td>2</td>\n",
       "      <td>...</td>\n",
       "      <td>6</td>\n",
       "      <td>1</td>\n",
       "      <td>0</td>\n",
       "      <td>0</td>\n",
       "      <td>NaN</td>\n",
       "      <td>0.0</td>\n",
       "      <td>1.0</td>\n",
       "      <td>NaN</td>\n",
       "      <td>NaN</td>\n",
       "      <td>es_2833</td>\n",
       "    </tr>\n",
       "    <tr>\n",
       "      <th>13950</th>\n",
       "      <td>6510</td>\n",
       "      <td>2012</td>\n",
       "      <td>2</td>\n",
       "      <td>9001</td>\n",
       "      <td>CALCULO 1</td>\n",
       "      <td>MCT-PLS09</td>\n",
       "      <td>1</td>\n",
       "      <td>1</td>\n",
       "      <td>2012</td>\n",
       "      <td>2</td>\n",
       "      <td>...</td>\n",
       "      <td>6</td>\n",
       "      <td>3</td>\n",
       "      <td>0</td>\n",
       "      <td>0</td>\n",
       "      <td>NaN</td>\n",
       "      <td>0.0</td>\n",
       "      <td>1.0</td>\n",
       "      <td>NaN</td>\n",
       "      <td>NaN</td>\n",
       "      <td>es_2838</td>\n",
       "    </tr>\n",
       "    <tr>\n",
       "      <th>13960</th>\n",
       "      <td>6520</td>\n",
       "      <td>2012</td>\n",
       "      <td>2</td>\n",
       "      <td>9001</td>\n",
       "      <td>CALCULO 1</td>\n",
       "      <td>MCT-PLS09</td>\n",
       "      <td>1</td>\n",
       "      <td>1</td>\n",
       "      <td>2012</td>\n",
       "      <td>2</td>\n",
       "      <td>...</td>\n",
       "      <td>18</td>\n",
       "      <td>4</td>\n",
       "      <td>0</td>\n",
       "      <td>0</td>\n",
       "      <td>1F-1,2F-1</td>\n",
       "      <td>0.0</td>\n",
       "      <td>1.0</td>\n",
       "      <td>NaN</td>\n",
       "      <td>NaN</td>\n",
       "      <td>es_2845</td>\n",
       "    </tr>\n",
       "    <tr>\n",
       "      <th>14051</th>\n",
       "      <td>6611</td>\n",
       "      <td>2012</td>\n",
       "      <td>2</td>\n",
       "      <td>9001</td>\n",
       "      <td>CALCULO 1</td>\n",
       "      <td>MCT-PLS09</td>\n",
       "      <td>1</td>\n",
       "      <td>1</td>\n",
       "      <td>2012</td>\n",
       "      <td>2</td>\n",
       "      <td>...</td>\n",
       "      <td>7</td>\n",
       "      <td>2</td>\n",
       "      <td>0</td>\n",
       "      <td>0</td>\n",
       "      <td>NaN</td>\n",
       "      <td>0.0</td>\n",
       "      <td>1.0</td>\n",
       "      <td>NaN</td>\n",
       "      <td>NaN</td>\n",
       "      <td>es_2922</td>\n",
       "    </tr>\n",
       "    <tr>\n",
       "      <th>14078</th>\n",
       "      <td>6638</td>\n",
       "      <td>2012</td>\n",
       "      <td>2</td>\n",
       "      <td>9001</td>\n",
       "      <td>CALCULO 1</td>\n",
       "      <td>MCT-PLS09</td>\n",
       "      <td>1</td>\n",
       "      <td>1</td>\n",
       "      <td>2012</td>\n",
       "      <td>2</td>\n",
       "      <td>...</td>\n",
       "      <td>19</td>\n",
       "      <td>2</td>\n",
       "      <td>0</td>\n",
       "      <td>0</td>\n",
       "      <td>NaN</td>\n",
       "      <td>0.0</td>\n",
       "      <td>1.0</td>\n",
       "      <td>NaN</td>\n",
       "      <td>NaN</td>\n",
       "      <td>es_2944</td>\n",
       "    </tr>\n",
       "  </tbody>\n",
       "</table>\n",
       "<p>5 rows × 23 columns</p>\n",
       "</div>"
      ],
      "text/plain": [
       "      Unnamed: 0 danho ciclo Cod.Asign Asignatura Cod.Car.Sec Cod.Curso  \\\n",
       "13943       6503  2012     2      9001  CALCULO 1  MCT-PLS09          1   \n",
       "13950       6510  2012     2      9001  CALCULO 1  MCT-PLS09          1   \n",
       "13960       6520  2012     2      9001  CALCULO 1  MCT-PLS09          1   \n",
       "14051       6611  2012     2      9001  CALCULO 1  MCT-PLS09          1   \n",
       "14078       6638  2012     2      9001  CALCULO 1  MCT-PLS09          1   \n",
       "\n",
       "      Convocatoria  Anho Semestre  ... Segundo.Par AOT Primer.Rec Segundo.Rec  \\\n",
       "13943            1  2012        2  ...           6   1          0           0   \n",
       "13950            1  2012        2  ...           6   3          0           0   \n",
       "13960            1  2012        2  ...          18   4          0           0   \n",
       "14051            1  2012        2  ...           7   2          0           0   \n",
       "14078            1  2012        2  ...          19   2          0           0   \n",
       "\n",
       "      Nota.Final Tercer.Par Asis Cuarto.Par  4P_60  id_anony  \n",
       "13943        NaN        0.0  1.0        NaN    NaN   es_2833  \n",
       "13950        NaN        0.0  1.0        NaN    NaN   es_2838  \n",
       "13960  1F-1,2F-1        0.0  1.0        NaN    NaN   es_2845  \n",
       "14051        NaN        0.0  1.0        NaN    NaN   es_2922  \n",
       "14078        NaN        0.0  1.0        NaN    NaN   es_2944  \n",
       "\n",
       "[5 rows x 23 columns]"
      ]
     },
     "execution_count": 54,
     "metadata": {},
     "output_type": "execute_result"
    }
   ],
   "source": [
    "carreraNP.head()"
   ]
  },
  {
   "cell_type": "code",
   "execution_count": 58,
   "id": "increasing-estate",
   "metadata": {},
   "outputs": [],
   "source": [
    "carreraPLN=pd.merge(carreraPL, carreraNP, on=['id_anony'], how='right')\n"
   ]
  },
  {
   "cell_type": "code",
   "execution_count": 61,
   "id": "soviet-designer",
   "metadata": {},
   "outputs": [
    {
     "name": "stdout",
     "output_type": "stream",
     "text": [
      "<class 'pandas.core.frame.DataFrame'>\n",
      "Int64Index: 427 entries, 0 to 426\n",
      "Data columns (total 45 columns):\n",
      " #   Column          Non-Null Count  Dtype  \n",
      "---  ------          --------------  -----  \n",
      " 0   Unnamed: 0_x    72 non-null     object \n",
      " 1   danho_x         72 non-null     object \n",
      " 2   ciclo_x         72 non-null     object \n",
      " 3   Cod.Asign_x     72 non-null     object \n",
      " 4   Asignatura_x    72 non-null     object \n",
      " 5   Cod.Car.Sec_x   72 non-null     object \n",
      " 6   Cod.Curso_x     72 non-null     object \n",
      " 7   Convocatoria_x  72 non-null     object \n",
      " 8   Anho_x          72 non-null     object \n",
      " 9   Semestre_x      72 non-null     object \n",
      " 10  Aprobado_x      72 non-null     object \n",
      " 11  Anho.Firma_x    72 non-null     object \n",
      " 12  Primer.Par_x    72 non-null     object \n",
      " 13  Segundo.Par_x   72 non-null     object \n",
      " 14  AOT_x           72 non-null     object \n",
      " 15  Primer.Rec_x    72 non-null     object \n",
      " 16  Segundo.Rec_x   72 non-null     object \n",
      " 17  Nota.Final_x    72 non-null     object \n",
      " 18  Tercer.Par_x    72 non-null     float64\n",
      " 19  Asis_x          72 non-null     float64\n",
      " 20  Cuarto.Par_x    22 non-null     float64\n",
      " 21  4P_60_x         22 non-null     float64\n",
      " 22  id_anony        427 non-null    object \n",
      " 23  Unnamed: 0_y    427 non-null    object \n",
      " 24  danho_y         427 non-null    object \n",
      " 25  ciclo_y         427 non-null    object \n",
      " 26  Cod.Asign_y     427 non-null    object \n",
      " 27  Asignatura_y    427 non-null    object \n",
      " 28  Cod.Car.Sec_y   427 non-null    object \n",
      " 29  Cod.Curso_y     427 non-null    object \n",
      " 30  Convocatoria_y  427 non-null    object \n",
      " 31  Anho_y          427 non-null    object \n",
      " 32  Semestre_y      427 non-null    object \n",
      " 33  Aprobado_y      427 non-null    object \n",
      " 34  Anho.Firma_y    427 non-null    object \n",
      " 35  Primer.Par_y    427 non-null    object \n",
      " 36  Segundo.Par_y   427 non-null    object \n",
      " 37  AOT_y           427 non-null    object \n",
      " 38  Primer.Rec_y    427 non-null    object \n",
      " 39  Segundo.Rec_y   427 non-null    object \n",
      " 40  Nota.Final_y    97 non-null     object \n",
      " 41  Tercer.Par_y    427 non-null    float64\n",
      " 42  Asis_y          427 non-null    float64\n",
      " 43  Cuarto.Par_y    95 non-null     float64\n",
      " 44  4P_60_y         95 non-null     float64\n",
      "dtypes: float64(8), object(37)\n",
      "memory usage: 153.5+ KB\n"
     ]
    }
   ],
   "source": [
    "carreraPLN.info()"
   ]
  },
  {
   "cell_type": "code",
   "execution_count": 64,
   "id": "cloudy-share",
   "metadata": {},
   "outputs": [
    {
     "data": {
      "text/plain": [
       "array([[nan, 'N'],\n",
       "       ['S', 'N'],\n",
       "       ['S', 'N'],\n",
       "       [nan, 'N'],\n",
       "       [nan, 'N'],\n",
       "       [nan, 'N'],\n",
       "       ['S', 'N'],\n",
       "       ['S', 'N'],\n",
       "       ['S', 'N'],\n",
       "       ['S', 'N']], dtype=object)"
      ]
     },
     "execution_count": 64,
     "metadata": {},
     "output_type": "execute_result"
    }
   ],
   "source": [
    "carreraPLN[[\"Aprobado_x\",\"Aprobado_y\"]].values[0:10]"
   ]
  },
  {
   "cell_type": "code",
   "execution_count": 18,
   "id": "found-fisher",
   "metadata": {},
   "outputs": [
    {
     "name": "stdout",
     "output_type": "stream",
     "text": [
      "2633\n",
      "2519\n",
      "2495\n"
     ]
    }
   ],
   "source": [
    "for asig in asignaturas:\n",
    "    flag=lectura.Asignatura.values==asig\n",
    "    print(np.sum(lectura[\"Aprobado\"][flag]==\"S\"))\n",
    "    \n",
    "    "
   ]
  },
  {
   "cell_type": "code",
   "execution_count": null,
   "id": "abstract-journal",
   "metadata": {},
   "outputs": [],
   "source": []
  }
 ],
 "metadata": {
  "kernelspec": {
   "display_name": "Python 3",
   "language": "python",
   "name": "python3"
  },
  "language_info": {
   "codemirror_mode": {
    "name": "ipython",
    "version": 3
   },
   "file_extension": ".py",
   "mimetype": "text/x-python",
   "name": "python",
   "nbconvert_exporter": "python",
   "pygments_lexer": "ipython3",
   "version": "3.8.8"
  }
 },
 "nbformat": 4,
 "nbformat_minor": 5
}
