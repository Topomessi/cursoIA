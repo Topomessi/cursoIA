{
 "cells": [
  {
   "cell_type": "code",
   "execution_count": 1,
   "id": "rapid-attempt",
   "metadata": {},
   "outputs": [],
   "source": [
    "import numpy as np\n",
    "import matplotlib.pyplot as plt\n",
    "import pandas as pd\n",
    "from sklearn.model_selection import train_test_split\n",
    "from sklearn import linear_model, model_selection\n",
    "import seaborn as sns\n",
    "from sklearn.metrics import confusion_matrix\n",
    "from sklearn.metrics import multilabel_confusion_matrix\n",
    "from sklearn.metrics import matthews_corrcoef\n",
    "from sklearn.model_selection import train_test_split\n",
    "from sklearn.preprocessing import MinMaxScaler\n",
    "from pickle import dump,load\n",
    "from sklearn.metrics import accuracy_score\n",
    "from sklearn.metrics import confusion_matrix, classification_report \n",
    "from sklearn.model_selection import train_test_split\n",
    "import tensorflow as tf\n",
    "from tensorflow.keras.optimizers import Adam\n",
    "from tensorflow.keras import backend as Kc\n",
    "from tensorflow.keras.models import Sequential\n",
    "from tensorflow.keras.layers import Dense, Dropout,InputLayer\n",
    "from tensorflow.keras.callbacks import EarlyStopping, ModelCheckpoint\n",
    "from sklearn.linear_model import LogisticRegression\n",
    "from sklearn import metrics\n",
    "from sklearn.metrics import matthews_corrcoef\n",
    "from tensorflow.keras.utils import to_categorical"
   ]
  },
  {
   "cell_type": "code",
   "execution_count": 2,
   "id": "returning-coverage",
   "metadata": {},
   "outputs": [],
   "source": [
    "\n",
    "#creamos un dataframe a partir de un dataset\n",
    "data= pd.read_csv(\"Filtrado_final.csv\",sep=\",\",index_col=False)\n"
   ]
  },
  {
   "cell_type": "code",
   "execution_count": 3,
   "id": "cheap-contemporary",
   "metadata": {},
   "outputs": [],
   "source": [
    "data['Anho']=data['Anho'].values-2012"
   ]
  },
  {
   "cell_type": "code",
   "execution_count": 4,
   "id": "sound-uniform",
   "metadata": {},
   "outputs": [],
   "source": [
    "mod1=['Asignatura Codificada','Cod.Car.Sec Codificado','1P','2P','Taller','Aprobado']\n",
    "mod2=['Asignatura Codificada','Cod.Car.Sec Codificado','Anho','1P','2P','Taller','Aprobado']\n",
    "mod3=['Asignatura Codificada','Cod.Car.Sec Codificado','Recursante','1P','2P','Taller','Aprobado']\n",
    "mod4=['Asignatura Codificada','Cod.Car.Sec Codificado','Recursante','Anho','1P','Taller','Aprobado']\n",
    "mod5=['Asignatura Codificada','Cod.Car.Sec Codificado','Recursante','Anho','1P','Aprobado']\n",
    "mod6=['Asignatura Codificada','Cod.Car.Sec Codificado','Recursante','Anho','1P','2P','Aprobado']\n",
    "mod7=['Asignatura Codificada','Cod.Car.Sec Codificado','Recursante','Anho','1P','2P','Taller','Aprobado']\n"
   ]
  },
  {
   "cell_type": "code",
   "execution_count": 5,
   "id": "personalized-module",
   "metadata": {},
   "outputs": [
    {
     "name": "stdout",
     "output_type": "stream",
     "text": [
      "\n",
      "\n",
      "\n",
      "Index(['Asignatura Codificada', 'Cod.Car.Sec Codificado', '1P', '2P', 'Taller',\n",
      "       'Aprobado'],\n",
      "      dtype='object')\n",
      "\n",
      "classes_:\n",
      "A list of class labels known to the classifier.\n",
      "[0 1]\n",
      "\n",
      "coef_:\n",
      "Coefficient of the features in the decision function.\n",
      "[[ 0.39804897 -0.15117961  6.89341444  5.50366755  2.40260557]]\n",
      "\n",
      "intercept_:\n",
      "Intercept (a.k.a. bias) added to the decision function.\n",
      "[-2.16181499]\n",
      "\n",
      "n_features_in_:\n",
      "Number of features seen during fit.\n",
      "5\n",
      "\n",
      "n_iter_:\n",
      "Actual number of iterations for all classes. If binary or multinomial, it \n",
      "returns only 1 element. For liblinear solver, only the maximum number of \n",
      "iteration across all classes is given.\n",
      "[23]\n"
     ]
    },
    {
     "data": {
      "text/plain": [
       "'Matriz de Confusion:'"
      ]
     },
     "metadata": {},
     "output_type": "display_data"
    },
    {
     "name": "stdout",
     "output_type": "stream",
     "text": [
      "[[11761  4691]\n",
      " [ 3116 18710]]\n",
      "Exactitud del modelo:  79.60447254297507  %\n",
      "Coeficiente de Matthews de la regresion logistica\n",
      "0.5810252284627059\n",
      "\n",
      "\n",
      "\n",
      "Index(['Asignatura Codificada', 'Cod.Car.Sec Codificado', 'Anho', '1P', '2P',\n",
      "       'Taller', 'Aprobado'],\n",
      "      dtype='object')\n",
      "\n",
      "classes_:\n",
      "A list of class labels known to the classifier.\n",
      "[0 1]\n",
      "\n",
      "coef_:\n",
      "Coefficient of the features in the decision function.\n",
      "[[ 0.35736196 -0.11679866 -2.20800383  7.06578258  5.66724375  3.35140183]]\n",
      "\n",
      "intercept_:\n",
      "Intercept (a.k.a. bias) added to the decision function.\n",
      "[-1.21711969]\n",
      "\n",
      "n_features_in_:\n",
      "Number of features seen during fit.\n",
      "6\n",
      "\n",
      "n_iter_:\n",
      "Actual number of iterations for all classes. If binary or multinomial, it \n",
      "returns only 1 element. For liblinear solver, only the maximum number of \n",
      "iteration across all classes is given.\n",
      "[20]\n"
     ]
    },
    {
     "data": {
      "text/plain": [
       "'Matriz de Confusion:'"
      ]
     },
     "metadata": {},
     "output_type": "display_data"
    },
    {
     "name": "stdout",
     "output_type": "stream",
     "text": [
      "[[11830  4622]\n",
      " [ 3127 18699]]\n",
      "Exactitud del modelo:  79.75599561105597  %\n",
      "Coeficiente de Matthews de la regresion logistica\n",
      "0.5842062973238481\n",
      "\n",
      "\n",
      "\n",
      "Index(['Asignatura Codificada', 'Cod.Car.Sec Codificado', 'Recursante', '1P',\n",
      "       '2P', 'Taller', 'Aprobado'],\n",
      "      dtype='object')\n",
      "\n",
      "classes_:\n",
      "A list of class labels known to the classifier.\n",
      "[0 1]\n",
      "\n",
      "coef_:\n",
      "Coefficient of the features in the decision function.\n",
      "[[ 0.40069436  0.04170503  6.18125612  3.50649829  2.7563496  -1.80681841]]\n",
      "\n",
      "intercept_:\n",
      "Intercept (a.k.a. bias) added to the decision function.\n",
      "[-6.24958128]\n",
      "\n",
      "n_features_in_:\n",
      "Number of features seen during fit.\n",
      "6\n",
      "\n",
      "n_iter_:\n",
      "Actual number of iterations for all classes. If binary or multinomial, it \n",
      "returns only 1 element. For liblinear solver, only the maximum number of \n",
      "iteration across all classes is given.\n",
      "[36]\n"
     ]
    },
    {
     "data": {
      "text/plain": [
       "'Matriz de Confusion:'"
      ]
     },
     "metadata": {},
     "output_type": "display_data"
    },
    {
     "name": "stdout",
     "output_type": "stream",
     "text": [
      "[[11088  5364]\n",
      " [  255 21571]]\n",
      "Exactitud del modelo:  85.3205496629918  %\n",
      "Coeficiente de Matthews de la regresion logistica\n",
      "0.7179824669000366\n",
      "\n",
      "\n",
      "\n",
      "Index(['Asignatura Codificada', 'Cod.Car.Sec Codificado', 'Recursante', 'Anho',\n",
      "       '1P', 'Taller', 'Aprobado'],\n",
      "      dtype='object')\n",
      "\n",
      "classes_:\n",
      "A list of class labels known to the classifier.\n",
      "[0 1]\n",
      "\n",
      "coef_:\n",
      "Coefficient of the features in the decision function.\n",
      "[[ 0.41053457  0.12817125  6.58923352 -2.46504424  7.23944533  3.22056639]]\n",
      "\n",
      "intercept_:\n",
      "Intercept (a.k.a. bias) added to the decision function.\n",
      "[-5.39534461]\n",
      "\n",
      "n_features_in_:\n",
      "Number of features seen during fit.\n",
      "6\n",
      "\n",
      "n_iter_:\n",
      "Actual number of iterations for all classes. If binary or multinomial, it \n",
      "returns only 1 element. For liblinear solver, only the maximum number of \n",
      "iteration across all classes is given.\n",
      "[39]\n"
     ]
    },
    {
     "data": {
      "text/plain": [
       "'Matriz de Confusion:'"
      ]
     },
     "metadata": {},
     "output_type": "display_data"
    },
    {
     "name": "stdout",
     "output_type": "stream",
     "text": [
      "[[11457  4995]\n",
      " [  441 21385]]\n",
      "Exactitud del modelo:  85.7986310674539  %\n",
      "Coeficiente de Matthews de la regresion logistica\n",
      "0.7232477484557059\n",
      "\n",
      "\n",
      "\n",
      "Index(['Asignatura Codificada', 'Cod.Car.Sec Codificado', 'Recursante', 'Anho',\n",
      "       '1P', 'Aprobado'],\n",
      "      dtype='object')\n",
      "\n",
      "classes_:\n",
      "A list of class labels known to the classifier.\n",
      "[0 1]\n",
      "\n",
      "coef_:\n",
      "Coefficient of the features in the decision function.\n",
      "[[ 0.46606581  0.12426299  6.65705778 -2.44340684  7.94083379]]\n",
      "\n",
      "intercept_:\n",
      "Intercept (a.k.a. bias) added to the decision function.\n",
      "[-5.35710001]\n",
      "\n",
      "n_features_in_:\n",
      "Number of features seen during fit.\n",
      "5\n",
      "\n",
      "n_iter_:\n",
      "Actual number of iterations for all classes. If binary or multinomial, it \n",
      "returns only 1 element. For liblinear solver, only the maximum number of \n",
      "iteration across all classes is given.\n",
      "[28]\n"
     ]
    },
    {
     "data": {
      "text/plain": [
       "'Matriz de Confusion:'"
      ]
     },
     "metadata": {},
     "output_type": "display_data"
    },
    {
     "name": "stdout",
     "output_type": "stream",
     "text": [
      "[[11450  5002]\n",
      " [  387 21439]]\n",
      "Exactitud del modelo:  85.92141700193322  %\n",
      "Coeficiente de Matthews de la regresion logistica\n",
      "0.726466342027156\n",
      "\n",
      "\n",
      "\n",
      "Index(['Asignatura Codificada', 'Cod.Car.Sec Codificado', 'Recursante', 'Anho',\n",
      "       '1P', '2P', 'Aprobado'],\n",
      "      dtype='object')\n",
      "\n",
      "classes_:\n",
      "A list of class labels known to the classifier.\n",
      "[0 1]\n",
      "\n",
      "coef_:\n",
      "Coefficient of the features in the decision function.\n",
      "[[ 0.37630676  0.06463536  6.28433749 -2.55976177  3.74943491  2.94901596]]\n",
      "\n",
      "intercept_:\n",
      "Intercept (a.k.a. bias) added to the decision function.\n",
      "[-5.28626167]\n",
      "\n",
      "n_features_in_:\n",
      "Number of features seen during fit.\n",
      "6\n",
      "\n",
      "n_iter_:\n",
      "Actual number of iterations for all classes. If binary or multinomial, it \n",
      "returns only 1 element. For liblinear solver, only the maximum number of \n",
      "iteration across all classes is given.\n",
      "[34]\n"
     ]
    },
    {
     "data": {
      "text/plain": [
       "'Matriz de Confusion:'"
      ]
     },
     "metadata": {},
     "output_type": "display_data"
    },
    {
     "name": "stdout",
     "output_type": "stream",
     "text": [
      "[[11650  4802]\n",
      " [  683 21143]]\n",
      "Exactitud del modelo:  85.67062019959245  %\n",
      "Coeficiente de Matthews de la regresion logistica\n",
      "0.7169903465607124\n",
      "\n",
      "\n",
      "\n",
      "Index(['Asignatura Codificada', 'Cod.Car.Sec Codificado', 'Recursante', 'Anho',\n",
      "       '1P', '2P', 'Taller', 'Aprobado'],\n",
      "      dtype='object')\n",
      "\n",
      "classes_:\n",
      "A list of class labels known to the classifier.\n",
      "[0 1]\n",
      "\n",
      "coef_:\n",
      "Coefficient of the features in the decision function.\n",
      "[[ 0.39272492  0.06063082  6.29508034 -2.55573127  3.85292749  3.02473007\n",
      "  -0.94082426]]\n",
      "\n",
      "intercept_:\n",
      "Intercept (a.k.a. bias) added to the decision function.\n",
      "[-5.27496627]\n",
      "\n",
      "n_features_in_:\n",
      "Number of features seen during fit.\n",
      "7\n",
      "\n",
      "n_iter_:\n",
      "Actual number of iterations for all classes. If binary or multinomial, it \n",
      "returns only 1 element. For liblinear solver, only the maximum number of \n",
      "iteration across all classes is given.\n",
      "[46]\n"
     ]
    },
    {
     "data": {
      "text/plain": [
       "'Matriz de Confusion:'"
      ]
     },
     "metadata": {},
     "output_type": "display_data"
    },
    {
     "name": "stdout",
     "output_type": "stream",
     "text": [
      "[[11651  4801]\n",
      " [  682 21144]]\n",
      "Exactitud del modelo:  85.67584513297456  %\n",
      "Coeficiente de Matthews de la regresion logistica\n",
      "0.7171032719532772\n"
     ]
    }
   ],
   "source": [
    "for features in [mod1,mod2,mod3,mod4,mod5,mod6,mod7]:\n",
    "    df=data[features]\n",
    "    print('\\n\\n')\n",
    "    print(df.columns)\n",
    "    X=df.drop('Aprobado',axis=1)\n",
    "    nb_classes=2\n",
    "    y=df[['Aprobado']]\n",
    "    Xnp=np.array(X)\n",
    "    ynp=np.ravel(np.array(y))\n",
    "    scaler = MinMaxScaler(feature_range=(0, 1))\n",
    "    Xnorm = scaler.fit_transform(Xnp)\n",
    "    x_train, x_test, yLR_train, yLR_test = train_test_split(Xnorm,ynp,test_size=0.20, random_state=33)\n",
    "    y_train = to_categorical(yLR_train, nb_classes)\n",
    "    y_test  = to_categorical(yLR_test, nb_classes)\n",
    "    logreg2 = LogisticRegression()\n",
    "    logreg2.fit(x_train,yLR_train)\n",
    "    y_pred=logreg2.predict(x_test)\n",
    "    print(\"\\nclasses_:\\nA list of class labels known to the classifier.\\n\"+str(logreg2.classes_))\n",
    "    print(\"\\ncoef_:\\nCoefficient of the features in the decision function.\\n\"+str(logreg2.coef_))\n",
    "    print(\"\\nintercept_:\\nIntercept (a.k.a. bias) added to the decision function.\\n\"+str(logreg2.intercept_))\n",
    "    print(\"\\nn_features_in_:\\nNumber of features seen during fit.\\n\"+str(logreg2.n_features_in_))\n",
    "    print(\"\\nn_iter_:\\nActual number of iterations for all classes. If binary or multinomial, it \\nreturns only 1 element. For liblinear solver, only the maximum number of \\niteration across all classes is given.\\n\"+str(logreg2.n_iter_))\n",
    "\n",
    "    matriz2=confusion_matrix(yLR_test,y_pred)\n",
    "    \n",
    "    display('Matriz de Confusion:')\n",
    "    print(matriz2)\n",
    "    exactitudRL=accuracy_score(yLR_test,y_pred)*100\n",
    "    print('Exactitud del modelo: ',exactitudRL,' %')\n",
    "    print(\"Coeficiente de Matthews de la regresion logistica\")\n",
    "    print(matthews_corrcoef(yLR_test,y_pred))\n",
    "   "
   ]
  },
  {
   "cell_type": "code",
   "execution_count": null,
   "id": "varying-titanium",
   "metadata": {},
   "outputs": [],
   "source": []
  },
  {
   "cell_type": "code",
   "execution_count": null,
   "id": "underlying-martin",
   "metadata": {},
   "outputs": [],
   "source": []
  },
  {
   "cell_type": "code",
   "execution_count": null,
   "id": "naval-furniture",
   "metadata": {},
   "outputs": [],
   "source": []
  },
  {
   "cell_type": "code",
   "execution_count": null,
   "id": "expired-shark",
   "metadata": {},
   "outputs": [],
   "source": []
  }
 ],
 "metadata": {
  "kernelspec": {
   "display_name": "Python 3 (ipykernel)",
   "language": "python",
   "name": "python3"
  },
  "language_info": {
   "codemirror_mode": {
    "name": "ipython",
    "version": 3
   },
   "file_extension": ".py",
   "mimetype": "text/x-python",
   "name": "python",
   "nbconvert_exporter": "python",
   "pygments_lexer": "ipython3",
   "version": "3.10.11"
  }
 },
 "nbformat": 4,
 "nbformat_minor": 5
}
