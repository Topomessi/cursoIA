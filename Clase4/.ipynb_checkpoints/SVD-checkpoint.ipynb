{
 "cells": [
  {
   "cell_type": "code",
   "execution_count": null,
   "metadata": {},
   "outputs": [],
   "source": [
    "import numpy as np\n",
    "import matplotlib.pyplot as plt\n",
    "import scipy.sparse.linalg as la\n",
    "from PIL import Image\n",
    "from math import isclose\n",
    "\n",
    "\n"
   ]
  },
  {
   "cell_type": "code",
   "execution_count": null,
   "metadata": {},
   "outputs": [],
   "source": [
    "# read the image and normalize it\n",
    "image = np.array(Image.open('data.jpg'))\n",
    "image = image / 255\n",
    "plt.imshow(image)\n",
    "plt.show()"
   ]
  },
  {
   "cell_type": "code",
   "execution_count": null,
   "metadata": {},
   "outputs": [],
   "source": [
    "plt.imshow(image[:, :, 0])# solo el rojo\n",
    "plt.show()"
   ]
  },
  {
   "cell_type": "code",
   "execution_count": null,
   "metadata": {},
   "outputs": [],
   "source": [
    "A = image[:, :, 0]\n",
    "m = A.shape[0]\n",
    "n = A.shape[1]\n",
    "print(m)\n",
    "print(n)\n",
    " #m me debe ser menor o igual n. "
   ]
  },
  {
   "cell_type": "markdown",
   "metadata": {},
   "source": [
    "$A = U S V^{T}$\n",
    "donde $U U^{T}=V V^{T}=I$ y $S$ es diagonal. # ecuacion 1"
   ]
  },
  {
   "cell_type": "markdown",
   "metadata": {},
   "source": [
    "\n",
    "$A A^{T} = U S V^{T}(U S V^{T})^{T}$\n",
    "recuerde que $V V^{T}=I$.\n"
   ]
  },
  {
   "cell_type": "markdown",
   "metadata": {},
   "source": [
    "$A A^{T} = U S V^{T}V S^{T} U^{T}$\n"
   ]
  },
  {
   "cell_type": "markdown",
   "metadata": {},
   "source": [
    "$A A^{T} = U S I S^{T} U^{T}$\n",
    "\n",
    "$A A^{T} = U S^{2} U^{T}$ # ecuacion 2"
   ]
  },
  {
   "cell_type": "markdown",
   "metadata": {},
   "source": [
    "Por otro lado:\n",
    "\n",
    "$A^{T} A = (U S V^{T})^{T}U S V^{T}$\n",
    "\n",
    "$A^{T} A = V S U^{T}U S V^{T}$\n",
    "\n",
    "$A^{T}A = V S^{2} V^{T}$ # ecuacion 3"
   ]
  },
  {
   "cell_type": "code",
   "execution_count": null,
   "metadata": {},
   "outputs": [],
   "source": [
    "\n",
    "\n",
    "AAT = np.matmul(A, np.transpose(A))# necesitamos una matrix cuadrada para aplicar la transformacion lineal\n",
    "autovalores, autovectores = la.eigh(AAT)\n",
    "orden = autovalores.argsort()[::-1]\n",
    "# ordenando de mayor menor\n",
    "autovalores = autovalores[orden ]\n",
    "autovectores = autovectores[:, orden ]\n",
    "print(AAT)\n",
    "print(autovalores)\n",
    "print(autovectores)"
   ]
  },
  {
   "cell_type": "code",
   "execution_count": null,
   "metadata": {},
   "outputs": [],
   "source": [
    "U = autovectores # matriz de transformacion ortonormal\n",
    "print(U.shape)\n"
   ]
  },
  {
   "cell_type": "code",
   "execution_count": null,
   "metadata": {},
   "outputs": [],
   "source": [
    "S = np.zeros(n)# matriz diagonal"
   ]
  },
  {
   "cell_type": "code",
   "execution_count": null,
   "metadata": {},
   "outputs": [],
   "source": [
    "S[0:len(autovalores)]=np.sqrt(autovalores)"
   ]
  },
  {
   "cell_type": "code",
   "execution_count": null,
   "metadata": {},
   "outputs": [],
   "source": [
    "ATA = np.matmul(np.transpose(A), A)# necesitamos una matrix cuadrada para aplicar la transformacion lineal\n",
    "autovalores, autovectores = la.eigsh(ATA)"
   ]
  },
  {
   "cell_type": "code",
   "execution_count": null,
   "metadata": {},
   "outputs": [],
   "source": [
    "\n",
    "orden = autovalores.argsort()[::-1]\n",
    "autovalores2 = autovalores[orden ]\n",
    "autovectores2 = autovectores[:, orden ]\n",
    "print(ATA)\n",
    "print(autovalores2)\n",
    "print(autovectores2)"
   ]
  },
  {
   "cell_type": "code",
   "execution_count": null,
   "metadata": {},
   "outputs": [],
   "source": [
    "V = autovectores"
   ]
  },
  {
   "cell_type": "code",
   "execution_count": null,
   "metadata": {},
   "outputs": [],
   "source": [
    "S[len(autovalores):n]=np.sqrt(autovalores2)"
   ]
  },
  {
   "cell_type": "code",
   "execution_count": null,
   "metadata": {},
   "outputs": [],
   "source": [
    "rank = [1, 5, 20, 50]\n",
    "for i in rank:\n",
    "    # calculating V*S*transpose(U) for each channel\n",
    "    x = V[:, 0:i]\n",
    "    y = S[0:i]\n",
    "    xy = x.dot(np.diag(y))\n",
    "    z = U[0:i]\n",
    "    Ar = xy.dot(z)\n",
    "    plt.imshow(Ar)\n",
    "    plt.show()\n",
    "        \n"
   ]
  },
  {
   "cell_type": "code",
   "execution_count": null,
   "metadata": {},
   "outputs": [],
   "source": [
    "\n",
    "def calculate(A):\n",
    "  \n",
    "    m = A.shape[0]\n",
    "    n = A.shape[1]\n",
    "    S = np.zeros(n)\n",
    "\n",
    "    # finding eigenvectors with biggest eigenvalues of A*transpose(A)\n",
    "    helper = np.matmul(A, np.transpose(A))\n",
    "    eigenvalues, eigenvectors = la.eigh(helper)\n",
    "    # descending sort of all the eigenvectors according to their eigenvalues\n",
    "    index = eigenvalues.argsort()[::-1]\n",
    "    eigenvalues = eigenvalues[index]\n",
    "    eigenvectors = eigenvectors[:, index]\n",
    "    V = eigenvectors\n",
    "\n",
    "    # S is a diagonal matrix that keeps square root of eigenvalues\n",
    "    j = 0\n",
    "    for i in eigenvalues:\n",
    "        if j == S.size:\n",
    "            break\n",
    "        elif i >= 0:\n",
    "            S[j] = np.sqrt(i)\n",
    "            j += 1\n",
    "    # same finding process for transpose(A)*A\n",
    "    helper = np.matmul(np.transpose(A), A)\n",
    "    eigenvalues, eigenvectors = la.eigh(helper)\n",
    "    # descending sort of all the eigenvectors according to their eigenvalues\n",
    "    index = eigenvalues.argsort()[::-1]\n",
    "    eigenvalues = eigenvalues[index]\n",
    "    eigenvectors = eigenvectors[:, index]\n",
    "    U = np.transpose(eigenvectors)\n",
    "\n",
    "    # S is a diagonal matrix that keeps square root of eigenvalues\n",
    "    for i in eigenvalues1:\n",
    "        if j == S.size:\n",
    "            break\n",
    "        elif i >= 0:\n",
    "            S[j] = np.sqrt(i)\n",
    "            j += 1\n",
    "\n",
    "    # sorting S in descending order\n",
    "    S[::-1].sort()\n",
    "    # print_to_file(S)\n",
    "\n",
    "    return U, S, V\n",
    "  \n",
    "\n",
    "    return U, S, V\n",
    "\n",
    "\n",
    "def plot(img, Ur, Sr, Vr, Ug, Sg, Vg, Ub, Sb, Vb):\n",
    "    rank = [1, 5, 20, 50]\n",
    "    for i in rank:\n",
    "        # calculating V*S*transpose(U) for each channel\n",
    "        x = Vr[:, 0:i]\n",
    "        y = Sr[0:i]\n",
    "        xy = x.dot(np.diag(y))\n",
    "        z = Ur[0:i]\n",
    "        merged = xy.dot(z)\n",
    "        img[:, :, 0] = merged.T\n",
    "\n",
    "        x = Vg[:, 0:i]\n",
    "        y = Sg[0:i]\n",
    "        xy = x.dot(np.diag(y))\n",
    "        z = Ug[0:i]\n",
    "        merged = xy.dot(z)\n",
    "        img[:, :, 1] = merged.T\n",
    "\n",
    "        x = Vb[:, 0:i]\n",
    "        y = Sb[0:i]\n",
    "        xy = x.dot(np.diag(y))\n",
    "        z = Ub[0:i]\n",
    "        merged = xy.dot(z)\n",
    "        img[:, :, 2] = merged.T\n",
    "\n",
    "        plt.title(\"Implemented SVD, Rank: %d\" % i)\n",
    "        plt.imshow(img)\n",
    "        plt.show()\n",
    "\n",
    "\n",
    "def check_sign_U(U, builtin):\n",
    "    for i in range(builtin.shape[0]):\n",
    "        if not isclose(U[i][0], builtin[0][i]):\n",
    "            U[i] *= -1\n",
    "\n",
    "    return U\n",
    "\n",
    "\n",
    "def check_sign_V(V, builtin):\n",
    "    for i in range(builtin.shape[0]):\n",
    "        if not isclose(V[0][i], builtin[i][0]):\n",
    "            V[:, i] *= -1\n",
    "\n",
    "    return V\n",
    "\n",
    "\n",
    "def plot_builtin(Ur, Sr, Vr, Ug, Sg, Vg, Ub, Sb, Vb, img):\n",
    "    rank = [1, 5, 20, 50]\n",
    "    for i in rank:\n",
    "        x = Ur[:, 0:i]\n",
    "        y = Sr[0:i]\n",
    "        xy = x.dot(np.diag(y))\n",
    "        z = Vr[0:i]\n",
    "        merged = xy.dot(z)\n",
    "        img[:, :, 0] = merged\n",
    "\n",
    "        x = Ug[:, 0:i]\n",
    "        y = Sg[0:i]\n",
    "        xy = x.dot(np.diag(y))\n",
    "        z = Vg[0:i]\n",
    "        merged = xy.dot(z)\n",
    "        img[:, :, 1] = merged\n",
    "\n",
    "        x = Ub[:, 0:i]\n",
    "        y = Sb[0:i]\n",
    "        xy = x.dot(np.diag(y))\n",
    "        z = Vb[0:i]\n",
    "        merged = xy.dot(z)\n",
    "        img[:, :, 2] = merged\n",
    "\n",
    "        plt.title(\"Builtin SVD, Rank: %d\" % i)\n",
    "        plt.imshow(img)\n",
    "        plt.show()\n",
    "\n",
    "\n"
   ]
  },
  {
   "cell_type": "code",
   "execution_count": null,
   "metadata": {},
   "outputs": [],
   "source": [
    "R = image[:, :, 0]\n",
    "G = image[:, :, 1]\n",
    "B = image[:, :, 2]"
   ]
  },
  {
   "cell_type": "code",
   "execution_count": null,
   "metadata": {},
   "outputs": [],
   "source": [
    "# Calculate own SVD and plot it for rank = [1,5,20,50]\n",
    "new_img2 = np.zeros(image.shape)\n",
    "\n",
    "U_r, S_r, V_r = calculate(R.T)\n",
    "U_r = check_sign_U(U_r, Ur)\n",
    "V_r = check_sign_V(V_r, Vr)\n",
    "\n",
    "U_g, S_g, V_g = calculate(G.T)\n",
    "U_g = check_sign_U(U_g, Ug)\n",
    "V_g = check_sign_V(V_g, Vg)\n",
    "\n",
    "U_b, S_b, V_b = calculate(B.T)\n",
    "U_b = check_sign_U(U_b, Ub)\n",
    "V_b = check_sign_V(V_b, Vb)"
   ]
  },
  {
   "cell_type": "code",
   "execution_count": null,
   "metadata": {},
   "outputs": [],
   "source": [
    "plot(U_r, S_r, V_r, U_g, S_g, V_g, U_b, S_b, V_b, new_img2)\n"
   ]
  },
  {
   "cell_type": "code",
   "execution_count": null,
   "metadata": {},
   "outputs": [],
   "source": []
  },
  {
   "cell_type": "code",
   "execution_count": null,
   "metadata": {},
   "outputs": [],
   "source": []
  },
  {
   "cell_type": "code",
   "execution_count": null,
   "metadata": {},
   "outputs": [],
   "source": []
  },
  {
   "cell_type": "code",
   "execution_count": null,
   "metadata": {},
   "outputs": [],
   "source": []
  }
 ],
 "metadata": {
  "anaconda-cloud": {},
  "kernelspec": {
   "display_name": "Python 3",
   "language": "python",
   "name": "python3"
  },
  "language_info": {
   "codemirror_mode": {
    "name": "ipython",
    "version": 3
   },
   "file_extension": ".py",
   "mimetype": "text/x-python",
   "name": "python",
   "nbconvert_exporter": "python",
   "pygments_lexer": "ipython3",
   "version": "3.8.8"
  }
 },
 "nbformat": 4,
 "nbformat_minor": 4
}
