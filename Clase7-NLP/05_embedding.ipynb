{
 "cells": [
  {
   "cell_type": "markdown",
   "metadata": {
    "id": "wTUM5nqjoBZT"
   },
   "source": [
    "# What are Embedding Layers in Keras\n",
    "\n",
    "[Embedding Layers](https://keras.io/layers/embeddings/) are a handy feature of Keras that allows the program to automatically insert additional information into the data flow of your neural network. In the previous section, you saw that Word2Vec could expand words to a 300 dimension vector. An embedding layer would automatically allow you to insert these 300-dimension vectors in the place of word indexes.  \n",
    "\n",
    "Programmers often use embedding layers with Natural Language Processing (NLP); however, you can use these layers when you wish to insert a lengthier vector in an index value place. In some ways, you can think of an embedding layer as dimension expansion. However, the hope is that these additional dimensions provide more information to the model and provide a better score.\n",
    "\n",
    "## Simple Embedding Layer Example\n",
    "\n",
    "* **input_dim** = How large is the vocabulary?  How many categories are you encoding? This parameter is the number of items in your \"lookup table.\"\n",
    "* **output_dim** = How many numbers in the vector you wish to return. \n",
    "* **input_length** = How many items are in the input feature vector that you need to transform?\n",
    "\n",
    "Now we create a neural network with a vocabulary size of 10, which will reduce those values between 0-9 to 4 number vectors. This neural network does nothing more than passing the embedding on to the output. But it does let us see what the embedding is doing. Each feature vector coming in will have two such features."
   ]
  },
  {
   "cell_type": "code",
   "execution_count": 1,
   "metadata": {
    "id": "CZk4DnzDoBZU"
   },
   "outputs": [],
   "source": [
    "from tensorflow.keras.models import Sequential\n",
    "from tensorflow.keras.layers import Embedding\n",
    "import numpy as np\n",
    "\n",
    "model = Sequential()\n",
    "embedding_layer = Embedding(input_dim=10, output_dim=4, input_length=2)\n",
    "model.add(embedding_layer)\n",
    "model.compile('adam', 'mse')\n"
   ]
  },
  {
   "cell_type": "markdown",
   "metadata": {
    "id": "eXHSrr3poBZU"
   },
   "source": [
    "Let's take a look at the structure of this neural network to see what is happening inside it."
   ]
  },
  {
   "cell_type": "code",
   "execution_count": 2,
   "metadata": {
    "colab": {
     "base_uri": "https://localhost:8080/"
    },
    "id": "kqawbb_PoBZU",
    "outputId": "72fc2a6d-0656-455a-be6a-4e235e00d35d"
   },
   "outputs": [
    {
     "name": "stdout",
     "output_type": "stream",
     "text": [
      "Model: \"sequential\"\n",
      "_________________________________________________________________\n",
      "Layer (type)                 Output Shape              Param #   \n",
      "=================================================================\n",
      "embedding (Embedding)        (None, 2, 4)              40        \n",
      "=================================================================\n",
      "Total params: 40\n",
      "Trainable params: 40\n",
      "Non-trainable params: 0\n",
      "_________________________________________________________________\n"
     ]
    }
   ],
   "source": [
    "model.summary()"
   ]
  },
  {
   "cell_type": "markdown",
   "metadata": {
    "id": "6kh6wKszoBZV"
   },
   "source": [
    "For this neural network, which is just an embedding layer, the input is a vector of size 2. These two inputs are integer numbers from 0 to 9 (corresponding to the requested input_dim quantity of 10 values). Looking at the summary above, we see that the embedding layer has 40 parameters. This value comes from the embedded lookup table that contains four amounts (output_dim) for each of the 10 (input_dim) possible integer values for the two inputs. The output is 2 (input_length) length 4 (output_dim) vectors, resulting in a total output size of 8, which corresponds to the Output Shape given in the summary above.\n",
    "\n",
    "Now, let us query the neural network with two rows. The input is two integer values, as was specified when we created the neural network."
   ]
  },
  {
   "cell_type": "code",
   "execution_count": 3,
   "metadata": {
    "colab": {
     "base_uri": "https://localhost:8080/"
    },
    "id": "iRBKtw-_oBZV",
    "outputId": "d316ef2f-dbb6-46a5-fa18-d145d9003021"
   },
   "outputs": [
    {
     "name": "stdout",
     "output_type": "stream",
     "text": [
      "(1, 2)\n",
      "[[[ 0.0296591  -0.03944106 -0.00196435  0.0168138 ]\n",
      "  [ 0.04712534 -0.0231918  -0.04047847 -0.04747871]]]\n"
     ]
    }
   ],
   "source": [
    "input_data = np.array([\n",
    "    [1, 2]\n",
    "])\n",
    "\n",
    "pred = model.predict(input_data)\n",
    "\n",
    "print(input_data.shape)\n",
    "print(pred)\n"
   ]
  },
  {
   "cell_type": "markdown",
   "metadata": {
    "id": "DRfFids1oBZV"
   },
   "source": [
    "Here we see two length-4 vectors that Keras looked up for each input integer. Recall that Python arrays are zero-based. Keras replaced the value of 1 with the second row of the 10 x 4 lookup matrix. Similarly, Keras returned the value of 2 by the third row of the lookup matrix. The following code displays the lookup matrix in its entirety. The embedding layer performs no mathematical operations other than inserting the correct row from the lookup table."
   ]
  },
  {
   "cell_type": "code",
   "execution_count": 4,
   "metadata": {
    "colab": {
     "base_uri": "https://localhost:8080/"
    },
    "id": "YStGrTSKoBZW",
    "outputId": "9c28d583-fa9e-472b-dd2a-e3325348b56e"
   },
   "outputs": [
    {
     "data": {
      "text/plain": [
       "[array([[-1.59338489e-02, -6.17409870e-03, -3.28724608e-02,\n",
       "         -1.48969665e-02],\n",
       "        [ 2.96590962e-02, -3.94410603e-02, -1.96435302e-03,\n",
       "          1.68138035e-02],\n",
       "        [ 4.71253432e-02, -2.31917985e-02, -4.04784679e-02,\n",
       "         -4.74787131e-02],\n",
       "        [-1.38375759e-02,  4.91913073e-02,  1.64018162e-02,\n",
       "          2.43717097e-02],\n",
       "        [ 1.40725859e-02,  2.42561139e-02,  4.45892662e-03,\n",
       "          4.25609611e-02],\n",
       "        [ 2.11127512e-02, -4.18646932e-02, -4.76553701e-02,\n",
       "         -2.57306583e-02],\n",
       "        [-2.26217862e-02, -4.80080768e-03,  4.77720387e-02,\n",
       "          4.04601954e-02],\n",
       "        [-3.18327770e-02,  3.72967608e-02,  4.22089733e-02,\n",
       "          3.46850231e-03],\n",
       "        [-2.50756145e-02,  2.05684789e-02,  2.10559852e-02,\n",
       "          2.22275518e-02],\n",
       "        [ 2.21610069e-03, -9.68669727e-03,  3.06015350e-02,\n",
       "         -5.12972474e-05]], dtype=float32)]"
      ]
     },
     "execution_count": 4,
     "metadata": {},
     "output_type": "execute_result"
    }
   ],
   "source": [
    "embedding_layer.get_weights()"
   ]
  },
  {
   "cell_type": "markdown",
   "metadata": {
    "id": "y0QLcjnwoBZW"
   },
   "source": [
    "The values above are random parameters that Keras generated as starting points.  Generally, we will transfer an embedding or train these random values into something useful.  The following section demonstrates how to embed a hand-coded embedding. \n",
    "\n",
    "## Transferring An Embedding\n",
    "\n",
    "Now, we see how to hard-code an embedding lookup that performs a simple one-hot encoding.  One-hot encoding would transform the input integer values of 0, 1, and 2 to the vectors $[1,0,0]$, $[0,1,0]$, and $[0,0,1]$ respectively. The following code replaced the random lookup values in the embedding layer with this one-hot coding-inspired lookup table."
   ]
  },
  {
   "cell_type": "code",
   "execution_count": 5,
   "metadata": {
    "id": "AIt-SWK6oBZW"
   },
   "outputs": [],
   "source": [
    "from tensorflow.keras.models import Sequential\n",
    "from tensorflow.keras.layers import Embedding\n",
    "import numpy as np\n",
    "\n",
    "embedding_lookup = np.array([\n",
    "    [1, 0, 0],\n",
    "    [0, 1, 0],\n",
    "    [0, 0, 1]\n",
    "])\n",
    "\n",
    "model = Sequential()\n",
    "embedding_layer = Embedding(input_dim=3, output_dim=3, input_length=2)\n",
    "model.add(embedding_layer)\n",
    "model.compile('adam', 'mse')\n",
    "\n",
    "embedding_layer.set_weights([embedding_lookup])\n"
   ]
  },
  {
   "cell_type": "markdown",
   "metadata": {
    "id": "oQ_bVdtkoBZW"
   },
   "source": [
    "We have the following parameters for the Embedding layer:\n",
    "    \n",
    "* input_dim=3 - There are three different integer categorical values allowed.\n",
    "* output_dim=3 - Three columns represent a categorical value with three possible values per one-hot encoding.\n",
    "* input_length=2 - The input vector has two of these categorical values.\n",
    "\n",
    "We query the neural network with two categorical values to see the lookup performed."
   ]
  },
  {
   "cell_type": "code",
   "execution_count": 6,
   "metadata": {
    "colab": {
     "base_uri": "https://localhost:8080/"
    },
    "id": "ufBqgk6joBZW",
    "outputId": "3e54206d-3c56-47b8-ab17-98b1c1111ec3"
   },
   "outputs": [
    {
     "name": "stdout",
     "output_type": "stream",
     "text": [
      "(1, 2)\n",
      "[[[1. 0. 0.]\n",
      "  [0. 1. 0.]]]\n"
     ]
    }
   ],
   "source": [
    "input_data = np.array([\n",
    "    [0, 1]\n",
    "])\n",
    "\n",
    "pred = model.predict(input_data)\n",
    "\n",
    "print(input_data.shape)\n",
    "print(pred)\n"
   ]
  },
  {
   "cell_type": "markdown",
   "metadata": {
    "id": "pX76cE9HoBZW"
   },
   "source": [
    "The given output shows that we provided the program with two rows from the one-hot encoding table. This encoding is a correct one-hot encoding for the values 0 and 1, where there are up to 3 unique values possible. \n",
    "\n",
    "The following section demonstrates how to train this embedding lookup table.\n",
    "\n",
    "## Training an Embedding\n",
    "\n",
    "First, we make use of the following imports."
   ]
  },
  {
   "cell_type": "code",
   "execution_count": 7,
   "metadata": {
    "id": "mb-nwgKhoBZX"
   },
   "outputs": [],
   "source": [
    "from numpy import array\n",
    "from tensorflow.keras.preprocessing.text import one_hot\n",
    "from tensorflow.keras.preprocessing.sequence import pad_sequences\n",
    "from tensorflow.keras.models import Sequential\n",
    "from tensorflow.keras.layers import Flatten, Embedding, Dense"
   ]
  },
  {
   "cell_type": "markdown",
   "metadata": {
    "id": "dJ7UlNZfoBZX"
   },
   "source": [
    "We create a neural network that classifies restaurant reviews according to positive or negative.  This neural network can accept strings as input, such as given here.  This code also includes positive or negative labels for each review."
   ]
  },
  {
   "cell_type": "code",
   "execution_count": 8,
   "metadata": {
    "id": "vr20wr0ZoBZX"
   },
   "outputs": [],
   "source": [
    "# Define 10 resturant reviews.\n",
    "reviews = [\n",
    "    'Never coming back!',\n",
    "    'Horrible service',\n",
    "    'Rude waitress',\n",
    "    'Cold food.',\n",
    "    'Horrible food!',\n",
    "    'Awesome',\n",
    "    'Awesome service!',\n",
    "    'Rocks!',\n",
    "    'poor work',\n",
    "    'Couldn\\'t have done better']\n",
    "\n",
    "# Define labels (1=negative, 0=positive)\n",
    "labels = array([1, 1, 1, 1, 1, 0, 0, 0, 0, 0])\n"
   ]
  },
  {
   "cell_type": "markdown",
   "metadata": {
    "id": "ID5bpFo2oBZX"
   },
   "source": [
    "Notice that the second to the last label is incorrect.  Errors such as this are not too out of the ordinary, as most training data could have some noise.\n",
    "\n",
    "We define a vocabulary size of 50 words.  Though we do not have 50 words, it is okay to use a value larger than needed.  If there are more than 50 words, the least frequently used words in the training set are automatically dropped by the embedding layer during training.  For input, we one-hot encode the strings.  We use the TensorFlow one-hot encoding method here rather than Scikit-Learn. Scikit-learn would expand these strings to the 0's and 1's as we would typically see for dummy variables.  TensorFlow translates all words to index values and replaces each word with that index."
   ]
  },
  {
   "cell_type": "code",
   "execution_count": 9,
   "metadata": {
    "colab": {
     "base_uri": "https://localhost:8080/"
    },
    "id": "aq0ph8hYoBZX",
    "outputId": "886877b4-2ce1-48d3-bb68-61bbd5785b42"
   },
   "outputs": [
    {
     "name": "stdout",
     "output_type": "stream",
     "text": [
      "Encoded reviews: [[9, 42, 7], [14, 9], [23, 21], [45, 21], [14, 21], [35], [35, 9], [9], [12, 10], [27, 15, 11, 19]]\n"
     ]
    }
   ],
   "source": [
    "VOCAB_SIZE = 50\n",
    "encoded_reviews = [one_hot(d, VOCAB_SIZE) for d in reviews]\n",
    "print(f\"Encoded reviews: {encoded_reviews}\")\n"
   ]
  },
  {
   "cell_type": "markdown",
   "metadata": {
    "id": "XQ2VeMHGoBZX"
   },
   "source": [
    "The program one-hot encodes these reviews to word indexes; however, their lengths are different.  We pad these reviews to 4 words and truncate any words beyond the fourth word."
   ]
  },
  {
   "cell_type": "code",
   "execution_count": 10,
   "metadata": {
    "colab": {
     "base_uri": "https://localhost:8080/"
    },
    "id": "tfrvYtaBoBZX",
    "outputId": "877076a6-c379-4b4f-c94b-0db19ae4d61b"
   },
   "outputs": [
    {
     "name": "stdout",
     "output_type": "stream",
     "text": [
      "[[ 9 42  7  0]\n",
      " [14  9  0  0]\n",
      " [23 21  0  0]\n",
      " [45 21  0  0]\n",
      " [14 21  0  0]\n",
      " [35  0  0  0]\n",
      " [35  9  0  0]\n",
      " [ 9  0  0  0]\n",
      " [12 10  0  0]\n",
      " [27 15 11 19]]\n"
     ]
    }
   ],
   "source": [
    "MAX_LENGTH = 4\n",
    "\n",
    "padded_reviews = pad_sequences(encoded_reviews, maxlen=MAX_LENGTH,\n",
    "                               padding='post')\n",
    "print(padded_reviews)\n"
   ]
  },
  {
   "cell_type": "markdown",
   "metadata": {
    "id": "nwMJm4ztoBZX"
   },
   "source": [
    "As specified by the **padding=post** setting, each review is padded by appending zeros at the end, as specified by the **padding=post** setting.\n",
    "\n",
    "Next, we create a neural network to learn to classify these reviews. "
   ]
  },
  {
   "cell_type": "code",
   "execution_count": 11,
   "metadata": {
    "colab": {
     "base_uri": "https://localhost:8080/"
    },
    "id": "GK2yiTFRoBZX",
    "outputId": "c23f9d36-ae89-4ef6-9e1a-788f1977b918"
   },
   "outputs": [
    {
     "name": "stdout",
     "output_type": "stream",
     "text": [
      "Model: \"sequential_2\"\n",
      "_________________________________________________________________\n",
      "Layer (type)                 Output Shape              Param #   \n",
      "=================================================================\n",
      "embedding_2 (Embedding)      (None, 4, 8)              400       \n",
      "_________________________________________________________________\n",
      "flatten (Flatten)            (None, 32)                0         \n",
      "_________________________________________________________________\n",
      "dense (Dense)                (None, 1)                 33        \n",
      "=================================================================\n",
      "Total params: 433\n",
      "Trainable params: 433\n",
      "Non-trainable params: 0\n",
      "_________________________________________________________________\n",
      "None\n"
     ]
    }
   ],
   "source": [
    "model = Sequential()\n",
    "embedding_layer = Embedding(VOCAB_SIZE, 8, input_length=MAX_LENGTH)\n",
    "model.add(embedding_layer)\n",
    "model.add(Flatten())\n",
    "model.add(Dense(1, activation='sigmoid'))\n",
    "model.compile(optimizer='adam', loss='binary_crossentropy',\n",
    "              metrics=['acc'])\n",
    "\n",
    "print(model.summary())\n"
   ]
  },
  {
   "cell_type": "markdown",
   "metadata": {
    "id": "jvpQk1GXoBZX"
   },
   "source": [
    "This network accepts four integer inputs that specify the indexes of a padded movie review. The first embedding layer converts these four indexes into four length vectors 8. These vectors come from the lookup table that contains 50 (VOCAB_SIZE) rows of vectors of length 8. This encoding is evident by the 400 (8 times 50) parameters in the embedding layer. The output size from the embedding layer is 32 (4 words expressed as 8-number embedded vectors). A single output neuron is connected to the embedding layer by 33 weights (32 from the embedding layer and a single bias neuron). Because this is a single-class classification network, we use the sigmoid activation function and binary_crossentropy.\n",
    "\n",
    "The program now trains the neural network. The embedding lookup and dense 33 weights are updated to produce a better score."
   ]
  },
  {
   "cell_type": "code",
   "execution_count": 12,
   "metadata": {
    "colab": {
     "base_uri": "https://localhost:8080/"
    },
    "id": "BkRJvhz7oBZY",
    "outputId": "49c3fb2f-ae02-4627-dee1-896e516eb446"
   },
   "outputs": [
    {
     "data": {
      "text/plain": [
       "<tensorflow.python.keras.callbacks.History at 0x1d30fa5c190>"
      ]
     },
     "execution_count": 12,
     "metadata": {},
     "output_type": "execute_result"
    }
   ],
   "source": [
    "# fit the model\n",
    "model.fit(padded_reviews, labels, epochs=100, verbose=0)\n"
   ]
  },
  {
   "cell_type": "markdown",
   "metadata": {
    "id": "m8306knWoBZY"
   },
   "source": [
    "We can see the learned embeddings.  Think of each word's vector as a location in the 8 dimension space where words associated with positive reviews are close to other words.  Similarly, training places negative reviews close to each other.  In addition to the training setting these embeddings, the 33 weights between the embedding layer and output neuron similarly learn to transform these embeddings into an actual prediction.  You can see these embeddings here."
   ]
  },
  {
   "cell_type": "code",
   "execution_count": 13,
   "metadata": {
    "colab": {
     "base_uri": "https://localhost:8080/"
    },
    "id": "bt_4XhUooBZY",
    "outputId": "a1e0e5f5-ca83-45dc-ae17-9277b46ccf34"
   },
   "outputs": [
    {
     "name": "stdout",
     "output_type": "stream",
     "text": [
      "(50, 8)\n",
      "[array([[ 1.35023564e-01, -1.02895461e-01, -1.19495116e-01,\n",
      "        -1.29351303e-01, -7.90727660e-02,  9.17939395e-02,\n",
      "         9.20079201e-02,  1.14221409e-01],\n",
      "       [-4.78599221e-03,  3.80156897e-02, -2.85736471e-03,\n",
      "         1.62495486e-02,  2.48310827e-02,  8.74362886e-04,\n",
      "        -1.90549847e-02, -4.14300710e-04],\n",
      "       [-3.64602096e-02,  5.03417104e-03, -4.41656262e-03,\n",
      "         4.72053029e-02,  3.68510000e-02, -1.15816705e-02,\n",
      "        -3.92480940e-03, -1.33359544e-02],\n",
      "       [-3.43585610e-02,  4.57068197e-02, -4.18290012e-02,\n",
      "        -2.10601576e-02, -1.94263458e-02, -4.92715500e-02,\n",
      "         2.45969929e-02, -1.72461756e-02],\n",
      "       [-4.08391580e-02,  4.23473231e-02,  1.38023011e-02,\n",
      "        -1.48387179e-02, -1.86042674e-02, -2.52524149e-02,\n",
      "         2.61281393e-02, -2.42151506e-02],\n",
      "       [-3.46100554e-02, -3.37571502e-02, -3.83336768e-02,\n",
      "         3.23278196e-02,  2.34506242e-02,  3.54191698e-02,\n",
      "         2.99644209e-02, -4.52305563e-02],\n",
      "       [-8.44417885e-03,  7.88235664e-03,  2.10851915e-02,\n",
      "        -4.95282523e-02, -1.94754601e-02,  4.46869172e-02,\n",
      "         7.14516640e-03, -7.21336529e-03],\n",
      "       [ 5.54371513e-02, -1.26383707e-01,  7.60241970e-02,\n",
      "        -1.19171418e-01, -1.52170375e-01, -8.34719837e-02,\n",
      "         1.46636859e-01, -1.23829566e-01],\n",
      "       [ 3.67792286e-02,  3.30838673e-02,  6.03032112e-03,\n",
      "        -2.47013699e-02, -1.82002559e-02, -8.39639455e-04,\n",
      "         3.31921242e-02,  4.24343608e-02],\n",
      "       [-7.72558898e-02,  1.42999087e-02, -7.68426210e-02,\n",
      "        -7.44216144e-02, -9.95877534e-02,  3.50565687e-02,\n",
      "        -1.55824527e-01,  1.29507005e-01],\n",
      "       [ 1.02446929e-01, -9.33406949e-02, -8.57540220e-02,\n",
      "        -1.57462522e-01, -7.66858310e-02,  1.38969302e-01,\n",
      "         1.68689027e-01, -1.61469400e-01],\n",
      "       [-1.39315933e-01,  7.82148018e-02, -1.32134244e-01,\n",
      "         1.33942857e-01,  1.35456219e-01,  6.26366585e-02,\n",
      "        -6.53686076e-02,  6.77179694e-02],\n",
      "       [-9.56741571e-02,  7.43294582e-02, -6.03330806e-02,\n",
      "        -6.71964362e-02, -5.59852161e-02, -1.47662759e-01,\n",
      "        -1.38322473e-01,  1.02805823e-01],\n",
      "       [-3.02727111e-02,  2.95843743e-02, -1.50761753e-03,\n",
      "         1.39372684e-02, -2.91930195e-02,  3.82899381e-02,\n",
      "        -4.32337634e-02,  2.25817822e-02],\n",
      "       [ 9.65083688e-02, -1.42361701e-01,  5.89698367e-02,\n",
      "         5.02281524e-02,  1.41823635e-01,  1.46628261e-01,\n",
      "         7.02690333e-02, -1.06361955e-01],\n",
      "       [ 7.17477277e-02, -9.60451886e-02, -9.55425799e-02,\n",
      "        -7.01755956e-02, -1.13194078e-01,  6.67383075e-02,\n",
      "         1.66589737e-01, -1.19779147e-01],\n",
      "       [ 1.56544931e-02, -1.94437858e-02,  4.07699011e-02,\n",
      "         9.25936550e-03,  2.17814185e-02,  4.18531038e-02,\n",
      "         4.61054780e-02, -3.25838551e-02],\n",
      "       [ 7.68462569e-03,  2.25022770e-02, -7.28716701e-03,\n",
      "        -1.07856840e-03,  6.72340393e-04, -4.42496426e-02,\n",
      "         8.77752155e-03, -1.62100792e-02],\n",
      "       [-2.59330031e-02,  4.47918810e-02, -1.65014639e-02,\n",
      "         2.51113661e-02, -1.26002319e-02, -2.21170112e-03,\n",
      "        -3.83188501e-02, -1.23262629e-02],\n",
      "       [-1.16191871e-01,  6.71694055e-02, -1.25638753e-01,\n",
      "         1.08366564e-01,  5.22787832e-02,  1.23708047e-01,\n",
      "        -1.32445171e-01, -9.23236087e-02],\n",
      "       [ 2.79500745e-02,  1.11104138e-02, -4.23448794e-02,\n",
      "         4.31286953e-02, -8.76539946e-03,  8.51304457e-03,\n",
      "        -4.30835746e-02, -3.06943059e-02],\n",
      "       [-7.60576054e-02,  1.33368209e-01,  1.48198545e-01,\n",
      "         1.22898959e-01,  1.03030995e-01, -1.35036170e-01,\n",
      "        -8.44045132e-02,  9.39715728e-02],\n",
      "       [-3.29218507e-02,  4.72354554e-02,  1.29930489e-02,\n",
      "         1.00934021e-02, -4.50495854e-02, -3.16943079e-02,\n",
      "         4.33374532e-02,  4.67102863e-02],\n",
      "       [ 1.41378790e-01, -6.09869286e-02,  1.28016338e-01,\n",
      "         4.71119806e-02,  1.45317450e-01,  1.26654103e-01,\n",
      "         1.30062804e-01, -1.35925412e-01],\n",
      "       [ 4.14520390e-02, -3.20265442e-02,  9.28116962e-03,\n",
      "        -2.69909147e-02, -3.44089493e-02,  3.07078101e-02,\n",
      "        -3.25886160e-02,  4.19015326e-02],\n",
      "       [-3.34271193e-02,  2.90047377e-04, -4.07075398e-02,\n",
      "         4.63855155e-02,  2.38578208e-02, -2.10808050e-02,\n",
      "         8.16695765e-03,  5.82200289e-03],\n",
      "       [-2.29368210e-02,  2.28118636e-02,  4.97507565e-02,\n",
      "         3.56722362e-02, -1.22766607e-02, -2.51986980e-02,\n",
      "        -2.16240287e-02,  7.72597641e-03],\n",
      "       [-9.72356275e-02,  7.21789151e-02, -1.06330283e-01,\n",
      "        -7.76917562e-02, -8.94832909e-02, -6.45465776e-02,\n",
      "        -5.16835861e-02,  9.11899880e-02],\n",
      "       [ 1.37402900e-02, -2.79056784e-02,  4.80251051e-02,\n",
      "        -3.68221886e-02, -4.82517593e-02, -1.48412101e-02,\n",
      "         3.64489816e-02,  1.29381306e-02],\n",
      "       [ 1.72936432e-02,  4.30715084e-03,  1.17333978e-03,\n",
      "         3.11186649e-02,  3.15861963e-02, -1.50368325e-02,\n",
      "        -6.74391910e-03,  4.61836904e-03],\n",
      "       [-4.24740091e-02, -1.98286418e-02,  8.57378170e-03,\n",
      "         9.00849700e-05,  5.80743700e-03,  4.58608009e-02,\n",
      "         3.41085456e-02,  2.49949209e-02],\n",
      "       [ 3.16687562e-02,  1.17068775e-02, -3.50291356e-02,\n",
      "         1.99569352e-02,  4.57768105e-02, -4.16545048e-02,\n",
      "         3.63313816e-02, -2.79955752e-02],\n",
      "       [ 4.68924530e-02, -2.06547864e-02, -3.58164534e-02,\n",
      "        -2.84842495e-02, -1.58015974e-02, -2.46199723e-02,\n",
      "         4.04635407e-02,  4.48257588e-02],\n",
      "       [ 2.54958980e-02,  4.44802530e-02,  3.22313234e-03,\n",
      "        -4.74252366e-02,  3.66080552e-04,  2.26955079e-02,\n",
      "         4.96448167e-02, -2.92826537e-02],\n",
      "       [-1.51104853e-03,  4.92374040e-02,  3.45772021e-02,\n",
      "         1.44581534e-02, -4.62874658e-02,  1.80932023e-02,\n",
      "         4.86865751e-02,  1.57505907e-02],\n",
      "       [-9.03043821e-02,  1.23223990e-01, -1.23165682e-01,\n",
      "        -1.19863354e-01, -1.08889148e-01, -7.91414976e-02,\n",
      "        -1.34607464e-01,  1.28777340e-01],\n",
      "       [-1.71389468e-02,  4.07514833e-02,  1.95592903e-02,\n",
      "        -1.53722055e-02, -4.31112759e-02,  1.28789879e-02,\n",
      "        -3.69857773e-02,  4.73437570e-02],\n",
      "       [ 3.70125212e-02,  2.25062110e-02,  3.18063535e-02,\n",
      "         1.93747915e-02,  3.06396745e-02,  3.49145643e-02,\n",
      "        -4.59042452e-02,  3.72579955e-02],\n",
      "       [ 4.03799117e-04, -2.36165058e-02, -2.87027005e-02,\n",
      "        -3.89442593e-03,  2.66184844e-02, -9.55319405e-03,\n",
      "         1.17404386e-03,  2.03691423e-04],\n",
      "       [-4.95826490e-02, -4.80693690e-02, -2.68969890e-02,\n",
      "         2.36477517e-02, -2.12848783e-02, -4.20504212e-02,\n",
      "         4.08237837e-02, -2.14139577e-02],\n",
      "       [-4.39466164e-03, -3.76497395e-02,  1.54159181e-02,\n",
      "         2.57983692e-02, -4.34924848e-02, -4.34916876e-02,\n",
      "         3.22448723e-02,  3.04052569e-02],\n",
      "       [-4.55781482e-02, -4.08116467e-02, -1.87270753e-02,\n",
      "         5.83614036e-03, -3.48073244e-03,  1.75023340e-02,\n",
      "        -4.75086570e-02, -3.42655182e-03],\n",
      "       [-1.14190474e-01,  1.15993857e-01,  1.09009400e-01,\n",
      "         8.86806995e-02,  1.48798957e-01, -8.48528519e-02,\n",
      "        -1.29729286e-01,  1.69280097e-01],\n",
      "       [-4.66075540e-02,  1.77976005e-02,  4.71690036e-02,\n",
      "        -1.19134560e-02,  3.55289690e-02, -9.60441679e-03,\n",
      "        -3.21214087e-02,  3.62471230e-02],\n",
      "       [-1.57050379e-02, -9.12521034e-03, -1.12564079e-02,\n",
      "         1.65659301e-02, -4.97435443e-02,  3.72964032e-02,\n",
      "        -4.65931892e-02, -1.55126080e-02],\n",
      "       [ 1.40968084e-01, -1.50947049e-01,  8.13183859e-02,\n",
      "         9.23042744e-02,  1.00952074e-01,  6.33749589e-02,\n",
      "         8.56606364e-02, -9.57948565e-02],\n",
      "       [-2.55528837e-03,  2.96738036e-02, -4.60541360e-02,\n",
      "        -7.63941929e-03, -2.55147815e-02,  8.57900456e-03,\n",
      "        -3.80374081e-02,  1.72207020e-02],\n",
      "       [-4.25313003e-02,  3.23444493e-02, -4.70770523e-03,\n",
      "        -3.15241218e-02, -4.49777506e-02,  3.78111266e-02,\n",
      "         7.91740417e-03,  4.37677614e-02],\n",
      "       [ 2.83373855e-02, -3.05327177e-02, -4.00412455e-02,\n",
      "         1.02911219e-02,  2.72429474e-02,  2.16236748e-02,\n",
      "         1.95246376e-02,  3.70931067e-02],\n",
      "       [ 4.91617583e-02,  3.93487550e-02,  2.33425833e-02,\n",
      "        -3.65315191e-02,  2.69344188e-02, -2.26994157e-02,\n",
      "        -8.67860392e-03, -2.48221643e-02]], dtype=float32)]\n"
     ]
    }
   ],
   "source": [
    "print(embedding_layer.get_weights()[0].shape)\n",
    "print(embedding_layer.get_weights())\n"
   ]
  },
  {
   "cell_type": "markdown",
   "metadata": {
    "id": "X7sIWHLvoBZY"
   },
   "source": [
    "We can now evaluate this neural network's accuracy, including the embeddings and the learned dense layer.  "
   ]
  },
  {
   "cell_type": "code",
   "execution_count": 14,
   "metadata": {
    "colab": {
     "base_uri": "https://localhost:8080/"
    },
    "id": "of3oQrPxoBZY",
    "outputId": "d33fc5a1-97bc-4b55-ed99-f2ed4a7e3999"
   },
   "outputs": [
    {
     "name": "stdout",
     "output_type": "stream",
     "text": [
      "Accuracy: 1.0\n"
     ]
    }
   ],
   "source": [
    "loss, accuracy = model.evaluate(padded_reviews, labels, verbose=0)\n",
    "print(f'Accuracy: {accuracy}')\n"
   ]
  },
  {
   "cell_type": "markdown",
   "metadata": {
    "id": "PMmvVz92oBZY"
   },
   "source": [
    "The accuracy is a perfect 1.0, indicating there is likely overfitting. It would be good to use early stopping to not overfit for a more complex data set."
   ]
  },
  {
   "cell_type": "code",
   "execution_count": 15,
   "metadata": {
    "colab": {
     "base_uri": "https://localhost:8080/"
    },
    "id": "DkkNptWOoBZY",
    "outputId": "38c38dfa-d4fa-4728-b507-2157d0ce5ed4"
   },
   "outputs": [
    {
     "name": "stdout",
     "output_type": "stream",
     "text": [
      "Log-loss: 0.45874184370040894\n"
     ]
    }
   ],
   "source": [
    "print(f'Log-loss: {loss}')\n"
   ]
  },
  {
   "cell_type": "markdown",
   "metadata": {
    "id": "X7pZXMn7oBZY"
   },
   "source": [
    "However, the loss is not perfect. Even though the predicted probabilities indicated a correct prediction in every case, the program did not achieve absolute confidence in each correct answer. The lack of confidence was likely due to the small amount of noise (previously discussed) in the data set. Some words that appeared in both positive and negative reviews contributed to this lack of absolute certainty. "
   ]
  },
  {
   "cell_type": "code",
   "execution_count": null,
   "metadata": {
    "id": "pgiWS_dMoBZY"
   },
   "outputs": [],
   "source": []
  },
  {
   "cell_type": "code",
   "execution_count": null,
   "metadata": {},
   "outputs": [],
   "source": []
  }
 ],
 "metadata": {
  "anaconda-cloud": {},
  "colab": {
   "collapsed_sections": [],
   "name": "t81_558_class_11_05_embedding.ipynb",
   "provenance": []
  },
  "kernelspec": {
   "display_name": "Python 3",
   "language": "python",
   "name": "python3"
  },
  "language_info": {
   "codemirror_mode": {
    "name": "ipython",
    "version": 3
   },
   "file_extension": ".py",
   "mimetype": "text/x-python",
   "name": "python",
   "nbconvert_exporter": "python",
   "pygments_lexer": "ipython3",
   "version": "3.8.8"
  },
  "varInspector": {
   "cols": {
    "lenName": 16,
    "lenType": 16,
    "lenVar": 40
   },
   "kernels_config": {
    "python": {
     "delete_cmd_postfix": "",
     "delete_cmd_prefix": "del ",
     "library": "var_list.py",
     "varRefreshCmd": "print(var_dic_list())"
    },
    "r": {
     "delete_cmd_postfix": ") ",
     "delete_cmd_prefix": "rm(",
     "library": "var_list.r",
     "varRefreshCmd": "cat(var_dic_list()) "
    }
   },
   "types_to_exclude": [
    "module",
    "function",
    "builtin_function_or_method",
    "instance",
    "_Feature"
   ],
   "window_display": false
  }
 },
 "nbformat": 4,
 "nbformat_minor": 4
}
