{
 "cells": [
  {
   "cell_type": "code",
   "execution_count": 32,
   "metadata": {},
   "outputs": [],
   "source": [
    "import numpy as np\n"
   ]
  },
  {
   "cell_type": "code",
   "execution_count": 33,
   "metadata": {},
   "outputs": [],
   "source": [
    "def sigmoid(x):\n",
    "    return 1 / (1 + np.exp(-x))"
   ]
  },
  {
   "cell_type": "markdown",
   "metadata": {},
   "source": [
    "Red simple\n",
    "    - 2 entradas\n",
    "    - capa oculta con dos neuronas (h1, h2)\n",
    "    - salida una neurona\n"
   ]
  },
  {
   "cell_type": "code",
   "execution_count": 34,
   "metadata": {},
   "outputs": [],
   "source": [
    "w1 = np.random.normal()\n",
    "w2 = np.random.normal()\n",
    "b1 = np.random.normal()\n",
    "    \n",
    "\n",
    "w3 = np.random.normal()\n",
    "w4 = np.random.normal()\n",
    "b2 = np.random.normal()\n",
    "       \n",
    "    \n",
    "w5 = np.random.normal()\n",
    "w6 = np.random.normal()\n",
    "b3 = np.random.normal()\n",
    "\n",
    "def Prediccion(x):\n",
    "    # x is a numpy array with 2 elements.\n",
    "    h1 = sigmoid(w1 * x[0] + w2 * x[1] + b1)\n",
    "    h2 = sigmoid(w3 * x[0] + w4 * x[1] + b2)\n",
    "    salida = sigmoid(w5 * h1 + w6 * h2 + b3)\n",
    "    return salida\n",
    "\n",
    "  "
   ]
  },
  {
   "cell_type": "code",
   "execution_count": 35,
   "metadata": {},
   "outputs": [],
   "source": [
    "\n",
    "datos = np.array([\n",
    "  [60, 90],  # A\n",
    "  [80, 60],   # B\n",
    "  [30, 40],   # C\n",
    "  [90, 90], # D\n",
    "])\n",
    "salida = np.array([\n",
    "  0.8, # A 1\n",
    "  0.4, # B 0\n",
    "  0.2, # C 0\n",
    "  0.9, # D 1\n",
    "])\n"
   ]
  },
  {
   "cell_type": "code",
   "execution_count": 36,
   "metadata": {},
   "outputs": [],
   "source": [
    "\n",
    "E = np.array([80, 90]) \n",
    "F= np.array([20, 70])  "
   ]
  },
  {
   "cell_type": "code",
   "execution_count": 37,
   "metadata": {},
   "outputs": [
    {
     "data": {
      "text/plain": [
       "0.2362963502368175"
      ]
     },
     "execution_count": 37,
     "metadata": {},
     "output_type": "execute_result"
    }
   ],
   "source": [
    "Prediccion(E)"
   ]
  },
  {
   "cell_type": "code",
   "execution_count": 38,
   "metadata": {},
   "outputs": [
    {
     "data": {
      "text/plain": [
       "0.14701748176498178"
      ]
     },
     "execution_count": 38,
     "metadata": {},
     "output_type": "execute_result"
    }
   ],
   "source": [
    "Prediccion(F)"
   ]
  },
  {
   "cell_type": "code",
   "execution_count": 39,
   "metadata": {},
   "outputs": [],
   "source": [
    "def FuncionCosto(y_true, y_pred):\n",
    "  # y_true and y_pred are numpy arrays of the same length.\n",
    "  return ((y_true - y_pred) ** 2).mean()"
   ]
  },
  {
   "cell_type": "code",
   "execution_count": 40,
   "metadata": {},
   "outputs": [],
   "source": [
    "def deriv_sigmoid(x):\n",
    "  # Derivative of sigmoid: f'(x) = f(x) * (1 - f(x))\n",
    "    fx = sigmoid(x)\n",
    "    return fx * (1 - fx)"
   ]
  },
  {
   "cell_type": "code",
   "execution_count": null,
   "metadata": {},
   "outputs": [],
   "source": []
  },
  {
   "cell_type": "code",
   "execution_count": null,
   "metadata": {},
   "outputs": [],
   "source": [
    "dJ/dw5=dJ/ypred*dypred/w5"
   ]
  },
  {
   "cell_type": "code",
   "execution_count": 41,
   "metadata": {},
   "outputs": [
    {
     "name": "stdout",
     "output_type": "stream",
     "text": [
      "Epoca 0 loss: 0.137\n",
      "Epoca 0 loss: 0.137\n",
      "Epoca 0 loss: 0.137\n",
      "Epoca 0 loss: 0.135\n",
      "Epoca 10 loss: 0.108\n",
      "Epoca 10 loss: 0.108\n",
      "Epoca 10 loss: 0.108\n",
      "Epoca 10 loss: 0.107\n",
      "Epoca 20 loss: 0.088\n",
      "Epoca 20 loss: 0.088\n",
      "Epoca 20 loss: 0.088\n",
      "Epoca 20 loss: 0.087\n",
      "Epoca 30 loss: 0.073\n",
      "Epoca 30 loss: 0.073\n",
      "Epoca 30 loss: 0.073\n",
      "Epoca 30 loss: 0.072\n",
      "Epoca 40 loss: 0.062\n",
      "Epoca 40 loss: 0.061\n",
      "Epoca 40 loss: 0.061\n",
      "Epoca 40 loss: 0.061\n",
      "Epoca 50 loss: 0.053\n",
      "Epoca 50 loss: 0.053\n",
      "Epoca 50 loss: 0.053\n",
      "Epoca 50 loss: 0.052\n",
      "Epoca 60 loss: 0.046\n",
      "Epoca 60 loss: 0.046\n",
      "Epoca 60 loss: 0.046\n",
      "Epoca 60 loss: 0.046\n",
      "Epoca 70 loss: 0.041\n",
      "Epoca 70 loss: 0.041\n",
      "Epoca 70 loss: 0.041\n",
      "Epoca 70 loss: 0.040\n",
      "Epoca 80 loss: 0.036\n",
      "Epoca 80 loss: 0.036\n",
      "Epoca 80 loss: 0.036\n",
      "Epoca 80 loss: 0.036\n",
      "Epoca 90 loss: 0.033\n",
      "Epoca 90 loss: 0.033\n",
      "Epoca 90 loss: 0.033\n",
      "Epoca 90 loss: 0.032\n"
     ]
    }
   ],
   "source": [
    "  \n",
    "learn_rate = 0.1\n",
    "epocas = 100 # number of times to loop through the entire dataset\n",
    "\n",
    "for epoch in range(epocas):\n",
    "    for x, y_true in zip(data, all_y_trues):\n",
    "        sum_h1 = w1 * x[0] + w2 * x[1] + b1\n",
    "        h1 = sigmoid(sum_h1)\n",
    "\n",
    "        sum_h2 = w3 * x[0] +w4 * x[1] + b2\n",
    "        h2 = sigmoid(sum_h2)\n",
    "\n",
    "        sum_o1 = w5 * h1 + w6 * h2 + b3\n",
    "        o1 = sigmoid(sum_o1)\n",
    "        y_pred = o1\n",
    "\n",
    "        # --- Calculate partial derivatives.\n",
    "        # --- Naming: d_L_d_w1 represents \"partial L / partial w1\"\n",
    "        d_L_d_ypred = -2 * (y_true - y_pred)\n",
    "\n",
    "        # Neuron o1\n",
    "        d_ypred_d_w5 = h1 * deriv_sigmoid(sum_o1)\n",
    "        d_ypred_d_w6 = h2 * deriv_sigmoid(sum_o1)\n",
    "        d_ypred_d_b3 = deriv_sigmoid(sum_o1)\n",
    "\n",
    "        d_ypred_d_h1 = w5 * deriv_sigmoid(sum_o1)\n",
    "        d_ypred_d_h2 = w6 * deriv_sigmoid(sum_o1)\n",
    "\n",
    "        # Neuron h1\n",
    "        d_h1_d_w1 = x[0] * deriv_sigmoid(sum_h1)\n",
    "        d_h1_d_w2 = x[1] * deriv_sigmoid(sum_h1)\n",
    "        d_h1_d_b1 = deriv_sigmoid(sum_h1)\n",
    "\n",
    "        # Neuron h2\n",
    "        d_h2_d_w3 = x[0] * deriv_sigmoid(sum_h2)\n",
    "        d_h2_d_w4 = x[1] * deriv_sigmoid(sum_h2)\n",
    "        d_h2_d_b2 = deriv_sigmoid(sum_h2)\n",
    "\n",
    "        # --- Update weights and biases\n",
    "        # Neuron h1\n",
    "        w1 -= learn_rate * d_L_d_ypred * d_ypred_d_h1 * d_h1_d_w1\n",
    "        w2 -= learn_rate * d_L_d_ypred * d_ypred_d_h1 * d_h1_d_w2\n",
    "        b1 -= learn_rate * d_L_d_ypred * d_ypred_d_h1 * d_h1_d_b1\n",
    "\n",
    "        # Neuron h2\n",
    "        w3 -= learn_rate * d_L_d_ypred * d_ypred_d_h2 * d_h2_d_w3\n",
    "        w4 -= learn_rate * d_L_d_ypred * d_ypred_d_h2 * d_h2_d_w4\n",
    "        b2 -= learn_rate * d_L_d_ypred * d_ypred_d_h2 * d_h2_d_b2\n",
    "\n",
    "        # Neuron o1\n",
    "        w5 -= learn_rate * d_L_d_ypred * d_ypred_d_w5\n",
    "        w6 -= learn_rate * d_L_d_ypred * d_ypred_d_w6\n",
    "        b3 -= learn_rate * d_L_d_ypred * d_ypred_d_b3\n",
    "\n",
    "      # --- Calculate total loss at the end of each epoch\n",
    "        if epoch % 10 == 0:\n",
    "            y_preds = np.apply_along_axis(Prediccion, 1, data)\n",
    "            loss = FuncionCosto(all_y_trues, y_preds)\n",
    "            print(\"Epoca %d loss: %.3f\" % (epoch, loss))\n",
    "\n"
   ]
  },
  {
   "cell_type": "code",
   "execution_count": 42,
   "metadata": {},
   "outputs": [
    {
     "data": {
      "text/plain": [
       "0.13650616381461975"
      ]
     },
     "execution_count": 42,
     "metadata": {},
     "output_type": "execute_result"
    }
   ],
   "source": [
    "Prediccion(E)"
   ]
  },
  {
   "cell_type": "code",
   "execution_count": 43,
   "metadata": {},
   "outputs": [
    {
     "data": {
      "text/plain": [
       "0.13650767934009939"
      ]
     },
     "execution_count": 43,
     "metadata": {},
     "output_type": "execute_result"
    }
   ],
   "source": [
    "Prediccion([20, 20])"
   ]
  },
  {
   "cell_type": "code",
   "execution_count": 44,
   "metadata": {},
   "outputs": [
    {
     "data": {
      "text/plain": [
       "0.13650616381461556"
      ]
     },
     "execution_count": 44,
     "metadata": {},
     "output_type": "execute_result"
    }
   ],
   "source": [
    "Prediccion([90, 90])"
   ]
  },
  {
   "cell_type": "code",
   "execution_count": null,
   "metadata": {},
   "outputs": [],
   "source": []
  }
 ],
 "metadata": {
  "kernelspec": {
   "display_name": "Python 3",
   "language": "python",
   "name": "python3"
  },
  "language_info": {
   "codemirror_mode": {
    "name": "ipython",
    "version": 3
   },
   "file_extension": ".py",
   "mimetype": "text/x-python",
   "name": "python",
   "nbconvert_exporter": "python",
   "pygments_lexer": "ipython3",
   "version": "3.8.5"
  }
 },
 "nbformat": 4,
 "nbformat_minor": 5
}
