{
 "cells": [
  {
   "cell_type": "markdown",
   "metadata": {},
   "source": [
    "\n",
    "\n",
    "## Problemas de clasificación binaria, la regresión logística y una implementación con funciones\n"
   ]
  },
  {
   "cell_type": "code",
   "execution_count": 19,
   "metadata": {
    "id": "g-Z2gsvv0VrD"
   },
   "outputs": [],
   "source": [
    "import numpy as np\n",
    "import pandas as pd\n",
    "import matplotlib.pyplot as plt\n",
    "from sklearn.model_selection import train_test_split\n",
    "from sklearn.metrics import classification_report\n",
    "%matplotlib inline"
   ]
  },
  {
   "cell_type": "code",
   "execution_count": 20,
   "metadata": {
    "id": "GOnVOnql1djI"
   },
   "outputs": [],
   "source": [
    "x0 = 4; y0 = 4\n",
    "x1 = 4; y1 = 4\n",
    "radio_0 = 2\n",
    "radio_1 = 4\n",
    "\n",
    "angle = np.arange(0, np.pi*2, 0.05)\n",
    "r0 = radio_0 * np.random.rand(angle.shape[0])\n",
    "r1 = radio_1 * (np.random.rand(angle.shape[0]) + 1)\n",
    "\n",
    "x_int = r0 * np.cos(angle) + x0\n",
    "y_int = r0 * np.sin(angle) + y0\n",
    "\n",
    "x_ext = r1 * np.cos(angle) + x1\n",
    "y_ext = r1 * np.sin(angle) + y1\n",
    "\n",
    "z_int = np.zeros(x_ext.shape[0])\n",
    "z_ext = np.ones(x_ext.shape[0])"
   ]
  },
  {
   "cell_type": "code",
   "execution_count": 21,
   "metadata": {
    "colab": {
     "base_uri": "https://localhost:8080/",
     "height": 36
    },
    "id": "kicIAC8ljhVf",
    "outputId": "9c58ecd7-a49d-4f62-f819-6dbd0dcebe7d"
   },
   "outputs": [
    {
     "name": "stdout",
     "output_type": "stream",
     "text": [
      "126 5\n"
     ]
    }
   ],
   "source": [
    "m = angle.shape[0] # cantidad de muestras\n",
    "n = 5              # cantidad de variables\n",
    "print(m, n)"
   ]
  },
  {
   "cell_type": "code",
   "execution_count": 22,
   "metadata": {
    "colab": {
     "base_uri": "https://localhost:8080/",
     "height": 54
    },
    "id": "FCFibPQ1gJUd",
    "outputId": "64ba32ff-3d92-49d6-ccc1-2424f1c5454c"
   },
   "outputs": [
    {
     "name": "stdout",
     "output_type": "stream",
     "text": [
      "(252, 4)\n",
      "252\n"
     ]
    }
   ],
   "source": [
    "x = np.concatenate( (x_int, x_ext) , axis = 0 )\n",
    "y = np.concatenate( (y_int, y_ext) , axis = 0 )\n",
    "x_2 = x**2\n",
    "y_2 = y**2\n",
    "z = np.concatenate( (z_int, z_ext) , axis = 0 )\n",
    "\n",
    "X = (np.vstack((x,y,x_2,y_2))).T\n",
    "print(X.shape)\n",
    "\n",
    "Y = np.transpose(z)\n",
    "print(Y.shape[0])\n"
   ]
  },
  {
   "cell_type": "code",
   "execution_count": 5,
   "metadata": {
    "colab": {
     "base_uri": "https://localhost:8080/",
     "height": 288
    },
    "id": "GGT6UnPcar5A",
    "outputId": "f3aef55a-20d6-4529-c5f7-0e3199c19e82"
   },
   "outputs": [
    {
     "data": {
      "text/plain": [
       "[<matplotlib.lines.Line2D at 0x244b90ef6d0>]"
      ]
     },
     "execution_count": 5,
     "metadata": {},
     "output_type": "execute_result"
    },
    {
     "data": {
      "image/png": "[encoded data removed]",
      "text/plain": [
       "<Figure size 432x288 with 1 Axes>"
      ]
     },
     "metadata": {
      "needs_background": "light"
     },
     "output_type": "display_data"
    }
   ],
   "source": [
    "plt.plot(x_int, y_int, 'o')\n",
    "plt.plot(x_ext, y_ext, 'o')"
   ]
  },
  {
   "cell_type": "code",
   "execution_count": 23,
   "metadata": {
    "colab": {
     "base_uri": "https://localhost:8080/",
     "height": 92
    },
    "id": "Iz8kk_DK7Gr2",
    "outputId": "0b84eaad-2cf1-4493-c7ea-e266431906f0"
   },
   "outputs": [
    {
     "name": "stdout",
     "output_type": "stream",
     "text": [
      "Train Data shape: (189, 4)\n",
      "Train Labels shape: (189,)\n",
      "Evaluation Data shape: (63, 4)\n",
      "Evaluation Labels shape: (63,)\n"
     ]
    }
   ],
   "source": [
    "X_train, X_eval, y_train, y_eval = train_test_split(X, Y, test_size=0.25, random_state=50)\n",
    "print(\"Train Data shape: \" + str(X_train.shape))\n",
    "print(\"Train Labels shape: \" + str(y_train.shape))\n",
    "print(\"Evaluation Data shape: \" + str(X_eval.shape))\n",
    "print(\"Evaluation Labels shape: \" + str(y_eval.shape))"
   ]
  },
  {
   "cell_type": "code",
   "execution_count": 24,
   "metadata": {
    "colab": {
     "base_uri": "https://localhost:8080/",
     "height": 92
    },
    "id": "DX2qC9zC7Ii2",
    "outputId": "bdff5912-4dd8-4a42-dfb4-fd2c152fc420"
   },
   "outputs": [
    {
     "name": "stdout",
     "output_type": "stream",
     "text": [
      "Train Data shape: (4, 189)\n",
      "Train Labels shape: (189,)\n",
      "Evaluation Data shape: (4, 63)\n",
      "Evaluation Labels shape: (63,)\n"
     ]
    }
   ],
   "source": [
    "X_train = X_train.T\n",
    "X_eval = X_eval.T\n",
    "y_train = y_train.T\n",
    "y_eval = y_eval.T\n",
    "print(\"Train Data shape: \" + str(X_train.shape))\n",
    "print(\"Train Labels shape: \" + str(y_train.shape))\n",
    "print(\"Evaluation Data shape: \" + str(X_eval.shape))\n",
    "print(\"Evaluation Labels shape: \" + str(y_eval.shape))"
   ]
  },
  {
   "cell_type": "code",
   "execution_count": 25,
   "metadata": {
    "id": "3qi7e7mubiai"
   },
   "outputs": [],
   "source": [
    "def sigmoid(z):\n",
    "    \"\"\"\n",
    "    Compute the sigmoid of z\n",
    "\n",
    "    Arguments:\n",
    "    z -- A scalar or numpy array of any size.\n",
    "\n",
    "    Return:\n",
    "    s -- sigmoid(z)\n",
    "    \"\"\"\n",
    "    s = 1 / (1 + np.exp(-z))   \n",
    "    \n",
    "    return s"
   ]
  },
  {
   "cell_type": "code",
   "execution_count": 26,
   "metadata": {
    "id": "2b8LGSpS6d2x"
   },
   "outputs": [],
   "source": [
    "def initialize_parameters(dim):\n",
    "    \n",
    "    \"\"\"\"\n",
    "    This function creates a vector of zeros with shape (dim, 1) for w and initialize b to 0.\n",
    "    \n",
    "    Arguments:\n",
    "        dim -- Number of dimentions or features in this case\n",
    "    \n",
    "    Return:\n",
    "        parameters -- python dictionary containing your parameters:\n",
    "                    w -- weight matrix of shape (dim, 1)\n",
    "                    b -- bias of value 0\n",
    "        \n",
    "    \"\"\"\n",
    "    \n",
    "    w = np.zeros((dim, 1), dtype = float)\n",
    "    b = 0\n",
    "    \n",
    "    return w, b"
   ]
  },
  {
   "cell_type": "code",
   "execution_count": 27,
   "metadata": {
    "id": "UAK6UtUD6hT_"
   },
   "outputs": [],
   "source": [
    "def propagate(w, b, X, Y, lambd):\n",
    "    \n",
    "    \n",
    "    \"\"\"\n",
    "    This function compute the cost and gradient of the propogation\n",
    "    Arguments:\n",
    "        w -- weights, a numpy array of size (no. of features, 1)\n",
    "        b -- bias, a scalar\n",
    "        X -- data of size(no. of features, no. of examples)\n",
    "        Y -- output labels of size(1, no. of examples)\n",
    "        \n",
    "    return:\n",
    "        grads -- dictionary contain the gradient of weights vector and biases with keys dw and db respectively\n",
    "        cost -- computed cost over all examples\n",
    "    \"\"\"\n",
    "    m = Y.shape[0]  # number of examples\n",
    "    A = sigmoid(np.dot(w.T, X) + b) # A is of shape(1, m)\n",
    "    \n",
    "    cross_entropy_cost = -(np.dot(np.log(A), Y.T) + np.dot(np.log(1 - A), (1 - Y.T)))/m\n",
    "    L2_regularization_cost = (np.sum(np.square(w))) * (lambd / (2 * m))\n",
    "    \n",
    "    cost = cross_entropy_cost + L2_regularization_cost\n",
    "    \n",
    "    dw = np.dot(X, (A-Y).T)/m + (lambd/m * w)\n",
    "    db = np.sum(np.array([A-Y]))/m\n",
    "    \n",
    "    grads = {\"dw\": dw,\n",
    "             \"db\": db}\n",
    "    cost = np.squeeze(cost)    \n",
    "        \n",
    "    return grads, cost"
   ]
  },
  {
   "cell_type": "code",
   "execution_count": 28,
   "metadata": {
    "id": "XA9r3hfP6jz_"
   },
   "outputs": [],
   "source": [
    "def optimize(w, b, X, Y, num_iterations, learning_rate, lambd, print_cost = False):\n",
    "    \"\"\"\n",
    "    This function optimizes w and b by running a gradient descent algorithm\n",
    "    \n",
    "    Arguments:\n",
    "        w -- weights, a numpy array of size (no. of features,, 1)\n",
    "        b -- bias, a scalar\n",
    "        X -- data of shape (no. of features, number of examples)\n",
    "        Y -- true \"label\" vector (containing 0 if non-cat, 1 if cat), of shape (1, number of examples)\n",
    "        num_iterations -- number of iterations of the optimization loop\n",
    "        learning_rate -- learning rate of the gradient descent update rule\n",
    "        lambd -- lambda for regularization\n",
    "        print_cost -- True to print the loss every 100 steps\n",
    "    \n",
    "    Returns:\n",
    "        params -- dictionary containing the weights w and bias b\n",
    "        grads -- dictionary containing the gradients of the weights and bias with respect to the cost function\n",
    "        costs -- list of all the costs computed during the optimization, this will be used to plot the learning curve.\n",
    "\n",
    "    \"\"\"\n",
    "    \n",
    "    costs = []\n",
    "\n",
    "    for i in range(num_iterations):\n",
    "        grads, cost = propagate(w, b, X, Y, lambd)\n",
    "        \n",
    "        dw = grads[\"dw\"]\n",
    "        db = grads[\"db\"]\n",
    "        \n",
    "        w = w - (learning_rate*dw)\n",
    "        b = b - (learning_rate*db)\n",
    "        \n",
    "        if i % 100 == 0:\n",
    "            costs.append(cost)\n",
    "        \n",
    "        # Print the cost every 100 training examples\n",
    "        if print_cost and i % 1000 == 0:\n",
    "            print (\"Cost after iteration %i: %f\" %(i, cost))\n",
    "    \n",
    "    params = {\"w\": w,\n",
    "              \"b\": b}\n",
    "    \n",
    "    grads = {\"dw\": dw,\n",
    "             \"db\": db}\n",
    "    \n",
    "    return params, grads, costs"
   ]
  },
  {
   "cell_type": "code",
   "execution_count": 29,
   "metadata": {
    "id": "3DvcMlJl6mTn"
   },
   "outputs": [],
   "source": [
    "def predict(w, b, X):\n",
    "    \"\"\"\n",
    "     Predict whether the label is 0 or 1 using learned logistic regression parameters (w, b)\n",
    "    \n",
    "    Arguments:\n",
    "        w -- weights, a numpy array of size (no. of features, 1)\n",
    "        b -- bias, a scalar\n",
    "        X -- data of size (no. of features, number of examples)\n",
    "    \n",
    "    Returns:\n",
    "        Y_prediction -- a numpy array (vector) containing all predictions (0/1) for the examples in X\n",
    "    \"\"\"\n",
    "    m = X.shape[1]\n",
    "    Y_pred = np.zeros((1, m))\n",
    "\n",
    "    \n",
    "    A = sigmoid(np.dot(w.T, X) + b)\n",
    "    \n",
    "    for i in range (A.shape[1]):\n",
    "        \n",
    "        if(A[0, i] <= 0.5):\n",
    "            Y_pred[0, i] = 0\n",
    "        else:\n",
    "            Y_pred[0, i] = 1\n",
    "    return Y_pred"
   ]
  },
  {
   "cell_type": "code",
   "execution_count": 30,
   "metadata": {
    "id": "yeimAfeF6oGc"
   },
   "outputs": [],
   "source": [
    "def model(X_train, Y_train, X_test, Y_test, num_iterations = 2000, lambd=0.7, \n",
    "          learning_rate = 0.5, print_cost = False):\n",
    "    \n",
    "    \"\"\"\n",
    "    Builds the logistic regression model by calling the function you've implemented previously\n",
    "    \n",
    "    Arguments:\n",
    "        X_train -- training set represented by a numpy array of shape (no. of features, m_train)\n",
    "        Y_train -- training labels represented by a numpy array (vector) of shape (1, m_train)\n",
    "        X_test -- test set represented by a numpy array of shape (no. of features, m_test)\n",
    "        Y_test -- test labels represented by a numpy array (vector) of shape (1, m_test)\n",
    "        lambd -- lambda for regularization\n",
    "        num_iterations -- hyperparameter representing the number of iterations to optimize the parameters\n",
    "        learning_rate -- hyperparameter representing the learning rate used in the update rule of optimize()\n",
    "        print_cost -- Set to true to print the cost every 100 iterations\n",
    "    \n",
    "    Returns:\n",
    "        d -- dictionary containing information about the model.\n",
    "    \"\"\"\n",
    "    w, b = initialize_parameters(X_train.shape[0])\n",
    "    \n",
    "    param, grads, costs = optimize(w, b, X_train, Y_train, num_iterations,\n",
    "                                   learning_rate, lambd, print_cost = print_cost)\n",
    "    \n",
    "    # Retrieve parameters w and b from dictionary \"parameters\"\n",
    "    w = param[\"w\"]\n",
    "    b = param[\"b\"]\n",
    "    \n",
    "    Y_prediction_test = predict(w, b, X_test)\n",
    "    Y_prediction_train = predict(w, b, X_train)\n",
    "    \n",
    "    print(\"Train Accuracy {} %\".format(100 - np.mean(np.abs(Y_prediction_train - Y_train)) * 100 ))\n",
    "    print(\"Test Accuracy {} %\".format(100 - np.mean(np.abs(Y_prediction_test - Y_test)) * 100 ))\n",
    "\n",
    "    \n",
    "    d = {\"costs\": costs,\n",
    "         \"Y_prediction_test\": Y_prediction_test, \n",
    "         \"Y_prediction_train\" : Y_prediction_train, \n",
    "         \"w\" : w, \n",
    "         \"b\" : b,\n",
    "         \"learning_rate\" : learning_rate,\n",
    "         \"num_iterations\": num_iterations}\n",
    "    return d"
   ]
  },
  {
   "cell_type": "code",
   "execution_count": 31,
   "metadata": {
    "colab": {
     "base_uri": "https://localhost:8080/",
     "height": 1000
    },
    "id": "jHXgv_e06pdZ",
    "outputId": "f1a310c9-2741-4b58-dbad-77d9bd9961bc"
   },
   "outputs": [
    {
     "name": "stdout",
     "output_type": "stream",
     "text": [
      "Cost after iteration 0: 0.693147\n",
      "Cost after iteration 1000: 0.172211\n",
      "Cost after iteration 2000: 0.141048\n",
      "Cost after iteration 3000: 0.122709\n",
      "Cost after iteration 4000: 0.109222\n",
      "Cost after iteration 5000: 0.098547\n",
      "Cost after iteration 6000: 0.089795\n",
      "Cost after iteration 7000: 0.082464\n",
      "Cost after iteration 8000: 0.076228\n",
      "Cost after iteration 9000: 0.070858\n",
      "Train Accuracy 97.88359788359789 %\n",
      "Test Accuracy 98.41269841269842 %\n"
     ]
    },
    {
     "data": {
      "image/png": "[encoded data removed]",
      "text/plain": [
       "<Figure size 432x288 with 1 Axes>"
      ]
     },
     "metadata": {
      "needs_background": "light"
     },
     "output_type": "display_data"
    }
   ],
   "source": [
    "result = model(X_train, y_train, X_eval, y_eval, num_iterations = 10000, \n",
    "               learning_rate = 0.01, lambd = 0, print_cost = True)\n",
    "\n",
    "cost = np.squeeze(result['costs'])\n",
    "plt.plot(cost)\n",
    "plt.ylabel('Cost')\n",
    "plt.xlabel('learning rate (per 100)')\n",
    "plt.title('learning rate' + str(result['learning_rate']))\n",
    "plt.show()"
   ]
  },
  {
   "cell_type": "code",
   "execution_count": 15,
   "metadata": {
    "colab": {
     "base_uri": "https://localhost:8080/",
     "height": 204
    },
    "id": "eCDcM9Gl6tm7",
    "outputId": "bc39d88c-7a19-49ad-8a25-dd83a1a22a17"
   },
   "outputs": [
    {
     "name": "stdout",
     "output_type": "stream",
     "text": [
      "Evaluation Report:\n",
      "              precision    recall  f1-score   support\n",
      "\n",
      "         0.0       0.92      1.00      0.96        34\n",
      "         1.0       1.00      0.90      0.95        29\n",
      "\n",
      "    accuracy                           0.95        63\n",
      "   macro avg       0.96      0.95      0.95        63\n",
      "weighted avg       0.96      0.95      0.95        63\n",
      "\n"
     ]
    }
   ],
   "source": [
    "print(\"Evaluation Report:\")\n",
    "print(classification_report(y_eval.T, result['Y_prediction_test'].T)) \n",
    "# most sklearn functions expacts input in the shape(no. of examples, no.of features)"
   ]
  },
  {
   "cell_type": "code",
   "execution_count": 32,
   "metadata": {
    "colab": {
     "base_uri": "https://localhost:8080/",
     "height": 620
    },
    "id": "JQbu3I9a62ke",
    "outputId": "1d1aae4a-628e-4a19-cff1-190b80d62435"
   },
   "outputs": [
    {
     "name": "stdout",
     "output_type": "stream",
     "text": [
      "Learning Rate is: 0.01\n",
      "Train Accuracy 95.76719576719577 %\n",
      "Test Accuracy 95.23809523809524 %\n",
      "\n",
      "-------------------------------------------------------\n",
      "\n",
      "Learning Rate is: 0.001\n",
      "Train Accuracy 92.5925925925926 %\n",
      "Test Accuracy 93.65079365079364 %\n",
      "\n",
      "-------------------------------------------------------\n",
      "\n",
      "Learning Rate is: 0.0001\n",
      "Train Accuracy 92.5925925925926 %\n",
      "Test Accuracy 92.06349206349206 %\n",
      "\n",
      "-------------------------------------------------------\n",
      "\n"
     ]
    },
    {
     "data": {
      "image/png": "[encoded data removed]",
      "text/plain": [
       "<Figure size 432x288 with 1 Axes>"
      ]
     },
     "metadata": {
      "needs_background": "light"
     },
     "output_type": "display_data"
    }
   ],
   "source": [
    "learning_rates = [0.01, 0.001, 0.0001]\n",
    "models = {}\n",
    "for i in learning_rates:\n",
    "    print(\"Learning Rate is: \" + str(i))\n",
    "    models[str(i)] = model(X_train, y_train, X_eval, y_eval, num_iterations = 5000, lambd = 0, learning_rate = i, print_cost = False)\n",
    "    print ('\\n' + \"-------------------------------------------------------\" + '\\n')\n",
    "    \n",
    "for i in learning_rates:\n",
    "    plt.plot(np.squeeze(models[str(i)]['costs']), label = str(models[str(i)]['learning_rate']))\n",
    "    \n",
    "plt.xlabel('cost')\n",
    "plt.ylabel('learning rate (per 100)')\n",
    "\n",
    "legend = plt.legend(loc = 'upper right', shadow = True)\n",
    "frame = legend.get_frame()\n",
    "frame.set_facecolor('0.90')\n",
    "plt.show()"
   ]
  },
  {
   "cell_type": "code",
   "execution_count": 33,
   "metadata": {
    "colab": {
     "base_uri": "https://localhost:8080/",
     "height": 111
    },
    "id": "xzkGk2DY84i6",
    "outputId": "f8ddd578-f141-4f81-c453-9493ba30e3fe"
   },
   "outputs": [
    {
     "name": "stdout",
     "output_type": "stream",
     "text": [
      "[[-1.86999586]\n",
      " [-2.38559489]\n",
      " [ 0.29597101]\n",
      " [ 0.34130894]]\n",
      "2.7480329293812544\n"
     ]
    }
   ],
   "source": [
    "print(result[\"w\"])\n",
    "print(result[\"b\"])"
   ]
  },
  {
   "cell_type": "code",
   "execution_count": 34,
   "metadata": {
    "colab": {
     "base_uri": "https://localhost:8080/",
     "height": 289
    },
    "id": "EWMF2_DGbs01",
    "outputId": "7ff9f0aa-adfa-4065-86ef-3d8a54bee478"
   },
   "outputs": [
    {
     "data": {
      "text/plain": [
       "[<matplotlib.lines.Line2D at 0x244bcb80a60>]"
      ]
     },
     "execution_count": 34,
     "metadata": {},
     "output_type": "execute_result"
    },
    {
     "data": {
      "image/png": "[encoded data removed]",
      "text/plain": [
       "<Figure size 432x288 with 1 Axes>"
      ]
     },
     "metadata": {
      "needs_background": "light"
     },
     "output_type": "display_data"
    }
   ],
   "source": [
    "from numpy import arange\n",
    "from numpy import meshgrid\n",
    "\n",
    "delta = 0.025\n",
    "xrange = arange(-5.0, 12.0, delta)\n",
    "yrange = arange(-5.0, 12.0, delta)\n",
    "XX, YY = meshgrid(xrange,yrange)\n",
    "\n",
    "ecuacion = result[\"b\"] + result[\"w\"][0]*XX + result[\"w\"][1]*YY + result[\"w\"][2] * (XX**2) + result[\"w\"][3] * (YY**2)\n",
    "\n",
    "plt.contour(XX, YY, ecuacion, [0])\n",
    "plt.plot(x_int, y_int, 'o')\n",
    "plt.plot(x_ext, y_ext, 'o')"
   ]
  },
  {
   "cell_type": "code",
   "execution_count": null,
   "metadata": {},
   "outputs": [],
   "source": []
  }
 ],
 "metadata": {
  "colab": {
   "collapsed_sections": [],
   "name": "clase5.ipynb",
   "provenance": []
  },
  "kernelspec": {
   "display_name": "Python 3",
   "language": "python",
   "name": "python3"
  },
  "language_info": {
   "codemirror_mode": {
    "name": "ipython",
    "version": 3
   },
   "file_extension": ".py",
   "mimetype": "text/x-python",
   "name": "python",
   "nbconvert_exporter": "python",
   "pygments_lexer": "ipython3",
   "version": "3.8.8"
  }
 },
 "nbformat": 4,
 "nbformat_minor": 4
}
