{
 "cells": [
  {
   "cell_type": "markdown",
   "metadata": {},
   "source": [
    "\n",
    "\n",
    "## Problemas de clasificación binaria y la regresión logística\n"
   ]
  },
  {
   "cell_type": "code",
   "execution_count": 3,
   "metadata": {},
   "outputs": [
    {
     "name": "stderr",
     "output_type": "stream",
     "text": [
      "D:\\UserFiles\\anaconda\\envs\\ia\\lib\\site-packages\\numpy\\_distributor_init.py:30: UserWarning: loaded more than 1 DLL from .libs:\n",
      "D:\\UserFiles\\anaconda\\envs\\ia\\lib\\site-packages\\numpy\\.libs\\libopenblas.NOIJJG62EMASZI6NYURL6JBKM4EVBGM7.gfortran-win_amd64.dll\n",
      "D:\\UserFiles\\anaconda\\envs\\ia\\lib\\site-packages\\numpy\\.libs\\libopenblas.WCDJNK7YVMPZQ2ME2ZZHJJRJ3JIKNDB7.gfortran-win_amd64.dll\n",
      "  warnings.warn(\"loaded more than 1 DLL from .libs:\\n%s\" %\n"
     ]
    }
   ],
   "source": [
    "# para que funcione para python 2 y 3\n",
    "import numpy as np\n",
    "import os\n",
    "#salidas repetibles\n",
    "np.random.seed(42)\n",
    "# lindas figuras\n",
    "%matplotlib inline\n",
    "import matplotlib as mpl\n",
    "import matplotlib.pyplot as plt\n",
    "mpl.rc('axes', labelsize=14)\n",
    "mpl.rc('xtick', labelsize=12)\n",
    "mpl.rc('ytick', labelsize=12)\n",
    "# evitar advertencias innecesarias\n",
    "import warnings\n",
    "warnings.filterwarnings(action=\"ignore\", message=\"^internal gelsd\")\n",
    "from sklearn.model_selection import train_test_split\n",
    "import seaborn as sns\n",
    "from sklearn import metrics"
   ]
  },
  {
   "cell_type": "markdown",
   "metadata": {},
   "source": [
    "# Regresion Logística"
   ]
  },
  {
   "cell_type": "markdown",
   "metadata": {},
   "source": [
    "$P_{1}=(x_{1},y_{1})$\n",
    "\n",
    "$P_{2}=(x_{2},y_{2})$\n",
    "\n",
    "$P_{3}=(x_{3},y_{3})$\n",
    "\n",
    "pero ahora y toma solo valores 0 y 1.\n",
    "\n",
    "Un problema de clasificación, dado un punto \n",
    "$P_{4}=(x_{4})$, queremos predecir \n",
    "$y_{4}$"
   ]
  },
  {
   "cell_type": "markdown",
   "metadata": {},
   "source": [
    "# El modelo logistico va estar dado por:\n",
    "$t(x)=w_{1} x+w_{0}$\n",
    "\n",
    "$w=[w_{1} w_{0}]$\n",
    "\n",
    "$p(x)=\\sigma(t)=\\frac{1}{1+e^{-t(x)}}$\n"
   ]
  },
  {
   "cell_type": "markdown",
   "metadata": {},
   "source": [
    "# En este caso se utiliza la funcion de costo que se llama binary crossentropy"
   ]
  },
  {
   "cell_type": "markdown",
   "metadata": {},
   "source": [
    "$F(w)=-\\frac{1}{n}\\sum_{i=0}^{n}(y_{i}\\log(p(x_{i})+(1-y_{i})\\log(1-p(x_{i}))$\n",
    "\n",
    "con 3 puntos $P_{1}$,$P_{2}$ y $P_{3}$, tenemos que:\n",
    "\n",
    "\n",
    "$F(w_{i})=-\\frac{1}{3}((y_{1}\\log(p(x_{1})+(1-y_{1})\\log(1-p(x_{1}))$+\n",
    "$(y_{2}\\log(p(x_{2})+(1-y_{2})\\log(1-p(x_{2}))$+\n",
    "$(y_{3}\\log(p(x_{3})+(1-y_{3})\\log(1-p(x_{3})))$\n",
    "\n",
    "Note que si $y_{1}=1$, $y_{2}=1$ $y_{3}=0$, tenemos que:\n",
    "\n",
    "\n",
    "$F(w_{i})=-\\frac{1}{3}(\\log(p(x_{1}))$+\n",
    "$\\log(p(x_{2}))$+\n",
    "$\\log(1-p(x_{3})))$\n"
   ]
  },
  {
   "cell_type": "markdown",
   "metadata": {},
   "source": [
    "#Ahora derivando en relacion a $w_{i}$\n",
    "\n",
    "$\\frac{dF}{dw_{j}}$=$\\frac{\\partial F}{\\partial p}\\frac{\\partial p}{\\partial t}\\frac{\\partial t}{\\partial w_{j}}$\n",
    "\n",
    "\n",
    "$\\frac{\\partial F}{\\partial p}$=$-\\frac{1}{n}\\sum_{i=0}^{n}(-\\frac{y_{i}}{p(x_{i})}-(-1)\\frac{1-y_{i}}{1-p(x_{i})})$\n",
    "\n",
    "$\\frac{\\partial p}{\\partial t}$=$p(x_{i})(1-p(x_{i}))$\n",
    "\n",
    "$\\frac{\\partial t}{\\partial  w_{j}}$=$x_{j}^{i}$"
   ]
  },
  {
   "cell_type": "markdown",
   "metadata": {},
   "source": [
    "$\\frac{dF}{dw_{j}}$=$-\\frac{1}{n}\\sum_{i=0}^{n}(-\\frac{y_{i}}{p(x_{i})}-(-1)\\frac{1-y_{i}}{1-p(x_{i})})p(x_{i}) (1-p(x_{i})) x_{j}^{i}$"
   ]
  },
  {
   "cell_type": "markdown",
   "metadata": {},
   "source": [
    "$\\frac{dF}{dw_{j}}$=$\\frac{1}{n}\\sum_{i=0}^{n}(p(x_{i})-y_{i})x_{j}^{i}$\n",
    "\n",
    "\n"
   ]
  },
  {
   "cell_type": "markdown",
   "metadata": {},
   "source": [
    "Generar datos sintéticos\n",
    "\n",
    "\n",
    "$t= 5x+3$\n",
    "\n",
    "$p = 1 / (1 + e^{-t})$"
   ]
  },
  {
   "cell_type": "code",
   "execution_count": 15,
   "metadata": {},
   "outputs": [],
   "source": [
    "x = 10* np.random.rand(1000, 1)-5\n",
    "\n",
    "t= 5*x+3+ 0.1*np.random.randn(1000, 1)\n",
    "\n",
    "p = 1 / (1 + np.exp(-t))\n",
    "y=p> 0.5\n",
    "\n"
   ]
  },
  {
   "cell_type": "code",
   "execution_count": 18,
   "metadata": {},
   "outputs": [
    {
     "data": {
      "image/png": "[encoded data removed]",
      "text/plain": [
       "<Figure size 648x216 with 1 Axes>"
      ]
     },
     "metadata": {
      "needs_background": "light"
     },
     "output_type": "display_data"
    }
   ],
   "source": [
    "T= np.linspace(-10, 10, 50)\n",
    "sig = 1 / (1 + np.exp(-T))\n",
    "\n",
    "plt.figure(figsize=(9, 3))\n",
    "plt.plot([-10, 10], [0, 0], \"k-\")\n",
    "plt.plot([-10, 10], [0.5, 0.5], \"k:\")\n",
    "plt.plot([-10, 10], [1, 1], \"k:\")\n",
    "plt.plot([0, 0], [-1.1, 1.1], \"k-\")\n",
    "plt.plot(T,sig, \"b-\", linewidth=2, label=r\"$\\sigma(t) = \\frac{1}{1 + e^{-t}}$\")\n",
    "plt.plot(t,y, \"ro\", label=r\"$\\sigma(t) = \\frac{1}{1 + e^{-t}}$\")\n",
    "\n",
    "plt.xlabel(\"t\")\n",
    "#plt.legend(loc=\"upper left\", fontsize=20)\n",
    "plt.axis([-10, 10, -0.1, 1.1])\n",
    "plt.show()"
   ]
  },
  {
   "cell_type": "code",
   "execution_count": 20,
   "metadata": {},
   "outputs": [],
   "source": [
    "A = np.c_[np.ones((len(x), 1)), x]"
   ]
  },
  {
   "cell_type": "code",
   "execution_count": 21,
   "metadata": {},
   "outputs": [
    {
     "name": "stdout",
     "output_type": "stream",
     "text": [
      "3.8840594156615262\n",
      "0.09324057012420929\n",
      "0.07305287794400932\n",
      "0.06571566247757038\n",
      "0.06128993438814999\n",
      "0.058038772714282635\n",
      "0.055435671028007574\n",
      "0.05325868587819563\n",
      "0.05139044704996427\n",
      "0.049758845796820654\n",
      "0.04831515891594416\n",
      "0.04702440478271588\n",
      "0.04586042928804012\n",
      "0.04480310598626005\n",
      "0.043836604098847806\n",
      "0.0429482515254967\n",
      "0.04212775541483651\n",
      "0.04136665017884122\n",
      "0.040657896521911825\n",
      "0.03999558409942273\n",
      "0.039374707171334414\n",
      "0.03879099278389508\n",
      "0.03824076743926254\n",
      "0.0377208524091935\n",
      "0.03722848066223169\n",
      "0.036761230301863075\n",
      "0.036316970759462455\n",
      "0.03589381894150426\n",
      "0.03549010321872021\n",
      "0.03510433364699192\n",
      "0.034735177180464\n",
      "0.034381436914030915\n",
      "0.03404203460092849\n",
      "0.033715995849880574\n",
      "0.03340243752808801\n",
      "0.03310055699063814\n",
      "0.032809622830447666\n",
      "0.032528966900613465\n",
      "0.032257977406729456\n",
      "0.03199609290308921\n",
      "0.03174279705581492\n",
      "0.031497614059408145\n",
      "0.03126010461221513\n",
      "0.031029862371764\n",
      "0.030806510823584866\n",
      "0.0305897005075251\n",
      "0.030379106554161317\n",
      "0.03017442649103201\n",
      "0.029975378284346314\n",
      "0.029781698586783336\n"
     ]
    }
   ],
   "source": [
    "lr = 0.05\n",
    "n_iteraciones = 10000\n",
    "m = len(x)\n",
    "w = np.random.randn(2,1)\n",
    "\n",
    "for iteraciones in range(n_iteraciones):\n",
    "    p=1/(1+np.exp(-A.dot( w)))\n",
    "    if (iteraciones % 200 == 0):\n",
    "        costo= (-1/m)*(np.sum((y*np.log(p)) + ((1-y)*(np.log(1-p)))))\n",
    "        print(costo )\n",
    "    gradiente =1/m * A.T.dot(p - y)\n",
    "    w= w - lr* gradiente\n",
    "    \n",
    "    "
   ]
  },
  {
   "cell_type": "code",
   "execution_count": 22,
   "metadata": {},
   "outputs": [
    {
     "data": {
      "text/plain": [
       "array([[3.15539575],\n",
       "       [5.78797256]])"
      ]
     },
     "execution_count": 22,
     "metadata": {},
     "output_type": "execute_result"
    }
   ],
   "source": [
    "w"
   ]
  },
  {
   "cell_type": "code",
   "execution_count": 23,
   "metadata": {},
   "outputs": [],
   "source": [
    "x_train, x_test, y_train, y_test = train_test_split(x, y, test_size=0.3, random_state=0)"
   ]
  },
  {
   "cell_type": "code",
   "execution_count": 28,
   "metadata": {},
   "outputs": [],
   "source": [
    "At = np.c_[np.ones((len(x_test), 1)), x_test]"
   ]
  },
  {
   "cell_type": "code",
   "execution_count": 29,
   "metadata": {},
   "outputs": [],
   "source": [
    "p=1/(1+np.exp(-At.dot( w)))\n"
   ]
  },
  {
   "cell_type": "code",
   "execution_count": 30,
   "metadata": {},
   "outputs": [],
   "source": [
    "predictions=p>0.5"
   ]
  },
  {
   "cell_type": "code",
   "execution_count": 31,
   "metadata": {},
   "outputs": [
    {
     "data": {
      "text/plain": [
       "array([[ True],\n",
       "       [False],\n",
       "       [ True],\n",
       "       [False],\n",
       "       [False],\n",
       "       [False],\n",
       "       [ True],\n",
       "       [ True],\n",
       "       [ True],\n",
       "       [ True]])"
      ]
     },
     "execution_count": 31,
     "metadata": {},
     "output_type": "execute_result"
    }
   ],
   "source": [
    "y_test[:10]"
   ]
  },
  {
   "cell_type": "code",
   "execution_count": 32,
   "metadata": {},
   "outputs": [
    {
     "data": {
      "text/plain": [
       "array([[ True],\n",
       "       [False],\n",
       "       [ True],\n",
       "       [False],\n",
       "       [False],\n",
       "       [False],\n",
       "       [ True],\n",
       "       [ True],\n",
       "       [ True],\n",
       "       [ True]])"
      ]
     },
     "execution_count": 32,
     "metadata": {},
     "output_type": "execute_result"
    }
   ],
   "source": [
    "predictions[:10]"
   ]
  },
  {
   "cell_type": "code",
   "execution_count": 33,
   "metadata": {},
   "outputs": [
    {
     "name": "stdout",
     "output_type": "stream",
     "text": [
      "[[129   0]\n",
      " [  3 168]]\n"
     ]
    }
   ],
   "source": [
    "cm = metrics.confusion_matrix(y_test, predictions)\n",
    "print(cm)"
   ]
  },
  {
   "cell_type": "code",
   "execution_count": 52,
   "metadata": {},
   "outputs": [
    {
     "name": "stderr",
     "output_type": "stream",
     "text": [
      "D:\\UserFiles\\anaconda\\envs\\ia\\lib\\site-packages\\sklearn\\utils\\validation.py:63: DataConversionWarning: A column-vector y was passed when a 1d array was expected. Please change the shape of y to (n_samples, ), for example using ravel().\n",
      "  return f(*args, **kwargs)\n"
     ]
    },
    {
     "data": {
      "text/plain": [
       "LogisticRegression(C=0.1, max_iter=10000)"
      ]
     },
     "execution_count": 52,
     "metadata": {},
     "output_type": "execute_result"
    }
   ],
   "source": [
    "from sklearn.linear_model import LogisticRegression\n",
    "log_reg = LogisticRegression(fit_intercept=True,penalty='l2',C=0.1,max_iter=10000)\n",
    "log_reg.fit(x_train,y_train,)"
   ]
  },
  {
   "cell_type": "code",
   "execution_count": 53,
   "metadata": {},
   "outputs": [
    {
     "name": "stdout",
     "output_type": "stream",
     "text": [
      "[1.23398452]\n",
      "[[2.26368382]]\n"
     ]
    }
   ],
   "source": [
    "print(log_reg.intercept_)\n",
    "print(log_reg.coef_)"
   ]
  },
  {
   "cell_type": "code",
   "execution_count": 54,
   "metadata": {},
   "outputs": [],
   "source": [
    "predictions2 = log_reg.predict(x_test)"
   ]
  },
  {
   "cell_type": "code",
   "execution_count": 55,
   "metadata": {},
   "outputs": [
    {
     "name": "stdout",
     "output_type": "stream",
     "text": [
      "[[129   0]\n",
      " [  3 168]]\n"
     ]
    }
   ],
   "source": [
    "cm = metrics.confusion_matrix(y_test, predictions2)\n",
    "print(cm)"
   ]
  },
  {
   "cell_type": "code",
   "execution_count": null,
   "metadata": {},
   "outputs": [],
   "source": []
  },
  {
   "cell_type": "code",
   "execution_count": null,
   "metadata": {},
   "outputs": [],
   "source": []
  }
 ],
 "metadata": {
  "kernelspec": {
   "display_name": "Python 3",
   "language": "python",
   "name": "python3"
  },
  "language_info": {
   "codemirror_mode": {
    "name": "ipython",
    "version": 3
   },
   "file_extension": ".py",
   "mimetype": "text/x-python",
   "name": "python",
   "nbconvert_exporter": "python",
   "pygments_lexer": "ipython3",
   "version": "3.8.8"
  },
  "nav_menu": {},
  "toc": {
   "navigate_menu": true,
   "number_sections": true,
   "sideBar": true,
   "threshold": 6,
   "toc_cell": false,
   "toc_section_display": "block",
   "toc_window_display": false
  }
 },
 "nbformat": 4,
 "nbformat_minor": 4
}
